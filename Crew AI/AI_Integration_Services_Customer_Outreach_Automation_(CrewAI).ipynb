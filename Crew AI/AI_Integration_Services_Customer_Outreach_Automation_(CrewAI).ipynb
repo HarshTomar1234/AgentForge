{
  "nbformat": 4,
  "nbformat_minor": 0,
  "metadata": {
    "colab": {
      "provenance": []
    },
    "kernelspec": {
      "name": "python3",
      "display_name": "Python 3"
    },
    "language_info": {
      "name": "python"
    }
  },
  "cells": [
    {
      "cell_type": "markdown",
      "source": [
        "## AI Integration Services - Customer Outreach Campaign Automation\n",
        "\n",
        "### This system identifies and reaches out to software companies that could benefit from AI integration services\n"
      ],
      "metadata": {
        "id": "0TOVAv1XObOI"
      }
    },
    {
      "cell_type": "markdown",
      "source": [
        "## Tools\n",
        "\n",
        "Three key elements of Tools that makes a tool better :\n",
        "- **Versatility**\n",
        "\n",
        "- **Fault Tolerance**\n",
        "\n",
        "- **Caching**"
      ],
      "metadata": {
        "id": "Wm5zROu0BLYF"
      }
    },
    {
      "cell_type": "code",
      "source": [
        "import warnings\n",
        "warnings.filterwarnings('ignore')"
      ],
      "metadata": {
        "id": "oNsniyIXEEQR"
      },
      "execution_count": 1,
      "outputs": []
    },
    {
      "cell_type": "code",
      "source": [
        "!pip install crewai==0.28.8 crewai_tools==0.1.6 langchain_community==0.0.29"
      ],
      "metadata": {
        "colab": {
          "base_uri": "https://localhost:8080/"
        },
        "id": "DfhVA7qkEE-s",
        "outputId": "57d838bd-dc83-4dd3-ce64-3ea82b886676"
      },
      "execution_count": 2,
      "outputs": [
        {
          "output_type": "stream",
          "name": "stdout",
          "text": [
            "Requirement already satisfied: crewai==0.28.8 in /usr/local/lib/python3.11/dist-packages (0.28.8)\n",
            "Requirement already satisfied: crewai_tools==0.1.6 in /usr/local/lib/python3.11/dist-packages (0.1.6)\n",
            "Requirement already satisfied: langchain_community==0.0.29 in /usr/local/lib/python3.11/dist-packages (0.0.29)\n",
            "Requirement already satisfied: appdirs<2.0.0,>=1.4.4 in /usr/local/lib/python3.11/dist-packages (from crewai==0.28.8) (1.4.4)\n",
            "Requirement already satisfied: click<9.0.0,>=8.1.7 in /usr/local/lib/python3.11/dist-packages (from crewai==0.28.8) (8.1.7)\n",
            "Requirement already satisfied: embedchain<0.2.0,>=0.1.98 in /usr/local/lib/python3.11/dist-packages (from crewai==0.28.8) (0.1.113)\n",
            "Requirement already satisfied: instructor<0.6.0,>=0.5.2 in /usr/local/lib/python3.11/dist-packages (from crewai==0.28.8) (0.5.2)\n",
            "Requirement already satisfied: langchain<0.2.0,>=0.1.10 in /usr/local/lib/python3.11/dist-packages (from crewai==0.28.8) (0.1.13)\n",
            "Requirement already satisfied: openai<2.0.0,>=1.13.3 in /usr/local/lib/python3.11/dist-packages (from crewai==0.28.8) (1.59.9)\n",
            "Requirement already satisfied: opentelemetry-api<2.0.0,>=1.22.0 in /usr/local/lib/python3.11/dist-packages (from crewai==0.28.8) (1.30.0)\n",
            "Requirement already satisfied: opentelemetry-exporter-otlp-proto-http<2.0.0,>=1.22.0 in /usr/local/lib/python3.11/dist-packages (from crewai==0.28.8) (1.30.0)\n",
            "Requirement already satisfied: opentelemetry-sdk<2.0.0,>=1.22.0 in /usr/local/lib/python3.11/dist-packages (from crewai==0.28.8) (1.30.0)\n",
            "Requirement already satisfied: pydantic<3.0.0,>=2.4.2 in /usr/local/lib/python3.11/dist-packages (from crewai==0.28.8) (2.10.6)\n",
            "Requirement already satisfied: python-dotenv==1.0.0 in /usr/local/lib/python3.11/dist-packages (from crewai==0.28.8) (1.0.0)\n",
            "Requirement already satisfied: regex<2024.0.0,>=2023.12.25 in /usr/local/lib/python3.11/dist-packages (from crewai==0.28.8) (2023.12.25)\n",
            "Requirement already satisfied: beautifulsoup4<5.0.0,>=4.12.3 in /usr/local/lib/python3.11/dist-packages (from crewai_tools==0.1.6) (4.12.3)\n",
            "Requirement already satisfied: chromadb<0.5.0,>=0.4.22 in /usr/local/lib/python3.11/dist-packages (from crewai_tools==0.1.6) (0.4.24)\n",
            "Requirement already satisfied: lancedb<0.6.0,>=0.5.4 in /usr/local/lib/python3.11/dist-packages (from crewai_tools==0.1.6) (0.5.7)\n",
            "Requirement already satisfied: pyright<2.0.0,>=1.1.350 in /usr/local/lib/python3.11/dist-packages (from crewai_tools==0.1.6) (1.1.393)\n",
            "Requirement already satisfied: pytest<9.0.0,>=8.0.0 in /usr/local/lib/python3.11/dist-packages (from crewai_tools==0.1.6) (8.3.4)\n",
            "Requirement already satisfied: pytube<16.0.0,>=15.0.0 in /usr/local/lib/python3.11/dist-packages (from crewai_tools==0.1.6) (15.0.0)\n",
            "Requirement already satisfied: requests<3.0.0,>=2.31.0 in /usr/local/lib/python3.11/dist-packages (from crewai_tools==0.1.6) (2.32.3)\n",
            "Requirement already satisfied: selenium<5.0.0,>=4.18.1 in /usr/local/lib/python3.11/dist-packages (from crewai_tools==0.1.6) (4.28.1)\n",
            "Requirement already satisfied: PyYAML>=5.3 in /usr/local/lib/python3.11/dist-packages (from langchain_community==0.0.29) (6.0.2)\n",
            "Requirement already satisfied: SQLAlchemy<3,>=1.4 in /usr/local/lib/python3.11/dist-packages (from langchain_community==0.0.29) (2.0.37)\n",
            "Requirement already satisfied: aiohttp<4.0.0,>=3.8.3 in /usr/local/lib/python3.11/dist-packages (from langchain_community==0.0.29) (3.11.11)\n",
            "Requirement already satisfied: dataclasses-json<0.7,>=0.5.7 in /usr/local/lib/python3.11/dist-packages (from langchain_community==0.0.29) (0.6.7)\n",
            "Requirement already satisfied: langchain-core<0.2.0,>=0.1.33 in /usr/local/lib/python3.11/dist-packages (from langchain_community==0.0.29) (0.1.53)\n",
            "Requirement already satisfied: langsmith<0.2.0,>=0.1.0 in /usr/local/lib/python3.11/dist-packages (from langchain_community==0.0.29) (0.1.147)\n",
            "Requirement already satisfied: numpy<2,>=1 in /usr/local/lib/python3.11/dist-packages (from langchain_community==0.0.29) (1.26.4)\n",
            "Requirement already satisfied: tenacity<9.0.0,>=8.1.0 in /usr/local/lib/python3.11/dist-packages (from langchain_community==0.0.29) (8.5.0)\n",
            "Requirement already satisfied: aiohappyeyeballs>=2.3.0 in /usr/local/lib/python3.11/dist-packages (from aiohttp<4.0.0,>=3.8.3->langchain_community==0.0.29) (2.4.4)\n",
            "Requirement already satisfied: aiosignal>=1.1.2 in /usr/local/lib/python3.11/dist-packages (from aiohttp<4.0.0,>=3.8.3->langchain_community==0.0.29) (1.3.2)\n",
            "Requirement already satisfied: attrs>=17.3.0 in /usr/local/lib/python3.11/dist-packages (from aiohttp<4.0.0,>=3.8.3->langchain_community==0.0.29) (25.1.0)\n",
            "Requirement already satisfied: frozenlist>=1.1.1 in /usr/local/lib/python3.11/dist-packages (from aiohttp<4.0.0,>=3.8.3->langchain_community==0.0.29) (1.5.0)\n",
            "Requirement already satisfied: multidict<7.0,>=4.5 in /usr/local/lib/python3.11/dist-packages (from aiohttp<4.0.0,>=3.8.3->langchain_community==0.0.29) (6.1.0)\n",
            "Requirement already satisfied: propcache>=0.2.0 in /usr/local/lib/python3.11/dist-packages (from aiohttp<4.0.0,>=3.8.3->langchain_community==0.0.29) (0.2.1)\n",
            "Requirement already satisfied: yarl<2.0,>=1.17.0 in /usr/local/lib/python3.11/dist-packages (from aiohttp<4.0.0,>=3.8.3->langchain_community==0.0.29) (1.18.3)\n",
            "Requirement already satisfied: soupsieve>1.2 in /usr/local/lib/python3.11/dist-packages (from beautifulsoup4<5.0.0,>=4.12.3->crewai_tools==0.1.6) (2.6)\n",
            "Requirement already satisfied: build>=1.0.3 in /usr/local/lib/python3.11/dist-packages (from chromadb<0.5.0,>=0.4.22->crewai_tools==0.1.6) (1.2.2.post1)\n",
            "Requirement already satisfied: chroma-hnswlib==0.7.3 in /usr/local/lib/python3.11/dist-packages (from chromadb<0.5.0,>=0.4.22->crewai_tools==0.1.6) (0.7.3)\n",
            "Requirement already satisfied: fastapi>=0.95.2 in /usr/local/lib/python3.11/dist-packages (from chromadb<0.5.0,>=0.4.22->crewai_tools==0.1.6) (0.115.8)\n",
            "Requirement already satisfied: uvicorn>=0.18.3 in /usr/local/lib/python3.11/dist-packages (from uvicorn[standard]>=0.18.3->chromadb<0.5.0,>=0.4.22->crewai_tools==0.1.6) (0.34.0)\n",
            "Requirement already satisfied: posthog>=2.4.0 in /usr/local/lib/python3.11/dist-packages (from chromadb<0.5.0,>=0.4.22->crewai_tools==0.1.6) (3.11.0)\n",
            "Requirement already satisfied: typing-extensions>=4.5.0 in /usr/local/lib/python3.11/dist-packages (from chromadb<0.5.0,>=0.4.22->crewai_tools==0.1.6) (4.12.2)\n",
            "Requirement already satisfied: pulsar-client>=3.1.0 in /usr/local/lib/python3.11/dist-packages (from chromadb<0.5.0,>=0.4.22->crewai_tools==0.1.6) (3.6.0)\n",
            "Requirement already satisfied: onnxruntime>=1.14.1 in /usr/local/lib/python3.11/dist-packages (from chromadb<0.5.0,>=0.4.22->crewai_tools==0.1.6) (1.20.1)\n",
            "Requirement already satisfied: opentelemetry-exporter-otlp-proto-grpc>=1.2.0 in /usr/local/lib/python3.11/dist-packages (from chromadb<0.5.0,>=0.4.22->crewai_tools==0.1.6) (1.30.0)\n",
            "Requirement already satisfied: opentelemetry-instrumentation-fastapi>=0.41b0 in /usr/local/lib/python3.11/dist-packages (from chromadb<0.5.0,>=0.4.22->crewai_tools==0.1.6) (0.51b0)\n",
            "Requirement already satisfied: tokenizers>=0.13.2 in /usr/local/lib/python3.11/dist-packages (from chromadb<0.5.0,>=0.4.22->crewai_tools==0.1.6) (0.21.0)\n",
            "Requirement already satisfied: pypika>=0.48.9 in /usr/local/lib/python3.11/dist-packages (from chromadb<0.5.0,>=0.4.22->crewai_tools==0.1.6) (0.48.9)\n",
            "Requirement already satisfied: tqdm>=4.65.0 in /usr/local/lib/python3.11/dist-packages (from chromadb<0.5.0,>=0.4.22->crewai_tools==0.1.6) (4.67.1)\n",
            "Requirement already satisfied: overrides>=7.3.1 in /usr/local/lib/python3.11/dist-packages (from chromadb<0.5.0,>=0.4.22->crewai_tools==0.1.6) (7.7.0)\n",
            "Requirement already satisfied: importlib-resources in /usr/local/lib/python3.11/dist-packages (from chromadb<0.5.0,>=0.4.22->crewai_tools==0.1.6) (6.5.2)\n",
            "Requirement already satisfied: grpcio>=1.58.0 in /usr/local/lib/python3.11/dist-packages (from chromadb<0.5.0,>=0.4.22->crewai_tools==0.1.6) (1.70.0)\n",
            "Requirement already satisfied: bcrypt>=4.0.1 in /usr/local/lib/python3.11/dist-packages (from chromadb<0.5.0,>=0.4.22->crewai_tools==0.1.6) (4.2.1)\n",
            "Requirement already satisfied: typer>=0.9.0 in /usr/local/lib/python3.11/dist-packages (from chromadb<0.5.0,>=0.4.22->crewai_tools==0.1.6) (0.9.4)\n",
            "Requirement already satisfied: kubernetes>=28.1.0 in /usr/local/lib/python3.11/dist-packages (from chromadb<0.5.0,>=0.4.22->crewai_tools==0.1.6) (32.0.0)\n",
            "Requirement already satisfied: mmh3>=4.0.1 in /usr/local/lib/python3.11/dist-packages (from chromadb<0.5.0,>=0.4.22->crewai_tools==0.1.6) (5.1.0)\n",
            "Requirement already satisfied: orjson>=3.9.12 in /usr/local/lib/python3.11/dist-packages (from chromadb<0.5.0,>=0.4.22->crewai_tools==0.1.6) (3.10.15)\n",
            "Requirement already satisfied: marshmallow<4.0.0,>=3.18.0 in /usr/local/lib/python3.11/dist-packages (from dataclasses-json<0.7,>=0.5.7->langchain_community==0.0.29) (3.26.1)\n",
            "Requirement already satisfied: typing-inspect<1,>=0.4.0 in /usr/local/lib/python3.11/dist-packages (from dataclasses-json<0.7,>=0.5.7->langchain_community==0.0.29) (0.9.0)\n",
            "Requirement already satisfied: alembic<2.0.0,>=1.13.1 in /usr/local/lib/python3.11/dist-packages (from embedchain<0.2.0,>=0.1.98->crewai==0.28.8) (1.14.1)\n",
            "Requirement already satisfied: clarifai<11.0.0,>=10.0.1 in /usr/local/lib/python3.11/dist-packages (from embedchain<0.2.0,>=0.1.98->crewai==0.28.8) (10.11.1)\n",
            "Requirement already satisfied: google-cloud-aiplatform<2.0.0,>=1.26.1 in /usr/local/lib/python3.11/dist-packages (from embedchain<0.2.0,>=0.1.98->crewai==0.28.8) (1.74.0)\n",
            "Requirement already satisfied: gptcache<0.2.0,>=0.1.43 in /usr/local/lib/python3.11/dist-packages (from embedchain<0.2.0,>=0.1.98->crewai==0.28.8) (0.1.44)\n",
            "Requirement already satisfied: langchain-cohere<0.2.0,>=0.1.4 in /usr/local/lib/python3.11/dist-packages (from embedchain<0.2.0,>=0.1.98->crewai==0.28.8) (0.1.5)\n",
            "Requirement already satisfied: langchain-openai<0.2.0,>=0.1.7 in /usr/local/lib/python3.11/dist-packages (from embedchain<0.2.0,>=0.1.98->crewai==0.28.8) (0.1.7)\n",
            "Requirement already satisfied: pypdf<5.0.0,>=4.0.1 in /usr/local/lib/python3.11/dist-packages (from embedchain<0.2.0,>=0.1.98->crewai==0.28.8) (4.3.1)\n",
            "Requirement already satisfied: pysbd<0.4.0,>=0.3.4 in /usr/local/lib/python3.11/dist-packages (from embedchain<0.2.0,>=0.1.98->crewai==0.28.8) (0.3.4)\n",
            "Requirement already satisfied: rich<14.0.0,>=13.7.0 in /usr/local/lib/python3.11/dist-packages (from embedchain<0.2.0,>=0.1.98->crewai==0.28.8) (13.9.4)\n",
            "Requirement already satisfied: schema<0.8.0,>=0.7.5 in /usr/local/lib/python3.11/dist-packages (from embedchain<0.2.0,>=0.1.98->crewai==0.28.8) (0.7.5)\n",
            "Requirement already satisfied: tiktoken<0.8.0,>=0.7.0 in /usr/local/lib/python3.11/dist-packages (from embedchain<0.2.0,>=0.1.98->crewai==0.28.8) (0.7.0)\n",
            "Requirement already satisfied: PyGithub<2.0.0,>=1.59.1 in /usr/local/lib/python3.11/dist-packages (from embedchain[github,youtube]<0.2.0,>=0.1.85->crewai_tools==0.1.6) (1.59.1)\n",
            "Requirement already satisfied: gitpython<4.0.0,>=3.1.38 in /usr/local/lib/python3.11/dist-packages (from embedchain[github,youtube]<0.2.0,>=0.1.85->crewai_tools==0.1.6) (3.1.44)\n",
            "Requirement already satisfied: youtube-transcript-api<0.7.0,>=0.6.1 in /usr/local/lib/python3.11/dist-packages (from embedchain[github,youtube]<0.2.0,>=0.1.85->crewai_tools==0.1.6) (0.6.3)\n",
            "Requirement already satisfied: yt_dlp<2024.0.0,>=2023.11.14 in /usr/local/lib/python3.11/dist-packages (from embedchain[github,youtube]<0.2.0,>=0.1.85->crewai_tools==0.1.6) (2023.12.30)\n",
            "Requirement already satisfied: docstring-parser<0.16,>=0.15 in /usr/local/lib/python3.11/dist-packages (from instructor<0.6.0,>=0.5.2->crewai==0.28.8) (0.15)\n",
            "Requirement already satisfied: deprecation in /usr/local/lib/python3.11/dist-packages (from lancedb<0.6.0,>=0.5.4->crewai_tools==0.1.6) (2.1.0)\n",
            "Requirement already satisfied: pylance==0.9.18 in /usr/local/lib/python3.11/dist-packages (from lancedb<0.6.0,>=0.5.4->crewai_tools==0.1.6) (0.9.18)\n",
            "Requirement already satisfied: ratelimiter~=1.0 in /usr/local/lib/python3.11/dist-packages (from lancedb<0.6.0,>=0.5.4->crewai_tools==0.1.6) (1.2.0.post0)\n",
            "Requirement already satisfied: retry>=0.9.2 in /usr/local/lib/python3.11/dist-packages (from lancedb<0.6.0,>=0.5.4->crewai_tools==0.1.6) (0.9.2)\n",
            "Requirement already satisfied: semver>=3.0 in /usr/local/lib/python3.11/dist-packages (from lancedb<0.6.0,>=0.5.4->crewai_tools==0.1.6) (3.0.4)\n",
            "Requirement already satisfied: cachetools in /usr/local/lib/python3.11/dist-packages (from lancedb<0.6.0,>=0.5.4->crewai_tools==0.1.6) (5.5.1)\n",
            "Requirement already satisfied: pyarrow>=12 in /usr/local/lib/python3.11/dist-packages (from pylance==0.9.18->lancedb<0.6.0,>=0.5.4->crewai_tools==0.1.6) (17.0.0)\n",
            "Requirement already satisfied: jsonpatch<2.0,>=1.33 in /usr/local/lib/python3.11/dist-packages (from langchain<0.2.0,>=0.1.10->crewai==0.28.8) (1.33)\n",
            "Requirement already satisfied: langchain-text-splitters<0.1,>=0.0.1 in /usr/local/lib/python3.11/dist-packages (from langchain<0.2.0,>=0.1.10->crewai==0.28.8) (0.0.2)\n",
            "Requirement already satisfied: packaging<24.0,>=23.2 in /usr/local/lib/python3.11/dist-packages (from langchain-core<0.2.0,>=0.1.33->langchain_community==0.0.29) (23.2)\n",
            "Requirement already satisfied: httpx<1,>=0.23.0 in /usr/local/lib/python3.11/dist-packages (from langsmith<0.2.0,>=0.1.0->langchain_community==0.0.29) (0.28.1)\n",
            "Requirement already satisfied: requests-toolbelt<2.0.0,>=1.0.0 in /usr/local/lib/python3.11/dist-packages (from langsmith<0.2.0,>=0.1.0->langchain_community==0.0.29) (1.0.0)\n",
            "Requirement already satisfied: anyio<5,>=3.5.0 in /usr/local/lib/python3.11/dist-packages (from openai<2.0.0,>=1.13.3->crewai==0.28.8) (3.7.1)\n",
            "Requirement already satisfied: distro<2,>=1.7.0 in /usr/local/lib/python3.11/dist-packages (from openai<2.0.0,>=1.13.3->crewai==0.28.8) (1.9.0)\n",
            "Requirement already satisfied: jiter<1,>=0.4.0 in /usr/local/lib/python3.11/dist-packages (from openai<2.0.0,>=1.13.3->crewai==0.28.8) (0.8.2)\n",
            "Requirement already satisfied: sniffio in /usr/local/lib/python3.11/dist-packages (from openai<2.0.0,>=1.13.3->crewai==0.28.8) (1.3.1)\n",
            "Requirement already satisfied: deprecated>=1.2.6 in /usr/local/lib/python3.11/dist-packages (from opentelemetry-api<2.0.0,>=1.22.0->crewai==0.28.8) (1.2.18)\n",
            "Requirement already satisfied: importlib-metadata<=8.5.0,>=6.0 in /usr/local/lib/python3.11/dist-packages (from opentelemetry-api<2.0.0,>=1.22.0->crewai==0.28.8) (8.5.0)\n",
            "Requirement already satisfied: googleapis-common-protos~=1.52 in /usr/local/lib/python3.11/dist-packages (from opentelemetry-exporter-otlp-proto-http<2.0.0,>=1.22.0->crewai==0.28.8) (1.66.0)\n",
            "Requirement already satisfied: opentelemetry-exporter-otlp-proto-common==1.30.0 in /usr/local/lib/python3.11/dist-packages (from opentelemetry-exporter-otlp-proto-http<2.0.0,>=1.22.0->crewai==0.28.8) (1.30.0)\n",
            "Requirement already satisfied: opentelemetry-proto==1.30.0 in /usr/local/lib/python3.11/dist-packages (from opentelemetry-exporter-otlp-proto-http<2.0.0,>=1.22.0->crewai==0.28.8) (1.30.0)\n",
            "Requirement already satisfied: protobuf<6.0,>=5.0 in /usr/local/lib/python3.11/dist-packages (from opentelemetry-proto==1.30.0->opentelemetry-exporter-otlp-proto-http<2.0.0,>=1.22.0->crewai==0.28.8) (5.29.3)\n",
            "Requirement already satisfied: opentelemetry-semantic-conventions==0.51b0 in /usr/local/lib/python3.11/dist-packages (from opentelemetry-sdk<2.0.0,>=1.22.0->crewai==0.28.8) (0.51b0)\n",
            "Requirement already satisfied: annotated-types>=0.6.0 in /usr/local/lib/python3.11/dist-packages (from pydantic<3.0.0,>=2.4.2->crewai==0.28.8) (0.7.0)\n",
            "Requirement already satisfied: pydantic-core==2.27.2 in /usr/local/lib/python3.11/dist-packages (from pydantic<3.0.0,>=2.4.2->crewai==0.28.8) (2.27.2)\n",
            "Requirement already satisfied: nodeenv>=1.6.0 in /usr/local/lib/python3.11/dist-packages (from pyright<2.0.0,>=1.1.350->crewai_tools==0.1.6) (1.9.1)\n",
            "Requirement already satisfied: iniconfig in /usr/local/lib/python3.11/dist-packages (from pytest<9.0.0,>=8.0.0->crewai_tools==0.1.6) (2.0.0)\n",
            "Requirement already satisfied: pluggy<2,>=1.5 in /usr/local/lib/python3.11/dist-packages (from pytest<9.0.0,>=8.0.0->crewai_tools==0.1.6) (1.5.0)\n",
            "Requirement already satisfied: charset-normalizer<4,>=2 in /usr/local/lib/python3.11/dist-packages (from requests<3.0.0,>=2.31.0->crewai_tools==0.1.6) (3.4.1)\n",
            "Requirement already satisfied: idna<4,>=2.5 in /usr/local/lib/python3.11/dist-packages (from requests<3.0.0,>=2.31.0->crewai_tools==0.1.6) (3.10)\n",
            "Requirement already satisfied: urllib3<3,>=1.21.1 in /usr/local/lib/python3.11/dist-packages (from requests<3.0.0,>=2.31.0->crewai_tools==0.1.6) (2.3.0)\n",
            "Requirement already satisfied: certifi>=2017.4.17 in /usr/local/lib/python3.11/dist-packages (from requests<3.0.0,>=2.31.0->crewai_tools==0.1.6) (2024.12.14)\n",
            "Requirement already satisfied: trio~=0.17 in /usr/local/lib/python3.11/dist-packages (from selenium<5.0.0,>=4.18.1->crewai_tools==0.1.6) (0.28.0)\n",
            "Requirement already satisfied: trio-websocket~=0.9 in /usr/local/lib/python3.11/dist-packages (from selenium<5.0.0,>=4.18.1->crewai_tools==0.1.6) (0.11.1)\n",
            "Requirement already satisfied: websocket-client~=1.8 in /usr/local/lib/python3.11/dist-packages (from selenium<5.0.0,>=4.18.1->crewai_tools==0.1.6) (1.8.0)\n",
            "Requirement already satisfied: greenlet!=0.4.17 in /usr/local/lib/python3.11/dist-packages (from SQLAlchemy<3,>=1.4->langchain_community==0.0.29) (3.1.1)\n",
            "Requirement already satisfied: Mako in /usr/local/lib/python3.11/dist-packages (from alembic<2.0.0,>=1.13.1->embedchain<0.2.0,>=0.1.98->crewai==0.28.8) (1.3.9)\n",
            "Requirement already satisfied: pyproject_hooks in /usr/local/lib/python3.11/dist-packages (from build>=1.0.3->chromadb<0.5.0,>=0.4.22->crewai_tools==0.1.6) (1.2.0)\n",
            "Requirement already satisfied: clarifai-grpc>=10.11.2 in /usr/local/lib/python3.11/dist-packages (from clarifai<11.0.0,>=10.0.1->embedchain<0.2.0,>=0.1.98->crewai==0.28.8) (11.0.7)\n",
            "Requirement already satisfied: clarifai-protocol>=0.0.14 in /usr/local/lib/python3.11/dist-packages (from clarifai<11.0.0,>=10.0.1->embedchain<0.2.0,>=0.1.98->crewai==0.28.8) (0.0.14)\n",
            "Requirement already satisfied: tritonclient>=2.34.0 in /usr/local/lib/python3.11/dist-packages (from clarifai<11.0.0,>=10.0.1->embedchain<0.2.0,>=0.1.98->crewai==0.28.8) (2.54.0)\n",
            "Requirement already satisfied: Pillow>=9.5.0 in /usr/local/lib/python3.11/dist-packages (from clarifai<11.0.0,>=10.0.1->embedchain<0.2.0,>=0.1.98->crewai==0.28.8) (11.1.0)\n",
            "Requirement already satisfied: inquirerpy==0.3.4 in /usr/local/lib/python3.11/dist-packages (from clarifai<11.0.0,>=10.0.1->embedchain<0.2.0,>=0.1.98->crewai==0.28.8) (0.3.4)\n",
            "Requirement already satisfied: tabulate>=0.9.0 in /usr/local/lib/python3.11/dist-packages (from clarifai<11.0.0,>=10.0.1->embedchain<0.2.0,>=0.1.98->crewai==0.28.8) (0.9.0)\n",
            "Requirement already satisfied: fsspec==2024.6.1 in /usr/local/lib/python3.11/dist-packages (from clarifai<11.0.0,>=10.0.1->embedchain<0.2.0,>=0.1.98->crewai==0.28.8) (2024.6.1)\n",
            "Requirement already satisfied: contextlib2>=0.5.5 in /usr/local/lib/python3.11/dist-packages (from schema<0.8.0,>=0.7.5->embedchain<0.2.0,>=0.1.98->crewai==0.28.8) (21.6.0)\n",
            "Requirement already satisfied: pfzy<0.4.0,>=0.3.1 in /usr/local/lib/python3.11/dist-packages (from inquirerpy==0.3.4->clarifai<11.0.0,>=10.0.1->embedchain<0.2.0,>=0.1.98->crewai==0.28.8) (0.3.4)\n",
            "Requirement already satisfied: prompt-toolkit<4.0.0,>=3.0.1 in /usr/local/lib/python3.11/dist-packages (from inquirerpy==0.3.4->clarifai<11.0.0,>=10.0.1->embedchain<0.2.0,>=0.1.98->crewai==0.28.8) (3.0.50)\n",
            "Requirement already satisfied: wrapt<2,>=1.10 in /usr/local/lib/python3.11/dist-packages (from deprecated>=1.2.6->opentelemetry-api<2.0.0,>=1.22.0->crewai==0.28.8) (1.17.2)\n",
            "Requirement already satisfied: starlette<0.46.0,>=0.40.0 in /usr/local/lib/python3.11/dist-packages (from fastapi>=0.95.2->chromadb<0.5.0,>=0.4.22->crewai_tools==0.1.6) (0.45.3)\n",
            "Requirement already satisfied: gitdb<5,>=4.0.1 in /usr/local/lib/python3.11/dist-packages (from gitpython<4.0.0,>=3.1.38->embedchain[github,youtube]<0.2.0,>=0.1.85->crewai_tools==0.1.6) (4.0.12)\n",
            "Requirement already satisfied: google-api-core!=2.0.*,!=2.1.*,!=2.2.*,!=2.3.*,!=2.4.*,!=2.5.*,!=2.6.*,!=2.7.*,<3.0.0dev,>=1.34.1 in /usr/local/lib/python3.11/dist-packages (from google-api-core[grpc]!=2.0.*,!=2.1.*,!=2.2.*,!=2.3.*,!=2.4.*,!=2.5.*,!=2.6.*,!=2.7.*,<3.0.0dev,>=1.34.1->google-cloud-aiplatform<2.0.0,>=1.26.1->embedchain<0.2.0,>=0.1.98->crewai==0.28.8) (2.19.2)\n",
            "Requirement already satisfied: google-auth<3.0.0dev,>=2.14.1 in /usr/local/lib/python3.11/dist-packages (from google-cloud-aiplatform<2.0.0,>=1.26.1->embedchain<0.2.0,>=0.1.98->crewai==0.28.8) (2.27.0)\n",
            "Requirement already satisfied: proto-plus<2.0.0dev,>=1.22.3 in /usr/local/lib/python3.11/dist-packages (from google-cloud-aiplatform<2.0.0,>=1.26.1->embedchain<0.2.0,>=0.1.98->crewai==0.28.8) (1.26.0)\n",
            "Requirement already satisfied: google-cloud-storage<3.0.0dev,>=1.32.0 in /usr/local/lib/python3.11/dist-packages (from google-cloud-aiplatform<2.0.0,>=1.26.1->embedchain<0.2.0,>=0.1.98->crewai==0.28.8) (2.19.0)\n",
            "Requirement already satisfied: google-cloud-bigquery!=3.20.0,<4.0.0dev,>=1.15.0 in /usr/local/lib/python3.11/dist-packages (from google-cloud-aiplatform<2.0.0,>=1.26.1->embedchain<0.2.0,>=0.1.98->crewai==0.28.8) (3.25.0)\n",
            "Requirement already satisfied: google-cloud-resource-manager<3.0.0dev,>=1.3.3 in /usr/local/lib/python3.11/dist-packages (from google-cloud-aiplatform<2.0.0,>=1.26.1->embedchain<0.2.0,>=0.1.98->crewai==0.28.8) (1.14.0)\n",
            "Requirement already satisfied: shapely<3.0.0dev in /usr/local/lib/python3.11/dist-packages (from google-cloud-aiplatform<2.0.0,>=1.26.1->embedchain<0.2.0,>=0.1.98->crewai==0.28.8) (2.0.6)\n",
            "Requirement already satisfied: httpcore==1.* in /usr/local/lib/python3.11/dist-packages (from httpx<1,>=0.23.0->langsmith<0.2.0,>=0.1.0->langchain_community==0.0.29) (1.0.7)\n",
            "Requirement already satisfied: h11<0.15,>=0.13 in /usr/local/lib/python3.11/dist-packages (from httpcore==1.*->httpx<1,>=0.23.0->langsmith<0.2.0,>=0.1.0->langchain_community==0.0.29) (0.14.0)\n",
            "Requirement already satisfied: zipp>=3.20 in /usr/local/lib/python3.11/dist-packages (from importlib-metadata<=8.5.0,>=6.0->opentelemetry-api<2.0.0,>=1.22.0->crewai==0.28.8) (3.21.0)\n",
            "Requirement already satisfied: jsonpointer>=1.9 in /usr/local/lib/python3.11/dist-packages (from jsonpatch<2.0,>=1.33->langchain<0.2.0,>=0.1.10->crewai==0.28.8) (3.0.0)\n",
            "Requirement already satisfied: six>=1.9.0 in /usr/local/lib/python3.11/dist-packages (from kubernetes>=28.1.0->chromadb<0.5.0,>=0.4.22->crewai_tools==0.1.6) (1.17.0)\n",
            "Requirement already satisfied: python-dateutil>=2.5.3 in /usr/local/lib/python3.11/dist-packages (from kubernetes>=28.1.0->chromadb<0.5.0,>=0.4.22->crewai_tools==0.1.6) (2.8.2)\n",
            "Requirement already satisfied: requests-oauthlib in /usr/local/lib/python3.11/dist-packages (from kubernetes>=28.1.0->chromadb<0.5.0,>=0.4.22->crewai_tools==0.1.6) (1.3.1)\n",
            "Requirement already satisfied: oauthlib>=3.2.2 in /usr/local/lib/python3.11/dist-packages (from kubernetes>=28.1.0->chromadb<0.5.0,>=0.4.22->crewai_tools==0.1.6) (3.2.2)\n",
            "Requirement already satisfied: durationpy>=0.7 in /usr/local/lib/python3.11/dist-packages (from kubernetes>=28.1.0->chromadb<0.5.0,>=0.4.22->crewai_tools==0.1.6) (0.9)\n",
            "Requirement already satisfied: cohere<6.0,>=5.5 in /usr/local/lib/python3.11/dist-packages (from langchain-cohere<0.2.0,>=0.1.4->embedchain<0.2.0,>=0.1.98->crewai==0.28.8) (5.13.11)\n",
            "Requirement already satisfied: coloredlogs in /usr/local/lib/python3.11/dist-packages (from onnxruntime>=1.14.1->chromadb<0.5.0,>=0.4.22->crewai_tools==0.1.6) (15.0.1)\n",
            "Requirement already satisfied: flatbuffers in /usr/local/lib/python3.11/dist-packages (from onnxruntime>=1.14.1->chromadb<0.5.0,>=0.4.22->crewai_tools==0.1.6) (25.1.24)\n",
            "Requirement already satisfied: sympy in /usr/local/lib/python3.11/dist-packages (from onnxruntime>=1.14.1->chromadb<0.5.0,>=0.4.22->crewai_tools==0.1.6) (1.13.1)\n",
            "Requirement already satisfied: opentelemetry-instrumentation-asgi==0.51b0 in /usr/local/lib/python3.11/dist-packages (from opentelemetry-instrumentation-fastapi>=0.41b0->chromadb<0.5.0,>=0.4.22->crewai_tools==0.1.6) (0.51b0)\n",
            "Requirement already satisfied: opentelemetry-instrumentation==0.51b0 in /usr/local/lib/python3.11/dist-packages (from opentelemetry-instrumentation-fastapi>=0.41b0->chromadb<0.5.0,>=0.4.22->crewai_tools==0.1.6) (0.51b0)\n",
            "Requirement already satisfied: opentelemetry-util-http==0.51b0 in /usr/local/lib/python3.11/dist-packages (from opentelemetry-instrumentation-fastapi>=0.41b0->chromadb<0.5.0,>=0.4.22->crewai_tools==0.1.6) (0.51b0)\n",
            "Requirement already satisfied: asgiref~=3.0 in /usr/local/lib/python3.11/dist-packages (from opentelemetry-instrumentation-asgi==0.51b0->opentelemetry-instrumentation-fastapi>=0.41b0->chromadb<0.5.0,>=0.4.22->crewai_tools==0.1.6) (3.8.1)\n",
            "Requirement already satisfied: monotonic>=1.5 in /usr/local/lib/python3.11/dist-packages (from posthog>=2.4.0->chromadb<0.5.0,>=0.4.22->crewai_tools==0.1.6) (1.6)\n",
            "Requirement already satisfied: backoff>=1.10.0 in /usr/local/lib/python3.11/dist-packages (from posthog>=2.4.0->chromadb<0.5.0,>=0.4.22->crewai_tools==0.1.6) (2.2.1)\n",
            "Requirement already satisfied: pyjwt>=2.4.0 in /usr/local/lib/python3.11/dist-packages (from pyjwt[crypto]>=2.4.0->PyGithub<2.0.0,>=1.59.1->embedchain[github,youtube]<0.2.0,>=0.1.85->crewai_tools==0.1.6) (2.10.1)\n",
            "Requirement already satisfied: pynacl>=1.4.0 in /usr/local/lib/python3.11/dist-packages (from PyGithub<2.0.0,>=1.59.1->embedchain[github,youtube]<0.2.0,>=0.1.85->crewai_tools==0.1.6) (1.5.0)\n",
            "Requirement already satisfied: decorator>=3.4.2 in /usr/local/lib/python3.11/dist-packages (from retry>=0.9.2->lancedb<0.6.0,>=0.5.4->crewai_tools==0.1.6) (4.4.2)\n",
            "Requirement already satisfied: py<2.0.0,>=1.4.26 in /usr/local/lib/python3.11/dist-packages (from retry>=0.9.2->lancedb<0.6.0,>=0.5.4->crewai_tools==0.1.6) (1.11.0)\n",
            "Requirement already satisfied: markdown-it-py>=2.2.0 in /usr/local/lib/python3.11/dist-packages (from rich<14.0.0,>=13.7.0->embedchain<0.2.0,>=0.1.98->crewai==0.28.8) (3.0.0)\n",
            "Requirement already satisfied: pygments<3.0.0,>=2.13.0 in /usr/local/lib/python3.11/dist-packages (from rich<14.0.0,>=13.7.0->embedchain<0.2.0,>=0.1.98->crewai==0.28.8) (2.18.0)\n",
            "Requirement already satisfied: huggingface-hub<1.0,>=0.16.4 in /usr/local/lib/python3.11/dist-packages (from tokenizers>=0.13.2->chromadb<0.5.0,>=0.4.22->crewai_tools==0.1.6) (0.27.1)\n",
            "Requirement already satisfied: sortedcontainers in /usr/local/lib/python3.11/dist-packages (from trio~=0.17->selenium<5.0.0,>=4.18.1->crewai_tools==0.1.6) (2.4.0)\n",
            "Requirement already satisfied: outcome in /usr/local/lib/python3.11/dist-packages (from trio~=0.17->selenium<5.0.0,>=4.18.1->crewai_tools==0.1.6) (1.3.0.post0)\n",
            "Requirement already satisfied: wsproto>=0.14 in /usr/local/lib/python3.11/dist-packages (from trio-websocket~=0.9->selenium<5.0.0,>=4.18.1->crewai_tools==0.1.6) (1.2.0)\n",
            "Requirement already satisfied: mypy-extensions>=0.3.0 in /usr/local/lib/python3.11/dist-packages (from typing-inspect<1,>=0.4.0->dataclasses-json<0.7,>=0.5.7->langchain_community==0.0.29) (1.0.0)\n",
            "Requirement already satisfied: pysocks!=1.5.7,<2.0,>=1.5.6 in /usr/local/lib/python3.11/dist-packages (from urllib3[socks]<3,>=1.26->selenium<5.0.0,>=4.18.1->crewai_tools==0.1.6) (1.7.1)\n",
            "Requirement already satisfied: httptools>=0.6.3 in /usr/local/lib/python3.11/dist-packages (from uvicorn[standard]>=0.18.3->chromadb<0.5.0,>=0.4.22->crewai_tools==0.1.6) (0.6.4)\n",
            "Requirement already satisfied: uvloop!=0.15.0,!=0.15.1,>=0.14.0 in /usr/local/lib/python3.11/dist-packages (from uvicorn[standard]>=0.18.3->chromadb<0.5.0,>=0.4.22->crewai_tools==0.1.6) (0.21.0)\n",
            "Requirement already satisfied: watchfiles>=0.13 in /usr/local/lib/python3.11/dist-packages (from uvicorn[standard]>=0.18.3->chromadb<0.5.0,>=0.4.22->crewai_tools==0.1.6) (1.0.4)\n",
            "Requirement already satisfied: websockets>=10.4 in /usr/local/lib/python3.11/dist-packages (from uvicorn[standard]>=0.18.3->chromadb<0.5.0,>=0.4.22->crewai_tools==0.1.6) (14.2)\n",
            "Requirement already satisfied: defusedxml<0.8.0,>=0.7.1 in /usr/local/lib/python3.11/dist-packages (from youtube-transcript-api<0.7.0,>=0.6.1->embedchain[github,youtube]<0.2.0,>=0.1.85->crewai_tools==0.1.6) (0.7.1)\n",
            "Requirement already satisfied: mutagen in /usr/local/lib/python3.11/dist-packages (from yt_dlp<2024.0.0,>=2023.11.14->embedchain[github,youtube]<0.2.0,>=0.1.85->crewai_tools==0.1.6) (1.47.0)\n",
            "Requirement already satisfied: pycryptodomex in /usr/local/lib/python3.11/dist-packages (from yt_dlp<2024.0.0,>=2023.11.14->embedchain[github,youtube]<0.2.0,>=0.1.85->crewai_tools==0.1.6) (3.21.0)\n",
            "Requirement already satisfied: brotli in /usr/local/lib/python3.11/dist-packages (from yt_dlp<2024.0.0,>=2023.11.14->embedchain[github,youtube]<0.2.0,>=0.1.85->crewai_tools==0.1.6) (1.1.0)\n",
            "Requirement already satisfied: fastavro<2.0.0,>=1.9.4 in /usr/local/lib/python3.11/dist-packages (from cohere<6.0,>=5.5->langchain-cohere<0.2.0,>=0.1.4->embedchain<0.2.0,>=0.1.98->crewai==0.28.8) (1.10.0)\n",
            "Requirement already satisfied: httpx-sse==0.4.0 in /usr/local/lib/python3.11/dist-packages (from cohere<6.0,>=5.5->langchain-cohere<0.2.0,>=0.1.4->embedchain<0.2.0,>=0.1.98->crewai==0.28.8) (0.4.0)\n",
            "Requirement already satisfied: types-requests<3.0.0,>=2.0.0 in /usr/local/lib/python3.11/dist-packages (from cohere<6.0,>=5.5->langchain-cohere<0.2.0,>=0.1.4->embedchain<0.2.0,>=0.1.98->crewai==0.28.8) (2.32.0.20241016)\n",
            "Requirement already satisfied: smmap<6,>=3.0.1 in /usr/local/lib/python3.11/dist-packages (from gitdb<5,>=4.0.1->gitpython<4.0.0,>=3.1.38->embedchain[github,youtube]<0.2.0,>=0.1.85->crewai_tools==0.1.6) (5.0.2)\n",
            "Requirement already satisfied: grpcio-status<2.0.dev0,>=1.33.2 in /usr/local/lib/python3.11/dist-packages (from google-api-core[grpc]!=2.0.*,!=2.1.*,!=2.2.*,!=2.3.*,!=2.4.*,!=2.5.*,!=2.6.*,!=2.7.*,<3.0.0dev,>=1.34.1->google-cloud-aiplatform<2.0.0,>=1.26.1->embedchain<0.2.0,>=0.1.98->crewai==0.28.8) (1.62.3)\n",
            "Requirement already satisfied: pyasn1-modules>=0.2.1 in /usr/local/lib/python3.11/dist-packages (from google-auth<3.0.0dev,>=2.14.1->google-cloud-aiplatform<2.0.0,>=1.26.1->embedchain<0.2.0,>=0.1.98->crewai==0.28.8) (0.4.1)\n",
            "Requirement already satisfied: rsa<5,>=3.1.4 in /usr/local/lib/python3.11/dist-packages (from google-auth<3.0.0dev,>=2.14.1->google-cloud-aiplatform<2.0.0,>=1.26.1->embedchain<0.2.0,>=0.1.98->crewai==0.28.8) (4.9)\n",
            "Requirement already satisfied: google-cloud-core<3.0.0dev,>=1.6.0 in /usr/local/lib/python3.11/dist-packages (from google-cloud-bigquery!=3.20.0,<4.0.0dev,>=1.15.0->google-cloud-aiplatform<2.0.0,>=1.26.1->embedchain<0.2.0,>=0.1.98->crewai==0.28.8) (2.4.1)\n",
            "Requirement already satisfied: google-resumable-media<3.0dev,>=0.6.0 in /usr/local/lib/python3.11/dist-packages (from google-cloud-bigquery!=3.20.0,<4.0.0dev,>=1.15.0->google-cloud-aiplatform<2.0.0,>=1.26.1->embedchain<0.2.0,>=0.1.98->crewai==0.28.8) (2.7.2)\n",
            "Requirement already satisfied: grpc-google-iam-v1<1.0.0dev,>=0.12.4 in /usr/local/lib/python3.11/dist-packages (from google-cloud-resource-manager<3.0.0dev,>=1.3.3->google-cloud-aiplatform<2.0.0,>=1.26.1->embedchain<0.2.0,>=0.1.98->crewai==0.28.8) (0.14.0)\n",
            "Requirement already satisfied: google-crc32c<2.0dev,>=1.0 in /usr/local/lib/python3.11/dist-packages (from google-cloud-storage<3.0.0dev,>=1.32.0->google-cloud-aiplatform<2.0.0,>=1.26.1->embedchain<0.2.0,>=0.1.98->crewai==0.28.8) (1.6.0)\n",
            "Requirement already satisfied: filelock in /usr/local/lib/python3.11/dist-packages (from huggingface-hub<1.0,>=0.16.4->tokenizers>=0.13.2->chromadb<0.5.0,>=0.4.22->crewai_tools==0.1.6) (3.17.0)\n",
            "Requirement already satisfied: mdurl~=0.1 in /usr/local/lib/python3.11/dist-packages (from markdown-it-py>=2.2.0->rich<14.0.0,>=13.7.0->embedchain<0.2.0,>=0.1.98->crewai==0.28.8) (0.1.2)\n",
            "Requirement already satisfied: cryptography>=3.4.0 in /usr/local/lib/python3.11/dist-packages (from pyjwt[crypto]>=2.4.0->PyGithub<2.0.0,>=1.59.1->embedchain[github,youtube]<0.2.0,>=0.1.85->crewai_tools==0.1.6) (43.0.3)\n",
            "Requirement already satisfied: cffi>=1.4.1 in /usr/local/lib/python3.11/dist-packages (from pynacl>=1.4.0->PyGithub<2.0.0,>=1.59.1->embedchain[github,youtube]<0.2.0,>=0.1.85->crewai_tools==0.1.6) (1.17.1)\n",
            "Requirement already satisfied: python-rapidjson>=0.9.1 in /usr/local/lib/python3.11/dist-packages (from tritonclient>=2.34.0->clarifai<11.0.0,>=10.0.1->embedchain<0.2.0,>=0.1.98->crewai==0.28.8) (1.20)\n",
            "Requirement already satisfied: humanfriendly>=9.1 in /usr/local/lib/python3.11/dist-packages (from coloredlogs->onnxruntime>=1.14.1->chromadb<0.5.0,>=0.4.22->crewai_tools==0.1.6) (10.0)\n",
            "Requirement already satisfied: MarkupSafe>=0.9.2 in /usr/local/lib/python3.11/dist-packages (from Mako->alembic<2.0.0,>=1.13.1->embedchain<0.2.0,>=0.1.98->crewai==0.28.8) (3.0.2)\n",
            "Requirement already satisfied: mpmath<1.4,>=1.1.0 in /usr/local/lib/python3.11/dist-packages (from sympy->onnxruntime>=1.14.1->chromadb<0.5.0,>=0.4.22->crewai_tools==0.1.6) (1.3.0)\n",
            "Requirement already satisfied: pycparser in /usr/local/lib/python3.11/dist-packages (from cffi>=1.4.1->pynacl>=1.4.0->PyGithub<2.0.0,>=1.59.1->embedchain[github,youtube]<0.2.0,>=0.1.85->crewai_tools==0.1.6) (2.22)\n",
            "Requirement already satisfied: wcwidth in /usr/local/lib/python3.11/dist-packages (from prompt-toolkit<4.0.0,>=3.0.1->inquirerpy==0.3.4->clarifai<11.0.0,>=10.0.1->embedchain<0.2.0,>=0.1.98->crewai==0.28.8) (0.2.13)\n",
            "Requirement already satisfied: pyasn1<0.7.0,>=0.4.6 in /usr/local/lib/python3.11/dist-packages (from pyasn1-modules>=0.2.1->google-auth<3.0.0dev,>=2.14.1->google-cloud-aiplatform<2.0.0,>=1.26.1->embedchain<0.2.0,>=0.1.98->crewai==0.28.8) (0.6.1)\n"
          ]
        }
      ]
    },
    {
      "cell_type": "code",
      "source": [
        "from google.colab import userdata\n",
        "\n",
        "OPENAI_API_KEY = userdata.get('OPENAI_API_KEY')\n",
        "SERPER_API_KEY = userdata.get('SERPER_API_KEY')\n"
      ],
      "metadata": {
        "id": "hxOWbpx5EFES"
      },
      "execution_count": 6,
      "outputs": []
    },
    {
      "cell_type": "code",
      "source": [
        "from crewai import Agent, Task, Crew"
      ],
      "metadata": {
        "id": "Sa8nyhSfKpG7"
      },
      "execution_count": 7,
      "outputs": []
    },
    {
      "cell_type": "code",
      "source": [
        "from langchain.chat_models import ChatOpenAI"
      ],
      "metadata": {
        "id": "gmfVA4NULHNp"
      },
      "execution_count": 9,
      "outputs": []
    },
    {
      "cell_type": "markdown",
      "source": [
        "# Creating Agents"
      ],
      "metadata": {
        "id": "yQ81nIpoEFHv"
      }
    },
    {
      "cell_type": "code",
      "source": [
        "tech_researcher = Agent(\n",
        "    role=\"Technical Research Analyst\",\n",
        "    goal=\"Identify software companies that could benefit from AI integration\",\n",
        "    backstory=(\n",
        "        \"You are an expert in identifying companies that could enhance their \"\n",
        "        \"products through AI integration. You analyze their current tech stack, \"\n",
        "        \"market position, and growth potential to determine if they're good candidates \"\n",
        "        \"for AI services.\"\n",
        "      ),\n",
        "    allow_delegation=False,\n",
        "    verbose=True,\n",
        "    llm=ChatOpenAI(openai_api_key=OPENAI_API_KEY, model_name='gpt-4o')\n",
        "\n",
        ")\n"
      ],
      "metadata": {
        "id": "5UNYEaUqEFaw"
      },
      "execution_count": 11,
      "outputs": []
    },
    {
      "cell_type": "code",
      "source": [
        "ai_solutions_consultant = Agent(\n",
        "    role=\"AI Solutions Consultant\",\n",
        "    goal=\"Create compelling proposals for AI integration\",\n",
        "    backstory=(\n",
        "        \"You specialize in crafting tailored AI integration proposals. \"\n",
        "        \"With deep knowledge of both AI capabilities and business needs, \"\n",
        "        \"you create compelling messages that demonstrate clear value proposition \"\n",
        "        \"and ROI potential of AI integration.\"\n",
        "    ),\n",
        "    allow_delegation=False,\n",
        "    verbose=True,\n",
        "    llm=ChatOpenAI(openai_api_key=OPENAI_API_KEY, model_name='gpt-4o')\n",
        ")"
      ],
      "metadata": {
        "id": "dwfxvLipLtpd"
      },
      "execution_count": 12,
      "outputs": []
    },
    {
      "cell_type": "markdown",
      "source": [
        "# Creating Tools\n"
      ],
      "metadata": {
        "id": "k7kUdRsdL3Rp"
      }
    },
    {
      "cell_type": "markdown",
      "source": [
        "## crewAI tools"
      ],
      "metadata": {
        "id": "BMej5TwfL3aG"
      }
    },
    {
      "cell_type": "code",
      "source": [
        "from crewai_tools import DirectoryReadTool, FileReadTool, SerperDevTool"
      ],
      "metadata": {
        "id": "kMB52VYBMUkK"
      },
      "execution_count": 15,
      "outputs": []
    },
    {
      "cell_type": "code",
      "source": [
        "directory_read_tool = DirectoryReadTool(directory='/content/company_data')\n",
        "file_read_tool = FileReadTool()\n",
        "search_tool = SerperDevTool()"
      ],
      "metadata": {
        "id": "1yef6TIlL3cH"
      },
      "execution_count": 16,
      "outputs": []
    },
    {
      "cell_type": "markdown",
      "source": [
        "## Custom tools"
      ],
      "metadata": {
        "id": "xMgB8iMHL3fc"
      }
    },
    {
      "cell_type": "code",
      "source": [
        "from crewai_tools import BaseTool"
      ],
      "metadata": {
        "id": "sLblYSMWMibo"
      },
      "execution_count": 17,
      "outputs": []
    },
    {
      "cell_type": "code",
      "source": [
        "# Custom sentiment analysis tool\n",
        "class SentimentAnalysisTool(BaseTool):\n",
        "    name: str = \"Sentiment Analysis Tool\"\n",
        "    description: str = (\"Analyzes message sentiment to ensure professional and engaging communication tone\")\n",
        "\n",
        "    def _run(self, text: str) -> str:\n",
        "        # In a real implementation, you would add sentiment analysis logic here\n",
        "        return \"positive\"  # for simplicity purpose"
      ],
      "metadata": {
        "id": "RzBZCPJLMnbM"
      },
      "execution_count": 18,
      "outputs": []
    },
    {
      "cell_type": "code",
      "source": [
        "sentiment_analysis_tool = SentimentAnalysisTool()"
      ],
      "metadata": {
        "id": "Ov_YH8EwM5mL"
      },
      "execution_count": 19,
      "outputs": []
    },
    {
      "cell_type": "markdown",
      "source": [
        "# Creating Tasks"
      ],
      "metadata": {
        "id": "AinBiauzM-EA"
      }
    },
    {
      "cell_type": "code",
      "source": [
        "company_analysis_task = Task(\n",
        "    description=(\n",
        "        \"Research {company_name}, a {company_type} company. \"\n",
        "        \"Analyze their current technology stack, market position, \"\n",
        "        \"and potential areas where AI integration could provide value. \"\n",
        "        \"Focus on their {main_product} product and recent \"\n",
        "        \"technological developments. Identify specific pain points \"\n",
        "        \"that AI could address.\"\n",
        "    ),\n",
        "    expected_output=(\n",
        "        \"A detailed analysis report including:\\n\"\n",
        "        \"1. Current technology stack\\n\"\n",
        "        \"2. Market position and competitors\\n\"\n",
        "        \"3. Specific areas where AI could add value\\n\"\n",
        "        \"4. Potential ROI from AI integration\"\n",
        "    ),\n",
        "    tools=[directory_read_tool, file_read_tool, search_tool],\n",
        "    agent=tech_researcher,\n",
        ")"
      ],
      "metadata": {
        "id": "y0pM0dRtM-RR"
      },
      "execution_count": 20,
      "outputs": []
    },
    {
      "cell_type": "code",
      "source": [
        "proposal_creation_task = Task(\n",
        "    description=(\n",
        "        \"Based on the analysis of {company_name}, create a \"\n",
        "        \"personalized proposal for {decision_maker}, \"\n",
        "        \"their {position}. Focus on how AI integration can \"\n",
        "        \"enhance their {main_product} and address their \"\n",
        "        \"specific challenges. Reference their recent \"\n",
        "        \"{recent_achievement} and connect it to potential \"\n",
        "        \"AI-driven improvements.\"\n",
        "    ),\n",
        "    expected_output=(\n",
        "        \"A personalized proposal including:\\n\"\n",
        "        \"1. Executive summary highlighting key benefits\\n\"\n",
        "        \"2. Specific AI integration suggestions\\n\"\n",
        "        \"3. Expected ROI and implementation timeline\\n\"\n",
        "        \"4. Next steps and call to action\"\n",
        "    ),\n",
        "    tools=[sentiment_analysis_tool, search_tool],\n",
        "    agent=ai_solutions_consultant,\n",
        ")"
      ],
      "metadata": {
        "id": "MdAwbn48NJqA"
      },
      "execution_count": 21,
      "outputs": []
    },
    {
      "cell_type": "markdown",
      "source": [
        "# Creating The Crew"
      ],
      "metadata": {
        "id": "2ajiPp1tNYap"
      }
    },
    {
      "cell_type": "code",
      "source": [
        "crew = Crew(\n",
        "    agents=[tech_researcher, ai_solutions_consultant],\n",
        "    tasks=[company_analysis_task, proposal_creation_task],\n",
        "    verbose=2,\n",
        "    # memory=True\n",
        ")"
      ],
      "metadata": {
        "colab": {
          "base_uri": "https://localhost:8080/"
        },
        "id": "V90rv3AyNa47",
        "outputId": "3e0d13f9-0636-4afa-f6dc-ff52915da81d"
      },
      "execution_count": 25,
      "outputs": [
        {
          "output_type": "stream",
          "name": "stderr",
          "text": [
            "WARNING:opentelemetry.trace:Overriding of current TracerProvider is not allowed\n"
          ]
        }
      ]
    },
    {
      "cell_type": "markdown",
      "source": [
        "# Running the Crew"
      ],
      "metadata": {
        "id": "UmIRgu8vNerG"
      }
    },
    {
      "cell_type": "code",
      "source": [
        "inputs = {\n",
        "        \"company_name\": \"TechStack Solutions\",\n",
        "        \"company_type\": \"Developer Tools\",\n",
        "        \"main_product\": \"CI/CD Platform\",\n",
        "        \"decision_maker\": \"Sarah Chen\",\n",
        "        \"position\": \"CTO\",\n",
        "        \"recent_achievement\": \"launch of containerized deployment feature\"\n",
        "    }\n",
        "\n",
        "result = crew.kickoff(inputs=inputs)"
      ],
      "metadata": {
        "colab": {
          "base_uri": "https://localhost:8080/"
        },
        "id": "yXv7NOj4Nhwo",
        "outputId": "a4953f60-9380-4266-d942-ab27d00cc7be"
      },
      "execution_count": 26,
      "outputs": [
        {
          "output_type": "stream",
          "name": "stdout",
          "text": [
            "\u001b[1m\u001b[95m [DEBUG]: == Working Agent: Technical Research Analyst\u001b[00m\n",
            "\u001b[1m\u001b[95m [INFO]: == Starting Task: Research TechStack Solutions, a Developer Tools company. Analyze their current technology stack, market position, and potential areas where AI integration could provide value. Focus on their CI/CD Platform product and recent technological developments. Identify specific pain points that AI could address.\u001b[00m\n",
            "\n",
            "\n",
            "\u001b[1m> Entering new CrewAgentExecutor chain...\u001b[0m\n",
            "\u001b[32;1m\u001b[1;3mTo begin the analysis of TechStack Solutions, I need to gather information about the company, particularly their technology stack, market position, and recent technological developments. I will start by listing the files in the directory that might contain relevant information.\n",
            "\n",
            "Action: List files in directory\n",
            "Action Input: {}\u001b[0m\u001b[95m \n",
            "\n",
            "File paths: \n",
            "-/content/company_data/techstack_solutions.md\n",
            "- /content/company_data/cloudflow_analytics.md\n",
            "\u001b[00m\n",
            "\u001b[32;1m\u001b[1;3mThought: I have found a file named \"techstack_solutions.md\" which likely contains information about TechStack Solutions. I will read the content of this file to gather details about their technology stack, market position, and potential areas for AI integration.\n",
            "\n",
            "Action: Read a file's content\n",
            "Action Input: {\"file_path\": \"/content/company_data/techstack_solutions.md\"}\u001b[0m\u001b[95m \n",
            "\n",
            "# TechStack Solutions - Company Profile\n",
            "\n",
            "## Company Overview\n",
            "- Founded: 2019\n",
            "- Location: San Francisco, CA\n",
            "- Size: 150-200 employees\n",
            "- Industry: Developer Tools & DevOps\n",
            "\n",
            "## Current Technology Stack\n",
            "- Primary Technologies: Kubernetes, Docker, Go, React\n",
            "- Cloud Infrastructure: AWS, GCP\n",
            "- Development Tools: Jenkins, GitLab\n",
            "- Monitoring: Prometheus, Grafana\n",
            "\n",
            "## Product Information\n",
            "### CI/CD Platform (Main Product)\n",
            "- Automated deployment pipeline management\n",
            "- Container orchestration\n",
            "- Multi-cloud support\n",
            "- Integrated testing framework\n",
            "\n",
            "## Recent Developments\n",
            "- Launched containerized deployment feature (Q4 2024)\n",
            "- Achieved SOC 2 Type II compliance\n",
            "- Partnership with major cloud providers\n",
            "\n",
            "## Market Position\n",
            "- Competing with Jenkins, CircleCI, and GitLab\n",
            "- Growing market share in mid-size enterprise segment\n",
            "- Strong presence in financial and healthcare sectors\n",
            "\n",
            "## Key Decision Makers\n",
            "- Sarah Chen (CTO)\n",
            "  - Background: Ex-Google, 15 years in DevOps\n",
            "  - Focus areas: Platform scalability, AI/ML integration\n",
            "  - Recent speaking engagements: KubeCon 2024, DevOps World\n",
            "\n",
            "## Pain Points & Opportunities\n",
            "1. Growing complexity in test management\n",
            "2. Need for predictive analytics in deployment\n",
            "3. Resource optimization challenges\n",
            "4. Increasing demand for automated security scanning\n",
            "\u001b[00m\n",
            "\u001b[32;1m\u001b[1;3mThought: I have gathered detailed information about TechStack Solutions, including their current technology stack, market position, recent developments, and identified pain points. This information will allow me to analyze how AI integration could benefit their CI/CD Platform and address specific pain points.\n",
            "\n",
            "Final Answer: \n",
            "\n",
            "# TechStack Solutions - Analysis Report\n",
            "\n",
            "## Current Technology Stack\n",
            "- **Primary Technologies:** Kubernetes, Docker, Go, React\n",
            "- **Cloud Infrastructure:** AWS, GCP\n",
            "- **Development Tools:** Jenkins, GitLab\n",
            "- **Monitoring:** Prometheus, Grafana\n",
            "\n",
            "## Market Position and Competitors\n",
            "- TechStack Solutions operates in the Developer Tools & DevOps industry, primarily competing with Jenkins, CircleCI, and GitLab.\n",
            "- The company has a growing market share in the mid-size enterprise segment, with a strong presence in financial and healthcare sectors.\n",
            "\n",
            "## Specific Areas Where AI Could Add Value\n",
            "1. **Growing Complexity in Test Management:** AI-driven test management systems can optimize testing processes by automatically identifying test cases that need to be run based on code changes, reducing redundant tests, and predicting test outcomes.\n",
            "   \n",
            "2. **Need for Predictive Analytics in Deployment:** Implementing AI for predictive analytics can help foresee potential deployment issues by analyzing historical deployment data and performance metrics, enabling proactive issue resolution.\n",
            "\n",
            "3. **Resource Optimization Challenges:** AI algorithms can be employed to optimize resource allocation and usage by predicting demands and automatically scaling resources up or down, thus improving efficiency and reducing costs.\n",
            "\n",
            "4. **Increasing Demand for Automated Security Scanning:** AI can enhance security protocols by automating threat detection and response processes, identifying vulnerabilities in real-time, and providing actionable insights for remediation.\n",
            "\n",
            "## Potential ROI from AI Integration\n",
            "- **Efficiency Gains:** AI integration could lead to significant time savings in development and deployment processes, reducing the time-to-market for new features.\n",
            "- **Cost Reduction:** Optimized resource allocation and automated testing could lower operational costs.\n",
            "- **Enhanced Security:** AI-driven security measures could decrease the likelihood of breaches, reducing potential financial and reputational losses.\n",
            "- **Competitive Advantage:** By addressing pain points more effectively, TechStack Solutions could differentiate itself from competitors, potentially increasing its market share in the developer tools sector.\n",
            "\n",
            "In conclusion, AI integration presents a substantial opportunity for TechStack Solutions to enhance its CI/CD Platform, addressing current challenges and positioning itself for continued growth in a competitive market.\u001b[0m\n",
            "\n",
            "\u001b[1m> Finished chain.\u001b[0m\n",
            "\u001b[1m\u001b[92m [DEBUG]: == [Technical Research Analyst] Task output: # TechStack Solutions - Analysis Report\n",
            "\n",
            "## Current Technology Stack\n",
            "- **Primary Technologies:** Kubernetes, Docker, Go, React\n",
            "- **Cloud Infrastructure:** AWS, GCP\n",
            "- **Development Tools:** Jenkins, GitLab\n",
            "- **Monitoring:** Prometheus, Grafana\n",
            "\n",
            "## Market Position and Competitors\n",
            "- TechStack Solutions operates in the Developer Tools & DevOps industry, primarily competing with Jenkins, CircleCI, and GitLab.\n",
            "- The company has a growing market share in the mid-size enterprise segment, with a strong presence in financial and healthcare sectors.\n",
            "\n",
            "## Specific Areas Where AI Could Add Value\n",
            "1. **Growing Complexity in Test Management:** AI-driven test management systems can optimize testing processes by automatically identifying test cases that need to be run based on code changes, reducing redundant tests, and predicting test outcomes.\n",
            "   \n",
            "2. **Need for Predictive Analytics in Deployment:** Implementing AI for predictive analytics can help foresee potential deployment issues by analyzing historical deployment data and performance metrics, enabling proactive issue resolution.\n",
            "\n",
            "3. **Resource Optimization Challenges:** AI algorithms can be employed to optimize resource allocation and usage by predicting demands and automatically scaling resources up or down, thus improving efficiency and reducing costs.\n",
            "\n",
            "4. **Increasing Demand for Automated Security Scanning:** AI can enhance security protocols by automating threat detection and response processes, identifying vulnerabilities in real-time, and providing actionable insights for remediation.\n",
            "\n",
            "## Potential ROI from AI Integration\n",
            "- **Efficiency Gains:** AI integration could lead to significant time savings in development and deployment processes, reducing the time-to-market for new features.\n",
            "- **Cost Reduction:** Optimized resource allocation and automated testing could lower operational costs.\n",
            "- **Enhanced Security:** AI-driven security measures could decrease the likelihood of breaches, reducing potential financial and reputational losses.\n",
            "- **Competitive Advantage:** By addressing pain points more effectively, TechStack Solutions could differentiate itself from competitors, potentially increasing its market share in the developer tools sector.\n",
            "\n",
            "In conclusion, AI integration presents a substantial opportunity for TechStack Solutions to enhance its CI/CD Platform, addressing current challenges and positioning itself for continued growth in a competitive market.\n",
            "\n",
            "\u001b[00m\n",
            "\u001b[1m\u001b[95m [DEBUG]: == Working Agent: AI Solutions Consultant\u001b[00m\n",
            "\u001b[1m\u001b[95m [INFO]: == Starting Task: Based on the analysis of TechStack Solutions, create a personalized proposal for Sarah Chen, their CTO. Focus on how AI integration can enhance their CI/CD Platform and address their specific challenges. Reference their recent launch of containerized deployment feature and connect it to potential AI-driven improvements.\u001b[00m\n",
            "\n",
            "\n",
            "\u001b[1m> Entering new CrewAgentExecutor chain...\u001b[0m\n",
            "\u001b[32;1m\u001b[1;3mTo create a compelling proposal for Sarah Chen, the CTO of TechStack Solutions, I need to ensure that my communication is professional and engaging. First, I will analyze the sentiment of my draft proposal using the Sentiment Analysis Tool to ensure it meets these criteria.\n",
            "\n",
            "Action: Sentiment Analysis Tool\n",
            "Action Input: {\"text\": \"Dear Sarah Chen,\\n\\nExecutive Summary:\\nTechStack Solutions has made significant strides in the CI/CD space, particularly with the recent launch of your containerized deployment feature. This proposal outlines how integrating AI into your CI/CD platform can further enhance your capabilities, addressing specific challenges such as test management complexity, predictive analytics for deployment, resource optimization, and automated security scanning. By leveraging AI, TechStack Solutions can achieve efficiency gains, cost reductions, enhanced security, and a competitive edge in the developer tools sector.\\n\\nSpecific AI Integration Suggestions:\\n1. AI-Driven Test Management: Implement AI systems to optimize testing processes by identifying critical test cases, reducing redundancies, and predicting outcomes, leading to faster and more reliable deployments.\\n2. Predictive Analytics for Deployment: Utilize AI to analyze historical data and performance metrics, predicting and mitigating potential deployment issues proactively.\\n3. Resource Optimization: Deploy AI algorithms for dynamic resource allocation, ensuring optimal utilization and cost savings.\\n4. Automated Security Enhancements: Integrate AI for real-time threat detection and automated responses, strengthening your security posture.\\n\\nExpected ROI and Implementation Timeline:\\n- Efficiency Gains: Anticipated reduction in time-to-market by 20% within the first year.\\n- Cost Reduction: Projected operational cost savings of 15% annually.\\n- Enhanced Security: Decrease in security incidents by 30%, minimizing potential financial and reputational risks.\\n- Implementation Timeline: A phased approach over 12 months, starting with test management and predictive analytics, followed by resource optimization and security enhancements.\\n\\nNext Steps and Call to Action:\\nI recommend scheduling a meeting to discuss this proposal in detail and outline a tailored implementation plan. Please let me know your availability for a meeting next week.\\n\\nLooking forward to the opportunity to support TechStack Solutions in achieving even greater success.\\n\\nBest regards,\\n\\n[Your Name]\\nAI Solutions Consultant\"} \u001b[0m\u001b[95m \n",
            "\n",
            "positive\n",
            "\u001b[00m\n",
            "\u001b[32;1m\u001b[1;3mThought: The sentiment analysis indicates that the tone of the proposal is positive, which is suitable for professional and engaging communication. I will now finalize the proposal.\n",
            "\n",
            "Final Answer:\n",
            "Dear Sarah Chen,\n",
            "\n",
            "Executive Summary:\n",
            "TechStack Solutions has made significant strides in the CI/CD space, particularly with the recent launch of your containerized deployment feature. This proposal outlines how integrating AI into your CI/CD platform can further enhance your capabilities, addressing specific challenges such as test management complexity, predictive analytics for deployment, resource optimization, and automated security scanning. By leveraging AI, TechStack Solutions can achieve efficiency gains, cost reductions, enhanced security, and a competitive edge in the developer tools sector.\n",
            "\n",
            "Specific AI Integration Suggestions:\n",
            "1. AI-Driven Test Management: Implement AI systems to optimize testing processes by identifying critical test cases, reducing redundancies, and predicting outcomes, leading to faster and more reliable deployments.\n",
            "2. Predictive Analytics for Deployment: Utilize AI to analyze historical data and performance metrics, predicting and mitigating potential deployment issues proactively.\n",
            "3. Resource Optimization: Deploy AI algorithms for dynamic resource allocation, ensuring optimal utilization and cost savings.\n",
            "4. Automated Security Enhancements: Integrate AI for real-time threat detection and automated responses, strengthening your security posture.\n",
            "\n",
            "Expected ROI and Implementation Timeline:\n",
            "- Efficiency Gains: Anticipated reduction in time-to-market by 20% within the first year.\n",
            "- Cost Reduction: Projected operational cost savings of 15% annually.\n",
            "- Enhanced Security: Decrease in security incidents by 30%, minimizing potential financial and reputational risks.\n",
            "- Implementation Timeline: A phased approach over 12 months, starting with test management and predictive analytics, followed by resource optimization and security enhancements.\n",
            "\n",
            "Next Steps and Call to Action:\n",
            "I recommend scheduling a meeting to discuss this proposal in detail and outline a tailored implementation plan. Please let me know your availability for a meeting next week.\n",
            "\n",
            "Looking forward to the opportunity to support TechStack Solutions in achieving even greater success.\n",
            "\n",
            "Best regards,\n",
            "\n",
            "[Your Name]  \n",
            "AI Solutions Consultant\u001b[0m\n",
            "\n",
            "\u001b[1m> Finished chain.\u001b[0m\n",
            "\u001b[1m\u001b[92m [DEBUG]: == [AI Solutions Consultant] Task output: Dear Sarah Chen,\n",
            "\n",
            "Executive Summary:\n",
            "TechStack Solutions has made significant strides in the CI/CD space, particularly with the recent launch of your containerized deployment feature. This proposal outlines how integrating AI into your CI/CD platform can further enhance your capabilities, addressing specific challenges such as test management complexity, predictive analytics for deployment, resource optimization, and automated security scanning. By leveraging AI, TechStack Solutions can achieve efficiency gains, cost reductions, enhanced security, and a competitive edge in the developer tools sector.\n",
            "\n",
            "Specific AI Integration Suggestions:\n",
            "1. AI-Driven Test Management: Implement AI systems to optimize testing processes by identifying critical test cases, reducing redundancies, and predicting outcomes, leading to faster and more reliable deployments.\n",
            "2. Predictive Analytics for Deployment: Utilize AI to analyze historical data and performance metrics, predicting and mitigating potential deployment issues proactively.\n",
            "3. Resource Optimization: Deploy AI algorithms for dynamic resource allocation, ensuring optimal utilization and cost savings.\n",
            "4. Automated Security Enhancements: Integrate AI for real-time threat detection and automated responses, strengthening your security posture.\n",
            "\n",
            "Expected ROI and Implementation Timeline:\n",
            "- Efficiency Gains: Anticipated reduction in time-to-market by 20% within the first year.\n",
            "- Cost Reduction: Projected operational cost savings of 15% annually.\n",
            "- Enhanced Security: Decrease in security incidents by 30%, minimizing potential financial and reputational risks.\n",
            "- Implementation Timeline: A phased approach over 12 months, starting with test management and predictive analytics, followed by resource optimization and security enhancements.\n",
            "\n",
            "Next Steps and Call to Action:\n",
            "I recommend scheduling a meeting to discuss this proposal in detail and outline a tailored implementation plan. Please let me know your availability for a meeting next week.\n",
            "\n",
            "Looking forward to the opportunity to support TechStack Solutions in achieving even greater success.\n",
            "\n",
            "Best regards,\n",
            "\n",
            "[Your Name]  \n",
            "AI Solutions Consultant\n",
            "\n",
            "\u001b[00m\n"
          ]
        }
      ]
    },
    {
      "cell_type": "code",
      "source": [
        "from IPython.display import Markdown\n",
        "Markdown(result)"
      ],
      "metadata": {
        "colab": {
          "base_uri": "https://localhost:8080/",
          "height": 515
        },
        "id": "v4pS_zQgOGQB",
        "outputId": "9993da6f-6656-4f22-b433-ef7368cc66c9"
      },
      "execution_count": 27,
      "outputs": [
        {
          "output_type": "execute_result",
          "data": {
            "text/plain": [
              "<IPython.core.display.Markdown object>"
            ],
            "text/markdown": "Dear Sarah Chen,\n\nExecutive Summary:\nTechStack Solutions has made significant strides in the CI/CD space, particularly with the recent launch of your containerized deployment feature. This proposal outlines how integrating AI into your CI/CD platform can further enhance your capabilities, addressing specific challenges such as test management complexity, predictive analytics for deployment, resource optimization, and automated security scanning. By leveraging AI, TechStack Solutions can achieve efficiency gains, cost reductions, enhanced security, and a competitive edge in the developer tools sector.\n\nSpecific AI Integration Suggestions:\n1. AI-Driven Test Management: Implement AI systems to optimize testing processes by identifying critical test cases, reducing redundancies, and predicting outcomes, leading to faster and more reliable deployments.\n2. Predictive Analytics for Deployment: Utilize AI to analyze historical data and performance metrics, predicting and mitigating potential deployment issues proactively.\n3. Resource Optimization: Deploy AI algorithms for dynamic resource allocation, ensuring optimal utilization and cost savings.\n4. Automated Security Enhancements: Integrate AI for real-time threat detection and automated responses, strengthening your security posture.\n\nExpected ROI and Implementation Timeline:\n- Efficiency Gains: Anticipated reduction in time-to-market by 20% within the first year.\n- Cost Reduction: Projected operational cost savings of 15% annually.\n- Enhanced Security: Decrease in security incidents by 30%, minimizing potential financial and reputational risks.\n- Implementation Timeline: A phased approach over 12 months, starting with test management and predictive analytics, followed by resource optimization and security enhancements.\n\nNext Steps and Call to Action:\nI recommend scheduling a meeting to discuss this proposal in detail and outline a tailored implementation plan. Please let me know your availability for a meeting next week.\n\nLooking forward to the opportunity to support TechStack Solutions in achieving even greater success.\n\nBest regards,\n\n[Your Name]  \nAI Solutions Consultant"
          },
          "metadata": {},
          "execution_count": 27
        }
      ]
    },
    {
      "cell_type": "code",
      "source": [],
      "metadata": {
        "id": "0pS7zpgrWrqy"
      },
      "execution_count": null,
      "outputs": []
    },
    {
      "cell_type": "code",
      "source": [],
      "metadata": {
        "id": "xad28SHNYMDD"
      },
      "execution_count": null,
      "outputs": []
    },
    {
      "cell_type": "code",
      "source": [],
      "metadata": {
        "id": "0HySBi6nYME6"
      },
      "execution_count": null,
      "outputs": []
    },
    {
      "cell_type": "code",
      "source": [],
      "metadata": {
        "id": "HSveWvDLYMIW"
      },
      "execution_count": null,
      "outputs": []
    },
    {
      "cell_type": "markdown",
      "source": [
        "## BaseTool Class"
      ],
      "metadata": {
        "id": "ul5oJ1kQWsWe"
      }
    },
    {
      "cell_type": "markdown",
      "source": [
        "The **BaseTool** class in CrewAI is a foundational component that provides a standardized framework for building any tool you want your AI agents to use. Essentially, it’s an abstract base class that defines the interface and core behavior for all tools within the framework. By extending this class, developers can easily create custom tools with consistent behavior, robust input validation, and built-in error handling.\n",
        "\n",
        "---\n",
        "\n",
        "## 1. What Is the BaseTool Class?\n",
        "\n",
        "### Role in CrewAI\n",
        "- **Standardization:** The BaseTool class defines a standard interface (e.g., methods and attributes) that all tools must follow. This ensures that regardless of what the tool does, it can be called in the same way by any agent.\n",
        "\n",
        "- **Error Handling:** It often includes built-in error handling so that if something goes wrong during the execution of a tool, the framework can handle the error gracefully.\n",
        "\n",
        "- **Input Validation:** By using an input schema (typically defined with Pydantic), BaseTool helps validate the inputs provided to the tool. This minimizes the risk of errors due to unexpected input types or missing data.\n",
        "\n",
        "- **Integration:** Since all custom tools inherit from BaseTool, they automatically integrate with the CrewAI ecosystem—meaning agents can seamlessly use these tools as part of their task workflows.\n",
        "\n",
        "### Key Components of BaseTool\n",
        "Although you might not see every detail (as some parts may be abstracted away in the framework), the BaseTool class typically includes:\n",
        "\n",
        "- **Attributes:**\n",
        "  - `name`: A string that identifies the tool.\n",
        "\n",
        "  - `description`: A brief description of what the tool does.\n",
        "\n",
        "  - `args_schema`: A Pydantic model that defines the expected inputs for the tool.\n",
        "\n",
        "- **Methods:**\n",
        "  - `run()`: A public method that wraps the internal logic. It usually handles input validation (using `args_schema`) and calls the tool’s custom logic.\n",
        "\n",
        "  - `_run()`: An abstract or placeholder method that you must override in your subclass to implement the tool’s specific functionality.\n",
        "\n",
        "---\n",
        "\n",
        "## 2. How BaseTool Helps in Creating Custom Tools\n",
        "\n",
        "### Simplification\n",
        "When you subclass BaseTool, you only need to implement the `_run()` method that contains your tool’s logic. The BaseTool class takes care of:\n",
        "\n",
        "- Validating the input using the schema you provide.\n",
        "\n",
        "- Managing exceptions so that errors are caught and handled in a uniform way.\n",
        "\n",
        "- Integrating your tool into the CrewAI workflow, making it available to agents without further configuration.\n",
        "\n",
        "### Consistency\n",
        "By having all tools derive from BaseTool, every tool in your project will have a similar structure and behavior. This consistency simplifies:\n",
        "\n",
        "- **Maintenance:** Debugging or upgrading tools is easier when they follow the same pattern.\n",
        "\n",
        "- **Interoperability:** Agents don’t need to worry about how a tool is implemented—they just call its `run()` method and expect a consistent type of output.\n",
        "\n",
        "---\n",
        "\n",
        "## 3. Detailed Code Examples\n",
        "\n",
        "### Example 1: Creating a Custom Tool by Subclassing BaseTool\n",
        "\n",
        "Below is an example that demonstrates how to create a custom search tool by subclassing BaseTool.\n",
        "\n",
        "```python\n",
        "from crewai.tools import BaseTool\n",
        "from pydantic import BaseModel, Field\n",
        "from typing import Type\n",
        "\n",
        "# Define an input schema for the tool using Pydantic\n",
        "class SearchToolInput(BaseModel):\n",
        "    query: str = Field(..., description=\"The search query for which results are needed.\")\n",
        "\n",
        "# Create a custom tool by subclassing BaseTool\n",
        "class CustomSearchTool(BaseTool):\n",
        "    name: str = \"CustomSearchTool\"\n",
        "    description: str = \"A tool that performs a custom search and returns simulated results.\"\n",
        "    args_schema: Type[BaseModel] = SearchToolInput  # Input validation schema\n",
        "\n",
        "    # Implement the _run method with your custom logic.\n",
        "    def _run(self, query: str) -> str:\n",
        "        # Here, you would normally implement the actual search logic.\n",
        "        # For demonstration, we return a dummy string.\n",
        "        return f\"Simulated search results for '{query}'\"\n",
        "\n",
        "# Instantiate and use the custom tool\n",
        "custom_tool = CustomSearchTool()\n",
        "result = custom_tool.run(query=\"CrewAI custom tools\")\n",
        "print(result)\n",
        "# Output: Simulated search results for 'CrewAI custom tools'\n",
        "```\n",
        "\n",
        "**Explanation:**\n",
        "1. **SearchToolInput:** This Pydantic model ensures that any input to the tool contains a valid `query` string.\n",
        "2. **CustomSearchTool:**  \n",
        "   - It defines the `name` and `description` attributes that help identify the tool in the CrewAI ecosystem.\n",
        "   - The `args_schema` is set to `SearchToolInput` so that inputs are automatically validated.\n",
        "   - The `_run()` method contains the core functionality; in this example, it simulates a search operation.\n",
        "3. **Usage:** Calling the `run()` method on the tool instance first validates the input against the schema and then calls `_run()` to produce the output.\n",
        "\n",
        "### Example 2: Creating a Simple Tool Using the @tool Decorator\n",
        "\n",
        "For simpler scenarios where a full class definition is unnecessary, you can convert a function into a tool with a decorator.\n",
        "\n",
        "```python\n",
        "from crewai.tools import tool\n",
        "\n",
        "@tool(\"QuickSearch\")\n",
        "def quick_search(query: str) -> str:\n",
        "    \"\"\"\n",
        "    A simple tool that simulates a search operation.\n",
        "    Returns a dummy result for the provided query.\n",
        "    \"\"\"\n",
        "    # In an actual implementation, you might integrate API calls or other logic.\n",
        "    return f\"Quick results for '{query}'\"\n",
        "\n",
        "# Use the decorated function as a tool\n",
        "print(quick_search(\"CrewAI BaseTool explanation\"))\n",
        "# Expected output: Quick results for 'CrewAI BaseTool explanation'\n",
        "```\n",
        "\n",
        "**Explanation:**\n",
        "- The `@tool` decorator wraps the `quick_search` function, converting it into a tool with the name \"QuickSearch.\"\n",
        "\n",
        "- This method is concise and is suitable when you need to implement a straightforward operation.\n",
        "\n",
        "---\n",
        "\n",
        "## 4. Benefits Recap\n",
        "\n",
        "- **Rapid Development:** By inheriting from BaseTool, you reduce the amount of boilerplate code you need to write.  \n",
        "\n",
        "- **Input Safety:** Automatic input validation via the `args_schema` ensures your tool receives correctly structured data.\n",
        "\n",
        "- **Error Management:** Built-in error handling in the BaseTool class helps manage exceptions, making your tools more robust.\n",
        "\n",
        "- **Seamless Integration:** All custom tools follow the same interface, so they integrate easily with CrewAI’s agent and task systems.\n",
        "\n",
        "---\n",
        "\n",
        "For further reading, you can refer to the [CrewAI Tools Documentation](https://docs.crewai.com/core-concepts/tools)."
      ],
      "metadata": {
        "id": "Oxs-qwTSWskS"
      }
    },
    {
      "cell_type": "code",
      "source": [],
      "metadata": {
        "id": "i5X6kKjHYB1g"
      },
      "execution_count": null,
      "outputs": []
    }
  ]
}