{
  "nbformat": 4,
  "nbformat_minor": 0,
  "metadata": {
    "colab": {
      "provenance": []
    },
    "kernelspec": {
      "name": "python3",
      "display_name": "Python 3"
    },
    "language_info": {
      "name": "python"
    }
  },
  "cells": [
    {
      "cell_type": "code",
      "source": [
        "!pip install crewai"
      ],
      "metadata": {
        "colab": {
          "base_uri": "https://localhost:8080/"
        },
        "id": "dSGWDPn8Mi-P",
        "outputId": "9b99c2bf-885f-409e-839b-842822bf1b9c"
      },
      "execution_count": 1,
      "outputs": [
        {
          "output_type": "stream",
          "name": "stdout",
          "text": [
            "Requirement already satisfied: crewai in /usr/local/lib/python3.11/dist-packages (0.100.1)\n",
            "Requirement already satisfied: appdirs>=1.4.4 in /usr/local/lib/python3.11/dist-packages (from crewai) (1.4.4)\n",
            "Requirement already satisfied: auth0-python>=4.7.1 in /usr/local/lib/python3.11/dist-packages (from crewai) (4.8.0)\n",
            "Requirement already satisfied: blinker>=1.9.0 in /usr/local/lib/python3.11/dist-packages (from crewai) (1.9.0)\n",
            "Requirement already satisfied: chromadb>=0.5.23 in /usr/local/lib/python3.11/dist-packages (from crewai) (0.6.3)\n",
            "Requirement already satisfied: click>=8.1.7 in /usr/local/lib/python3.11/dist-packages (from crewai) (8.1.8)\n",
            "Requirement already satisfied: instructor>=1.3.3 in /usr/local/lib/python3.11/dist-packages (from crewai) (1.7.2)\n",
            "Requirement already satisfied: json-repair>=0.25.2 in /usr/local/lib/python3.11/dist-packages (from crewai) (0.35.0)\n",
            "Requirement already satisfied: json5>=0.10.0 in /usr/local/lib/python3.11/dist-packages (from crewai) (0.10.0)\n",
            "Requirement already satisfied: jsonref>=1.1.0 in /usr/local/lib/python3.11/dist-packages (from crewai) (1.1.0)\n",
            "Requirement already satisfied: litellm==1.59.8 in /usr/local/lib/python3.11/dist-packages (from crewai) (1.59.8)\n",
            "Requirement already satisfied: openai>=1.13.3 in /usr/local/lib/python3.11/dist-packages (from crewai) (1.61.1)\n",
            "Requirement already satisfied: openpyxl>=3.1.5 in /usr/local/lib/python3.11/dist-packages (from crewai) (3.1.5)\n",
            "Requirement already satisfied: opentelemetry-api>=1.22.0 in /usr/local/lib/python3.11/dist-packages (from crewai) (1.30.0)\n",
            "Requirement already satisfied: opentelemetry-exporter-otlp-proto-http>=1.22.0 in /usr/local/lib/python3.11/dist-packages (from crewai) (1.30.0)\n",
            "Requirement already satisfied: opentelemetry-sdk>=1.22.0 in /usr/local/lib/python3.11/dist-packages (from crewai) (1.30.0)\n",
            "Requirement already satisfied: pdfplumber>=0.11.4 in /usr/local/lib/python3.11/dist-packages (from crewai) (0.11.5)\n",
            "Requirement already satisfied: pydantic>=2.4.2 in /usr/local/lib/python3.11/dist-packages (from crewai) (2.10.6)\n",
            "Requirement already satisfied: python-dotenv>=1.0.0 in /usr/local/lib/python3.11/dist-packages (from crewai) (1.0.1)\n",
            "Requirement already satisfied: pyvis>=0.3.2 in /usr/local/lib/python3.11/dist-packages (from crewai) (0.3.2)\n",
            "Requirement already satisfied: regex>=2024.9.11 in /usr/local/lib/python3.11/dist-packages (from crewai) (2024.11.6)\n",
            "Requirement already satisfied: tomli-w>=1.1.0 in /usr/local/lib/python3.11/dist-packages (from crewai) (1.2.0)\n",
            "Requirement already satisfied: tomli>=2.0.2 in /usr/local/lib/python3.11/dist-packages (from crewai) (2.2.1)\n",
            "Requirement already satisfied: uv>=0.4.25 in /usr/local/lib/python3.11/dist-packages (from crewai) (0.5.29)\n",
            "Requirement already satisfied: aiohttp in /usr/local/lib/python3.11/dist-packages (from litellm==1.59.8->crewai) (3.11.11)\n",
            "Requirement already satisfied: httpx<0.28.0,>=0.23.0 in /usr/local/lib/python3.11/dist-packages (from litellm==1.59.8->crewai) (0.27.2)\n",
            "Requirement already satisfied: importlib-metadata>=6.8.0 in /usr/local/lib/python3.11/dist-packages (from litellm==1.59.8->crewai) (8.5.0)\n",
            "Requirement already satisfied: jinja2<4.0.0,>=3.1.2 in /usr/local/lib/python3.11/dist-packages (from litellm==1.59.8->crewai) (3.1.5)\n",
            "Requirement already satisfied: jsonschema<5.0.0,>=4.22.0 in /usr/local/lib/python3.11/dist-packages (from litellm==1.59.8->crewai) (4.23.0)\n",
            "Requirement already satisfied: tiktoken>=0.7.0 in /usr/local/lib/python3.11/dist-packages (from litellm==1.59.8->crewai) (0.8.0)\n",
            "Requirement already satisfied: tokenizers in /usr/local/lib/python3.11/dist-packages (from litellm==1.59.8->crewai) (0.21.0)\n",
            "Requirement already satisfied: cryptography>=43.0.1 in /usr/local/lib/python3.11/dist-packages (from auth0-python>=4.7.1->crewai) (43.0.3)\n",
            "Requirement already satisfied: pyjwt>=2.8.0 in /usr/local/lib/python3.11/dist-packages (from auth0-python>=4.7.1->crewai) (2.10.1)\n",
            "Requirement already satisfied: requests>=2.32.3 in /usr/local/lib/python3.11/dist-packages (from auth0-python>=4.7.1->crewai) (2.32.3)\n",
            "Requirement already satisfied: urllib3>=2.2.3 in /usr/local/lib/python3.11/dist-packages (from auth0-python>=4.7.1->crewai) (2.3.0)\n",
            "Requirement already satisfied: build>=1.0.3 in /usr/local/lib/python3.11/dist-packages (from chromadb>=0.5.23->crewai) (1.2.2.post1)\n",
            "Requirement already satisfied: chroma-hnswlib==0.7.6 in /usr/local/lib/python3.11/dist-packages (from chromadb>=0.5.23->crewai) (0.7.6)\n",
            "Requirement already satisfied: fastapi>=0.95.2 in /usr/local/lib/python3.11/dist-packages (from chromadb>=0.5.23->crewai) (0.115.8)\n",
            "Requirement already satisfied: uvicorn>=0.18.3 in /usr/local/lib/python3.11/dist-packages (from uvicorn[standard]>=0.18.3->chromadb>=0.5.23->crewai) (0.34.0)\n",
            "Requirement already satisfied: numpy>=1.22.5 in /usr/local/lib/python3.11/dist-packages (from chromadb>=0.5.23->crewai) (1.26.4)\n",
            "Requirement already satisfied: posthog>=2.4.0 in /usr/local/lib/python3.11/dist-packages (from chromadb>=0.5.23->crewai) (3.11.0)\n",
            "Requirement already satisfied: typing_extensions>=4.5.0 in /usr/local/lib/python3.11/dist-packages (from chromadb>=0.5.23->crewai) (4.12.2)\n",
            "Requirement already satisfied: onnxruntime>=1.14.1 in /usr/local/lib/python3.11/dist-packages (from chromadb>=0.5.23->crewai) (1.20.1)\n",
            "Requirement already satisfied: opentelemetry-exporter-otlp-proto-grpc>=1.2.0 in /usr/local/lib/python3.11/dist-packages (from chromadb>=0.5.23->crewai) (1.30.0)\n",
            "Requirement already satisfied: opentelemetry-instrumentation-fastapi>=0.41b0 in /usr/local/lib/python3.11/dist-packages (from chromadb>=0.5.23->crewai) (0.51b0)\n",
            "Requirement already satisfied: pypika>=0.48.9 in /usr/local/lib/python3.11/dist-packages (from chromadb>=0.5.23->crewai) (0.48.9)\n",
            "Requirement already satisfied: tqdm>=4.65.0 in /usr/local/lib/python3.11/dist-packages (from chromadb>=0.5.23->crewai) (4.67.1)\n",
            "Requirement already satisfied: overrides>=7.3.1 in /usr/local/lib/python3.11/dist-packages (from chromadb>=0.5.23->crewai) (7.7.0)\n",
            "Requirement already satisfied: importlib-resources in /usr/local/lib/python3.11/dist-packages (from chromadb>=0.5.23->crewai) (6.5.2)\n",
            "Requirement already satisfied: grpcio>=1.58.0 in /usr/local/lib/python3.11/dist-packages (from chromadb>=0.5.23->crewai) (1.70.0)\n",
            "Requirement already satisfied: bcrypt>=4.0.1 in /usr/local/lib/python3.11/dist-packages (from chromadb>=0.5.23->crewai) (4.2.1)\n",
            "Requirement already satisfied: typer>=0.9.0 in /usr/local/lib/python3.11/dist-packages (from chromadb>=0.5.23->crewai) (0.15.1)\n",
            "Requirement already satisfied: kubernetes>=28.1.0 in /usr/local/lib/python3.11/dist-packages (from chromadb>=0.5.23->crewai) (32.0.0)\n",
            "Requirement already satisfied: tenacity>=8.2.3 in /usr/local/lib/python3.11/dist-packages (from chromadb>=0.5.23->crewai) (9.0.0)\n",
            "Requirement already satisfied: PyYAML>=6.0.0 in /usr/local/lib/python3.11/dist-packages (from chromadb>=0.5.23->crewai) (6.0.2)\n",
            "Requirement already satisfied: mmh3>=4.0.1 in /usr/local/lib/python3.11/dist-packages (from chromadb>=0.5.23->crewai) (5.1.0)\n",
            "Requirement already satisfied: orjson>=3.9.12 in /usr/local/lib/python3.11/dist-packages (from chromadb>=0.5.23->crewai) (3.10.15)\n",
            "Requirement already satisfied: rich>=10.11.0 in /usr/local/lib/python3.11/dist-packages (from chromadb>=0.5.23->crewai) (13.9.4)\n",
            "Requirement already satisfied: docstring-parser<1.0,>=0.16 in /usr/local/lib/python3.11/dist-packages (from instructor>=1.3.3->crewai) (0.16)\n",
            "Requirement already satisfied: jiter<0.9,>=0.6.1 in /usr/local/lib/python3.11/dist-packages (from instructor>=1.3.3->crewai) (0.8.2)\n",
            "Requirement already satisfied: pydantic-core<3.0.0,>=2.18.0 in /usr/local/lib/python3.11/dist-packages (from instructor>=1.3.3->crewai) (2.27.2)\n",
            "Requirement already satisfied: anyio<5,>=3.5.0 in /usr/local/lib/python3.11/dist-packages (from openai>=1.13.3->crewai) (3.7.1)\n",
            "Requirement already satisfied: distro<2,>=1.7.0 in /usr/local/lib/python3.11/dist-packages (from openai>=1.13.3->crewai) (1.9.0)\n",
            "Requirement already satisfied: sniffio in /usr/local/lib/python3.11/dist-packages (from openai>=1.13.3->crewai) (1.3.1)\n",
            "Requirement already satisfied: et-xmlfile in /usr/local/lib/python3.11/dist-packages (from openpyxl>=3.1.5->crewai) (2.0.0)\n",
            "Requirement already satisfied: deprecated>=1.2.6 in /usr/local/lib/python3.11/dist-packages (from opentelemetry-api>=1.22.0->crewai) (1.2.18)\n",
            "Requirement already satisfied: googleapis-common-protos~=1.52 in /usr/local/lib/python3.11/dist-packages (from opentelemetry-exporter-otlp-proto-http>=1.22.0->crewai) (1.66.0)\n",
            "Requirement already satisfied: opentelemetry-exporter-otlp-proto-common==1.30.0 in /usr/local/lib/python3.11/dist-packages (from opentelemetry-exporter-otlp-proto-http>=1.22.0->crewai) (1.30.0)\n",
            "Requirement already satisfied: opentelemetry-proto==1.30.0 in /usr/local/lib/python3.11/dist-packages (from opentelemetry-exporter-otlp-proto-http>=1.22.0->crewai) (1.30.0)\n",
            "Requirement already satisfied: protobuf<6.0,>=5.0 in /usr/local/lib/python3.11/dist-packages (from opentelemetry-proto==1.30.0->opentelemetry-exporter-otlp-proto-http>=1.22.0->crewai) (5.29.3)\n",
            "Requirement already satisfied: opentelemetry-semantic-conventions==0.51b0 in /usr/local/lib/python3.11/dist-packages (from opentelemetry-sdk>=1.22.0->crewai) (0.51b0)\n",
            "Requirement already satisfied: pdfminer.six==20231228 in /usr/local/lib/python3.11/dist-packages (from pdfplumber>=0.11.4->crewai) (20231228)\n",
            "Requirement already satisfied: Pillow>=9.1 in /usr/local/lib/python3.11/dist-packages (from pdfplumber>=0.11.4->crewai) (11.1.0)\n",
            "Requirement already satisfied: pypdfium2>=4.18.0 in /usr/local/lib/python3.11/dist-packages (from pdfplumber>=0.11.4->crewai) (4.30.1)\n",
            "Requirement already satisfied: charset-normalizer>=2.0.0 in /usr/local/lib/python3.11/dist-packages (from pdfminer.six==20231228->pdfplumber>=0.11.4->crewai) (3.4.1)\n",
            "Requirement already satisfied: annotated-types>=0.6.0 in /usr/local/lib/python3.11/dist-packages (from pydantic>=2.4.2->crewai) (0.7.0)\n",
            "Requirement already satisfied: ipython>=5.3.0 in /usr/local/lib/python3.11/dist-packages (from pyvis>=0.3.2->crewai) (7.34.0)\n",
            "Requirement already satisfied: jsonpickle>=1.4.1 in /usr/local/lib/python3.11/dist-packages (from pyvis>=0.3.2->crewai) (4.0.1)\n",
            "Requirement already satisfied: networkx>=1.11 in /usr/local/lib/python3.11/dist-packages (from pyvis>=0.3.2->crewai) (3.4.2)\n",
            "Requirement already satisfied: aiohappyeyeballs>=2.3.0 in /usr/local/lib/python3.11/dist-packages (from aiohttp->litellm==1.59.8->crewai) (2.4.4)\n",
            "Requirement already satisfied: aiosignal>=1.1.2 in /usr/local/lib/python3.11/dist-packages (from aiohttp->litellm==1.59.8->crewai) (1.3.2)\n",
            "Requirement already satisfied: attrs>=17.3.0 in /usr/local/lib/python3.11/dist-packages (from aiohttp->litellm==1.59.8->crewai) (25.1.0)\n",
            "Requirement already satisfied: frozenlist>=1.1.1 in /usr/local/lib/python3.11/dist-packages (from aiohttp->litellm==1.59.8->crewai) (1.5.0)\n",
            "Requirement already satisfied: multidict<7.0,>=4.5 in /usr/local/lib/python3.11/dist-packages (from aiohttp->litellm==1.59.8->crewai) (6.1.0)\n",
            "Requirement already satisfied: propcache>=0.2.0 in /usr/local/lib/python3.11/dist-packages (from aiohttp->litellm==1.59.8->crewai) (0.2.1)\n",
            "Requirement already satisfied: yarl<2.0,>=1.17.0 in /usr/local/lib/python3.11/dist-packages (from aiohttp->litellm==1.59.8->crewai) (1.18.3)\n",
            "Requirement already satisfied: idna>=2.8 in /usr/local/lib/python3.11/dist-packages (from anyio<5,>=3.5.0->openai>=1.13.3->crewai) (3.10)\n",
            "Requirement already satisfied: packaging>=19.1 in /usr/local/lib/python3.11/dist-packages (from build>=1.0.3->chromadb>=0.5.23->crewai) (24.2)\n",
            "Requirement already satisfied: pyproject_hooks in /usr/local/lib/python3.11/dist-packages (from build>=1.0.3->chromadb>=0.5.23->crewai) (1.2.0)\n",
            "Requirement already satisfied: cffi>=1.12 in /usr/local/lib/python3.11/dist-packages (from cryptography>=43.0.1->auth0-python>=4.7.1->crewai) (1.17.1)\n",
            "Requirement already satisfied: wrapt<2,>=1.10 in /usr/local/lib/python3.11/dist-packages (from deprecated>=1.2.6->opentelemetry-api>=1.22.0->crewai) (1.17.2)\n",
            "Requirement already satisfied: starlette<0.46.0,>=0.40.0 in /usr/local/lib/python3.11/dist-packages (from fastapi>=0.95.2->chromadb>=0.5.23->crewai) (0.45.3)\n",
            "Requirement already satisfied: certifi in /usr/local/lib/python3.11/dist-packages (from httpx<0.28.0,>=0.23.0->litellm==1.59.8->crewai) (2025.1.31)\n",
            "Requirement already satisfied: httpcore==1.* in /usr/local/lib/python3.11/dist-packages (from httpx<0.28.0,>=0.23.0->litellm==1.59.8->crewai) (1.0.7)\n",
            "Requirement already satisfied: h11<0.15,>=0.13 in /usr/local/lib/python3.11/dist-packages (from httpcore==1.*->httpx<0.28.0,>=0.23.0->litellm==1.59.8->crewai) (0.14.0)\n",
            "Requirement already satisfied: zipp>=3.20 in /usr/local/lib/python3.11/dist-packages (from importlib-metadata>=6.8.0->litellm==1.59.8->crewai) (3.21.0)\n",
            "Requirement already satisfied: setuptools>=18.5 in /usr/local/lib/python3.11/dist-packages (from ipython>=5.3.0->pyvis>=0.3.2->crewai) (75.1.0)\n",
            "Requirement already satisfied: jedi>=0.16 in /usr/local/lib/python3.11/dist-packages (from ipython>=5.3.0->pyvis>=0.3.2->crewai) (0.19.2)\n",
            "Requirement already satisfied: decorator in /usr/local/lib/python3.11/dist-packages (from ipython>=5.3.0->pyvis>=0.3.2->crewai) (4.4.2)\n",
            "Requirement already satisfied: pickleshare in /usr/local/lib/python3.11/dist-packages (from ipython>=5.3.0->pyvis>=0.3.2->crewai) (0.7.5)\n",
            "Requirement already satisfied: traitlets>=4.2 in /usr/local/lib/python3.11/dist-packages (from ipython>=5.3.0->pyvis>=0.3.2->crewai) (5.7.1)\n",
            "Requirement already satisfied: prompt-toolkit!=3.0.0,!=3.0.1,<3.1.0,>=2.0.0 in /usr/local/lib/python3.11/dist-packages (from ipython>=5.3.0->pyvis>=0.3.2->crewai) (3.0.50)\n",
            "Requirement already satisfied: pygments in /usr/local/lib/python3.11/dist-packages (from ipython>=5.3.0->pyvis>=0.3.2->crewai) (2.18.0)\n",
            "Requirement already satisfied: backcall in /usr/local/lib/python3.11/dist-packages (from ipython>=5.3.0->pyvis>=0.3.2->crewai) (0.2.0)\n",
            "Requirement already satisfied: matplotlib-inline in /usr/local/lib/python3.11/dist-packages (from ipython>=5.3.0->pyvis>=0.3.2->crewai) (0.1.7)\n",
            "Requirement already satisfied: pexpect>4.3 in /usr/local/lib/python3.11/dist-packages (from ipython>=5.3.0->pyvis>=0.3.2->crewai) (4.9.0)\n",
            "Requirement already satisfied: MarkupSafe>=2.0 in /usr/local/lib/python3.11/dist-packages (from jinja2<4.0.0,>=3.1.2->litellm==1.59.8->crewai) (3.0.2)\n",
            "Requirement already satisfied: jsonschema-specifications>=2023.03.6 in /usr/local/lib/python3.11/dist-packages (from jsonschema<5.0.0,>=4.22.0->litellm==1.59.8->crewai) (2024.10.1)\n",
            "Requirement already satisfied: referencing>=0.28.4 in /usr/local/lib/python3.11/dist-packages (from jsonschema<5.0.0,>=4.22.0->litellm==1.59.8->crewai) (0.36.2)\n",
            "Requirement already satisfied: rpds-py>=0.7.1 in /usr/local/lib/python3.11/dist-packages (from jsonschema<5.0.0,>=4.22.0->litellm==1.59.8->crewai) (0.22.3)\n",
            "Requirement already satisfied: six>=1.9.0 in /usr/local/lib/python3.11/dist-packages (from kubernetes>=28.1.0->chromadb>=0.5.23->crewai) (1.17.0)\n",
            "Requirement already satisfied: python-dateutil>=2.5.3 in /usr/local/lib/python3.11/dist-packages (from kubernetes>=28.1.0->chromadb>=0.5.23->crewai) (2.8.2)\n",
            "Requirement already satisfied: google-auth>=1.0.1 in /usr/local/lib/python3.11/dist-packages (from kubernetes>=28.1.0->chromadb>=0.5.23->crewai) (2.27.0)\n",
            "Requirement already satisfied: websocket-client!=0.40.0,!=0.41.*,!=0.42.*,>=0.32.0 in /usr/local/lib/python3.11/dist-packages (from kubernetes>=28.1.0->chromadb>=0.5.23->crewai) (1.8.0)\n",
            "Requirement already satisfied: requests-oauthlib in /usr/local/lib/python3.11/dist-packages (from kubernetes>=28.1.0->chromadb>=0.5.23->crewai) (2.0.0)\n",
            "Requirement already satisfied: oauthlib>=3.2.2 in /usr/local/lib/python3.11/dist-packages (from kubernetes>=28.1.0->chromadb>=0.5.23->crewai) (3.2.2)\n",
            "Requirement already satisfied: durationpy>=0.7 in /usr/local/lib/python3.11/dist-packages (from kubernetes>=28.1.0->chromadb>=0.5.23->crewai) (0.9)\n",
            "Requirement already satisfied: coloredlogs in /usr/local/lib/python3.11/dist-packages (from onnxruntime>=1.14.1->chromadb>=0.5.23->crewai) (15.0.1)\n",
            "Requirement already satisfied: flatbuffers in /usr/local/lib/python3.11/dist-packages (from onnxruntime>=1.14.1->chromadb>=0.5.23->crewai) (25.1.24)\n",
            "Requirement already satisfied: sympy in /usr/local/lib/python3.11/dist-packages (from onnxruntime>=1.14.1->chromadb>=0.5.23->crewai) (1.13.1)\n",
            "Requirement already satisfied: opentelemetry-instrumentation-asgi==0.51b0 in /usr/local/lib/python3.11/dist-packages (from opentelemetry-instrumentation-fastapi>=0.41b0->chromadb>=0.5.23->crewai) (0.51b0)\n",
            "Requirement already satisfied: opentelemetry-instrumentation==0.51b0 in /usr/local/lib/python3.11/dist-packages (from opentelemetry-instrumentation-fastapi>=0.41b0->chromadb>=0.5.23->crewai) (0.51b0)\n",
            "Requirement already satisfied: opentelemetry-util-http==0.51b0 in /usr/local/lib/python3.11/dist-packages (from opentelemetry-instrumentation-fastapi>=0.41b0->chromadb>=0.5.23->crewai) (0.51b0)\n",
            "Requirement already satisfied: asgiref~=3.0 in /usr/local/lib/python3.11/dist-packages (from opentelemetry-instrumentation-asgi==0.51b0->opentelemetry-instrumentation-fastapi>=0.41b0->chromadb>=0.5.23->crewai) (3.8.1)\n",
            "Requirement already satisfied: monotonic>=1.5 in /usr/local/lib/python3.11/dist-packages (from posthog>=2.4.0->chromadb>=0.5.23->crewai) (1.6)\n",
            "Requirement already satisfied: backoff>=1.10.0 in /usr/local/lib/python3.11/dist-packages (from posthog>=2.4.0->chromadb>=0.5.23->crewai) (2.2.1)\n",
            "Requirement already satisfied: markdown-it-py>=2.2.0 in /usr/local/lib/python3.11/dist-packages (from rich>=10.11.0->chromadb>=0.5.23->crewai) (3.0.0)\n",
            "Requirement already satisfied: huggingface-hub<1.0,>=0.16.4 in /usr/local/lib/python3.11/dist-packages (from tokenizers->litellm==1.59.8->crewai) (0.28.1)\n",
            "Requirement already satisfied: shellingham>=1.3.0 in /usr/local/lib/python3.11/dist-packages (from typer>=0.9.0->chromadb>=0.5.23->crewai) (1.5.4)\n",
            "Requirement already satisfied: httptools>=0.6.3 in /usr/local/lib/python3.11/dist-packages (from uvicorn[standard]>=0.18.3->chromadb>=0.5.23->crewai) (0.6.4)\n",
            "Requirement already satisfied: uvloop!=0.15.0,!=0.15.1,>=0.14.0 in /usr/local/lib/python3.11/dist-packages (from uvicorn[standard]>=0.18.3->chromadb>=0.5.23->crewai) (0.21.0)\n",
            "Requirement already satisfied: watchfiles>=0.13 in /usr/local/lib/python3.11/dist-packages (from uvicorn[standard]>=0.18.3->chromadb>=0.5.23->crewai) (1.0.4)\n",
            "Requirement already satisfied: websockets>=10.4 in /usr/local/lib/python3.11/dist-packages (from uvicorn[standard]>=0.18.3->chromadb>=0.5.23->crewai) (14.2)\n",
            "Requirement already satisfied: pycparser in /usr/local/lib/python3.11/dist-packages (from cffi>=1.12->cryptography>=43.0.1->auth0-python>=4.7.1->crewai) (2.22)\n",
            "Requirement already satisfied: cachetools<6.0,>=2.0.0 in /usr/local/lib/python3.11/dist-packages (from google-auth>=1.0.1->kubernetes>=28.1.0->chromadb>=0.5.23->crewai) (5.5.1)\n",
            "Requirement already satisfied: pyasn1-modules>=0.2.1 in /usr/local/lib/python3.11/dist-packages (from google-auth>=1.0.1->kubernetes>=28.1.0->chromadb>=0.5.23->crewai) (0.4.1)\n",
            "Requirement already satisfied: rsa<5,>=3.1.4 in /usr/local/lib/python3.11/dist-packages (from google-auth>=1.0.1->kubernetes>=28.1.0->chromadb>=0.5.23->crewai) (4.9)\n",
            "Requirement already satisfied: filelock in /usr/local/lib/python3.11/dist-packages (from huggingface-hub<1.0,>=0.16.4->tokenizers->litellm==1.59.8->crewai) (3.17.0)\n",
            "Requirement already satisfied: fsspec>=2023.5.0 in /usr/local/lib/python3.11/dist-packages (from huggingface-hub<1.0,>=0.16.4->tokenizers->litellm==1.59.8->crewai) (2024.10.0)\n",
            "Requirement already satisfied: parso<0.9.0,>=0.8.4 in /usr/local/lib/python3.11/dist-packages (from jedi>=0.16->ipython>=5.3.0->pyvis>=0.3.2->crewai) (0.8.4)\n",
            "Requirement already satisfied: mdurl~=0.1 in /usr/local/lib/python3.11/dist-packages (from markdown-it-py>=2.2.0->rich>=10.11.0->chromadb>=0.5.23->crewai) (0.1.2)\n",
            "Requirement already satisfied: ptyprocess>=0.5 in /usr/local/lib/python3.11/dist-packages (from pexpect>4.3->ipython>=5.3.0->pyvis>=0.3.2->crewai) (0.7.0)\n",
            "Requirement already satisfied: wcwidth in /usr/local/lib/python3.11/dist-packages (from prompt-toolkit!=3.0.0,!=3.0.1,<3.1.0,>=2.0.0->ipython>=5.3.0->pyvis>=0.3.2->crewai) (0.2.13)\n",
            "Requirement already satisfied: humanfriendly>=9.1 in /usr/local/lib/python3.11/dist-packages (from coloredlogs->onnxruntime>=1.14.1->chromadb>=0.5.23->crewai) (10.0)\n",
            "Requirement already satisfied: mpmath<1.4,>=1.1.0 in /usr/local/lib/python3.11/dist-packages (from sympy->onnxruntime>=1.14.1->chromadb>=0.5.23->crewai) (1.3.0)\n",
            "Requirement already satisfied: pyasn1<0.7.0,>=0.4.6 in /usr/local/lib/python3.11/dist-packages (from pyasn1-modules>=0.2.1->google-auth>=1.0.1->kubernetes>=28.1.0->chromadb>=0.5.23->crewai) (0.6.1)\n"
          ]
        }
      ]
    },
    {
      "cell_type": "code",
      "source": [
        "import os\n",
        "from google.colab import userdata\n",
        "\n",
        "os.environ['OPENAI_API_KEY'] = userdata.get('OPENAI_API_KEY')"
      ],
      "metadata": {
        "id": "l_R2TINNNgAR"
      },
      "execution_count": 7,
      "outputs": []
    },
    {
      "cell_type": "code",
      "execution_count": 8,
      "metadata": {
        "id": "11C4s8TeMcg-"
      },
      "outputs": [],
      "source": [
        "from crewai import Crew, Agent, Task"
      ]
    },
    {
      "cell_type": "code",
      "source": [
        "!pip install langchain_openai"
      ],
      "metadata": {
        "colab": {
          "base_uri": "https://localhost:8080/"
        },
        "id": "XWw4jRP6Mrjz",
        "outputId": "7ef0c5c4-4c41-475a-a436-fdbdce2a045d"
      },
      "execution_count": 9,
      "outputs": [
        {
          "output_type": "stream",
          "name": "stdout",
          "text": [
            "Requirement already satisfied: langchain_openai in /usr/local/lib/python3.11/dist-packages (0.3.4)\n",
            "Requirement already satisfied: langchain-core<1.0.0,>=0.3.34 in /usr/local/lib/python3.11/dist-packages (from langchain_openai) (0.3.34)\n",
            "Requirement already satisfied: openai<2.0.0,>=1.58.1 in /usr/local/lib/python3.11/dist-packages (from langchain_openai) (1.61.1)\n",
            "Requirement already satisfied: tiktoken<1,>=0.7 in /usr/local/lib/python3.11/dist-packages (from langchain_openai) (0.8.0)\n",
            "Requirement already satisfied: langsmith<0.4,>=0.1.125 in /usr/local/lib/python3.11/dist-packages (from langchain-core<1.0.0,>=0.3.34->langchain_openai) (0.3.5)\n",
            "Requirement already satisfied: tenacity!=8.4.0,<10.0.0,>=8.1.0 in /usr/local/lib/python3.11/dist-packages (from langchain-core<1.0.0,>=0.3.34->langchain_openai) (9.0.0)\n",
            "Requirement already satisfied: jsonpatch<2.0,>=1.33 in /usr/local/lib/python3.11/dist-packages (from langchain-core<1.0.0,>=0.3.34->langchain_openai) (1.33)\n",
            "Requirement already satisfied: PyYAML>=5.3 in /usr/local/lib/python3.11/dist-packages (from langchain-core<1.0.0,>=0.3.34->langchain_openai) (6.0.2)\n",
            "Requirement already satisfied: packaging<25,>=23.2 in /usr/local/lib/python3.11/dist-packages (from langchain-core<1.0.0,>=0.3.34->langchain_openai) (24.2)\n",
            "Requirement already satisfied: typing-extensions>=4.7 in /usr/local/lib/python3.11/dist-packages (from langchain-core<1.0.0,>=0.3.34->langchain_openai) (4.12.2)\n",
            "Requirement already satisfied: pydantic<3.0.0,>=2.5.2 in /usr/local/lib/python3.11/dist-packages (from langchain-core<1.0.0,>=0.3.34->langchain_openai) (2.10.6)\n",
            "Requirement already satisfied: anyio<5,>=3.5.0 in /usr/local/lib/python3.11/dist-packages (from openai<2.0.0,>=1.58.1->langchain_openai) (3.7.1)\n",
            "Requirement already satisfied: distro<2,>=1.7.0 in /usr/local/lib/python3.11/dist-packages (from openai<2.0.0,>=1.58.1->langchain_openai) (1.9.0)\n",
            "Requirement already satisfied: httpx<1,>=0.23.0 in /usr/local/lib/python3.11/dist-packages (from openai<2.0.0,>=1.58.1->langchain_openai) (0.27.2)\n",
            "Requirement already satisfied: jiter<1,>=0.4.0 in /usr/local/lib/python3.11/dist-packages (from openai<2.0.0,>=1.58.1->langchain_openai) (0.8.2)\n",
            "Requirement already satisfied: sniffio in /usr/local/lib/python3.11/dist-packages (from openai<2.0.0,>=1.58.1->langchain_openai) (1.3.1)\n",
            "Requirement already satisfied: tqdm>4 in /usr/local/lib/python3.11/dist-packages (from openai<2.0.0,>=1.58.1->langchain_openai) (4.67.1)\n",
            "Requirement already satisfied: regex>=2022.1.18 in /usr/local/lib/python3.11/dist-packages (from tiktoken<1,>=0.7->langchain_openai) (2024.11.6)\n",
            "Requirement already satisfied: requests>=2.26.0 in /usr/local/lib/python3.11/dist-packages (from tiktoken<1,>=0.7->langchain_openai) (2.32.3)\n",
            "Requirement already satisfied: idna>=2.8 in /usr/local/lib/python3.11/dist-packages (from anyio<5,>=3.5.0->openai<2.0.0,>=1.58.1->langchain_openai) (3.10)\n",
            "Requirement already satisfied: certifi in /usr/local/lib/python3.11/dist-packages (from httpx<1,>=0.23.0->openai<2.0.0,>=1.58.1->langchain_openai) (2025.1.31)\n",
            "Requirement already satisfied: httpcore==1.* in /usr/local/lib/python3.11/dist-packages (from httpx<1,>=0.23.0->openai<2.0.0,>=1.58.1->langchain_openai) (1.0.7)\n",
            "Requirement already satisfied: h11<0.15,>=0.13 in /usr/local/lib/python3.11/dist-packages (from httpcore==1.*->httpx<1,>=0.23.0->openai<2.0.0,>=1.58.1->langchain_openai) (0.14.0)\n",
            "Requirement already satisfied: jsonpointer>=1.9 in /usr/local/lib/python3.11/dist-packages (from jsonpatch<2.0,>=1.33->langchain-core<1.0.0,>=0.3.34->langchain_openai) (3.0.0)\n",
            "Requirement already satisfied: orjson<4.0.0,>=3.9.14 in /usr/local/lib/python3.11/dist-packages (from langsmith<0.4,>=0.1.125->langchain-core<1.0.0,>=0.3.34->langchain_openai) (3.10.15)\n",
            "Requirement already satisfied: requests-toolbelt<2.0.0,>=1.0.0 in /usr/local/lib/python3.11/dist-packages (from langsmith<0.4,>=0.1.125->langchain-core<1.0.0,>=0.3.34->langchain_openai) (1.0.0)\n",
            "Requirement already satisfied: zstandard<0.24.0,>=0.23.0 in /usr/local/lib/python3.11/dist-packages (from langsmith<0.4,>=0.1.125->langchain-core<1.0.0,>=0.3.34->langchain_openai) (0.23.0)\n",
            "Requirement already satisfied: annotated-types>=0.6.0 in /usr/local/lib/python3.11/dist-packages (from pydantic<3.0.0,>=2.5.2->langchain-core<1.0.0,>=0.3.34->langchain_openai) (0.7.0)\n",
            "Requirement already satisfied: pydantic-core==2.27.2 in /usr/local/lib/python3.11/dist-packages (from pydantic<3.0.0,>=2.5.2->langchain-core<1.0.0,>=0.3.34->langchain_openai) (2.27.2)\n",
            "Requirement already satisfied: charset-normalizer<4,>=2 in /usr/local/lib/python3.11/dist-packages (from requests>=2.26.0->tiktoken<1,>=0.7->langchain_openai) (3.4.1)\n",
            "Requirement already satisfied: urllib3<3,>=1.21.1 in /usr/local/lib/python3.11/dist-packages (from requests>=2.26.0->tiktoken<1,>=0.7->langchain_openai) (2.3.0)\n"
          ]
        }
      ]
    },
    {
      "cell_type": "code",
      "source": [
        "from langchain_openai import ChatOpenAI"
      ],
      "metadata": {
        "id": "gTMPWxiaNcvF"
      },
      "execution_count": 10,
      "outputs": []
    },
    {
      "cell_type": "code",
      "source": [
        "import requests\n",
        "\n",
        "# External tool function: Fetch crypto prices from CoinGecko API\n",
        "def fetch_crypto_data(crypto_ids, vs_currency):\n",
        "    # Join crypto IDs into a comma-separated string\n",
        "    ids = \",\".join(crypto_ids)\n",
        "    url = f\"https://api.coingecko.com/api/v3/simple/price?ids={ids}&vs_currencies={vs_currency}\"\n",
        "    response = requests.get(url)\n",
        "    if response.status_code == 200:\n",
        "        return response.json()\n",
        "    else:\n",
        "        return {\"error\": \"Failed to fetch data\"}\n",
        "\n",
        "def analyze_crypto_data(data):\n",
        "    report_lines = []\n",
        "    for crypto, info in data.items():\n",
        "        price = info.get(\"usd\", \"N/A\")\n",
        "        report_lines.append(f\"{crypto.capitalize()}: ${price} USD\")\n",
        "    return \"\\n\".join(report_lines)\n",
        "\n",
        "\n",
        "def write_crypto_report(summary):\n",
        "    header = \"# Crypto Market Analysis Report\\n\\n\"\n",
        "    overview = (\n",
        "        \"## Overview\\n\"\n",
        "        \"This report presents a detailed analysis of the current market performance and positioning of five selected cryptocurrencies: \"\n",
        "        \"Bitcoin, Ethereum, Tether, Dogecoin, and Shiba Inu. The data represents their market capitalization, price movements, and daily fluctuations, \"\n",
        "        \"providing valuable insights into the market's stability and trends.\\n\\n\"\n",
        "    )\n",
        "    table_header = (\n",
        "        \"## Cryptocurrency Performance\\n\\n\"\n",
        "        \"| Rank | Cryptocurrency | Market Cap (in billion) | Current Price | 24h Price Change (%) |\\n\"\n",
        "        \"|------|----------------|-------------------------|---------------|-----------------------|\\n\"\n",
        "    )\n",
        "\n",
        "    table_rows = (\n",
        "        \"| 1    | Bitcoin      | 528.76                | 27,400.32     | -0.55                 |\\n\"\n",
        "        \"| 2    | Ethereum     | 219.14                | 1,825.47      | -0.87                 |\\n\"\n",
        "        \"| 3    | Tether       | 83.06                 | 1.00          | -0.01                 |\\n\"\n",
        "        \"| 10   | Dogecoin     | 8.40                  | 0.061         | 1.23                  |\\n\"\n",
        "        \"| 15   | Shiba Inu    | 3.89                  | 0.0000071     | -2.47                 |\\n\"\n",
        "    )\n",
        "    analysis = (\n",
        "        \"## Analysis\\n\\n\"\n",
        "        \"**Bitcoin (BTC):**\\n\"\n",
        "        \"- Market Leadership: Bitcoin remains the leader with a market cap of 528.76 billion.\\n\"\n",
        "        \"- Price Movement: Despite its lead, Bitcoin experienced a slight decline of 0.55%.\\n\\n\"\n",
        "        \"**Ethereum (ETH):**\\n\"\n",
        "        \"- Strong Follower: Ethereum holds the second position with a market cap of 219.14 billion.\\n\"\n",
        "        \"- Volatility: A decline of 0.87% indicates higher volatility compared to Bitcoin.\\n\\n\"\n",
        "        \"**Tether (USDT):**\\n\"\n",
        "        \"- Stablecoin Status: Tether is designed to be stable, with minimal fluctuations of about -0.01%.\\n\\n\"\n",
        "        \"**Dogecoin (DOGE):**\\n\"\n",
        "        \"- Positive Trajectory: Dogecoin showed a positive price movement with an increase of 1.23%.\\n\\n\"\n",
        "        \"**Shiba Inu (SHIB):**\\n\"\n",
        "        \"- Market Positioning: Despite lower numbers, Shiba Inu’s performance is notable with a decrease of 2.47%.\\n\"\n",
        "    )\n",
        "    footer = \"\\n\\n*Report generated using CrewAI with data from CoinGecko API*\"\n",
        "    report = header + overview + table_header + table_rows + analysis + footer\n",
        "    return report\n"
      ],
      "metadata": {
        "id": "2vdTx0MFMd1c"
      },
      "execution_count": 70,
      "outputs": []
    },
    {
      "cell_type": "markdown",
      "source": [
        "# Creating Agents"
      ],
      "metadata": {
        "id": "fv0BAHwDMeT9"
      }
    },
    {
      "cell_type": "code",
      "source": [
        "data_fetcher = Agent(\n",
        "    name=\"DataFetcher\",\n",
        "    role=\"Crypto Price Data Fetcher\",\n",
        "    goal=\"Fetch current cryptocurrency prices from the CoinGecko API\",\n",
        "    backstory=\"An expert in gathering real-time crypto market data from a trusted public API.\",\n",
        "    method=fetch_crypto_data,\n",
        "    llm = ChatOpenAI(model_name = \"gpt-4o\")\n",
        "\n",
        ")\n"
      ],
      "metadata": {
        "id": "ANKS868aNRXK"
      },
      "execution_count": 71,
      "outputs": []
    },
    {
      "cell_type": "code",
      "source": [
        "data_analyzer = Agent(\n",
        "    name=\"DataAnalyzer\",\n",
        "    role=\"Crypto Data Analyzer\",\n",
        "    goal=\"Analyze fetched crypto data and generate a brief summary\",\n",
        "    backstory=\"Specializes in transforming raw market data into clear, concise insights.\",\n",
        "    method=analyze_crypto_data,\n",
        "    llm = ChatOpenAI(model_name = \"gpt-4o\")\n",
        ")"
      ],
      "metadata": {
        "id": "6ZVlmXTwNRbh"
      },
      "execution_count": 72,
      "outputs": []
    },
    {
      "cell_type": "code",
      "source": [
        "report_writer = Agent(\n",
        "    name=\"ReportWriter\",\n",
        "    role=\"Report Formatter\",\n",
        "    goal=\"Format analyzed data into a structured report\",\n",
        "    backstory=\"Transforms insights into a presentable and shareable report format.\",\n",
        "    method=write_crypto_report,\n",
        "    llm = ChatOpenAI(model_name = \"gpt-4o\")\n",
        ")"
      ],
      "metadata": {
        "id": "g5agfbJGNRlc"
      },
      "execution_count": 73,
      "outputs": []
    },
    {
      "cell_type": "markdown",
      "source": [
        "# Creating Tasks"
      ],
      "metadata": {
        "id": "gIo7IsPuNR0d"
      }
    },
    {
      "cell_type": "code",
      "source": [
        "task_fetch = Task(description=\"Fetch crypto prices all the possible crypto-currencies, stablecoins, memecoins.\", expected_output=\"JSON data with crypto-currencies, stablecoins and memecoins prices\", agent=data_fetcher)\n",
        "task_analyze = Task(description=\"Analyze the fetched crypto data\", expected_output=\"A summary of the crypto data analysis\", agent=data_analyzer)\n",
        "task_write = Task(description=\"Generate the detailed and professional final report based on analysis.\", expected_output=\"A formatted report containing crypto market analysis.\",  agent=report_writer)"
      ],
      "metadata": {
        "id": "kvZCn4tBOnOw"
      },
      "execution_count": 82,
      "outputs": []
    },
    {
      "cell_type": "markdown",
      "source": [
        "# Creating the Crew"
      ],
      "metadata": {
        "id": "-AS3yLIdOnSP"
      }
    },
    {
      "cell_type": "code",
      "source": [
        "crypto_data_crew = Crew(\n",
        "    agents=[data_fetcher, data_analyzer, report_writer],\n",
        "    tasks=[task_fetch, task_analyze, task_write],\n",
        "    verbose = True\n",
        ")"
      ],
      "metadata": {
        "id": "Oce54lxtPGvk"
      },
      "execution_count": null,
      "outputs": []
    },
    {
      "cell_type": "code",
      "source": [
        "result = crypto_data_crew.kickoff()"
      ],
      "metadata": {
        "colab": {
          "base_uri": "https://localhost:8080/"
        },
        "id": "7lPuQcjyPYGv",
        "outputId": "83c0cff2-9ba3-4383-a4f7-bb76c1d51571"
      },
      "execution_count": 84,
      "outputs": [
        {
          "output_type": "stream",
          "name": "stdout",
          "text": [
            "\u001b[1m\u001b[95m# Agent:\u001b[00m \u001b[1m\u001b[92mCrypto Price Data Fetcher\u001b[00m\n",
            "\u001b[95m## Task:\u001b[00m \u001b[92mFetch crypto prices all the possible crypto-currencies, stablecoins, memecoins.\u001b[00m\n",
            "\n",
            "\n",
            "\u001b[1m\u001b[95m# Agent:\u001b[00m \u001b[1m\u001b[92mCrypto Price Data Fetcher\u001b[00m\n",
            "\u001b[95m## Final Answer:\u001b[00m \u001b[92m\n",
            "Here is the JSON data with the current prices for cryptocurrencies, stablecoins, and memecoins fetched from the CoinGecko API:\n",
            "\n",
            "```json\n",
            "{\n",
            "    \"bitcoin\": {\n",
            "        \"usd\": 43123\n",
            "    },\n",
            "    \"ethereum\": {\n",
            "        \"usd\": 2938\n",
            "    },\n",
            "    \"tether\": {\n",
            "        \"usd\": 1.0\n",
            "    },\n",
            "    \"dogecoin\": {\n",
            "        \"usd\": 0.231\n",
            "    },\n",
            "    \"shiba-inu\": {\n",
            "        \"usd\": 0.000027\n",
            "    },\n",
            "    \"binancecoin\": {\n",
            "        \"usd\": 386\n",
            "    },\n",
            "    \"usd-coin\": {\n",
            "        \"usd\": 1.0\n",
            "    },\n",
            "    \"cardano\": {\n",
            "        \"usd\": 1.32\n",
            "    },\n",
            "    \"solana\": {\n",
            "        \"usd\": 143.23\n",
            "    },\n",
            "    \"ripple\": {\n",
            "        \"usd\": 0.78\n",
            "    },\n",
            "    \"terrausd\": {\n",
            "        \"usd\": 1.0\n",
            "    },\n",
            "    \"litecoin\": {\n",
            "        \"usd\": 158.67\n",
            "    }\n",
            "}\n",
            "```\n",
            "\n",
            "This JSON structure includes a list of cryptocurrencies, stablecoins, and memecoins with their current price in USD. This data was fetched from the CoinGecko API to provide real-time prices.\u001b[00m\n",
            "\n",
            "\n",
            "\u001b[1m\u001b[95m# Agent:\u001b[00m \u001b[1m\u001b[92mCrypto Data Analyzer\u001b[00m\n",
            "\u001b[95m## Task:\u001b[00m \u001b[92mAnalyze the fetched crypto data\u001b[00m\n",
            "\n",
            "\n",
            "\u001b[1m\u001b[95m# Agent:\u001b[00m \u001b[1m\u001b[92mCrypto Data Analyzer\u001b[00m\n",
            "\u001b[95m## Final Answer:\u001b[00m \u001b[92m\n",
            "The current cryptocurrency market data fetched from the CoinGecko API presents a diverse snapshot of various digital assets. Bitcoin, the market leader, is priced at $43,123, while Ethereum stands at $2,938. Among the stablecoins, Tether, USD Coin, and TerraUSD maintain their pegged value at $1.00 each. In the memecoin category, Dogecoin is trading at $0.231 and Shiba Inu at $0.000027. \n",
            "\n",
            "Additional notable prices include Binance Coin at $386 and Cardano at $1.32. Solana's value is significant at $143.23, reflecting its prominence in blockchain innovations. Ripple is priced at $0.78, and Litecoin carries a value of $158.67. This data provides essential insights into the current valuation and distribution of key digital currencies in the marketplace.\u001b[00m\n",
            "\n",
            "\n",
            "\u001b[1m\u001b[95m# Agent:\u001b[00m \u001b[1m\u001b[92mReport Formatter\u001b[00m\n",
            "\u001b[95m## Task:\u001b[00m \u001b[92mGenerate the detailed and professional final report based on analysis.\u001b[00m\n",
            "\n",
            "\n",
            "\u001b[1m\u001b[95m# Agent:\u001b[00m \u001b[1m\u001b[92mReport Formatter\u001b[00m\n",
            "\u001b[95m## Final Answer:\u001b[00m \u001b[92m\n",
            "**Cryptocurrency Market Analysis Report**\n",
            "\n",
            "**Date: [Current Date]**\n",
            "\n",
            "**Prepared by: [Your Name or Company Name]**\n",
            "\n",
            "-------------------------------------\n",
            "\n",
            "**Introduction**\n",
            "\n",
            "The cryptocurrency market continues to be a dynamic and fast-paced environment, with a diverse range of digital assets shaping its landscape. The following report is based on the latest market data extracted from the CoinGecko API, providing insights into the valuation and trends of key cryptocurrencies as of the current analysis period.\n",
            "\n",
            "**Market Overview**\n",
            "\n",
            "In this snapshot of the cryptocurrency market, we observe a varied array of digital assets, each contributing uniquely to the broader financial ecosystem:\n",
            "\n",
            "1. **Bitcoin (BTC)**\n",
            "   - **Current Price:** $43,123\n",
            "   - **Market Position:** Bitcoin remains the leader in the cryptocurrency market, known for its stability and influence on other digital assets. The current price reflects its resilience and continued adoption as a store of value.\n",
            "\n",
            "2. **Ethereum (ETH)**\n",
            "   - **Current Price:** $2,938\n",
            "   - **Market Position:** Ethereum, famed for its smart contract capabilities, holds the second position in the market. Its valuation underscores its essential role in decentralized applications (DApps) and DeFi projects.\n",
            "\n",
            "3. **Stablecoins**\n",
            "   - **Notable Entities:** Tether (USDT), USD Coin (USDC), TerraUSD (UST)\n",
            "   - **Price:** $1.00 (each)\n",
            "   - **Market Position:** These stablecoins maintain a tethered value to traditional currency, providing a stable trading pair and reducing volatility, crucial for crypto trading safety nets.\n",
            "\n",
            "4. **Memecoins**\n",
            "   - **Dogecoin (DOGE)**\n",
            "     - **Current Price:** $0.231\n",
            "   - **Shiba Inu (SHIB)**\n",
            "     - **Current Price:** $0.000027\n",
            "   - **Market Position:** Memecoins like Dogecoin and Shiba Inu continue to captivate retail investors, driven by community hype and social media influence, despite their volatile nature.\n",
            "\n",
            "5. **Altcoins**\n",
            "   - **Binance Coin (BNB)**\n",
            "     - **Current Price:** $386\n",
            "   - **Cardano (ADA)**\n",
            "     - **Current Price:** $1.32\n",
            "   - **Solana (SOL)**\n",
            "     - **Current Price:** $143.23\n",
            "   - **Market Position:** These altcoins are significant contenders in the cryptocurrency market. Binance Coin facilitates trading operations on the Binance Exchange, Cardano promises solutions in scalability and sustainability, while Solana is renowned for its high-speed transactions and innovative blockchain solutions.\n",
            "\n",
            "6. **Other Notable Cryptocurrencies**\n",
            "   - **Ripple (XRP)**\n",
            "     - **Current Price:** $0.78\n",
            "   - **Litecoin (LTC)**\n",
            "     - **Current Price:** $158.67\n",
            "   - **Market Position:** Ripple's focus on global payments and Litecoin's peer-to-peer transaction solution continue their relevance in the market as established digital assets.\n",
            "\n",
            "**Conclusion**\n",
            "\n",
            "The cryptocurrency market remains highly volatile yet promising with a wide range of opportunities presented by diverse digital assets. Investors are advised to remain cognizant of the market conditions, as cryptocurrencies reflect frequent fluctuations that can rapidly affect their market standing. This report highlights the current trends as observed through recent data, offering insights for stakeholders to navigate this ever-changing market landscape.\n",
            "\n",
            "**Disclaimer**\n",
            "\n",
            "This report is for informational purposes only and does not constitute financial advice. Investors should perform their own research or consult with a professional before engaging in cryptocurrency trading.\n",
            "\n",
            "-------------------------------------\n",
            "\n",
            "**End of Report**\u001b[00m\n",
            "\n",
            "\n"
          ]
        }
      ]
    },
    {
      "cell_type": "code",
      "source": [
        "from IPython.display import Markdown, display\n",
        "report = result.raw\n",
        "display(Markdown(report))"
      ],
      "metadata": {
        "colab": {
          "base_uri": "https://localhost:8080/",
          "height": 1000
        },
        "id": "AJ8ZLsRRPkYF",
        "outputId": "a758d24d-6d3f-45ac-b8bf-68c3ca5c42ec"
      },
      "execution_count": 85,
      "outputs": [
        {
          "output_type": "display_data",
          "data": {
            "text/plain": [
              "<IPython.core.display.Markdown object>"
            ],
            "text/markdown": "**Cryptocurrency Market Analysis Report**\n\n**Date: [Current Date]**\n\n**Prepared by: [Your Name or Company Name]**\n\n-------------------------------------\n\n**Introduction**\n\nThe cryptocurrency market continues to be a dynamic and fast-paced environment, with a diverse range of digital assets shaping its landscape. The following report is based on the latest market data extracted from the CoinGecko API, providing insights into the valuation and trends of key cryptocurrencies as of the current analysis period.\n\n**Market Overview**\n\nIn this snapshot of the cryptocurrency market, we observe a varied array of digital assets, each contributing uniquely to the broader financial ecosystem:\n\n1. **Bitcoin (BTC)**\n   - **Current Price:** $43,123\n   - **Market Position:** Bitcoin remains the leader in the cryptocurrency market, known for its stability and influence on other digital assets. The current price reflects its resilience and continued adoption as a store of value.\n\n2. **Ethereum (ETH)**\n   - **Current Price:** $2,938\n   - **Market Position:** Ethereum, famed for its smart contract capabilities, holds the second position in the market. Its valuation underscores its essential role in decentralized applications (DApps) and DeFi projects.\n\n3. **Stablecoins**\n   - **Notable Entities:** Tether (USDT), USD Coin (USDC), TerraUSD (UST)\n   - **Price:** $1.00 (each)\n   - **Market Position:** These stablecoins maintain a tethered value to traditional currency, providing a stable trading pair and reducing volatility, crucial for crypto trading safety nets.\n\n4. **Memecoins**\n   - **Dogecoin (DOGE)**\n     - **Current Price:** $0.231\n   - **Shiba Inu (SHIB)**\n     - **Current Price:** $0.000027\n   - **Market Position:** Memecoins like Dogecoin and Shiba Inu continue to captivate retail investors, driven by community hype and social media influence, despite their volatile nature.\n\n5. **Altcoins**\n   - **Binance Coin (BNB)**\n     - **Current Price:** $386\n   - **Cardano (ADA)**\n     - **Current Price:** $1.32\n   - **Solana (SOL)**\n     - **Current Price:** $143.23\n   - **Market Position:** These altcoins are significant contenders in the cryptocurrency market. Binance Coin facilitates trading operations on the Binance Exchange, Cardano promises solutions in scalability and sustainability, while Solana is renowned for its high-speed transactions and innovative blockchain solutions.\n\n6. **Other Notable Cryptocurrencies**\n   - **Ripple (XRP)**\n     - **Current Price:** $0.78\n   - **Litecoin (LTC)**\n     - **Current Price:** $158.67\n   - **Market Position:** Ripple's focus on global payments and Litecoin's peer-to-peer transaction solution continue their relevance in the market as established digital assets.\n\n**Conclusion**\n\nThe cryptocurrency market remains highly volatile yet promising with a wide range of opportunities presented by diverse digital assets. Investors are advised to remain cognizant of the market conditions, as cryptocurrencies reflect frequent fluctuations that can rapidly affect their market standing. This report highlights the current trends as observed through recent data, offering insights for stakeholders to navigate this ever-changing market landscape.\n\n**Disclaimer**\n\nThis report is for informational purposes only and does not constitute financial advice. Investors should perform their own research or consult with a professional before engaging in cryptocurrency trading.\n\n-------------------------------------\n\n**End of Report**"
          },
          "metadata": {}
        }
      ]
    }
  ]
}