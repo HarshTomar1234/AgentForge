{
  "nbformat": 4,
  "nbformat_minor": 0,
  "metadata": {
    "colab": {
      "provenance": []
    },
    "kernelspec": {
      "name": "python3",
      "display_name": "Python 3"
    },
    "language_info": {
      "name": "python"
    }
  },
  "cells": [
    {
      "cell_type": "code",
      "execution_count": 1,
      "metadata": {
        "colab": {
          "base_uri": "https://localhost:8080/"
        },
        "id": "7dutF_q_KVFu",
        "outputId": "af5cd9d2-8f62-4ad2-f560-a62fd94e6ebf"
      },
      "outputs": [
        {
          "output_type": "stream",
          "name": "stdout",
          "text": [
            "Collecting ag2\n",
            "  Downloading ag2-0.7.4-py3-none-any.whl.metadata (32 kB)\n",
            "Collecting asyncer==0.0.8 (from ag2)\n",
            "  Downloading asyncer-0.0.8-py3-none-any.whl.metadata (6.7 kB)\n",
            "Collecting diskcache (from ag2)\n",
            "  Downloading diskcache-5.6.3-py3-none-any.whl.metadata (20 kB)\n",
            "Collecting docker (from ag2)\n",
            "  Downloading docker-7.1.0-py3-none-any.whl.metadata (3.8 kB)\n",
            "Collecting fast-depends<3,>=2.4.12 (from ag2)\n",
            "  Downloading fast_depends-2.4.12-py3-none-any.whl.metadata (7.6 kB)\n",
            "Requirement already satisfied: numpy in /usr/local/lib/python3.11/dist-packages (from ag2) (1.26.4)\n",
            "Requirement already satisfied: openai>=1.58 in /usr/local/lib/python3.11/dist-packages (from ag2) (1.61.1)\n",
            "Requirement already satisfied: packaging in /usr/local/lib/python3.11/dist-packages (from ag2) (24.2)\n",
            "Requirement already satisfied: pydantic<3,>=2.6.1 in /usr/local/lib/python3.11/dist-packages (from ag2) (2.10.6)\n",
            "Collecting python-dotenv (from ag2)\n",
            "  Downloading python_dotenv-1.0.1-py3-none-any.whl.metadata (23 kB)\n",
            "Requirement already satisfied: termcolor in /usr/local/lib/python3.11/dist-packages (from ag2) (2.5.0)\n",
            "Collecting tiktoken (from ag2)\n",
            "  Downloading tiktoken-0.9.0-cp311-cp311-manylinux_2_17_x86_64.manylinux2014_x86_64.whl.metadata (6.7 kB)\n",
            "Requirement already satisfied: websockets<15,>=14 in /usr/local/lib/python3.11/dist-packages (from ag2) (14.2)\n",
            "Requirement already satisfied: anyio<5.0,>=3.4.0 in /usr/local/lib/python3.11/dist-packages (from asyncer==0.0.8->ag2) (3.7.1)\n",
            "Requirement already satisfied: distro<2,>=1.7.0 in /usr/local/lib/python3.11/dist-packages (from openai>=1.58->ag2) (1.9.0)\n",
            "Requirement already satisfied: httpx<1,>=0.23.0 in /usr/local/lib/python3.11/dist-packages (from openai>=1.58->ag2) (0.28.1)\n",
            "Requirement already satisfied: jiter<1,>=0.4.0 in /usr/local/lib/python3.11/dist-packages (from openai>=1.58->ag2) (0.8.2)\n",
            "Requirement already satisfied: sniffio in /usr/local/lib/python3.11/dist-packages (from openai>=1.58->ag2) (1.3.1)\n",
            "Requirement already satisfied: tqdm>4 in /usr/local/lib/python3.11/dist-packages (from openai>=1.58->ag2) (4.67.1)\n",
            "Requirement already satisfied: typing-extensions<5,>=4.11 in /usr/local/lib/python3.11/dist-packages (from openai>=1.58->ag2) (4.12.2)\n",
            "Requirement already satisfied: annotated-types>=0.6.0 in /usr/local/lib/python3.11/dist-packages (from pydantic<3,>=2.6.1->ag2) (0.7.0)\n",
            "Requirement already satisfied: pydantic-core==2.27.2 in /usr/local/lib/python3.11/dist-packages (from pydantic<3,>=2.6.1->ag2) (2.27.2)\n",
            "Requirement already satisfied: requests>=2.26.0 in /usr/local/lib/python3.11/dist-packages (from docker->ag2) (2.32.3)\n",
            "Requirement already satisfied: urllib3>=1.26.0 in /usr/local/lib/python3.11/dist-packages (from docker->ag2) (2.3.0)\n",
            "Requirement already satisfied: regex>=2022.1.18 in /usr/local/lib/python3.11/dist-packages (from tiktoken->ag2) (2024.11.6)\n",
            "Requirement already satisfied: idna>=2.8 in /usr/local/lib/python3.11/dist-packages (from anyio<5.0,>=3.4.0->asyncer==0.0.8->ag2) (3.10)\n",
            "Requirement already satisfied: certifi in /usr/local/lib/python3.11/dist-packages (from httpx<1,>=0.23.0->openai>=1.58->ag2) (2025.1.31)\n",
            "Requirement already satisfied: httpcore==1.* in /usr/local/lib/python3.11/dist-packages (from httpx<1,>=0.23.0->openai>=1.58->ag2) (1.0.7)\n",
            "Requirement already satisfied: h11<0.15,>=0.13 in /usr/local/lib/python3.11/dist-packages (from httpcore==1.*->httpx<1,>=0.23.0->openai>=1.58->ag2) (0.14.0)\n",
            "Requirement already satisfied: charset-normalizer<4,>=2 in /usr/local/lib/python3.11/dist-packages (from requests>=2.26.0->docker->ag2) (3.4.1)\n",
            "Downloading ag2-0.7.4-py3-none-any.whl (593 kB)\n",
            "\u001b[2K   \u001b[90m━━━━━━━━━━━━━━━━━━━━━━━━━━━━━━━━━━━━━━━━\u001b[0m \u001b[32m593.5/593.5 kB\u001b[0m \u001b[31m6.0 MB/s\u001b[0m eta \u001b[36m0:00:00\u001b[0m\n",
            "\u001b[?25hDownloading asyncer-0.0.8-py3-none-any.whl (9.2 kB)\n",
            "Downloading fast_depends-2.4.12-py3-none-any.whl (17 kB)\n",
            "Downloading diskcache-5.6.3-py3-none-any.whl (45 kB)\n",
            "\u001b[2K   \u001b[90m━━━━━━━━━━━━━━━━━━━━━━━━━━━━━━━━━━━━━━━━\u001b[0m \u001b[32m45.5/45.5 kB\u001b[0m \u001b[31m1.6 MB/s\u001b[0m eta \u001b[36m0:00:00\u001b[0m\n",
            "\u001b[?25hDownloading docker-7.1.0-py3-none-any.whl (147 kB)\n",
            "\u001b[2K   \u001b[90m━━━━━━━━━━━━━━━━━━━━━━━━━━━━━━━━━━━━━━━━\u001b[0m \u001b[32m147.8/147.8 kB\u001b[0m \u001b[31m7.2 MB/s\u001b[0m eta \u001b[36m0:00:00\u001b[0m\n",
            "\u001b[?25hDownloading python_dotenv-1.0.1-py3-none-any.whl (19 kB)\n",
            "Downloading tiktoken-0.9.0-cp311-cp311-manylinux_2_17_x86_64.manylinux2014_x86_64.whl (1.2 MB)\n",
            "\u001b[2K   \u001b[90m━━━━━━━━━━━━━━━━━━━━━━━━━━━━━━━━━━━━━━━━\u001b[0m \u001b[32m1.2/1.2 MB\u001b[0m \u001b[31m20.3 MB/s\u001b[0m eta \u001b[36m0:00:00\u001b[0m\n",
            "\u001b[?25hInstalling collected packages: python-dotenv, diskcache, tiktoken, docker, asyncer, fast-depends, ag2\n",
            "Successfully installed asyncer-0.0.8 diskcache-5.6.3 docker-7.1.0 fast-depends-2.4.12 ag2-0.7.4 python-dotenv-1.0.1 tiktoken-0.9.0\n"
          ]
        }
      ],
      "source": [
        "!pip install ag2"
      ]
    },
    {
      "cell_type": "code",
      "source": [
        "import os\n",
        "from google.colab import userdata\n",
        "\n",
        "os.environ['OPENAI_API_KEY'] = userdata.get('OPENAI_API_KEY')\n",
        "os.environ['GOOGLE_API_KEY'] = userdata.get('GOOGLE_AI_STUDIO')"
      ],
      "metadata": {
        "id": "r_S_GVkpKlSw"
      },
      "execution_count": 2,
      "outputs": []
    },
    {
      "cell_type": "code",
      "source": [
        "import autogen"
      ],
      "metadata": {
        "id": "7Y9gnTENKlfF"
      },
      "execution_count": 4,
      "outputs": []
    },
    {
      "cell_type": "code",
      "source": [
        "llm_config={\"model\": \"gpt-4-turbo\"}\n",
        "# llm_config={\"model\": \"gemini/gemini-2.0-pro-exp-02-05\"}"
      ],
      "metadata": {
        "id": "auPbUEJeKlrv"
      },
      "execution_count": 90,
      "outputs": []
    },
    {
      "cell_type": "markdown",
      "source": [
        "# Creating Agents"
      ],
      "metadata": {
        "id": "WXrw4YBhLZmi"
      }
    },
    {
      "cell_type": "code",
      "source": [
        "from autogen import ConversableAgent"
      ],
      "metadata": {
        "id": "WoTXMxE1LjMn"
      },
      "execution_count": 91,
      "outputs": []
    },
    {
      "cell_type": "code",
      "source": [
        "onboarding_personal_information_agent = ConversableAgent(\n",
        "    name=\"onboarding_personal_information_agent\",\n",
        "    system_message='''You are a helpful customer onboarding agent,\n",
        "    you are here to help new customers get started with our product.\n",
        "    Your job is to gather customer's name and location.\n",
        "    Do not ask for other information. Return 'TERMINATE'\n",
        "    when you have gathered all the information.''',\n",
        "    llm_config=llm_config,\n",
        "    code_execution_config=False,\n",
        "    human_input_mode=\"NEVER\",\n",
        ")"
      ],
      "metadata": {
        "id": "4H8_jv4lLZpz"
      },
      "execution_count": 92,
      "outputs": []
    },
    {
      "cell_type": "code",
      "source": [
        "onboarding_topic_preference_agent = ConversableAgent(\n",
        "    name=\"onboarding_topic_preference_agent\",\n",
        "    system_message='''You are a helpful customer onboarding agent,\n",
        "    you are here to help new customers get started with our product.\n",
        "    Your job is to gather customer's preferences on news topics.\n",
        "    Do not ask for other information.\n",
        "    Return 'TERMINATE' when you have gathered all the information.''',\n",
        "    llm_config=llm_config,\n",
        "    code_execution_config=False,\n",
        "    human_input_mode=\"NEVER\",\n",
        ")"
      ],
      "metadata": {
        "id": "nEK_opAKLZwv"
      },
      "execution_count": 93,
      "outputs": []
    },
    {
      "cell_type": "code",
      "source": [
        "customer_engagement_agent = ConversableAgent(\n",
        "    name=\"customer_engagement_agent\",\n",
        "    system_message='''You are a helpful customer service agent\n",
        "    here to provide fun for the customer based on the user's\n",
        "    personal information and topic preferences.\n",
        "    This could include fun facts, jokes, or interesting stories.\n",
        "    Make sure to make it engaging and fun!\n",
        "    Return 'TERMINATE' when you are done.''',\n",
        "    llm_config=llm_config,\n",
        "    code_execution_config=False,\n",
        "    human_input_mode=\"NEVER\",\n",
        "    is_termination_msg=lambda msg: \"terminate\" in msg.get(\"content\").lower(),\n",
        ")"
      ],
      "metadata": {
        "id": "XR5pF-YFLZ0Q"
      },
      "execution_count": 94,
      "outputs": []
    },
    {
      "cell_type": "code",
      "source": [
        "customer_proxy_agent = ConversableAgent(\n",
        "    name=\"customer_proxy_agent\",\n",
        "    llm_config=False,\n",
        "    code_execution_config=False,\n",
        "    human_input_mode=\"ALWAYS\",\n",
        "    is_termination_msg=lambda msg: \"terminate\" in msg.get(\"content\").lower(),\n",
        ")"
      ],
      "metadata": {
        "id": "2suJsijoLuVX"
      },
      "execution_count": 95,
      "outputs": []
    },
    {
      "cell_type": "markdown",
      "source": [
        "# Creating Tasks"
      ],
      "metadata": {
        "id": "EjzUngieLxoU"
      }
    },
    {
      "cell_type": "code",
      "source": [
        "chats = [\n",
        "    {\n",
        "        \"sender\": onboarding_personal_information_agent,\n",
        "        \"recipient\": customer_proxy_agent,\n",
        "        \"message\":\n",
        "            \"Hello, I'm here to help you get started with our product.\"\n",
        "            \"Could you tell me your name and location?\",\n",
        "        \"summary_method\": \"reflection_with_llm\",\n",
        "        \"summary_args\": {\n",
        "            \"summary_prompt\" : \"Return the customer information \"\n",
        "                             \"into as JSON object only: \"\n",
        "                             \"{'name': '', 'location': ''}\",\n",
        "        },\n",
        "        \"max_turns\": 2,\n",
        "        \"clear_history\" : True\n",
        "    },\n",
        "    {\n",
        "        \"sender\": onboarding_topic_preference_agent,\n",
        "        \"recipient\": customer_proxy_agent,\n",
        "        \"message\":\n",
        "                \"Great! Could you tell me what topics you are \"\n",
        "                \"interested in reading about?\",\n",
        "        \"summary_method\": \"reflection_with_llm\",\n",
        "        \"max_turns\": 1,\n",
        "        \"clear_history\" : False\n",
        "    },\n",
        "    {\n",
        "        \"sender\": customer_proxy_agent,\n",
        "        \"recipient\": customer_engagement_agent,\n",
        "        \"message\": \"Let's find something fun to read.\",\n",
        "        \"max_turns\": 1,\n",
        "        \"summary_method\": \"reflection_with_llm\",\n",
        "    },\n",
        "]"
      ],
      "metadata": {
        "id": "FaPQZJEYLxt3"
      },
      "execution_count": 96,
      "outputs": []
    },
    {
      "cell_type": "markdown",
      "source": [
        "# Starting the Onboarding Process...."
      ],
      "metadata": {
        "id": "5sWeKeSvL-5N"
      }
    },
    {
      "cell_type": "code",
      "source": [
        "from autogen import initiate_chats\n",
        "\n",
        "chat_results = initiate_chats(chats)"
      ],
      "metadata": {
        "colab": {
          "base_uri": "https://localhost:8080/"
        },
        "id": "Jvs79zvPLxxT",
        "outputId": "25f140e5-056d-484a-9700-cf17b402b57b"
      },
      "execution_count": 98,
      "outputs": [
        {
          "output_type": "stream",
          "name": "stdout",
          "text": [
            "\n",
            "********************************************************************************\n",
            "Starting a new chat....\n",
            "\n",
            "********************************************************************************\n",
            "onboarding_personal_information_agent (to customer_proxy_agent):\n",
            "\n",
            "Hello, I'm here to help you get started with our product.Could you tell me your name and location?\n",
            "\n",
            "--------------------------------------------------------------------------------\n",
            "Replying as customer_proxy_agent. Provide feedback to onboarding_personal_information_agent. Press enter to skip and use auto-reply, or type 'exit' to end the conversation: Vanessa\n",
            "customer_proxy_agent (to onboarding_personal_information_agent):\n",
            "\n",
            "Vanessa\n",
            "\n",
            "--------------------------------------------------------------------------------\n",
            "onboarding_personal_information_agent (to customer_proxy_agent):\n",
            "\n",
            "Thank you, Vanessa. Could you also provide your location?\n",
            "\n",
            "--------------------------------------------------------------------------------\n",
            "Replying as customer_proxy_agent. Provide feedback to onboarding_personal_information_agent. Press enter to skip and use auto-reply, or type 'exit' to end the conversation: Madrid\n",
            "customer_proxy_agent (to onboarding_personal_information_agent):\n",
            "\n",
            "Madrid\n",
            "\n",
            "--------------------------------------------------------------------------------\n",
            "\n",
            "********************************************************************************\n",
            "Starting a new chat....\n",
            "\n",
            "********************************************************************************\n",
            "onboarding_topic_preference_agent (to customer_proxy_agent):\n",
            "\n",
            "Great! Could you tell me what topics you are interested in reading about?\n",
            "Context: \n",
            "{\n",
            "  \"name\": \"Vanessa\",\n",
            "  \"location\": \"Madrid\"\n",
            "}\n",
            "\n",
            "--------------------------------------------------------------------------------\n",
            "Replying as customer_proxy_agent. Provide feedback to onboarding_topic_preference_agent. Press enter to skip and use auto-reply, or type 'exit' to end the conversation: Top Beautiful Destination wedding locations in the world\n",
            "customer_proxy_agent (to onboarding_topic_preference_agent):\n",
            "\n",
            "Top Beautiful Destination wedding locations in the world\n",
            "\n",
            "--------------------------------------------------------------------------------\n",
            "\n",
            "********************************************************************************\n",
            "Starting a new chat....\n",
            "\n",
            "********************************************************************************\n",
            "customer_proxy_agent (to customer_engagement_agent):\n",
            "\n",
            "Let's find something fun to read.\n",
            "Context: \n",
            "{\n",
            "  \"name\": \"Vanessa\",\n",
            "  \"location\": \"Madrid\"\n",
            "}\n",
            "Vanessa is interested in reading about top beautiful destination wedding locations in the world.\n",
            "\n",
            "--------------------------------------------------------------------------------\n",
            "customer_engagement_agent (to customer_proxy_agent):\n",
            "\n",
            "Hello Vanessa! Planning a destination wedding, or just dreaming about one? Either way, exploring the most beautiful locations for a wedding around the world can be a thrilling adventure. Here are some exquisite spots that combine romance and stunning scenery:\n",
            "\n",
            "1. **Santorini, Greece** - Famous for its breathtaking sunsets and pristine white buildings with blue domes, Santorini offers a picturesque backdrop for any wedding. Exchange vows overlooking the Aegean Sea and soak in the vibrant culture of this Greek paradise.\n",
            "\n",
            "2. **Tuscany, Italy** - Imagine saying \"I do\" among rolling vineyards and historic estates. Tuscany is renowned for its rustic charm, incredible landscapes, and world-class wine. A wedding here can be as enchanting as the scenery.\n",
            "\n",
            "3. **Maui, Hawaii** - With its golden beaches, tropical gardens, and the aloha spirit, Maui provides a serene setting for a beach wedding. The island’s natural beauty will surely add a magical touch to your special day.\n",
            "\n",
            "4. **Jaipur, India** - For a truly royal experience, consider the palaces of Jaipur. Rich in history and culture, these majestic venues offer an opulent and colorful setting for a memorable wedding.\n",
            "\n",
            "5. **Lake Como, Italy** - Known for its sophisticated charm and dramatic views, Lake Como is a favorite among celebrities. Get married in a lakeside villa with panoramic views of the lush mountains.\n",
            "\n",
            "6. **Bora Bora, French Polynesia** - If an intimate beach wedding is your dream, Bora Bora’s turquoise waters and luxurious overwater bungalows create a perfect romantic retreat.\n",
            "\n",
            "7. **Ibiza, Spain** - Closer to home, Ibiza isn't just for party lovers. Its hidden coves and stunning sunsets make it a gorgeous, albeit unexpected, setting for a wedding.\n",
            "\n",
            "Each location offers its own unique charm and possibilities for creating unforgettable memories. Whether you prefer a tranquil beach ceremony, a lavish palace event, or a cozy vineyard gathering, these destinations are sure to inspire. Enjoy dreaming about or planning your perfect destination wedding, Vanessa!\n",
            "\n",
            "If you want more details or have another topic in mind, just let me know!\n",
            "\n",
            "--------------------------------------------------------------------------------\n"
          ]
        }
      ]
    },
    {
      "cell_type": "markdown",
      "source": [
        "# Printing out the Summary"
      ],
      "metadata": {
        "id": "ZWFWCkAmPe6U"
      }
    },
    {
      "cell_type": "code",
      "source": [
        "for chat_result in chat_results:\n",
        "    print(chat_result.summary)\n",
        "    print(\"\\n\")"
      ],
      "metadata": {
        "colab": {
          "base_uri": "https://localhost:8080/"
        },
        "id": "ScAfEuC7PfGU",
        "outputId": "df38bc8f-3113-4975-f186-25c87007f910"
      },
      "execution_count": 99,
      "outputs": [
        {
          "output_type": "stream",
          "name": "stdout",
          "text": [
            "{\n",
            "  \"name\": \"Vanessa\",\n",
            "  \"location\": \"Madrid\"\n",
            "}\n",
            "\n",
            "\n",
            "Vanessa is interested in reading about top beautiful destination wedding locations in the world.\n",
            "\n",
            "\n",
            "Vanessa expressed interest in reading about top beautiful destination wedding locations around the world. Recommended destinations included Santorini, Tuscany, Maui, Jaipur, Lake Como, Bora Bora, and Ibiza, detailing each location's unique appeal. Vanessa may be planning or dreaming of a destination wedding.\n",
            "\n",
            "\n"
          ]
        }
      ]
    },
    {
      "cell_type": "code",
      "source": [],
      "metadata": {
        "id": "T5LctYWHPo7z"
      },
      "execution_count": null,
      "outputs": []
    },
    {
      "cell_type": "markdown",
      "source": [
        "# Printing out the cost"
      ],
      "metadata": {
        "id": "IfdBJ4-RPpRP"
      }
    },
    {
      "cell_type": "code",
      "source": [
        "for chat_result in chat_results:\n",
        "    print(chat_result.cost)\n",
        "    print(\"\\n\")"
      ],
      "metadata": {
        "colab": {
          "base_uri": "https://localhost:8080/"
        },
        "id": "gj6nvelgPsl9",
        "outputId": "4490a707-8d7b-43ce-9d6e-c798dbd00056"
      },
      "execution_count": 100,
      "outputs": [
        {
          "output_type": "stream",
          "name": "stdout",
          "text": [
            "{'usage_including_cached_inference': {'total_cost': 0.00303, 'gpt-4-turbo-2024-04-09': {'cost': 0.00303, 'prompt_tokens': 207, 'completion_tokens': 32, 'total_tokens': 239}}, 'usage_excluding_cached_inference': {'total_cost': 0.00303, 'gpt-4-turbo-2024-04-09': {'cost': 0.00303, 'prompt_tokens': 207, 'completion_tokens': 32, 'total_tokens': 239}}}\n",
            "\n",
            "\n",
            "{'usage_including_cached_inference': {'total_cost': 0.00135, 'gpt-4-turbo-2024-04-09': {'cost': 0.00135, 'prompt_tokens': 84, 'completion_tokens': 17, 'total_tokens': 101}}, 'usage_excluding_cached_inference': {'total_cost': 0.00135, 'gpt-4-turbo-2024-04-09': {'cost': 0.00135, 'prompt_tokens': 84, 'completion_tokens': 17, 'total_tokens': 101}}}\n",
            "\n",
            "\n",
            "{'usage_including_cached_inference': {'total_cost': 0.02189, 'gpt-4-turbo-2024-04-09': {'cost': 0.02189, 'prompt_tokens': 656, 'completion_tokens': 511, 'total_tokens': 1167}}, 'usage_excluding_cached_inference': {'total_cost': 0.02189, 'gpt-4-turbo-2024-04-09': {'cost': 0.02189, 'prompt_tokens': 656, 'completion_tokens': 511, 'total_tokens': 1167}}}\n",
            "\n",
            "\n"
          ]
        }
      ]
    }
  ]
}