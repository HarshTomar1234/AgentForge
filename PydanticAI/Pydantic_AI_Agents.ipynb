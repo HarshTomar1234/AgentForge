{
  "nbformat": 4,
  "nbformat_minor": 0,
  "metadata": {
    "colab": {
      "provenance": []
    },
    "kernelspec": {
      "name": "python3",
      "display_name": "Python 3"
    },
    "language_info": {
      "name": "python"
    },
    "widgets": {
      "application/vnd.jupyter.widget-state+json": {
        "559af875231b4398a5ef8ae6549ebfd9": {
          "model_module": "@jupyter-widgets/output",
          "model_name": "OutputModel",
          "model_module_version": "1.0.0",
          "state": {
            "_dom_classes": [],
            "_model_module": "@jupyter-widgets/output",
            "_model_module_version": "1.0.0",
            "_model_name": "OutputModel",
            "_view_count": null,
            "_view_module": "@jupyter-widgets/output",
            "_view_module_version": "1.0.0",
            "_view_name": "OutputView",
            "layout": "IPY_MODEL_d04c05845a9e4b48b1c8babddafced4e",
            "msg_id": "",
            "outputs": [
              {
                "output_type": "display_data",
                "data": {
                  "text/plain": "This example demonstrates a simple Pydantic model for a user, validating data against a defined schema:            \n\n\u001b[2mpython\u001b[0m\n\u001b[38;2;255;70;137;40mfrom\u001b[0m\u001b[38;2;248;248;242;40m \u001b[0m\u001b[38;2;248;248;242;40mpydantic\u001b[0m\u001b[38;2;248;248;242;40m \u001b[0m\u001b[38;2;255;70;137;40mimport\u001b[0m\u001b[38;2;248;248;242;40m \u001b[0m\u001b[38;2;248;248;242;40mBaseModel\u001b[0m\u001b[38;2;248;248;242;40m,\u001b[0m\u001b[38;2;248;248;242;40m \u001b[0m\u001b[38;2;248;248;242;40mValidationError\u001b[0m\u001b[40m                                                                    \u001b[0m\n\u001b[40m                                                                                                                   \u001b[0m\n\u001b[38;2;102;217;239;40mclass\u001b[0m\u001b[38;2;248;248;242;40m \u001b[0m\u001b[38;2;166;226;46;40mUser\u001b[0m\u001b[38;2;248;248;242;40m(\u001b[0m\u001b[38;2;248;248;242;40mBaseModel\u001b[0m\u001b[38;2;248;248;242;40m)\u001b[0m\u001b[38;2;248;248;242;40m:\u001b[0m\u001b[40m                                                                                             \u001b[0m\n\u001b[38;2;248;248;242;40m    \u001b[0m\u001b[38;2;248;248;242;40mid\u001b[0m\u001b[38;2;248;248;242;40m:\u001b[0m\u001b[38;2;248;248;242;40m \u001b[0m\u001b[38;2;248;248;242;40mint\u001b[0m\u001b[40m                                                                                                        \u001b[0m\n\u001b[38;2;248;248;242;40m    \u001b[0m\u001b[38;2;248;248;242;40mname\u001b[0m\u001b[38;2;248;248;242;40m:\u001b[0m\u001b[38;2;248;248;242;40m \u001b[0m\u001b[38;2;248;248;242;40mstr\u001b[0m\u001b[40m                                                                                                      \u001b[0m\n\u001b[38;2;248;248;242;40m    \u001b[0m\u001b[38;2;248;248;242;40msignup_ts\u001b[0m\u001b[38;2;248;248;242;40m:\u001b[0m\u001b[38;2;248;248;242;40m \u001b[0m\u001b[38;2;248;248;242;40mdatetime\u001b[0m\u001b[38;2;248;248;242;40m \u001b[0m\u001b[38;2;255;70;137;40m=\u001b[0m\u001b[38;2;248;248;242;40m \u001b[0m\u001b[38;2;102;217;239;40mNone\u001b[0m\u001b[38;2;248;248;242;40m  \u001b[0m\u001b[38;2;149;144;119;40m# Optional field with default value\u001b[0m\u001b[40m                                                \u001b[0m\n\u001b[40m                                                                                                                   \u001b[0m\n\u001b[40m                                                                                                                   \u001b[0m\n\u001b[38;2;149;144;119;40m# Valid data\u001b[0m\u001b[40m                                                                                                       \u001b[0m\n\u001b[38;2;248;248;242;40mvalid_user_data\u001b[0m\u001b[38;2;248;248;242;40m \u001b[0m\u001b[38;2;255;70;137;40m=\u001b[0m\u001b[38;2;248;248;242;40m \u001b[0m\u001b[38;2;248;248;242;40m{\u001b[0m\u001b[40m                                                                                                \u001b[0m\n\u001b[38;2;248;248;242;40m    \u001b[0m\u001b[38;2;230;219;116;40m\"\u001b[0m\u001b[38;2;230;219;116;40mid\u001b[0m\u001b[38;2;230;219;116;40m\"\u001b[0m\u001b[38;2;248;248;242;40m:\u001b[0m\u001b[38;2;248;248;242;40m \u001b[0m\u001b[38;2;174;129;255;40m123\u001b[0m\u001b[38;2;248;248;242;40m,\u001b[0m\u001b[40m                                                                                                     \u001b[0m\n\u001b[38;2;248;248;242;40m    \u001b[0m\u001b[38;2;230;219;116;40m\"\u001b[0m\u001b[38;2;230;219;116;40mname\u001b[0m\u001b[38;2;230;219;116;40m\"\u001b[0m\u001b[38;2;248;248;242;40m:\u001b[0m\u001b[38;2;248;248;242;40m \u001b[0m\u001b[38;2;230;219;116;40m\"\u001b[0m\u001b[38;2;230;219;116;40mJohn Doe\u001b[0m\u001b[38;2;230;219;116;40m\"\u001b[0m\u001b[38;2;248;248;242;40m,\u001b[0m\u001b[40m                                                                                            \u001b[0m\n\u001b[38;2;248;248;242;40m}\u001b[0m\u001b[40m                                                                                                                  \u001b[0m\n\u001b[40m                                                                                                                   \u001b[0m\n\u001b[38;2;102;217;239;40mtry\u001b[0m\u001b[38;2;248;248;242;40m:\u001b[0m\u001b[40m                                                                                                               \u001b[0m\n\u001b[38;2;248;248;242;40m    \u001b[0m\u001b[38;2;248;248;242;40muser\u001b[0m\u001b[38;2;248;248;242;40m \u001b[0m\u001b[38;2;255;70;137;40m=\u001b[0m\u001b[38;2;248;248;242;40m \u001b[0m\u001b[38;2;248;248;242;40mUser\u001b[0m\u001b[38;2;248;248;242;40m(\u001b[0m\u001b[38;2;255;70;137;40m*\u001b[0m\u001b[38;2;255;70;137;40m*\u001b[0m\u001b[38;2;248;248;242;40mvalid_user_data\u001b[0m\u001b[38;2;248;248;242;40m)\u001b[0m\u001b[40m                                                                                 \u001b[0m\n\u001b[38;2;248;248;242;40m    \u001b[0m\u001b[38;2;248;248;242;40mprint\u001b[0m\u001b[38;2;248;248;242;40m(\u001b[0m\u001b[38;2;230;219;116;40mf\u001b[0m\u001b[38;2;230;219;116;40m\"\u001b[0m\u001b[38;2;230;219;116;40mValid user: \u001b[0m\u001b[38;2;230;219;116;40m{\u001b[0m\u001b[38;2;248;248;242;40muser\u001b[0m\u001b[38;2;230;219;116;40m}\u001b[0m\u001b[38;2;230;219;116;40m\"\u001b[0m\u001b[38;2;248;248;242;40m)\u001b[0m\u001b[40m                                                                                   \u001b[0m\n\u001b[38;2;102;217;239;40mexcept\u001b[0m\u001b[38;2;248;248;242;40m \u001b[0m\u001b[38;2;248;248;242;40mValidationError\u001b[0m\u001b[38;2;248;248;242;40m \u001b[0m\u001b[38;2;102;217;239;40mas\u001b[0m\u001b[38;2;248;248;242;40m \u001b[0m\u001b[38;2;248;248;242;40me\u001b[0m\u001b[38;2;248;248;242;40m:\u001b[0m\u001b[40m                                                                                       \u001b[0m\n\u001b[38;2;248;248;242;40m    \u001b[0m\u001b[38;2;248;248;242;40mprint\u001b[0m\u001b[38;2;248;248;242;40m(\u001b[0m\u001b[38;2;230;219;116;40mf\u001b[0m\u001b[38;2;230;219;116;40m\"\u001b[0m\u001b[38;2;230;219;116;40mValidation error: \u001b[0m\u001b[38;2;230;219;116;40m{\u001b[0m\u001b[38;2;248;248;242;40me\u001b[0m\u001b[38;2;230;219;116;40m}\u001b[0m\u001b[38;2;230;219;116;40m\"\u001b[0m\u001b[38;2;248;248;242;40m)\u001b[0m\u001b[40m                                                                                \u001b[0m\n\u001b[40m                                                                                                                   \u001b[0m\n\u001b[40m                                                                                                                   \u001b[0m\n\u001b[38;2;149;144;119;40m# Invalid data - missing required field\u001b[0m\u001b[40m                                                                            \u001b[0m\n\u001b[38;2;248;248;242;40minvalid_user_data\u001b[0m\u001b[38;2;248;248;242;40m \u001b[0m\u001b[38;2;255;70;137;40m=\u001b[0m\u001b[38;2;248;248;242;40m \u001b[0m\u001b[38;2;248;248;242;40m{\u001b[0m\u001b[40m                                                                                              \u001b[0m\n\u001b[38;2;248;248;242;40m    \u001b[0m\u001b[38;2;230;219;116;40m\"\u001b[0m\u001b[38;2;230;219;116;40mname\u001b[0m\u001b[38;2;230;219;116;40m\"\u001b[0m\u001b[38;2;248;248;242;40m:\u001b[0m\u001b[38;2;248;248;242;40m \u001b[0m\u001b[38;2;230;219;116;40m\"\u001b[0m\u001b[38;2;230;219;116;40mJane Doe\u001b[0m\u001b[38;2;230;219;116;40m\"\u001b[0m\u001b[38;2;248;248;242;40m,\u001b[0m\u001b[40m                                                                                            \u001b[0m\n\u001b[38;2;248;248;242;40m}\u001b[0m\u001b[40m                                                                                                                  \u001b[0m\n\u001b[40m                                                                                                                   \u001b[0m\n\u001b[38;2;102;217;239;40mtry\u001b[0m\u001b[38;2;248;248;242;40m:\u001b[0m\u001b[40m                                                                                                               \u001b[0m\n\u001b[38;2;248;248;242;40m    \u001b[0m\u001b[38;2;248;248;242;40muser\u001b[0m\u001b[38;2;248;248;242;40m \u001b[0m\u001b[38;2;255;70;137;40m=\u001b[0m\u001b[38;2;248;248;242;40m \u001b[0m\u001b[38;2;248;248;242;40mUser\u001b[0m\u001b[38;2;248;248;242;40m(\u001b[0m\u001b[38;2;255;70;137;40m*\u001b[0m\u001b[38;2;255;70;137;40m*\u001b[0m\u001b[38;2;248;248;242;40minvalid_user_data\u001b[0m\u001b[38;2;248;248;242;40m)\u001b[0m\u001b[40m                                                                               \u001b[0m\n\u001b[38;2;248;248;242;40m    \u001b[0m\u001b[38;2;248;248;242;40mprint\u001b[0m\u001b[38;2;248;248;242;40m(\u001b[0m\u001b[38;2;230;219;116;40mf\u001b[0m\u001b[38;2;230;219;116;40m\"\u001b[0m\u001b[38;2;230;219;116;40mValid user: \u001b[0m\u001b[38;2;230;219;116;40m{\u001b[0m\u001b[38;2;248;248;242;40muser\u001b[0m\u001b[38;2;230;219;116;40m}\u001b[0m\u001b[38;2;230;219;116;40m\"\u001b[0m\u001b[38;2;248;248;242;40m)\u001b[0m\u001b[40m                                                                                   \u001b[0m\n\u001b[38;2;102;217;239;40mexcept\u001b[0m\u001b[38;2;248;248;242;40m \u001b[0m\u001b[38;2;248;248;242;40mValidationError\u001b[0m\u001b[38;2;248;248;242;40m \u001b[0m\u001b[38;2;102;217;239;40mas\u001b[0m\u001b[38;2;248;248;242;40m \u001b[0m\u001b[38;2;248;248;242;40me\u001b[0m\u001b[38;2;248;248;242;40m:\u001b[0m\u001b[40m                                                                                       \u001b[0m\n\u001b[38;2;248;248;242;40m    \u001b[0m\u001b[38;2;248;248;242;40mprint\u001b[0m\u001b[38;2;248;248;242;40m(\u001b[0m\u001b[38;2;230;219;116;40mf\u001b[0m\u001b[38;2;230;219;116;40m\"\u001b[0m\u001b[38;2;230;219;116;40mValidation error: \u001b[0m\u001b[38;2;230;219;116;40m{\u001b[0m\u001b[38;2;248;248;242;40me\u001b[0m\u001b[38;2;230;219;116;40m}\u001b[0m\u001b[38;2;230;219;116;40m\"\u001b[0m\u001b[38;2;248;248;242;40m)\u001b[0m\u001b[40m                                                                                \u001b[0m\n\u001b[40m                                                                                                                   \u001b[0m\n\u001b[38;2;149;144;119;40m#Invalid Data - wrong data type\u001b[0m\u001b[40m                                                                                    \u001b[0m\n\u001b[38;2;248;248;242;40minvalid_user_data_2\u001b[0m\u001b[38;2;248;248;242;40m \u001b[0m\u001b[38;2;255;70;137;40m=\u001b[0m\u001b[38;2;248;248;242;40m \u001b[0m\u001b[38;2;248;248;242;40m{\u001b[0m\u001b[40m                                                                                            \u001b[0m\n\u001b[38;2;248;248;242;40m    \u001b[0m\u001b[38;2;230;219;116;40m\"\u001b[0m\u001b[38;2;230;219;116;40mid\u001b[0m\u001b[38;2;230;219;116;40m\"\u001b[0m\u001b[38;2;248;248;242;40m:\u001b[0m\u001b[38;2;248;248;242;40m \u001b[0m\u001b[38;2;230;219;116;40m\"\u001b[0m\u001b[38;2;230;219;116;40mabc\u001b[0m\u001b[38;2;230;219;116;40m\"\u001b[0m\u001b[38;2;248;248;242;40m,\u001b[0m\u001b[40m                                                                                                   \u001b[0m\n\u001b[38;2;248;248;242;40m    \u001b[0m\u001b[38;2;230;219;116;40m\"\u001b[0m\u001b[38;2;230;219;116;40mname\u001b[0m\u001b[38;2;230;219;116;40m\"\u001b[0m\u001b[38;2;248;248;242;40m:\u001b[0m\u001b[38;2;248;248;242;40m \u001b[0m\u001b[38;2;230;219;116;40m\"\u001b[0m\u001b[38;2;230;219;116;40mJane Doe\u001b[0m\u001b[38;2;230;219;116;40m\"\u001b[0m\u001b[38;2;248;248;242;40m,\u001b[0m\u001b[40m                                                                                            \u001b[0m\n\u001b[38;2;248;248;242;40m}\u001b[0m\u001b[40m                                                                                                                  \u001b[0m\n\u001b[40m                                                                                                                   \u001b[0m\n\u001b[38;2;102;217;239;40mtry\u001b[0m\u001b[38;2;248;248;242;40m:\u001b[0m\u001b[40m                                                                                                               \u001b[0m\n\u001b[38;2;248;248;242;40m    \u001b[0m\u001b[38;2;248;248;242;40muser\u001b[0m\u001b[38;2;248;248;242;40m \u001b[0m\u001b[38;2;255;70;137;40m=\u001b[0m\u001b[38;2;248;248;242;40m \u001b[0m\u001b[38;2;248;248;242;40mUser\u001b[0m\u001b[38;2;248;248;242;40m(\u001b[0m\u001b[38;2;255;70;137;40m*\u001b[0m\u001b[38;2;255;70;137;40m*\u001b[0m\u001b[38;2;248;248;242;40minvalid_user_data_2\u001b[0m\u001b[38;2;248;248;242;40m)\u001b[0m\u001b[40m                                                                             \u001b[0m\n\u001b[38;2;248;248;242;40m    \u001b[0m\u001b[38;2;248;248;242;40mprint\u001b[0m\u001b[38;2;248;248;242;40m(\u001b[0m\u001b[38;2;230;219;116;40mf\u001b[0m\u001b[38;2;230;219;116;40m\"\u001b[0m\u001b[38;2;230;219;116;40mValid user: \u001b[0m\u001b[38;2;230;219;116;40m{\u001b[0m\u001b[38;2;248;248;242;40muser\u001b[0m\u001b[38;2;230;219;116;40m}\u001b[0m\u001b[38;2;230;219;116;40m\"\u001b[0m\u001b[38;2;248;248;242;40m)\u001b[0m\u001b[40m                                                                                   \u001b[0m\n\u001b[38;2;102;217;239;40mexcept\u001b[0m\u001b[38;2;248;248;242;40m \u001b[0m\u001b[38;2;248;248;242;40mValidationError\u001b[0m\u001b[38;2;248;248;242;40m \u001b[0m\u001b[38;2;102;217;239;40mas\u001b[0m\u001b[38;2;248;248;242;40m \u001b[0m\u001b[38;2;248;248;242;40me\u001b[0m\u001b[38;2;248;248;242;40m:\u001b[0m\u001b[40m                                                                                       \u001b[0m\n\u001b[38;2;248;248;242;40m    \u001b[0m\u001b[38;2;248;248;242;40mprint\u001b[0m\u001b[38;2;248;248;242;40m(\u001b[0m\u001b[38;2;230;219;116;40mf\u001b[0m\u001b[38;2;230;219;116;40m\"\u001b[0m\u001b[38;2;230;219;116;40mValidation error: \u001b[0m\u001b[38;2;230;219;116;40m{\u001b[0m\u001b[38;2;248;248;242;40me\u001b[0m\u001b[38;2;230;219;116;40m}\u001b[0m\u001b[38;2;230;219;116;40m\"\u001b[0m\u001b[38;2;248;248;242;40m)\u001b[0m\u001b[40m                                                                                \u001b[0m\n\u001b[40m                                                                                                                   \u001b[0m\n\u001b[38;2;255;70;137;40mfrom\u001b[0m\u001b[38;2;248;248;242;40m \u001b[0m\u001b[38;2;248;248;242;40mdatetime\u001b[0m\u001b[38;2;248;248;242;40m \u001b[0m\u001b[38;2;255;70;137;40mimport\u001b[0m\u001b[38;2;248;248;242;40m \u001b[0m\u001b[38;2;248;248;242;40mdatetime\u001b[0m\u001b[40m                                                                                      \u001b[0m\n\u001b[38;2;149;144;119;40m#Valid Data with optional field\u001b[0m\u001b[40m                                                                                    \u001b[0m\n\u001b[38;2;248;248;242;40mvalid_user_data_2\u001b[0m\u001b[38;2;248;248;242;40m \u001b[0m\u001b[38;2;255;70;137;40m=\u001b[0m\u001b[38;2;248;248;242;40m \u001b[0m\u001b[38;2;248;248;242;40m{\u001b[0m\u001b[40m                                                                                              \u001b[0m\n\u001b[38;2;248;248;242;40m    \u001b[0m\u001b[38;2;230;219;116;40m\"\u001b[0m\u001b[38;2;230;219;116;40mid\u001b[0m\u001b[38;2;230;219;116;40m\"\u001b[0m\u001b[38;2;248;248;242;40m:\u001b[0m\u001b[38;2;248;248;242;40m \u001b[0m\u001b[38;2;174;129;255;40m456\u001b[0m\u001b[38;2;248;248;242;40m,\u001b[0m\u001b[40m                                                                                                     \u001b[0m\n\u001b[38;2;248;248;242;40m    \u001b[0m\u001b[38;2;230;219;116;40m\"\u001b[0m\u001b[38;2;230;219;116;40mname\u001b[0m\u001b[38;2;230;219;116;40m\"\u001b[0m\u001b[38;2;248;248;242;40m:\u001b[0m\u001b[38;2;248;248;242;40m \u001b[0m\u001b[38;2;230;219;116;40m\"\u001b[0m\u001b[38;2;230;219;116;40mPeter Pan\u001b[0m\u001b[38;2;230;219;116;40m\"\u001b[0m\u001b[38;2;248;248;242;40m,\u001b[0m\u001b[40m                                                                                           \u001b[0m\n\u001b[38;2;248;248;242;40m    \u001b[0m\u001b[38;2;230;219;116;40m\"\u001b[0m\u001b[38;2;230;219;116;40msignup_ts\u001b[0m\u001b[38;2;230;219;116;40m\"\u001b[0m\u001b[38;2;248;248;242;40m:\u001b[0m\u001b[38;2;248;248;242;40m \u001b[0m\u001b[38;2;248;248;242;40mdatetime\u001b[0m\u001b[38;2;255;70;137;40m.\u001b[0m\u001b[38;2;248;248;242;40mnow\u001b[0m\u001b[38;2;248;248;242;40m(\u001b[0m\u001b[38;2;248;248;242;40m)\u001b[0m\u001b[40m                                                                                    \u001b[0m\n\u001b[38;2;248;248;242;40m}\u001b[0m\u001b[40m                                                                                                                  \u001b[0m\n\u001b[40m                                                                                                                   \u001b[0m\n\u001b[38;2;102;217;239;40mtry\u001b[0m\u001b[38;2;248;248;242;40m:\u001b[0m\u001b[40m                                                                                                               \u001b[0m\n\u001b[38;2;248;248;242;40m    \u001b[0m\u001b[38;2;248;248;242;40muser\u001b[0m\u001b[38;2;248;248;242;40m \u001b[0m\u001b[38;2;255;70;137;40m=\u001b[0m\u001b[38;2;248;248;242;40m \u001b[0m\u001b[38;2;248;248;242;40mUser\u001b[0m\u001b[38;2;248;248;242;40m(\u001b[0m\u001b[38;2;255;70;137;40m*\u001b[0m\u001b[38;2;255;70;137;40m*\u001b[0m\u001b[38;2;248;248;242;40mvalid_user_data_2\u001b[0m\u001b[38;2;248;248;242;40m)\u001b[0m\u001b[40m                                                                               \u001b[0m\n\u001b[38;2;248;248;242;40m    \u001b[0m\u001b[38;2;248;248;242;40mprint\u001b[0m\u001b[38;2;248;248;242;40m(\u001b[0m\u001b[38;2;230;219;116;40mf\u001b[0m\u001b[38;2;230;219;116;40m\"\u001b[0m\u001b[38;2;230;219;116;40mValid user: \u001b[0m\u001b[38;2;230;219;116;40m{\u001b[0m\u001b[38;2;248;248;242;40muser\u001b[0m\u001b[38;2;230;219;116;40m}\u001b[0m\u001b[38;2;230;219;116;40m\"\u001b[0m\u001b[38;2;248;248;242;40m)\u001b[0m\u001b[40m                                                                                   \u001b[0m\n\u001b[38;2;102;217;239;40mexcept\u001b[0m\u001b[38;2;248;248;242;40m \u001b[0m\u001b[38;2;248;248;242;40mValidationError\u001b[0m\u001b[38;2;248;248;242;40m \u001b[0m\u001b[38;2;102;217;239;40mas\u001b[0m\u001b[38;2;248;248;242;40m \u001b[0m\u001b[38;2;248;248;242;40me\u001b[0m\u001b[38;2;248;248;242;40m:\u001b[0m\u001b[40m                                                                                       \u001b[0m\n\u001b[38;2;248;248;242;40m    \u001b[0m\u001b[38;2;248;248;242;40mprint\u001b[0m\u001b[38;2;248;248;242;40m(\u001b[0m\u001b[38;2;230;219;116;40mf\u001b[0m\u001b[38;2;230;219;116;40m\"\u001b[0m\u001b[38;2;230;219;116;40mValidation error: \u001b[0m\u001b[38;2;230;219;116;40m{\u001b[0m\u001b[38;2;248;248;242;40me\u001b[0m\u001b[38;2;230;219;116;40m}\u001b[0m\u001b[38;2;230;219;116;40m\"\u001b[0m\u001b[38;2;248;248;242;40m)\u001b[0m\u001b[40m                                                                                \u001b[0m\n\u001b[2m/python\u001b[0m\n\nThis will output:                                                                                                  \n\n\u001b[2mtext\u001b[0m\n\u001b[38;2;248;248;242;40mValid user: id=123 name='John Doe' signup_ts=None\u001b[0m\u001b[40m                                                                  \u001b[0m\n\u001b[38;2;248;248;242;40mValidation error: 1 validation error for User\u001b[0m\u001b[40m                                                                      \u001b[0m\n\u001b[38;2;248;248;242;40mid\u001b[0m\u001b[40m                                                                                                                 \u001b[0m\n\u001b[38;2;248;248;242;40m  field required (type=value_error\u001b[0m\u001b[40m                                                                                 \u001b[0m\n\u001b[2m/text\u001b[0m\n",
                  "text/html": "<pre style=\"white-space:pre;overflow-x:auto;line-height:normal;font-family:Menlo,'DejaVu Sans Mono',consolas,'Courier New',monospace\">This example demonstrates a simple Pydantic model for a user, validating data against a defined schema:            \n\n<span style=\"color: #7f7f7f; text-decoration-color: #7f7f7f\">python</span>\n<span style=\"color: #ff4689; text-decoration-color: #ff4689; background-color: #000000\">from</span><span style=\"color: #f8f8f2; text-decoration-color: #f8f8f2; background-color: #000000\"> pydantic </span><span style=\"color: #ff4689; text-decoration-color: #ff4689; background-color: #000000\">import</span><span style=\"color: #f8f8f2; text-decoration-color: #f8f8f2; background-color: #000000\"> BaseModel, ValidationError</span><span style=\"background-color: #000000\">                                                                    </span>\n<span style=\"background-color: #000000\">                                                                                                                   </span>\n<span style=\"color: #66d9ef; text-decoration-color: #66d9ef; background-color: #000000\">class</span><span style=\"color: #f8f8f2; text-decoration-color: #f8f8f2; background-color: #000000\"> </span><span style=\"color: #a6e22e; text-decoration-color: #a6e22e; background-color: #000000\">User</span><span style=\"color: #f8f8f2; text-decoration-color: #f8f8f2; background-color: #000000\">(BaseModel):</span><span style=\"background-color: #000000\">                                                                                             </span>\n<span style=\"color: #f8f8f2; text-decoration-color: #f8f8f2; background-color: #000000\">    id: int</span><span style=\"background-color: #000000\">                                                                                                        </span>\n<span style=\"color: #f8f8f2; text-decoration-color: #f8f8f2; background-color: #000000\">    name: str</span><span style=\"background-color: #000000\">                                                                                                      </span>\n<span style=\"color: #f8f8f2; text-decoration-color: #f8f8f2; background-color: #000000\">    signup_ts: datetime </span><span style=\"color: #ff4689; text-decoration-color: #ff4689; background-color: #000000\">=</span><span style=\"color: #f8f8f2; text-decoration-color: #f8f8f2; background-color: #000000\"> </span><span style=\"color: #66d9ef; text-decoration-color: #66d9ef; background-color: #000000\">None</span><span style=\"color: #f8f8f2; text-decoration-color: #f8f8f2; background-color: #000000\">  </span><span style=\"color: #959077; text-decoration-color: #959077; background-color: #000000\"># Optional field with default value</span><span style=\"background-color: #000000\">                                                </span>\n<span style=\"background-color: #000000\">                                                                                                                   </span>\n<span style=\"background-color: #000000\">                                                                                                                   </span>\n<span style=\"color: #959077; text-decoration-color: #959077; background-color: #000000\"># Valid data</span><span style=\"background-color: #000000\">                                                                                                       </span>\n<span style=\"color: #f8f8f2; text-decoration-color: #f8f8f2; background-color: #000000\">valid_user_data </span><span style=\"color: #ff4689; text-decoration-color: #ff4689; background-color: #000000\">=</span><span style=\"color: #f8f8f2; text-decoration-color: #f8f8f2; background-color: #000000\"> {</span><span style=\"background-color: #000000\">                                                                                                </span>\n<span style=\"color: #f8f8f2; text-decoration-color: #f8f8f2; background-color: #000000\">    </span><span style=\"color: #e6db74; text-decoration-color: #e6db74; background-color: #000000\">\"id\"</span><span style=\"color: #f8f8f2; text-decoration-color: #f8f8f2; background-color: #000000\">: </span><span style=\"color: #ae81ff; text-decoration-color: #ae81ff; background-color: #000000\">123</span><span style=\"color: #f8f8f2; text-decoration-color: #f8f8f2; background-color: #000000\">,</span><span style=\"background-color: #000000\">                                                                                                     </span>\n<span style=\"color: #f8f8f2; text-decoration-color: #f8f8f2; background-color: #000000\">    </span><span style=\"color: #e6db74; text-decoration-color: #e6db74; background-color: #000000\">\"name\"</span><span style=\"color: #f8f8f2; text-decoration-color: #f8f8f2; background-color: #000000\">: </span><span style=\"color: #e6db74; text-decoration-color: #e6db74; background-color: #000000\">\"John Doe\"</span><span style=\"color: #f8f8f2; text-decoration-color: #f8f8f2; background-color: #000000\">,</span><span style=\"background-color: #000000\">                                                                                            </span>\n<span style=\"color: #f8f8f2; text-decoration-color: #f8f8f2; background-color: #000000\">}</span><span style=\"background-color: #000000\">                                                                                                                  </span>\n<span style=\"background-color: #000000\">                                                                                                                   </span>\n<span style=\"color: #66d9ef; text-decoration-color: #66d9ef; background-color: #000000\">try</span><span style=\"color: #f8f8f2; text-decoration-color: #f8f8f2; background-color: #000000\">:</span><span style=\"background-color: #000000\">                                                                                                               </span>\n<span style=\"color: #f8f8f2; text-decoration-color: #f8f8f2; background-color: #000000\">    user </span><span style=\"color: #ff4689; text-decoration-color: #ff4689; background-color: #000000\">=</span><span style=\"color: #f8f8f2; text-decoration-color: #f8f8f2; background-color: #000000\"> User(</span><span style=\"color: #ff4689; text-decoration-color: #ff4689; background-color: #000000\">**</span><span style=\"color: #f8f8f2; text-decoration-color: #f8f8f2; background-color: #000000\">valid_user_data)</span><span style=\"background-color: #000000\">                                                                                 </span>\n<span style=\"color: #f8f8f2; text-decoration-color: #f8f8f2; background-color: #000000\">    print(</span><span style=\"color: #e6db74; text-decoration-color: #e6db74; background-color: #000000\">f\"Valid user: {</span><span style=\"color: #f8f8f2; text-decoration-color: #f8f8f2; background-color: #000000\">user</span><span style=\"color: #e6db74; text-decoration-color: #e6db74; background-color: #000000\">}\"</span><span style=\"color: #f8f8f2; text-decoration-color: #f8f8f2; background-color: #000000\">)</span><span style=\"background-color: #000000\">                                                                                   </span>\n<span style=\"color: #66d9ef; text-decoration-color: #66d9ef; background-color: #000000\">except</span><span style=\"color: #f8f8f2; text-decoration-color: #f8f8f2; background-color: #000000\"> ValidationError </span><span style=\"color: #66d9ef; text-decoration-color: #66d9ef; background-color: #000000\">as</span><span style=\"color: #f8f8f2; text-decoration-color: #f8f8f2; background-color: #000000\"> e:</span><span style=\"background-color: #000000\">                                                                                       </span>\n<span style=\"color: #f8f8f2; text-decoration-color: #f8f8f2; background-color: #000000\">    print(</span><span style=\"color: #e6db74; text-decoration-color: #e6db74; background-color: #000000\">f\"Validation error: {</span><span style=\"color: #f8f8f2; text-decoration-color: #f8f8f2; background-color: #000000\">e</span><span style=\"color: #e6db74; text-decoration-color: #e6db74; background-color: #000000\">}\"</span><span style=\"color: #f8f8f2; text-decoration-color: #f8f8f2; background-color: #000000\">)</span><span style=\"background-color: #000000\">                                                                                </span>\n<span style=\"background-color: #000000\">                                                                                                                   </span>\n<span style=\"background-color: #000000\">                                                                                                                   </span>\n<span style=\"color: #959077; text-decoration-color: #959077; background-color: #000000\"># Invalid data - missing required field</span><span style=\"background-color: #000000\">                                                                            </span>\n<span style=\"color: #f8f8f2; text-decoration-color: #f8f8f2; background-color: #000000\">invalid_user_data </span><span style=\"color: #ff4689; text-decoration-color: #ff4689; background-color: #000000\">=</span><span style=\"color: #f8f8f2; text-decoration-color: #f8f8f2; background-color: #000000\"> {</span><span style=\"background-color: #000000\">                                                                                              </span>\n<span style=\"color: #f8f8f2; text-decoration-color: #f8f8f2; background-color: #000000\">    </span><span style=\"color: #e6db74; text-decoration-color: #e6db74; background-color: #000000\">\"name\"</span><span style=\"color: #f8f8f2; text-decoration-color: #f8f8f2; background-color: #000000\">: </span><span style=\"color: #e6db74; text-decoration-color: #e6db74; background-color: #000000\">\"Jane Doe\"</span><span style=\"color: #f8f8f2; text-decoration-color: #f8f8f2; background-color: #000000\">,</span><span style=\"background-color: #000000\">                                                                                            </span>\n<span style=\"color: #f8f8f2; text-decoration-color: #f8f8f2; background-color: #000000\">}</span><span style=\"background-color: #000000\">                                                                                                                  </span>\n<span style=\"background-color: #000000\">                                                                                                                   </span>\n<span style=\"color: #66d9ef; text-decoration-color: #66d9ef; background-color: #000000\">try</span><span style=\"color: #f8f8f2; text-decoration-color: #f8f8f2; background-color: #000000\">:</span><span style=\"background-color: #000000\">                                                                                                               </span>\n<span style=\"color: #f8f8f2; text-decoration-color: #f8f8f2; background-color: #000000\">    user </span><span style=\"color: #ff4689; text-decoration-color: #ff4689; background-color: #000000\">=</span><span style=\"color: #f8f8f2; text-decoration-color: #f8f8f2; background-color: #000000\"> User(</span><span style=\"color: #ff4689; text-decoration-color: #ff4689; background-color: #000000\">**</span><span style=\"color: #f8f8f2; text-decoration-color: #f8f8f2; background-color: #000000\">invalid_user_data)</span><span style=\"background-color: #000000\">                                                                               </span>\n<span style=\"color: #f8f8f2; text-decoration-color: #f8f8f2; background-color: #000000\">    print(</span><span style=\"color: #e6db74; text-decoration-color: #e6db74; background-color: #000000\">f\"Valid user: {</span><span style=\"color: #f8f8f2; text-decoration-color: #f8f8f2; background-color: #000000\">user</span><span style=\"color: #e6db74; text-decoration-color: #e6db74; background-color: #000000\">}\"</span><span style=\"color: #f8f8f2; text-decoration-color: #f8f8f2; background-color: #000000\">)</span><span style=\"background-color: #000000\">                                                                                   </span>\n<span style=\"color: #66d9ef; text-decoration-color: #66d9ef; background-color: #000000\">except</span><span style=\"color: #f8f8f2; text-decoration-color: #f8f8f2; background-color: #000000\"> ValidationError </span><span style=\"color: #66d9ef; text-decoration-color: #66d9ef; background-color: #000000\">as</span><span style=\"color: #f8f8f2; text-decoration-color: #f8f8f2; background-color: #000000\"> e:</span><span style=\"background-color: #000000\">                                                                                       </span>\n<span style=\"color: #f8f8f2; text-decoration-color: #f8f8f2; background-color: #000000\">    print(</span><span style=\"color: #e6db74; text-decoration-color: #e6db74; background-color: #000000\">f\"Validation error: {</span><span style=\"color: #f8f8f2; text-decoration-color: #f8f8f2; background-color: #000000\">e</span><span style=\"color: #e6db74; text-decoration-color: #e6db74; background-color: #000000\">}\"</span><span style=\"color: #f8f8f2; text-decoration-color: #f8f8f2; background-color: #000000\">)</span><span style=\"background-color: #000000\">                                                                                </span>\n<span style=\"background-color: #000000\">                                                                                                                   </span>\n<span style=\"color: #959077; text-decoration-color: #959077; background-color: #000000\">#Invalid Data - wrong data type</span><span style=\"background-color: #000000\">                                                                                    </span>\n<span style=\"color: #f8f8f2; text-decoration-color: #f8f8f2; background-color: #000000\">invalid_user_data_2 </span><span style=\"color: #ff4689; text-decoration-color: #ff4689; background-color: #000000\">=</span><span style=\"color: #f8f8f2; text-decoration-color: #f8f8f2; background-color: #000000\"> {</span><span style=\"background-color: #000000\">                                                                                            </span>\n<span style=\"color: #f8f8f2; text-decoration-color: #f8f8f2; background-color: #000000\">    </span><span style=\"color: #e6db74; text-decoration-color: #e6db74; background-color: #000000\">\"id\"</span><span style=\"color: #f8f8f2; text-decoration-color: #f8f8f2; background-color: #000000\">: </span><span style=\"color: #e6db74; text-decoration-color: #e6db74; background-color: #000000\">\"abc\"</span><span style=\"color: #f8f8f2; text-decoration-color: #f8f8f2; background-color: #000000\">,</span><span style=\"background-color: #000000\">                                                                                                   </span>\n<span style=\"color: #f8f8f2; text-decoration-color: #f8f8f2; background-color: #000000\">    </span><span style=\"color: #e6db74; text-decoration-color: #e6db74; background-color: #000000\">\"name\"</span><span style=\"color: #f8f8f2; text-decoration-color: #f8f8f2; background-color: #000000\">: </span><span style=\"color: #e6db74; text-decoration-color: #e6db74; background-color: #000000\">\"Jane Doe\"</span><span style=\"color: #f8f8f2; text-decoration-color: #f8f8f2; background-color: #000000\">,</span><span style=\"background-color: #000000\">                                                                                            </span>\n<span style=\"color: #f8f8f2; text-decoration-color: #f8f8f2; background-color: #000000\">}</span><span style=\"background-color: #000000\">                                                                                                                  </span>\n<span style=\"background-color: #000000\">                                                                                                                   </span>\n<span style=\"color: #66d9ef; text-decoration-color: #66d9ef; background-color: #000000\">try</span><span style=\"color: #f8f8f2; text-decoration-color: #f8f8f2; background-color: #000000\">:</span><span style=\"background-color: #000000\">                                                                                                               </span>\n<span style=\"color: #f8f8f2; text-decoration-color: #f8f8f2; background-color: #000000\">    user </span><span style=\"color: #ff4689; text-decoration-color: #ff4689; background-color: #000000\">=</span><span style=\"color: #f8f8f2; text-decoration-color: #f8f8f2; background-color: #000000\"> User(</span><span style=\"color: #ff4689; text-decoration-color: #ff4689; background-color: #000000\">**</span><span style=\"color: #f8f8f2; text-decoration-color: #f8f8f2; background-color: #000000\">invalid_user_data_2)</span><span style=\"background-color: #000000\">                                                                             </span>\n<span style=\"color: #f8f8f2; text-decoration-color: #f8f8f2; background-color: #000000\">    print(</span><span style=\"color: #e6db74; text-decoration-color: #e6db74; background-color: #000000\">f\"Valid user: {</span><span style=\"color: #f8f8f2; text-decoration-color: #f8f8f2; background-color: #000000\">user</span><span style=\"color: #e6db74; text-decoration-color: #e6db74; background-color: #000000\">}\"</span><span style=\"color: #f8f8f2; text-decoration-color: #f8f8f2; background-color: #000000\">)</span><span style=\"background-color: #000000\">                                                                                   </span>\n<span style=\"color: #66d9ef; text-decoration-color: #66d9ef; background-color: #000000\">except</span><span style=\"color: #f8f8f2; text-decoration-color: #f8f8f2; background-color: #000000\"> ValidationError </span><span style=\"color: #66d9ef; text-decoration-color: #66d9ef; background-color: #000000\">as</span><span style=\"color: #f8f8f2; text-decoration-color: #f8f8f2; background-color: #000000\"> e:</span><span style=\"background-color: #000000\">                                                                                       </span>\n<span style=\"color: #f8f8f2; text-decoration-color: #f8f8f2; background-color: #000000\">    print(</span><span style=\"color: #e6db74; text-decoration-color: #e6db74; background-color: #000000\">f\"Validation error: {</span><span style=\"color: #f8f8f2; text-decoration-color: #f8f8f2; background-color: #000000\">e</span><span style=\"color: #e6db74; text-decoration-color: #e6db74; background-color: #000000\">}\"</span><span style=\"color: #f8f8f2; text-decoration-color: #f8f8f2; background-color: #000000\">)</span><span style=\"background-color: #000000\">                                                                                </span>\n<span style=\"background-color: #000000\">                                                                                                                   </span>\n<span style=\"color: #ff4689; text-decoration-color: #ff4689; background-color: #000000\">from</span><span style=\"color: #f8f8f2; text-decoration-color: #f8f8f2; background-color: #000000\"> datetime </span><span style=\"color: #ff4689; text-decoration-color: #ff4689; background-color: #000000\">import</span><span style=\"color: #f8f8f2; text-decoration-color: #f8f8f2; background-color: #000000\"> datetime</span><span style=\"background-color: #000000\">                                                                                      </span>\n<span style=\"color: #959077; text-decoration-color: #959077; background-color: #000000\">#Valid Data with optional field</span><span style=\"background-color: #000000\">                                                                                    </span>\n<span style=\"color: #f8f8f2; text-decoration-color: #f8f8f2; background-color: #000000\">valid_user_data_2 </span><span style=\"color: #ff4689; text-decoration-color: #ff4689; background-color: #000000\">=</span><span style=\"color: #f8f8f2; text-decoration-color: #f8f8f2; background-color: #000000\"> {</span><span style=\"background-color: #000000\">                                                                                              </span>\n<span style=\"color: #f8f8f2; text-decoration-color: #f8f8f2; background-color: #000000\">    </span><span style=\"color: #e6db74; text-decoration-color: #e6db74; background-color: #000000\">\"id\"</span><span style=\"color: #f8f8f2; text-decoration-color: #f8f8f2; background-color: #000000\">: </span><span style=\"color: #ae81ff; text-decoration-color: #ae81ff; background-color: #000000\">456</span><span style=\"color: #f8f8f2; text-decoration-color: #f8f8f2; background-color: #000000\">,</span><span style=\"background-color: #000000\">                                                                                                     </span>\n<span style=\"color: #f8f8f2; text-decoration-color: #f8f8f2; background-color: #000000\">    </span><span style=\"color: #e6db74; text-decoration-color: #e6db74; background-color: #000000\">\"name\"</span><span style=\"color: #f8f8f2; text-decoration-color: #f8f8f2; background-color: #000000\">: </span><span style=\"color: #e6db74; text-decoration-color: #e6db74; background-color: #000000\">\"Peter Pan\"</span><span style=\"color: #f8f8f2; text-decoration-color: #f8f8f2; background-color: #000000\">,</span><span style=\"background-color: #000000\">                                                                                           </span>\n<span style=\"color: #f8f8f2; text-decoration-color: #f8f8f2; background-color: #000000\">    </span><span style=\"color: #e6db74; text-decoration-color: #e6db74; background-color: #000000\">\"signup_ts\"</span><span style=\"color: #f8f8f2; text-decoration-color: #f8f8f2; background-color: #000000\">: datetime</span><span style=\"color: #ff4689; text-decoration-color: #ff4689; background-color: #000000\">.</span><span style=\"color: #f8f8f2; text-decoration-color: #f8f8f2; background-color: #000000\">now()</span><span style=\"background-color: #000000\">                                                                                    </span>\n<span style=\"color: #f8f8f2; text-decoration-color: #f8f8f2; background-color: #000000\">}</span><span style=\"background-color: #000000\">                                                                                                                  </span>\n<span style=\"background-color: #000000\">                                                                                                                   </span>\n<span style=\"color: #66d9ef; text-decoration-color: #66d9ef; background-color: #000000\">try</span><span style=\"color: #f8f8f2; text-decoration-color: #f8f8f2; background-color: #000000\">:</span><span style=\"background-color: #000000\">                                                                                                               </span>\n<span style=\"color: #f8f8f2; text-decoration-color: #f8f8f2; background-color: #000000\">    user </span><span style=\"color: #ff4689; text-decoration-color: #ff4689; background-color: #000000\">=</span><span style=\"color: #f8f8f2; text-decoration-color: #f8f8f2; background-color: #000000\"> User(</span><span style=\"color: #ff4689; text-decoration-color: #ff4689; background-color: #000000\">**</span><span style=\"color: #f8f8f2; text-decoration-color: #f8f8f2; background-color: #000000\">valid_user_data_2)</span><span style=\"background-color: #000000\">                                                                               </span>\n<span style=\"color: #f8f8f2; text-decoration-color: #f8f8f2; background-color: #000000\">    print(</span><span style=\"color: #e6db74; text-decoration-color: #e6db74; background-color: #000000\">f\"Valid user: {</span><span style=\"color: #f8f8f2; text-decoration-color: #f8f8f2; background-color: #000000\">user</span><span style=\"color: #e6db74; text-decoration-color: #e6db74; background-color: #000000\">}\"</span><span style=\"color: #f8f8f2; text-decoration-color: #f8f8f2; background-color: #000000\">)</span><span style=\"background-color: #000000\">                                                                                   </span>\n<span style=\"color: #66d9ef; text-decoration-color: #66d9ef; background-color: #000000\">except</span><span style=\"color: #f8f8f2; text-decoration-color: #f8f8f2; background-color: #000000\"> ValidationError </span><span style=\"color: #66d9ef; text-decoration-color: #66d9ef; background-color: #000000\">as</span><span style=\"color: #f8f8f2; text-decoration-color: #f8f8f2; background-color: #000000\"> e:</span><span style=\"background-color: #000000\">                                                                                       </span>\n<span style=\"color: #f8f8f2; text-decoration-color: #f8f8f2; background-color: #000000\">    print(</span><span style=\"color: #e6db74; text-decoration-color: #e6db74; background-color: #000000\">f\"Validation error: {</span><span style=\"color: #f8f8f2; text-decoration-color: #f8f8f2; background-color: #000000\">e</span><span style=\"color: #e6db74; text-decoration-color: #e6db74; background-color: #000000\">}\"</span><span style=\"color: #f8f8f2; text-decoration-color: #f8f8f2; background-color: #000000\">)</span><span style=\"background-color: #000000\">                                                                                </span>\n<span style=\"color: #7f7f7f; text-decoration-color: #7f7f7f\">/python</span>\n\nThis will output:                                                                                                  \n\n<span style=\"color: #7f7f7f; text-decoration-color: #7f7f7f\">text</span>\n<span style=\"color: #f8f8f2; text-decoration-color: #f8f8f2; background-color: #000000\">Valid user: id=123 name='John Doe' signup_ts=None</span><span style=\"background-color: #000000\">                                                                  </span>\n<span style=\"color: #f8f8f2; text-decoration-color: #f8f8f2; background-color: #000000\">Validation error: 1 validation error for User</span><span style=\"background-color: #000000\">                                                                      </span>\n<span style=\"color: #f8f8f2; text-decoration-color: #f8f8f2; background-color: #000000\">id</span><span style=\"background-color: #000000\">                                                                                                                 </span>\n<span style=\"color: #f8f8f2; text-decoration-color: #f8f8f2; background-color: #000000\">  field required (type=value_error</span><span style=\"background-color: #000000\">                                                                                 </span>\n<span style=\"color: #7f7f7f; text-decoration-color: #7f7f7f\">/text</span>\n</pre>\n"
                },
                "metadata": {}
              }
            ]
          }
        },
        "d04c05845a9e4b48b1c8babddafced4e": {
          "model_module": "@jupyter-widgets/base",
          "model_name": "LayoutModel",
          "model_module_version": "1.2.0",
          "state": {
            "_model_module": "@jupyter-widgets/base",
            "_model_module_version": "1.2.0",
            "_model_name": "LayoutModel",
            "_view_count": null,
            "_view_module": "@jupyter-widgets/base",
            "_view_module_version": "1.2.0",
            "_view_name": "LayoutView",
            "align_content": null,
            "align_items": null,
            "align_self": null,
            "border": null,
            "bottom": null,
            "display": null,
            "flex": null,
            "flex_flow": null,
            "grid_area": null,
            "grid_auto_columns": null,
            "grid_auto_flow": null,
            "grid_auto_rows": null,
            "grid_column": null,
            "grid_gap": null,
            "grid_row": null,
            "grid_template_areas": null,
            "grid_template_columns": null,
            "grid_template_rows": null,
            "height": null,
            "justify_content": null,
            "justify_items": null,
            "left": null,
            "margin": null,
            "max_height": null,
            "max_width": null,
            "min_height": null,
            "min_width": null,
            "object_fit": null,
            "object_position": null,
            "order": null,
            "overflow": null,
            "overflow_x": null,
            "overflow_y": null,
            "padding": null,
            "right": null,
            "top": null,
            "visibility": null,
            "width": null
          }
        },
        "b7be2731f21f4835a2b1113fe0c14466": {
          "model_module": "@jupyter-widgets/output",
          "model_name": "OutputModel",
          "model_module_version": "1.0.0",
          "state": {
            "_dom_classes": [],
            "_model_module": "@jupyter-widgets/output",
            "_model_module_version": "1.0.0",
            "_model_name": "OutputModel",
            "_view_count": null,
            "_view_module": "@jupyter-widgets/output",
            "_view_module_version": "1.0.0",
            "_view_name": "OutputView",
            "layout": "IPY_MODEL_43272e2792e04932bb4c4f0c28ecf133",
            "msg_id": "",
            "outputs": [
              {
                "output_type": "display_data",
                "data": {
                  "text/plain": "Sure! Pydantic is a data validation and settings management library for Python. It allows you to define data models\nwith type annotations, and it automatically validates the data against those types.                                \n\nHere's a simple example of how to use Pydantic to create a data model for a user:                                  \n\n\u001b[2mpython\u001b[0m\n\u001b[38;2;255;70;137;40mfrom\u001b[0m\u001b[38;2;248;248;242;40m \u001b[0m\u001b[38;2;248;248;242;40mpydantic\u001b[0m\u001b[38;2;248;248;242;40m \u001b[0m\u001b[38;2;255;70;137;40mimport\u001b[0m\u001b[38;2;248;248;242;40m \u001b[0m\u001b[38;2;248;248;242;40mBaseModel\u001b[0m\u001b[38;2;248;248;242;40m,\u001b[0m\u001b[38;2;248;248;242;40m \u001b[0m\u001b[38;2;248;248;242;40mEmailStr\u001b[0m\u001b[38;2;248;248;242;40m,\u001b[0m\u001b[38;2;248;248;242;40m \u001b[0m\u001b[38;2;248;248;242;40mconstr\u001b[0m\u001b[40m                                                                   \u001b[0m\n\u001b[40m                                                                                                                   \u001b[0m\n\u001b[38;2;102;217;239;40mclass\u001b[0m\u001b[38;2;248;248;242;40m \u001b[0m\u001b[38;2;166;226;46;40mUser\u001b[0m\u001b[38;2;248;248;242;40m(\u001b[0m\u001b[38;2;248;248;242;40mBaseModel\u001b[0m\u001b[38;2;248;248;242;40m)\u001b[0m\u001b[38;2;248;248;242;40m:\u001b[0m\u001b[40m                                                                                             \u001b[0m\n\u001b[38;2;248;248;242;40m    \u001b[0m\u001b[38;2;248;248;242;40mname\u001b[0m\u001b[38;2;248;248;242;40m:\u001b[0m\u001b[38;2;248;248;242;40m \u001b[0m\u001b[38;2;248;248;242;40mconstr\u001b[0m\u001b[38;2;248;248;242;40m(\u001b[0m\u001b[38;2;248;248;242;40mmin_length\u001b[0m\u001b[38;2;255;70;137;40m=\u001b[0m\u001b[38;2;174;129;255;40m1\u001b[0m\u001b[38;2;248;248;242;40m)\u001b[0m\u001b[38;2;248;248;242;40m  \u001b[0m\u001b[38;2;149;144;119;40m# Name must be at least 1 character\u001b[0m\u001b[40m                                                \u001b[0m\n\u001b[38;2;248;248;242;40m    \u001b[0m\u001b[38;2;248;248;242;40memail\u001b[0m\u001b[38;2;248;248;242;40m:\u001b[0m\u001b[38;2;248;248;242;40m \u001b[0m\u001b[38;2;248;248;242;40mEmailStr\u001b[0m\u001b[38;2;248;248;242;40m              \u001b[0m\u001b[38;2;149;144;119;40m# Email must be a valid email address\u001b[0m\u001b[40m                                             \u001b[0m\n\u001b[38;2;248;248;242;40m    \u001b[0m\u001b[38;2;248;248;242;40mage\u001b[0m\u001b[38;2;248;248;242;40m:\u001b[0m\u001b[38;2;248;248;242;40m \u001b[0m\u001b[38;2;248;248;242;40mint\u001b[0m\u001b[38;2;248;248;242;40m                     \u001b[0m\u001b[38;2;149;144;119;40m# Age must be an integer\u001b[0m\u001b[40m                                                          \u001b[0m\n\u001b[40m                                                                                                                   \u001b[0m\n\u001b[38;2;149;144;119;40m# Example usage:\u001b[0m\u001b[40m                                                                                                   \u001b[0m\n\u001b[38;2;102;217;239;40mtry\u001b[0m\u001b[38;2;248;248;242;40m:\u001b[0m\u001b[40m                                                                                                               \u001b[0m\n\u001b[38;2;248;248;242;40m    \u001b[0m\u001b[38;2;248;248;242;40muser\u001b[0m\u001b[38;2;248;248;242;40m \u001b[0m\u001b[38;2;255;70;137;40m=\u001b[0m\u001b[38;2;248;248;242;40m \u001b[0m\u001b[38;2;248;248;242;40mUser\u001b[0m\u001b[38;2;248;248;242;40m(\u001b[0m\u001b[38;2;248;248;242;40mname\u001b[0m\u001b[38;2;255;70;137;40m=\u001b[0m\u001b[38;2;230;219;116;40m\"\u001b[0m\u001b[38;2;230;219;116;40mAlice\u001b[0m\u001b[38;2;230;219;116;40m\"\u001b[0m\u001b[38;2;248;248;242;40m,\u001b[0m\u001b[38;2;248;248;242;40m \u001b[0m\u001b[38;2;248;248;242;40memail\u001b[0m\u001b[38;2;255;70;137;40m=\u001b[0m\u001b[38;2;230;219;116;40m\"\u001b[0m\u001b[38;2;230;219;116;40malice@example.com\u001b[0m\u001b[38;2;230;219;116;40m\"\u001b[0m\u001b[38;2;248;248;242;40m,\u001b[0m\u001b[38;2;248;248;242;40m \u001b[0m\u001b[38;2;248;248;242;40mage\u001b[0m\u001b[38;2;255;70;137;40m=\u001b[0m\u001b[38;2;174;129;255;40m30\u001b[0m\u001b[38;2;248;248;242;40m)\u001b[0m\u001b[40m                                                   \u001b[0m\n\u001b[38;2;248;248;242;40m    \u001b[0m\u001b[38;2;248;248;242;40mprint\u001b[0m\u001b[38;2;248;248;242;40m(\u001b[0m\u001b[38;2;248;248;242;40muser\u001b[0m\u001b[38;2;248;248;242;40m)\u001b[0m\u001b[40m                                                                                                    \u001b[0m\n\u001b[38;2;102;217;239;40mexcept\u001b[0m\u001b[38;2;248;248;242;40m \u001b[0m\u001b[38;2;166;226;46;40mValueError\u001b[0m\u001b[38;2;248;248;242;40m \u001b[0m\u001b[38;2;102;217;239;40mas\u001b[0m\u001b[38;2;248;248;242;40m \u001b[0m\u001b[38;2;248;248;242;40me\u001b[0m\u001b[38;2;248;248;242;40m:\u001b[0m\u001b[40m                                                                                            \u001b[0m\n\u001b[38;2;248;248;242;40m    \u001b[0m\u001b[38;2;248;248;242;40mprint\u001b[0m\u001b[38;2;248;248;242;40m(\u001b[0m\u001b[38;2;248;248;242;40me\u001b[0m\u001b[38;2;248;248;242;40m)\u001b[0m\u001b[40m                                                                                                       \u001b[0m\n\u001b[2m/python\u001b[0m\n\nIn this example:                                                                                                   \n\n\u001b[1;33m • \u001b[0m\u001b[1;36;40mUser\u001b[0m is a Pydantic model that requires a \u001b[1;36;40mname\u001b[0m, \u001b[1;36;40memail\u001b[0m, and \u001b[1;36;40mage\u001b[0m.                                                  \n\u001b[1;33m • \u001b[0mThe \u001b[1;36;40mname\u001b[0m must be at least 1 character long.                                                                     \n\u001b[1;33m • \u001b[0mThe \u001b[1;36;40memail\u001b[0m must be a valid email format.                                                                         \n\u001b[1;33m • \u001b[0mThe \u001b[1;36;40mage\u001b[0m must be an integer.                                                                                     \n\nIf the input data does not meet these specifications, a \u001b[1;36;40mValueError\u001b[0m will                                            \n",
                  "text/html": "<pre style=\"white-space:pre;overflow-x:auto;line-height:normal;font-family:Menlo,'DejaVu Sans Mono',consolas,'Courier New',monospace\">Sure! Pydantic is a data validation and settings management library for Python. It allows you to define data models\nwith type annotations, and it automatically validates the data against those types.                                \n\nHere's a simple example of how to use Pydantic to create a data model for a user:                                  \n\n<span style=\"color: #7f7f7f; text-decoration-color: #7f7f7f\">python</span>\n<span style=\"color: #ff4689; text-decoration-color: #ff4689; background-color: #000000\">from</span><span style=\"color: #f8f8f2; text-decoration-color: #f8f8f2; background-color: #000000\"> pydantic </span><span style=\"color: #ff4689; text-decoration-color: #ff4689; background-color: #000000\">import</span><span style=\"color: #f8f8f2; text-decoration-color: #f8f8f2; background-color: #000000\"> BaseModel, EmailStr, constr</span><span style=\"background-color: #000000\">                                                                   </span>\n<span style=\"background-color: #000000\">                                                                                                                   </span>\n<span style=\"color: #66d9ef; text-decoration-color: #66d9ef; background-color: #000000\">class</span><span style=\"color: #f8f8f2; text-decoration-color: #f8f8f2; background-color: #000000\"> </span><span style=\"color: #a6e22e; text-decoration-color: #a6e22e; background-color: #000000\">User</span><span style=\"color: #f8f8f2; text-decoration-color: #f8f8f2; background-color: #000000\">(BaseModel):</span><span style=\"background-color: #000000\">                                                                                             </span>\n<span style=\"color: #f8f8f2; text-decoration-color: #f8f8f2; background-color: #000000\">    name: constr(min_length</span><span style=\"color: #ff4689; text-decoration-color: #ff4689; background-color: #000000\">=</span><span style=\"color: #ae81ff; text-decoration-color: #ae81ff; background-color: #000000\">1</span><span style=\"color: #f8f8f2; text-decoration-color: #f8f8f2; background-color: #000000\">)  </span><span style=\"color: #959077; text-decoration-color: #959077; background-color: #000000\"># Name must be at least 1 character</span><span style=\"background-color: #000000\">                                                </span>\n<span style=\"color: #f8f8f2; text-decoration-color: #f8f8f2; background-color: #000000\">    email: EmailStr              </span><span style=\"color: #959077; text-decoration-color: #959077; background-color: #000000\"># Email must be a valid email address</span><span style=\"background-color: #000000\">                                             </span>\n<span style=\"color: #f8f8f2; text-decoration-color: #f8f8f2; background-color: #000000\">    age: int                     </span><span style=\"color: #959077; text-decoration-color: #959077; background-color: #000000\"># Age must be an integer</span><span style=\"background-color: #000000\">                                                          </span>\n<span style=\"background-color: #000000\">                                                                                                                   </span>\n<span style=\"color: #959077; text-decoration-color: #959077; background-color: #000000\"># Example usage:</span><span style=\"background-color: #000000\">                                                                                                   </span>\n<span style=\"color: #66d9ef; text-decoration-color: #66d9ef; background-color: #000000\">try</span><span style=\"color: #f8f8f2; text-decoration-color: #f8f8f2; background-color: #000000\">:</span><span style=\"background-color: #000000\">                                                                                                               </span>\n<span style=\"color: #f8f8f2; text-decoration-color: #f8f8f2; background-color: #000000\">    user </span><span style=\"color: #ff4689; text-decoration-color: #ff4689; background-color: #000000\">=</span><span style=\"color: #f8f8f2; text-decoration-color: #f8f8f2; background-color: #000000\"> User(name</span><span style=\"color: #ff4689; text-decoration-color: #ff4689; background-color: #000000\">=</span><span style=\"color: #e6db74; text-decoration-color: #e6db74; background-color: #000000\">\"Alice\"</span><span style=\"color: #f8f8f2; text-decoration-color: #f8f8f2; background-color: #000000\">, email</span><span style=\"color: #ff4689; text-decoration-color: #ff4689; background-color: #000000\">=</span><span style=\"color: #e6db74; text-decoration-color: #e6db74; background-color: #000000\">\"alice@example.com\"</span><span style=\"color: #f8f8f2; text-decoration-color: #f8f8f2; background-color: #000000\">, age</span><span style=\"color: #ff4689; text-decoration-color: #ff4689; background-color: #000000\">=</span><span style=\"color: #ae81ff; text-decoration-color: #ae81ff; background-color: #000000\">30</span><span style=\"color: #f8f8f2; text-decoration-color: #f8f8f2; background-color: #000000\">)</span><span style=\"background-color: #000000\">                                                   </span>\n<span style=\"color: #f8f8f2; text-decoration-color: #f8f8f2; background-color: #000000\">    print(user)</span><span style=\"background-color: #000000\">                                                                                                    </span>\n<span style=\"color: #66d9ef; text-decoration-color: #66d9ef; background-color: #000000\">except</span><span style=\"color: #f8f8f2; text-decoration-color: #f8f8f2; background-color: #000000\"> </span><span style=\"color: #a6e22e; text-decoration-color: #a6e22e; background-color: #000000\">ValueError</span><span style=\"color: #f8f8f2; text-decoration-color: #f8f8f2; background-color: #000000\"> </span><span style=\"color: #66d9ef; text-decoration-color: #66d9ef; background-color: #000000\">as</span><span style=\"color: #f8f8f2; text-decoration-color: #f8f8f2; background-color: #000000\"> e:</span><span style=\"background-color: #000000\">                                                                                            </span>\n<span style=\"color: #f8f8f2; text-decoration-color: #f8f8f2; background-color: #000000\">    print(e)</span><span style=\"background-color: #000000\">                                                                                                       </span>\n<span style=\"color: #7f7f7f; text-decoration-color: #7f7f7f\">/python</span>\n\nIn this example:                                                                                                   \n\n<span style=\"color: #808000; text-decoration-color: #808000; font-weight: bold\"> • </span><span style=\"color: #008080; text-decoration-color: #008080; background-color: #000000; font-weight: bold\">User</span> is a Pydantic model that requires a <span style=\"color: #008080; text-decoration-color: #008080; background-color: #000000; font-weight: bold\">name</span>, <span style=\"color: #008080; text-decoration-color: #008080; background-color: #000000; font-weight: bold\">email</span>, and <span style=\"color: #008080; text-decoration-color: #008080; background-color: #000000; font-weight: bold\">age</span>.                                                  \n<span style=\"color: #808000; text-decoration-color: #808000; font-weight: bold\"> • </span>The <span style=\"color: #008080; text-decoration-color: #008080; background-color: #000000; font-weight: bold\">name</span> must be at least 1 character long.                                                                     \n<span style=\"color: #808000; text-decoration-color: #808000; font-weight: bold\"> • </span>The <span style=\"color: #008080; text-decoration-color: #008080; background-color: #000000; font-weight: bold\">email</span> must be a valid email format.                                                                         \n<span style=\"color: #808000; text-decoration-color: #808000; font-weight: bold\"> • </span>The <span style=\"color: #008080; text-decoration-color: #008080; background-color: #000000; font-weight: bold\">age</span> must be an integer.                                                                                     \n\nIf the input data does not meet these specifications, a <span style=\"color: #008080; text-decoration-color: #008080; background-color: #000000; font-weight: bold\">ValueError</span> will                                            \n</pre>\n"
                },
                "metadata": {}
              }
            ]
          }
        },
        "43272e2792e04932bb4c4f0c28ecf133": {
          "model_module": "@jupyter-widgets/base",
          "model_name": "LayoutModel",
          "model_module_version": "1.2.0",
          "state": {
            "_model_module": "@jupyter-widgets/base",
            "_model_module_version": "1.2.0",
            "_model_name": "LayoutModel",
            "_view_count": null,
            "_view_module": "@jupyter-widgets/base",
            "_view_module_version": "1.2.0",
            "_view_name": "LayoutView",
            "align_content": null,
            "align_items": null,
            "align_self": null,
            "border": null,
            "bottom": null,
            "display": null,
            "flex": null,
            "flex_flow": null,
            "grid_area": null,
            "grid_auto_columns": null,
            "grid_auto_flow": null,
            "grid_auto_rows": null,
            "grid_column": null,
            "grid_gap": null,
            "grid_row": null,
            "grid_template_areas": null,
            "grid_template_columns": null,
            "grid_template_rows": null,
            "height": null,
            "justify_content": null,
            "justify_items": null,
            "left": null,
            "margin": null,
            "max_height": null,
            "max_width": null,
            "min_height": null,
            "min_width": null,
            "object_fit": null,
            "object_position": null,
            "order": null,
            "overflow": null,
            "overflow_x": null,
            "overflow_y": null,
            "padding": null,
            "right": null,
            "top": null,
            "visibility": null,
            "width": null
          }
        },
        "2cebb1f11dd74add9ba5159bc36995c9": {
          "model_module": "@jupyter-widgets/output",
          "model_name": "OutputModel",
          "model_module_version": "1.0.0",
          "state": {
            "_dom_classes": [],
            "_model_module": "@jupyter-widgets/output",
            "_model_module_version": "1.0.0",
            "_model_name": "OutputModel",
            "_view_count": null,
            "_view_module": "@jupyter-widgets/output",
            "_view_module_version": "1.0.0",
            "_view_name": "OutputView",
            "layout": "IPY_MODEL_330a3efe73974f46b426265d45438bbe",
            "msg_id": "",
            "outputs": [
              {
                "output_type": "display_data",
                "data": {
                  "text/plain": "\u001b[2mpython\u001b[0m\n\u001b[38;2;255;70;137;40mfrom\u001b[0m\u001b[38;2;248;248;242;40m \u001b[0m\u001b[38;2;248;248;242;40mpydantic\u001b[0m\u001b[38;2;248;248;242;40m \u001b[0m\u001b[38;2;255;70;137;40mimport\u001b[0m\u001b[38;2;248;248;242;40m \u001b[0m\u001b[38;2;248;248;242;40mBaseModel\u001b[0m\u001b[40m                                                                                     \u001b[0m\n\u001b[40m                                                                                                                   \u001b[0m\n\u001b[38;2;102;217;239;40mclass\u001b[0m\u001b[38;2;248;248;242;40m \u001b[0m\u001b[38;2;166;226;46;40mUser\u001b[0m\u001b[38;2;248;248;242;40m(\u001b[0m\u001b[38;2;248;248;242;40mBaseModel\u001b[0m\u001b[38;2;248;248;242;40m)\u001b[0m\u001b[38;2;248;248;242;40m:\u001b[0m\u001b[40m                                                                                             \u001b[0m\n\u001b[38;2;248;248;242;40m    \u001b[0m\u001b[38;2;248;248;242;40muser_id\u001b[0m\u001b[38;2;248;248;242;40m:\u001b[0m\u001b[38;2;248;248;242;40m \u001b[0m\u001b[38;2;248;248;242;40mint\u001b[0m\u001b[40m                                                                                                   \u001b[0m\n\u001b[38;2;248;248;242;40m    \u001b[0m\u001b[38;2;248;248;242;40mname\u001b[0m\u001b[38;2;248;248;242;40m:\u001b[0m\u001b[38;2;248;248;242;40m \u001b[0m\u001b[38;2;248;248;242;40mstr\u001b[0m\u001b[40m                                                                                                      \u001b[0m\n\u001b[38;2;248;248;242;40m    \u001b[0m\u001b[38;2;248;248;242;40memail\u001b[0m\u001b[38;2;248;248;242;40m:\u001b[0m\u001b[38;2;248;248;242;40m \u001b[0m\u001b[38;2;248;248;242;40mstr\u001b[0m\u001b[40m                                                                                                     \u001b[0m\n\u001b[40m                                                                                                                   \u001b[0m\n\u001b[38;2;149;144;119;40m# Valid data\u001b[0m\u001b[40m                                                                                                       \u001b[0m\n\u001b[38;2;248;248;242;40muser_data\u001b[0m\u001b[38;2;248;248;242;40m \u001b[0m\u001b[38;2;255;70;137;40m=\u001b[0m\u001b[38;2;248;248;242;40m \u001b[0m\u001b[38;2;248;248;242;40m{\u001b[0m\u001b[38;2;230;219;116;40m\"\u001b[0m\u001b[38;2;230;219;116;40muser_id\u001b[0m\u001b[38;2;230;219;116;40m\"\u001b[0m\u001b[38;2;248;248;242;40m:\u001b[0m\u001b[38;2;248;248;242;40m \u001b[0m\u001b[38;2;174;129;255;40m1\u001b[0m\u001b[38;2;248;248;242;40m,\u001b[0m\u001b[38;2;248;248;242;40m \u001b[0m\u001b[38;2;230;219;116;40m\"\u001b[0m\u001b[38;2;230;219;116;40mname\u001b[0m\u001b[38;2;230;219;116;40m\"\u001b[0m\u001b[38;2;248;248;242;40m:\u001b[0m\u001b[38;2;248;248;242;40m \u001b[0m\u001b[38;2;230;219;116;40m\"\u001b[0m\u001b[38;2;230;219;116;40mAlice\u001b[0m\u001b[38;2;230;219;116;40m\"\u001b[0m\u001b[38;2;248;248;242;40m,\u001b[0m\u001b[38;2;248;248;242;40m \u001b[0m\u001b[38;2;230;219;116;40m\"\u001b[0m\u001b[38;2;230;219;116;40memail\u001b[0m\u001b[38;2;230;219;116;40m\"\u001b[0m\u001b[38;2;248;248;242;40m:\u001b[0m\u001b[38;2;248;248;242;40m \u001b[0m\u001b[38;2;230;219;116;40m\"\u001b[0m\u001b[38;2;230;219;116;40malice@example.com\u001b[0m\u001b[38;2;230;219;116;40m\"\u001b[0m\u001b[38;2;248;248;242;40m}\u001b[0m\u001b[40m                                          \u001b[0m\n\u001b[38;2;248;248;242;40muser\u001b[0m\u001b[38;2;248;248;242;40m \u001b[0m\u001b[38;2;255;70;137;40m=\u001b[0m\u001b[38;2;248;248;242;40m \u001b[0m\u001b[38;2;248;248;242;40mUser\u001b[0m\u001b[38;2;248;248;242;40m(\u001b[0m\u001b[38;2;255;70;137;40m*\u001b[0m\u001b[38;2;255;70;137;40m*\u001b[0m\u001b[38;2;248;248;242;40muser_data\u001b[0m\u001b[38;2;248;248;242;40m)\u001b[0m\u001b[40m                                                                                           \u001b[0m\n\u001b[40m                                                                                                                   \u001b[0m\n\u001b[38;2;149;144;119;40m# Print the validated user object\u001b[0m\u001b[40m                                                                                  \u001b[0m\n\u001b[38;2;248;248;242;40mprint\u001b[0m\u001b[38;2;248;248;242;40m(\u001b[0m\u001b[38;2;248;248;242;40muser\u001b[0m\u001b[38;2;248;248;242;40m)\u001b[0m\u001b[38;2;248;248;242;40m \u001b[0m\u001b[40m                                                                                                       \u001b[0m\n\u001b[38;2;149;144;119;40m# Output: User(user_id=1, name='Alice', email='alice@example.com')\u001b[0m\u001b[40m                                                 \u001b[0m\n\u001b[2m/python\u001b[0m\n\n\u001b[1mExplanation:\u001b[0m                                                                                                       \n\n\u001b[1;33m 1 \u001b[0m\u001b[1mImport \u001b[0m\u001b[1;36;40mBaseModel\u001b[0m\u001b[1m:\u001b[0m We import the \u001b[1;36;40mBaseModel\u001b[0m class from the \u001b[1;36;40mpydantic\u001b[0m library.                                      \n\u001b[1;33m 2 \u001b[0m\u001b[1mDefine a model:\u001b[0m                                                                                                 \n\u001b[1;33m   \u001b[0m\u001b[1;33m • \u001b[0mWe create a class \u001b[1;36;40mUser\u001b[0m inheriting from \u001b[1;36;40mBaseModel\u001b[0m.                                                            \n\u001b[1;33m   \u001b[0m\u001b[1;33m • \u001b[0mInside the class, we define fields with their data types:                                                    \n\u001b[1;33m   \u001b[0m\u001b[1;33m   \u001b[0m\u001b[1;33m • \u001b[0m\u001b[1;36;40muser_id\u001b[0m:  Integer (\u001b[1;36;40mint\u001b[0m)                                                                                   \n\u001b[1;33m   \u001b[0m\u001b[1;33m   \u001b[0m\u001b[1;33m • \u001b[0m\u001b[1;36;40mname\u001b[0m:   String (\u001b[1;36;40mstr\u001b[0m)                                                                                      \n\u001b[1;33m   \u001b[0m\u001b[1;33m   \u001b[0m\u001b[1;33m • \u001b[0m\u001b[1;36;40memail\u001b[0m:  String (\u001b[1;36;40mstr\u001b[0m)                                                                                      \n\u001b[1;33m 3 \u001b[0m\u001b[1mCreate an instance:\u001b[0m                                                                                             \n\u001b[1;33m   \u001b[0m\u001b[1;33m • \u001b[0mWe create a dictionary \u001b[1;36;40muser_data\u001b[0m containing sample user information.                                         \n\u001b[1;33m   \u001b[0m\u001b[1;33m • \u001b[0mWe use \u001b[1;36;40mUser(**user_data)\u001b[0m to create an instance of the \u001b[1;36;40mUser\u001b[0m class, automatically populating its fields with   \n\u001b[1;33m   \u001b[0m\u001b[1;33m   \u001b[0mthe dictionary values. This also performs validation – if the data types don't match or are missing, Pydantic\n\u001b[1;33m   \u001b[0m\u001b[1;33m   \u001b[0mwill raise an exception.                                                                                     \n",
                  "text/html": "<pre style=\"white-space:pre;overflow-x:auto;line-height:normal;font-family:Menlo,'DejaVu Sans Mono',consolas,'Courier New',monospace\"><span style=\"color: #7f7f7f; text-decoration-color: #7f7f7f\">python</span>\n<span style=\"color: #ff4689; text-decoration-color: #ff4689; background-color: #000000\">from</span><span style=\"color: #f8f8f2; text-decoration-color: #f8f8f2; background-color: #000000\"> pydantic </span><span style=\"color: #ff4689; text-decoration-color: #ff4689; background-color: #000000\">import</span><span style=\"color: #f8f8f2; text-decoration-color: #f8f8f2; background-color: #000000\"> BaseModel</span><span style=\"background-color: #000000\">                                                                                     </span>\n<span style=\"background-color: #000000\">                                                                                                                   </span>\n<span style=\"color: #66d9ef; text-decoration-color: #66d9ef; background-color: #000000\">class</span><span style=\"color: #f8f8f2; text-decoration-color: #f8f8f2; background-color: #000000\"> </span><span style=\"color: #a6e22e; text-decoration-color: #a6e22e; background-color: #000000\">User</span><span style=\"color: #f8f8f2; text-decoration-color: #f8f8f2; background-color: #000000\">(BaseModel):</span><span style=\"background-color: #000000\">                                                                                             </span>\n<span style=\"color: #f8f8f2; text-decoration-color: #f8f8f2; background-color: #000000\">    user_id: int</span><span style=\"background-color: #000000\">                                                                                                   </span>\n<span style=\"color: #f8f8f2; text-decoration-color: #f8f8f2; background-color: #000000\">    name: str</span><span style=\"background-color: #000000\">                                                                                                      </span>\n<span style=\"color: #f8f8f2; text-decoration-color: #f8f8f2; background-color: #000000\">    email: str</span><span style=\"background-color: #000000\">                                                                                                     </span>\n<span style=\"background-color: #000000\">                                                                                                                   </span>\n<span style=\"color: #959077; text-decoration-color: #959077; background-color: #000000\"># Valid data</span><span style=\"background-color: #000000\">                                                                                                       </span>\n<span style=\"color: #f8f8f2; text-decoration-color: #f8f8f2; background-color: #000000\">user_data </span><span style=\"color: #ff4689; text-decoration-color: #ff4689; background-color: #000000\">=</span><span style=\"color: #f8f8f2; text-decoration-color: #f8f8f2; background-color: #000000\"> {</span><span style=\"color: #e6db74; text-decoration-color: #e6db74; background-color: #000000\">\"user_id\"</span><span style=\"color: #f8f8f2; text-decoration-color: #f8f8f2; background-color: #000000\">: </span><span style=\"color: #ae81ff; text-decoration-color: #ae81ff; background-color: #000000\">1</span><span style=\"color: #f8f8f2; text-decoration-color: #f8f8f2; background-color: #000000\">, </span><span style=\"color: #e6db74; text-decoration-color: #e6db74; background-color: #000000\">\"name\"</span><span style=\"color: #f8f8f2; text-decoration-color: #f8f8f2; background-color: #000000\">: </span><span style=\"color: #e6db74; text-decoration-color: #e6db74; background-color: #000000\">\"Alice\"</span><span style=\"color: #f8f8f2; text-decoration-color: #f8f8f2; background-color: #000000\">, </span><span style=\"color: #e6db74; text-decoration-color: #e6db74; background-color: #000000\">\"email\"</span><span style=\"color: #f8f8f2; text-decoration-color: #f8f8f2; background-color: #000000\">: </span><span style=\"color: #e6db74; text-decoration-color: #e6db74; background-color: #000000\">\"alice@example.com\"</span><span style=\"color: #f8f8f2; text-decoration-color: #f8f8f2; background-color: #000000\">}</span><span style=\"background-color: #000000\">                                          </span>\n<span style=\"color: #f8f8f2; text-decoration-color: #f8f8f2; background-color: #000000\">user </span><span style=\"color: #ff4689; text-decoration-color: #ff4689; background-color: #000000\">=</span><span style=\"color: #f8f8f2; text-decoration-color: #f8f8f2; background-color: #000000\"> User(</span><span style=\"color: #ff4689; text-decoration-color: #ff4689; background-color: #000000\">**</span><span style=\"color: #f8f8f2; text-decoration-color: #f8f8f2; background-color: #000000\">user_data)</span><span style=\"background-color: #000000\">                                                                                           </span>\n<span style=\"background-color: #000000\">                                                                                                                   </span>\n<span style=\"color: #959077; text-decoration-color: #959077; background-color: #000000\"># Print the validated user object</span><span style=\"background-color: #000000\">                                                                                  </span>\n<span style=\"color: #f8f8f2; text-decoration-color: #f8f8f2; background-color: #000000\">print(user) </span><span style=\"background-color: #000000\">                                                                                                       </span>\n<span style=\"color: #959077; text-decoration-color: #959077; background-color: #000000\"># Output: User(user_id=1, name='Alice', email='alice@example.com')</span><span style=\"background-color: #000000\">                                                 </span>\n<span style=\"color: #7f7f7f; text-decoration-color: #7f7f7f\">/python</span>\n\n<span style=\"font-weight: bold\">Explanation:</span>                                                                                                       \n\n<span style=\"color: #808000; text-decoration-color: #808000; font-weight: bold\"> 1 </span><span style=\"font-weight: bold\">Import </span><span style=\"color: #008080; text-decoration-color: #008080; background-color: #000000; font-weight: bold\">BaseModel</span><span style=\"font-weight: bold\">:</span> We import the <span style=\"color: #008080; text-decoration-color: #008080; background-color: #000000; font-weight: bold\">BaseModel</span> class from the <span style=\"color: #008080; text-decoration-color: #008080; background-color: #000000; font-weight: bold\">pydantic</span> library.                                      \n<span style=\"color: #808000; text-decoration-color: #808000; font-weight: bold\"> 2 </span><span style=\"font-weight: bold\">Define a model:</span>                                                                                                 \n<span style=\"color: #808000; text-decoration-color: #808000; font-weight: bold\">    • </span>We create a class <span style=\"color: #008080; text-decoration-color: #008080; background-color: #000000; font-weight: bold\">User</span> inheriting from <span style=\"color: #008080; text-decoration-color: #008080; background-color: #000000; font-weight: bold\">BaseModel</span>.                                                            \n<span style=\"color: #808000; text-decoration-color: #808000; font-weight: bold\">    • </span>Inside the class, we define fields with their data types:                                                    \n<span style=\"color: #808000; text-decoration-color: #808000; font-weight: bold\">       • </span><span style=\"color: #008080; text-decoration-color: #008080; background-color: #000000; font-weight: bold\">user_id</span>:  Integer (<span style=\"color: #008080; text-decoration-color: #008080; background-color: #000000; font-weight: bold\">int</span>)                                                                                   \n<span style=\"color: #808000; text-decoration-color: #808000; font-weight: bold\">       • </span><span style=\"color: #008080; text-decoration-color: #008080; background-color: #000000; font-weight: bold\">name</span>:   String (<span style=\"color: #008080; text-decoration-color: #008080; background-color: #000000; font-weight: bold\">str</span>)                                                                                      \n<span style=\"color: #808000; text-decoration-color: #808000; font-weight: bold\">       • </span><span style=\"color: #008080; text-decoration-color: #008080; background-color: #000000; font-weight: bold\">email</span>:  String (<span style=\"color: #008080; text-decoration-color: #008080; background-color: #000000; font-weight: bold\">str</span>)                                                                                      \n<span style=\"color: #808000; text-decoration-color: #808000; font-weight: bold\"> 3 </span><span style=\"font-weight: bold\">Create an instance:</span>                                                                                             \n<span style=\"color: #808000; text-decoration-color: #808000; font-weight: bold\">    • </span>We create a dictionary <span style=\"color: #008080; text-decoration-color: #008080; background-color: #000000; font-weight: bold\">user_data</span> containing sample user information.                                         \n<span style=\"color: #808000; text-decoration-color: #808000; font-weight: bold\">    • </span>We use <span style=\"color: #008080; text-decoration-color: #008080; background-color: #000000; font-weight: bold\">User(**user_data)</span> to create an instance of the <span style=\"color: #008080; text-decoration-color: #008080; background-color: #000000; font-weight: bold\">User</span> class, automatically populating its fields with   \n<span style=\"color: #808000; text-decoration-color: #808000; font-weight: bold\">      </span>the dictionary values. This also performs validation – if the data types don't match or are missing, Pydantic\n<span style=\"color: #808000; text-decoration-color: #808000; font-weight: bold\">      </span>will raise an exception.                                                                                     \n</pre>\n"
                },
                "metadata": {}
              }
            ]
          }
        },
        "330a3efe73974f46b426265d45438bbe": {
          "model_module": "@jupyter-widgets/base",
          "model_name": "LayoutModel",
          "model_module_version": "1.2.0",
          "state": {
            "_model_module": "@jupyter-widgets/base",
            "_model_module_version": "1.2.0",
            "_model_name": "LayoutModel",
            "_view_count": null,
            "_view_module": "@jupyter-widgets/base",
            "_view_module_version": "1.2.0",
            "_view_name": "LayoutView",
            "align_content": null,
            "align_items": null,
            "align_self": null,
            "border": null,
            "bottom": null,
            "display": null,
            "flex": null,
            "flex_flow": null,
            "grid_area": null,
            "grid_auto_columns": null,
            "grid_auto_flow": null,
            "grid_auto_rows": null,
            "grid_column": null,
            "grid_gap": null,
            "grid_row": null,
            "grid_template_areas": null,
            "grid_template_columns": null,
            "grid_template_rows": null,
            "height": null,
            "justify_content": null,
            "justify_items": null,
            "left": null,
            "margin": null,
            "max_height": null,
            "max_width": null,
            "min_height": null,
            "min_width": null,
            "object_fit": null,
            "object_position": null,
            "order": null,
            "overflow": null,
            "overflow_x": null,
            "overflow_y": null,
            "padding": null,
            "right": null,
            "top": null,
            "visibility": null,
            "width": null
          }
        }
      }
    }
  },
  "cells": [
    {
      "cell_type": "markdown",
      "source": [
        "# PydanticAI\n"
      ],
      "metadata": {
        "id": "icSdHIfj8GMc"
      }
    },
    {
      "cell_type": "markdown",
      "source": [
        "reading docs - https://ai.pydantic.dev/"
      ],
      "metadata": {
        "id": "Da5n_-LQVykf"
      }
    },
    {
      "cell_type": "code",
      "execution_count": 1,
      "metadata": {
        "id": "kBChdle68C3E",
        "colab": {
          "base_uri": "https://localhost:8080/"
        },
        "outputId": "63e152b3-b792-4cb5-d70e-21af4f95125b"
      },
      "outputs": [
        {
          "output_type": "stream",
          "name": "stdout",
          "text": [
            "\u001b[?25l   \u001b[90m━━━━━━━━━━━━━━━━━━━━━━━━━━━━━━━━━━━━━━━━\u001b[0m \u001b[32m0.0/90.5 kB\u001b[0m \u001b[31m?\u001b[0m eta \u001b[36m-:--:--\u001b[0m\r\u001b[2K   \u001b[90m━━━━━━━━━━━━━━━━━━━━━━━━━━━━━━━━━━━━━━━━\u001b[0m \u001b[32m90.5/90.5 kB\u001b[0m \u001b[31m3.3 MB/s\u001b[0m eta \u001b[36m0:00:00\u001b[0m\n",
            "\u001b[2K   \u001b[90m━━━━━━━━━━━━━━━━━━━━━━━━━━━━━━━━━━━━━━━━\u001b[0m \u001b[32m222.8/222.8 kB\u001b[0m \u001b[31m5.6 MB/s\u001b[0m eta \u001b[36m0:00:00\u001b[0m\n",
            "\u001b[2K   \u001b[90m━━━━━━━━━━━━━━━━━━━━━━━━━━━━━━━━━━━━━━━━\u001b[0m \u001b[32m252.5/252.5 kB\u001b[0m \u001b[31m13.5 MB/s\u001b[0m eta \u001b[36m0:00:00\u001b[0m\n",
            "\u001b[2K   \u001b[90m━━━━━━━━━━━━━━━━━━━━━━━━━━━━━━━━━━━━━━━━\u001b[0m \u001b[32m210.8/210.8 kB\u001b[0m \u001b[31m12.0 MB/s\u001b[0m eta \u001b[36m0:00:00\u001b[0m\n",
            "\u001b[2K   \u001b[90m━━━━━━━━━━━━━━━━━━━━━━━━━━━━━━━━━━━━━━━━\u001b[0m \u001b[32m128.2/128.2 kB\u001b[0m \u001b[31m7.7 MB/s\u001b[0m eta \u001b[36m0:00:00\u001b[0m\n",
            "\u001b[2K   \u001b[90m━━━━━━━━━━━━━━━━━━━━━━━━━━━━━━━━━━━━━━━━\u001b[0m \u001b[32m109.7/109.7 kB\u001b[0m \u001b[31m6.6 MB/s\u001b[0m eta \u001b[36m0:00:00\u001b[0m\n",
            "\u001b[2K   \u001b[90m━━━━━━━━━━━━━━━━━━━━━━━━━━━━━━━━━━━━━━━━\u001b[0m \u001b[32m73.8/73.8 kB\u001b[0m \u001b[31m3.9 MB/s\u001b[0m eta \u001b[36m0:00:00\u001b[0m\n",
            "\u001b[2K   \u001b[90m━━━━━━━━━━━━━━━━━━━━━━━━━━━━━━━━━━━━━━━━\u001b[0m \u001b[32m271.6/271.6 kB\u001b[0m \u001b[31m13.5 MB/s\u001b[0m eta \u001b[36m0:00:00\u001b[0m\n",
            "\u001b[2K   \u001b[90m━━━━━━━━━━━━━━━━━━━━━━━━━━━━━━━━━━━━━━━━\u001b[0m \u001b[32m3.3/3.3 MB\u001b[0m \u001b[31m17.5 MB/s\u001b[0m eta \u001b[36m0:00:00\u001b[0m\n",
            "\u001b[?25h\u001b[31mERROR: pip's dependency resolver does not currently take into account all the packages that are installed. This behaviour is the source of the following dependency conflicts.\n",
            "google-colab 1.0.0 requires google-auth==2.27.0, but you have google-auth 2.38.0 which is incompatible.\u001b[0m\u001b[31m\n",
            "\u001b[0m"
          ]
        }
      ],
      "source": [
        "!pip -q install pydantic-ai\n",
        "!pip -q install nest_asyncio\n",
        "!pip -q install devtools"
      ]
    },
    {
      "cell_type": "code",
      "source": [
        "from pydantic_ai import Agent\n",
        "from pydantic_ai.models.openai import OpenAIModel"
      ],
      "metadata": {
        "id": "8BpHDSN9Gmy_"
      },
      "execution_count": 2,
      "outputs": []
    },
    {
      "cell_type": "markdown",
      "source": [
        "### **Let's Begin**"
      ],
      "metadata": {
        "id": "N2rUPJxt4t-r"
      }
    },
    {
      "cell_type": "code",
      "source": [
        "import os\n",
        "from google.colab import userdata\n",
        "from IPython.display import display, Markdown\n",
        "\n",
        "os.environ[\"OPENAI_API_KEY\"] = userdata.get('OPENAI_API_KEY')\n",
        "os.environ[\"GEMINI_API_KEY\"] = userdata.get('GOOGLE_AI_STUDIO')\n",
        "os.environ[\"GROQ_API_KEY\"] = userdata.get('GROQ_API_KEY')"
      ],
      "metadata": {
        "id": "icRZD-DW8JZf"
      },
      "execution_count": 4,
      "outputs": []
    },
    {
      "cell_type": "markdown",
      "source": [
        "# What is nest_asyncio?\n",
        "`nest_asyncio` is a Python library that allows you to run nested asynchronous\n",
        "event loops in environments that typically do not support it, such as Jupyter\n",
        "notebooks or scripts where an event loop is already running.\n",
        "\n",
        "It modifies the default asyncio event loop to enable reentrancy, meaning you can\n",
        "run `asyncio` functions inside an existing event loop without encountering\n",
        "`RuntimeError: This event loop is already running`.\n",
        "\n",
        "\n",
        "# Installation:\n",
        "# Install `nest_asyncio` using pip:\n",
        "### pip install nest_asyncio\n",
        "\n",
        "# Usage:\n",
        "\n",
        "import nest_asyncio\n",
        "\n",
        "nest_asyncio.apply()\n",
        "\n",
        "# When to Use `nest_asyncio`:\n",
        "\n",
        "- In **Jupyter Notebooks**, where an event loop is already running by default,\n",
        "  and you need to run `asyncio` code.\n",
        "- In applications where multiple layers of async event loops need to coexist.\n",
        "- In interactive debugging scenarios where `asyncio.run()` cannot be used due to\n",
        "  an already running event loop.\n",
        "\n",
        "\n",
        "# Example in a Jupyter Notebook:\n",
        "import asyncio\n",
        "\n",
        "import nest_asyncio\n",
        "\n",
        "nest_asyncio.apply()  # Allow nested event loops\n",
        "\n",
        "\n",
        "async def say_hello():\n",
        "\n",
        "    await asyncio.sleep(1)\n",
        "    print(\"Hello, Asyncio!\")\n",
        "\n",
        "asyncio.run(say_hello())  # Works inside Jupyter\n",
        "\n",
        "\n",
        "# What Are `asyncio` Functions?\n",
        "`asyncio` functions are Python functions that use the `asyncio` module to enable\n",
        "**asynchronous** programming, allowing non-blocking execution of tasks such as\n",
        "network calls, file I/O, and database queries.\n",
        "\n",
        "\n",
        "# 1. Asynchronous Functions (`async def`)\n",
        "import asyncio\n",
        "\n",
        "async def my_async_function():\n",
        "\n",
        "     await asyncio.sleep(1)\n",
        "     print(\"Hello from asyncio!\")\n",
        "\n",
        "# 2. Coroutine Execution (`await`)\n",
        "async def main():\n",
        "\n",
        "    await my_async_function()  # Waits for the async function to finish\n",
        "\n",
        "asyncio.run(main())  # Runs the coroutine\n",
        "\n",
        "\n",
        "# 3. Running Multiple `asyncio` Tasks (`asyncio.gather`)\n",
        "\n",
        "async def task_1():\n",
        "\n",
        "    await asyncio.sleep(2)\n",
        "    print(\"Task 1 finished\")\n",
        "\n",
        "async def task_2():\n",
        "\n",
        "    await asyncio.sleep(1)\n",
        "    print(\"Task 2 finished\")\n",
        "\n",
        "async def main():\n",
        "\n",
        "    await asyncio.gather(task_1(), task_2())  # Runs both tasks concurrently\n",
        "\n",
        "asyncio.run(main())\n",
        "\n",
        "\n",
        "Expected Output:\n",
        "\n",
        "  Task 2 finished\n",
        "\n",
        "  Task 1 finished\n",
        "\n",
        "\n",
        "\n",
        "# 4. Creating Background Tasks (`asyncio.create_task`)\n",
        "async def background_task():\n",
        "\n",
        "    await asyncio.sleep(3)\n",
        "    print(\"Background task done\")\n",
        "\n",
        "async def main():\n",
        "\n",
        "    task = asyncio.create_task(background_task())  # Runs in background\n",
        "    print(\"Main function continues\")\n",
        "    await task  # Wait for task to complete\n",
        "\n",
        "asyncio.run(main())\n",
        "\n",
        "\n",
        "Expected Output:\n",
        "\n",
        "Main function continues\n",
        "\n",
        "Background task done\n",
        "\n",
        "\n",
        "\n",
        "# Why Use `asyncio` Functions?\n",
        "\n",
        "- **Non-blocking execution:** Instead of waiting for one task to finish before\n",
        "  starting another, multiple tasks can run concurrently.\n",
        "- **Improved performance:** Ideal for I/O-bound tasks like API requests,\n",
        "  database calls, and file handling.\n",
        "- **Efficient resource utilization:** Unlike multi-threading, `asyncio` uses a\n",
        "  **single thread** but efficiently switches between tasks.\n",
        "\n",
        "\n"
      ],
      "metadata": {
        "id": "OS8Wd64QEutp"
      }
    },
    {
      "cell_type": "markdown",
      "source": [
        "`nest_asyncio` is a Python library that allows you to run nested asynchronous event loops in environments that typically do not support it, such as Jupyter notebooks or scripts where an event loop is already running. It modifies the default asyncio event loop to enable reentrancy, meaning you can run `asyncio` functions inside an existing event loop without encountering `RuntimeError: This event loop is already running`.\n",
        "\n",
        "### Installation:\n",
        "You can install `nest_asyncio` using pip:\n",
        "```bash\n",
        "pip install nest_asyncio\n",
        "```\n",
        "\n",
        "### Usage:\n",
        "To apply `nest_asyncio` in your script or notebook:\n",
        "```python\n",
        "import nest_asyncio\n",
        "nest_asyncio.apply()\n",
        "```\n",
        "This will patch the current event loop to allow nested async calls.\n",
        "\n",
        "### When to Use `nest_asyncio`:\n",
        "- In **Jupyter Notebooks**, where an event loop is already running by default, and you need to run `asyncio` code.\n",
        "- In applications where multiple layers of async event loops need to coexist.\n",
        "- In interactive debugging scenarios where `asyncio.run()` cannot be used due to an already running event loop.\n",
        "\n",
        "### Example in a Jupyter Notebook:\n",
        "```python\n",
        "import asyncio\n",
        "import nest_asyncio\n",
        "\n",
        "nest_asyncio.apply()  # Allow nested event loops\n",
        "\n",
        "async def say_hello():\n",
        "    await asyncio.sleep(1)\n",
        "    print(\"Hello, Asyncio!\")\n",
        "\n",
        "asyncio.run(say_hello())  # Works inside Jupyter\n",
        "```\n",
        "\n",
        "Without `nest_asyncio`, `asyncio.run(say_hello())` would raise an error in environments where an event loop is already running.\n",
        "\n"
      ],
      "metadata": {
        "id": "WsQ4_UrWGc-G"
      }
    },
    {
      "cell_type": "code",
      "source": [
        "import nest_asyncio\n",
        "nest_asyncio.apply()"
      ],
      "metadata": {
        "id": "ZKpEfbHCO0b5"
      },
      "execution_count": 6,
      "outputs": []
    },
    {
      "cell_type": "code",
      "source": [
        "from pydantic_ai import Agent, ModelRetry\n",
        "\n",
        "agent = Agent(\n",
        "    'gemini-2.0-flash-exp',\n",
        "    system_prompt='Be very concise, reply with one sentence only.',\n",
        "    retries=3\n",
        ")\n",
        "\n",
        "result = agent.run_sync('Which place in the world is chosen by most of the people for their destination wedding and why?')\n",
        "print(result.data)"
      ],
      "metadata": {
        "colab": {
          "base_uri": "https://localhost:8080/"
        },
        "id": "zdndYtPDNtm4",
        "outputId": "80fc1fab-2688-4b75-bc71-62c0f9f2547c"
      },
      "execution_count": 19,
      "outputs": [
        {
          "output_type": "stream",
          "name": "stdout",
          "text": [
            "Bali, Indonesia, is a popular destination wedding choice due to its beautiful scenery, diverse culture, and relatively affordable costs.\n",
            "\n"
          ]
        }
      ]
    },
    {
      "cell_type": "code",
      "source": [
        "agent.model = 'gpt-4o'\n",
        "\n",
        "@agent.system_prompt\n",
        "async def get_system_prompt(self) -> str:\n",
        "    return \"Give a long one paragraph answer and make it dense\""
      ],
      "metadata": {
        "id": "GYGKY5uw92HP"
      },
      "execution_count": 24,
      "outputs": []
    },
    {
      "cell_type": "code",
      "source": [
        "result = agent.run_sync('Which place in the world is chosen by most of the people for their destination wedding and why?')\n",
        "Markdown(result.data)"
      ],
      "metadata": {
        "colab": {
          "base_uri": "https://localhost:8080/",
          "height": 150
        },
        "id": "--FZeW3y-BQg",
        "outputId": "6f7afdce-cba7-4b6c-b557-4a63f1307ca2"
      },
      "execution_count": 25,
      "outputs": [
        {
          "output_type": "execute_result",
          "data": {
            "text/plain": [
              "<IPython.core.display.Markdown object>"
            ],
            "text/markdown": "Most people choose Italy for their destination weddings because of its romantic allure, rich cultural heritage, and breathtaking landscapes, offering diverse options from the historic charm of Tuscany's rolling hills and vineyards, the timeless romance of Venice's canals, the idyllic coastal beauty of the Amalfi Coast, to the rich history and architecture of Rome. Italy’s cuisine is globally renowned, ensuring a memorable culinary experience for guests, while its world-class wines complement this gastronomic delight. The combination of picturesque locales, Mediterranean climate, and the warm hospitality of Italian wedding vendors make the logistical arrangements seemingly seamless. Italy's historical estates, castles, and villas often serve as enchanting backdrops for ceremonies, providing a perfect blend of elegance and tradition. Furthermore, Italy's accessibility from various parts of the world and its rich tapestry of arts and culture appeal to couples seeking a unique and memorable wedding experience, solidifying its position as a favored destination for weddings globally."
          },
          "metadata": {},
          "execution_count": 25
        }
      ]
    },
    {
      "cell_type": "markdown",
      "source": [
        "## Basic structured output"
      ],
      "metadata": {
        "id": "TYmgv0FfPiKw"
      }
    },
    {
      "cell_type": "code",
      "source": [
        "import os\n",
        "from typing import cast\n",
        "\n",
        "from pydantic import BaseModel\n",
        "\n",
        "from pydantic_ai import Agent\n",
        "from pydantic_ai.models import KnownModelName\n",
        "\n",
        "class MyModel(BaseModel):\n",
        "    city: str\n",
        "    country: str\n",
        "    reason: str\n",
        "    famous_person_from_city: str\n",
        "\n",
        "\n",
        "model = 'gpt-4o'\n",
        "print(f'Using model: {model}')\n",
        "\n",
        "agent = Agent(model,\n",
        "              result_type=MyModel,\n",
        "              )\n",
        "\n",
        "\n",
        "result = agent.run_sync('The windy city in the US.')\n",
        "print(result.data)\n"
      ],
      "metadata": {
        "colab": {
          "base_uri": "https://localhost:8080/"
        },
        "id": "FTMowGQZQq70",
        "outputId": "14b9ced6-e531-4987-aaf6-430ca4365894"
      },
      "execution_count": 30,
      "outputs": [
        {
          "output_type": "stream",
          "name": "stdout",
          "text": [
            "Using model: gpt-4o\n",
            "city='Chicago' country='United States' reason='Chicago is often referred to as \"The Windy City\" due to its windy climate and also because of the long-winded politicians of the 19th century.' famous_person_from_city='Barack Obama'\n"
          ]
        }
      ]
    },
    {
      "cell_type": "code",
      "source": [
        "print(result.usage())"
      ],
      "metadata": {
        "colab": {
          "base_uri": "https://localhost:8080/"
        },
        "id": "Jl6F_E97VSM7",
        "outputId": "9db0d7ec-4522-488e-9881-d28217023947"
      },
      "execution_count": 31,
      "outputs": [
        {
          "output_type": "stream",
          "name": "stdout",
          "text": [
            "Usage(requests=1, request_tokens=84, response_tokens=81, total_tokens=165, details={'accepted_prediction_tokens': 0, 'audio_tokens': 0, 'reasoning_tokens': 0, 'rejected_prediction_tokens': 0, 'cached_tokens': 0})\n"
          ]
        }
      ]
    },
    {
      "cell_type": "code",
      "source": [
        "result = agent.run_sync('The Merlion city.')\n",
        "print(result.data)"
      ],
      "metadata": {
        "colab": {
          "base_uri": "https://localhost:8080/"
        },
        "id": "cAYNEqLsVV53",
        "outputId": "7a91d377-1bd2-4b93-cc9f-de2877774e28"
      },
      "execution_count": 32,
      "outputs": [
        {
          "output_type": "stream",
          "name": "stdout",
          "text": [
            "city='Singapore' country='Singapore' reason=\"The Merlion is a famous icon of Singapore, symbolizing the city's origins as a fishing village and its original name, Singapura, which means 'Lion City'.\" famous_person_from_city='Lee Kuan Yew'\n"
          ]
        }
      ]
    },
    {
      "cell_type": "code",
      "source": [
        "result = agent.run_sync('The cold city in the south')\n",
        "print(result.data)"
      ],
      "metadata": {
        "colab": {
          "base_uri": "https://localhost:8080/"
        },
        "id": "1PoZr2ozVdVM",
        "outputId": "43afa8e2-b61d-4949-f9a0-340c77b994a3"
      },
      "execution_count": 33,
      "outputs": [
        {
          "output_type": "stream",
          "name": "stdout",
          "text": [
            "city='Ushuaia' country='Argentina' reason='Known as the southernmost city in the world with a cold climate' famous_person_from_city='Giovanni Roncagliolo'\n"
          ]
        }
      ]
    },
    {
      "cell_type": "code",
      "source": [
        "result.data.famous_person_from_city"
      ],
      "metadata": {
        "colab": {
          "base_uri": "https://localhost:8080/",
          "height": 36
        },
        "id": "08P3XhpWESaq",
        "outputId": "a6151329-dda9-4f66-9235-985bc2ca3bda"
      },
      "execution_count": 34,
      "outputs": [
        {
          "output_type": "execute_result",
          "data": {
            "text/plain": [
              "'Giovanni Roncagliolo'"
            ],
            "application/vnd.google.colaboratory.intrinsic+json": {
              "type": "string"
            }
          },
          "metadata": {},
          "execution_count": 34
        }
      ]
    },
    {
      "cell_type": "code",
      "source": [
        "agent"
      ],
      "metadata": {
        "colab": {
          "base_uri": "https://localhost:8080/"
        },
        "id": "U2ws8XyYBAgZ",
        "outputId": "2c623ae0-5b0a-4510-ab10-b385ac89bea2"
      },
      "execution_count": 35,
      "outputs": [
        {
          "output_type": "execute_result",
          "data": {
            "text/plain": [
              "Agent(model=OpenAIModel(model_name='gpt-4o', system_prompt_role=None), name='agent', end_strategy='early', model_settings=None)"
            ]
          },
          "metadata": {},
          "execution_count": 35
        }
      ]
    },
    {
      "cell_type": "markdown",
      "source": [
        "## Chat APP"
      ],
      "metadata": {
        "id": "0RIfAKkyW7Rl"
      }
    },
    {
      "cell_type": "code",
      "source": [
        "from pydantic_ai import Agent\n",
        "from pprint import pprint"
      ],
      "metadata": {
        "id": "YY3Hrk1JZOxg"
      },
      "execution_count": 36,
      "outputs": []
    },
    {
      "cell_type": "code",
      "source": [
        "agent = Agent('openai:gpt-4o-mini', system_prompt='Be a helpful assistant.')"
      ],
      "metadata": {
        "id": "dzMLp2KgZQX9"
      },
      "execution_count": 37,
      "outputs": []
    },
    {
      "cell_type": "code",
      "source": [
        "result = agent.run_sync('Tell me a joke.')\n",
        "print(result.data)"
      ],
      "metadata": {
        "colab": {
          "base_uri": "https://localhost:8080/"
        },
        "id": "hDe_kFcYZV8b",
        "outputId": "37858bbf-0a11-4f7f-9eff-c2ec17bc6764"
      },
      "execution_count": 38,
      "outputs": [
        {
          "output_type": "stream",
          "name": "stdout",
          "text": [
            "Why do seagulls fly over the ocean?\n",
            "\n",
            "Because if they flew over the bay, they'd be bagels!\n"
          ]
        }
      ]
    },
    {
      "cell_type": "code",
      "source": [
        "# all messages from the run\n",
        "pprint(result.all_messages())"
      ],
      "metadata": {
        "colab": {
          "base_uri": "https://localhost:8080/"
        },
        "id": "9W8OuRz7Zaoq",
        "outputId": "c14d8b10-b895-41fb-df7d-ff44c8433919"
      },
      "execution_count": 39,
      "outputs": [
        {
          "output_type": "stream",
          "name": "stdout",
          "text": [
            "[ModelRequest(parts=[SystemPromptPart(content='Be a helpful assistant.',\n",
            "                                      dynamic_ref=None,\n",
            "                                      part_kind='system-prompt'),\n",
            "                     UserPromptPart(content='Tell me a joke.',\n",
            "                                    timestamp=datetime.datetime(2025, 2, 3, 14, 25, 2, 241695, tzinfo=datetime.timezone.utc),\n",
            "                                    part_kind='user-prompt')],\n",
            "              kind='request'),\n",
            " ModelResponse(parts=[TextPart(content='Why do seagulls fly over the ocean?\\n'\n",
            "                                       '\\n'\n",
            "                                       'Because if they flew over the bay, '\n",
            "                                       \"they'd be bagels!\",\n",
            "                               part_kind='text')],\n",
            "               model_name='gpt-4o-mini',\n",
            "               timestamp=datetime.datetime(2025, 2, 3, 14, 25, 2, tzinfo=datetime.timezone.utc),\n",
            "               kind='response')]\n"
          ]
        }
      ]
    },
    {
      "cell_type": "code",
      "source": [
        "type(result.all_messages())"
      ],
      "metadata": {
        "colab": {
          "base_uri": "https://localhost:8080/"
        },
        "id": "dTl5B22WZeKZ",
        "outputId": "d2529131-503c-4b11-f0fa-e37a9d721aa3"
      },
      "execution_count": 40,
      "outputs": [
        {
          "output_type": "execute_result",
          "data": {
            "text/plain": [
              "list"
            ]
          },
          "metadata": {},
          "execution_count": 40
        }
      ]
    },
    {
      "cell_type": "code",
      "source": [
        "pprint(result.new_messages())"
      ],
      "metadata": {
        "colab": {
          "base_uri": "https://localhost:8080/"
        },
        "id": "n9u0Th2uZ1Zk",
        "outputId": "b7fd21bb-0c4b-4e78-c288-b6bb00edcace"
      },
      "execution_count": 41,
      "outputs": [
        {
          "output_type": "stream",
          "name": "stdout",
          "text": [
            "[ModelRequest(parts=[SystemPromptPart(content='Be a helpful assistant.',\n",
            "                                      dynamic_ref=None,\n",
            "                                      part_kind='system-prompt'),\n",
            "                     UserPromptPart(content='Tell me a joke.',\n",
            "                                    timestamp=datetime.datetime(2025, 2, 3, 14, 25, 2, 241695, tzinfo=datetime.timezone.utc),\n",
            "                                    part_kind='user-prompt')],\n",
            "              kind='request'),\n",
            " ModelResponse(parts=[TextPart(content='Why do seagulls fly over the ocean?\\n'\n",
            "                                       '\\n'\n",
            "                                       'Because if they flew over the bay, '\n",
            "                                       \"they'd be bagels!\",\n",
            "                               part_kind='text')],\n",
            "               model_name='gpt-4o-mini',\n",
            "               timestamp=datetime.datetime(2025, 2, 3, 14, 25, 2, tzinfo=datetime.timezone.utc),\n",
            "               kind='response')]\n"
          ]
        }
      ]
    },
    {
      "cell_type": "code",
      "source": [
        "result2 = agent.run_sync('Explain it please?', message_history=result.new_messages())\n",
        "print(result2.data)"
      ],
      "metadata": {
        "colab": {
          "base_uri": "https://localhost:8080/"
        },
        "id": "XohGqNheZeOW",
        "outputId": "627aea0c-3e06-4b41-dee4-51d3e9a5daca"
      },
      "execution_count": 42,
      "outputs": [
        {
          "output_type": "stream",
          "name": "stdout",
          "text": [
            "Sure! The joke plays on a pun involving the words \"seagull\" and \"bagel.\" \n",
            "\n",
            "- A \"seagull\" is a type of bird that often lives near oceans and coastlines.\n",
            "- A \"bagel\" is a round bread product often found in bagel shops or bakeries.\n",
            "\n",
            "The joke suggests that if seagulls were to fly over a bay (which is a body of water, but typically shallower and not as vast as an ocean), they would become \"bagels\" instead of staying \"seagulls.\" The humor comes from the absurdity of birds turning into bread based on where they are flying, and it's a play on words that combines the two terms in a silly way.\n"
          ]
        }
      ]
    },
    {
      "cell_type": "code",
      "source": [
        "pprint(result2.all_messages())"
      ],
      "metadata": {
        "colab": {
          "base_uri": "https://localhost:8080/"
        },
        "id": "okyFBRBtZ8l7",
        "outputId": "8ce1d783-7f40-4afa-a4f2-e2543787f50c"
      },
      "execution_count": 43,
      "outputs": [
        {
          "output_type": "stream",
          "name": "stdout",
          "text": [
            "[ModelRequest(parts=[SystemPromptPart(content='Be a helpful assistant.',\n",
            "                                      dynamic_ref=None,\n",
            "                                      part_kind='system-prompt'),\n",
            "                     UserPromptPart(content='Tell me a joke.',\n",
            "                                    timestamp=datetime.datetime(2025, 2, 3, 14, 25, 2, 241695, tzinfo=datetime.timezone.utc),\n",
            "                                    part_kind='user-prompt')],\n",
            "              kind='request'),\n",
            " ModelResponse(parts=[TextPart(content='Why do seagulls fly over the ocean?\\n'\n",
            "                                       '\\n'\n",
            "                                       'Because if they flew over the bay, '\n",
            "                                       \"they'd be bagels!\",\n",
            "                               part_kind='text')],\n",
            "               model_name='gpt-4o-mini',\n",
            "               timestamp=datetime.datetime(2025, 2, 3, 14, 25, 2, tzinfo=datetime.timezone.utc),\n",
            "               kind='response'),\n",
            " ModelRequest(parts=[UserPromptPart(content='Explain it please?',\n",
            "                                    timestamp=datetime.datetime(2025, 2, 3, 14, 25, 54, 213741, tzinfo=datetime.timezone.utc),\n",
            "                                    part_kind='user-prompt')],\n",
            "              kind='request'),\n",
            " ModelResponse(parts=[TextPart(content='Sure! The joke plays on a pun '\n",
            "                                       'involving the words \"seagull\" and '\n",
            "                                       '\"bagel.\" \\n'\n",
            "                                       '\\n'\n",
            "                                       '- A \"seagull\" is a type of bird that '\n",
            "                                       'often lives near oceans and '\n",
            "                                       'coastlines.\\n'\n",
            "                                       '- A \"bagel\" is a round bread product '\n",
            "                                       'often found in bagel shops or '\n",
            "                                       'bakeries.\\n'\n",
            "                                       '\\n'\n",
            "                                       'The joke suggests that if seagulls '\n",
            "                                       'were to fly over a bay (which is a '\n",
            "                                       'body of water, but typically shallower '\n",
            "                                       'and not as vast as an ocean), they '\n",
            "                                       'would become \"bagels\" instead of '\n",
            "                                       'staying \"seagulls.\" The humor comes '\n",
            "                                       'from the absurdity of birds turning '\n",
            "                                       'into bread based on where they are '\n",
            "                                       \"flying, and it's a play on words that \"\n",
            "                                       'combines the two terms in a silly way.',\n",
            "                               part_kind='text')],\n",
            "               model_name='gpt-4o-mini',\n",
            "               timestamp=datetime.datetime(2025, 2, 3, 14, 25, 54, tzinfo=datetime.timezone.utc),\n",
            "               kind='response')]\n"
          ]
        }
      ]
    },
    {
      "cell_type": "code",
      "source": [
        "pprint(result2.new_messages())"
      ],
      "metadata": {
        "colab": {
          "base_uri": "https://localhost:8080/"
        },
        "id": "PGfJPUpXXOCy",
        "outputId": "bbf44f00-f7f3-4816-9c99-226fccc6d0aa"
      },
      "execution_count": 44,
      "outputs": [
        {
          "output_type": "stream",
          "name": "stdout",
          "text": [
            "[ModelRequest(parts=[UserPromptPart(content='Explain it please?',\n",
            "                                    timestamp=datetime.datetime(2025, 2, 3, 14, 25, 54, 213741, tzinfo=datetime.timezone.utc),\n",
            "                                    part_kind='user-prompt')],\n",
            "              kind='request'),\n",
            " ModelResponse(parts=[TextPart(content='Sure! The joke plays on a pun '\n",
            "                                       'involving the words \"seagull\" and '\n",
            "                                       '\"bagel.\" \\n'\n",
            "                                       '\\n'\n",
            "                                       '- A \"seagull\" is a type of bird that '\n",
            "                                       'often lives near oceans and '\n",
            "                                       'coastlines.\\n'\n",
            "                                       '- A \"bagel\" is a round bread product '\n",
            "                                       'often found in bagel shops or '\n",
            "                                       'bakeries.\\n'\n",
            "                                       '\\n'\n",
            "                                       'The joke suggests that if seagulls '\n",
            "                                       'were to fly over a bay (which is a '\n",
            "                                       'body of water, but typically shallower '\n",
            "                                       'and not as vast as an ocean), they '\n",
            "                                       'would become \"bagels\" instead of '\n",
            "                                       'staying \"seagulls.\" The humor comes '\n",
            "                                       'from the absurdity of birds turning '\n",
            "                                       'into bread based on where they are '\n",
            "                                       \"flying, and it's a play on words that \"\n",
            "                                       'combines the two terms in a silly way.',\n",
            "                               part_kind='text')],\n",
            "               model_name='gpt-4o-mini',\n",
            "               timestamp=datetime.datetime(2025, 2, 3, 14, 25, 54, tzinfo=datetime.timezone.utc),\n",
            "               kind='response')]\n"
          ]
        }
      ]
    },
    {
      "cell_type": "code",
      "source": [
        "result3 = agent.run_sync('Where does the joke come from?', message_history=result2.all_messages())\n",
        "print(result3.data)"
      ],
      "metadata": {
        "colab": {
          "base_uri": "https://localhost:8080/"
        },
        "id": "25MExpMba0h6",
        "outputId": "3ddeb5ba-d7e8-4428-9215-0dd00fd91a37"
      },
      "execution_count": 45,
      "outputs": [
        {
          "output_type": "stream",
          "name": "stdout",
          "text": [
            "The joke plays on a classic format of wordplay and puns that have been used in humor for many years. Jokes involving animals and puns are common in many cultures. The specific \"seagull\" and \"bagel\" pun may not have a clearly defined origin, but it reflects a common style of humor in English where animals are associated with food items based on word similarities.\n",
            "\n",
            "Puns have a long history in literature and comedy, dating back to ancient times. They often rely on double meanings and similar sounds to create humor. This particular joke might be found in children's joke books or comedy routines due to its simplicity and light-hearted nature. Like many jokes, it may not have a definitive source but rather exists in the collective tradition of comedic wordplay.\n"
          ]
        }
      ]
    },
    {
      "cell_type": "code",
      "source": [
        "pprint(result3.all_messages())"
      ],
      "metadata": {
        "colab": {
          "base_uri": "https://localhost:8080/"
        },
        "id": "8p1fgt9za-yY",
        "outputId": "65cca4e8-96af-4f33-c9fc-53a4ce37677c"
      },
      "execution_count": 46,
      "outputs": [
        {
          "output_type": "stream",
          "name": "stdout",
          "text": [
            "[ModelRequest(parts=[SystemPromptPart(content='Be a helpful assistant.',\n",
            "                                      dynamic_ref=None,\n",
            "                                      part_kind='system-prompt'),\n",
            "                     UserPromptPart(content='Tell me a joke.',\n",
            "                                    timestamp=datetime.datetime(2025, 2, 3, 14, 25, 2, 241695, tzinfo=datetime.timezone.utc),\n",
            "                                    part_kind='user-prompt')],\n",
            "              kind='request'),\n",
            " ModelResponse(parts=[TextPart(content='Why do seagulls fly over the ocean?\\n'\n",
            "                                       '\\n'\n",
            "                                       'Because if they flew over the bay, '\n",
            "                                       \"they'd be bagels!\",\n",
            "                               part_kind='text')],\n",
            "               model_name='gpt-4o-mini',\n",
            "               timestamp=datetime.datetime(2025, 2, 3, 14, 25, 2, tzinfo=datetime.timezone.utc),\n",
            "               kind='response'),\n",
            " ModelRequest(parts=[UserPromptPart(content='Explain it please?',\n",
            "                                    timestamp=datetime.datetime(2025, 2, 3, 14, 25, 54, 213741, tzinfo=datetime.timezone.utc),\n",
            "                                    part_kind='user-prompt')],\n",
            "              kind='request'),\n",
            " ModelResponse(parts=[TextPart(content='Sure! The joke plays on a pun '\n",
            "                                       'involving the words \"seagull\" and '\n",
            "                                       '\"bagel.\" \\n'\n",
            "                                       '\\n'\n",
            "                                       '- A \"seagull\" is a type of bird that '\n",
            "                                       'often lives near oceans and '\n",
            "                                       'coastlines.\\n'\n",
            "                                       '- A \"bagel\" is a round bread product '\n",
            "                                       'often found in bagel shops or '\n",
            "                                       'bakeries.\\n'\n",
            "                                       '\\n'\n",
            "                                       'The joke suggests that if seagulls '\n",
            "                                       'were to fly over a bay (which is a '\n",
            "                                       'body of water, but typically shallower '\n",
            "                                       'and not as vast as an ocean), they '\n",
            "                                       'would become \"bagels\" instead of '\n",
            "                                       'staying \"seagulls.\" The humor comes '\n",
            "                                       'from the absurdity of birds turning '\n",
            "                                       'into bread based on where they are '\n",
            "                                       \"flying, and it's a play on words that \"\n",
            "                                       'combines the two terms in a silly way.',\n",
            "                               part_kind='text')],\n",
            "               model_name='gpt-4o-mini',\n",
            "               timestamp=datetime.datetime(2025, 2, 3, 14, 25, 54, tzinfo=datetime.timezone.utc),\n",
            "               kind='response'),\n",
            " ModelRequest(parts=[UserPromptPart(content='Where does the joke come from?',\n",
            "                                    timestamp=datetime.datetime(2025, 2, 3, 14, 26, 46, 266295, tzinfo=datetime.timezone.utc),\n",
            "                                    part_kind='user-prompt')],\n",
            "              kind='request'),\n",
            " ModelResponse(parts=[TextPart(content='The joke plays on a classic format of '\n",
            "                                       'wordplay and puns that have been used '\n",
            "                                       'in humor for many years. Jokes '\n",
            "                                       'involving animals and puns are common '\n",
            "                                       'in many cultures. The specific '\n",
            "                                       '\"seagull\" and \"bagel\" pun may not have '\n",
            "                                       'a clearly defined origin, but it '\n",
            "                                       'reflects a common style of humor in '\n",
            "                                       'English where animals are associated '\n",
            "                                       'with food items based on word '\n",
            "                                       'similarities.\\n'\n",
            "                                       '\\n'\n",
            "                                       'Puns have a long history in literature '\n",
            "                                       'and comedy, dating back to ancient '\n",
            "                                       'times. They often rely on double '\n",
            "                                       'meanings and similar sounds to create '\n",
            "                                       'humor. This particular joke might be '\n",
            "                                       \"found in children's joke books or \"\n",
            "                                       'comedy routines due to its simplicity '\n",
            "                                       'and light-hearted nature. Like many '\n",
            "                                       'jokes, it may not have a definitive '\n",
            "                                       'source but rather exists in the '\n",
            "                                       'collective tradition of comedic '\n",
            "                                       'wordplay.',\n",
            "                               part_kind='text')],\n",
            "               model_name='gpt-4o-mini',\n",
            "               timestamp=datetime.datetime(2025, 2, 3, 14, 26, 46, tzinfo=datetime.timezone.utc),\n",
            "               kind='response')]\n"
          ]
        }
      ]
    },
    {
      "cell_type": "code",
      "source": [
        "print(result3.all_messages_json())"
      ],
      "metadata": {
        "colab": {
          "base_uri": "https://localhost:8080/"
        },
        "id": "LytkNDspbKsW",
        "outputId": "2fade406-e75a-4dc7-8bc1-659eba284fe3"
      },
      "execution_count": 47,
      "outputs": [
        {
          "output_type": "stream",
          "name": "stdout",
          "text": [
            "b'[{\"parts\":[{\"content\":\"Be a helpful assistant.\",\"dynamic_ref\":null,\"part_kind\":\"system-prompt\"},{\"content\":\"Tell me a joke.\",\"timestamp\":\"2025-02-03T14:25:02.241695Z\",\"part_kind\":\"user-prompt\"}],\"kind\":\"request\"},{\"parts\":[{\"content\":\"Why do seagulls fly over the ocean?\\\\n\\\\nBecause if they flew over the bay, they\\'d be bagels!\",\"part_kind\":\"text\"}],\"model_name\":\"gpt-4o-mini\",\"timestamp\":\"2025-02-03T14:25:02Z\",\"kind\":\"response\"},{\"parts\":[{\"content\":\"Explain it please?\",\"timestamp\":\"2025-02-03T14:25:54.213741Z\",\"part_kind\":\"user-prompt\"}],\"kind\":\"request\"},{\"parts\":[{\"content\":\"Sure! The joke plays on a pun involving the words \\\\\"seagull\\\\\" and \\\\\"bagel.\\\\\" \\\\n\\\\n- A \\\\\"seagull\\\\\" is a type of bird that often lives near oceans and coastlines.\\\\n- A \\\\\"bagel\\\\\" is a round bread product often found in bagel shops or bakeries.\\\\n\\\\nThe joke suggests that if seagulls were to fly over a bay (which is a body of water, but typically shallower and not as vast as an ocean), they would become \\\\\"bagels\\\\\" instead of staying \\\\\"seagulls.\\\\\" The humor comes from the absurdity of birds turning into bread based on where they are flying, and it\\'s a play on words that combines the two terms in a silly way.\",\"part_kind\":\"text\"}],\"model_name\":\"gpt-4o-mini\",\"timestamp\":\"2025-02-03T14:25:54Z\",\"kind\":\"response\"},{\"parts\":[{\"content\":\"Where does the joke come from?\",\"timestamp\":\"2025-02-03T14:26:46.266295Z\",\"part_kind\":\"user-prompt\"}],\"kind\":\"request\"},{\"parts\":[{\"content\":\"The joke plays on a classic format of wordplay and puns that have been used in humor for many years. Jokes involving animals and puns are common in many cultures. The specific \\\\\"seagull\\\\\" and \\\\\"bagel\\\\\" pun may not have a clearly defined origin, but it reflects a common style of humor in English where animals are associated with food items based on word similarities.\\\\n\\\\nPuns have a long history in literature and comedy, dating back to ancient times. They often rely on double meanings and similar sounds to create humor. This particular joke might be found in children\\'s joke books or comedy routines due to its simplicity and light-hearted nature. Like many jokes, it may not have a definitive source but rather exists in the collective tradition of comedic wordplay.\",\"part_kind\":\"text\"}],\"model_name\":\"gpt-4o-mini\",\"timestamp\":\"2025-02-03T14:26:46Z\",\"kind\":\"response\"}]'\n"
          ]
        }
      ]
    },
    {
      "cell_type": "markdown",
      "source": [
        "## Chatting LLMs"
      ],
      "metadata": {
        "id": "54nv6LxtbqFu"
      }
    },
    {
      "cell_type": "code",
      "source": [
        "from pydantic_ai import Agent\n",
        "\n",
        "agent = Agent('gpt-4o', system_prompt='Be a helpful assistant.')\n",
        "\n",
        "result1 = agent.run_sync('Tell me a joke.')\n",
        "print(result1.data)\n",
        "\n",
        "result2 = agent.run_sync(\n",
        "    'Explain?', model='gemini-2.0-flash-exp', message_history=result1.new_messages()\n",
        ")\n",
        "print(result2.data)\n",
        "\n",
        "\n"
      ],
      "metadata": {
        "colab": {
          "base_uri": "https://localhost:8080/"
        },
        "id": "M0K1JKHlbtmv",
        "outputId": "bb34abe8-ff20-42a6-baf8-03d2200aee2d"
      },
      "execution_count": 49,
      "outputs": [
        {
          "output_type": "stream",
          "name": "stdout",
          "text": [
            "Why don't skeletons fight each other?\n",
            "\n",
            "They don't have the guts.\n",
            "Okay, let's break down why that's a joke:\n",
            "\n",
            "* **Literal Meaning:** Skeletons are, well, just bones. They don't have internal organs, including the \"guts\" or intestines that living creatures have. So, literally, they can't have \"guts\" in the way we normally think of them.\n",
            "\n",
            "* **Figurative Meaning:** \"Guts\" is also a slang term for courage, bravery, or willpower. It means someone has the determination to do something difficult or dangerous.\n",
            "\n",
            "* **The Punchline's Twist:** The joke plays on the dual meaning of the word \"guts.\" We initially think of \"guts\" as literal intestines, but then the joke reveals that it's using the figurative meaning. Skeletons can't fight because they lack the *courage* (the \"guts\") to do so.\n",
            "\n",
            "**The Humor:** The humor comes from the unexpected shift in meaning and the silly image of skeletons being too cowardly to fight, when they're already the epitome of spooky and tough! It's a bit of a pun, using a word with two very different meanings to create a humorous and surprising punchline.\n",
            "\n"
          ]
        }
      ]
    },
    {
      "cell_type": "code",
      "source": [
        "pprint(result2.all_messages())"
      ],
      "metadata": {
        "colab": {
          "base_uri": "https://localhost:8080/"
        },
        "id": "JwMoPdhHb52v",
        "outputId": "35240862-7c42-4a20-9a05-cf8cd1fb85a6"
      },
      "execution_count": 50,
      "outputs": [
        {
          "output_type": "stream",
          "name": "stdout",
          "text": [
            "[ModelRequest(parts=[SystemPromptPart(content='Be a helpful assistant.',\n",
            "                                      dynamic_ref=None,\n",
            "                                      part_kind='system-prompt'),\n",
            "                     UserPromptPart(content='Tell me a joke.',\n",
            "                                    timestamp=datetime.datetime(2025, 2, 3, 14, 28, 18, 302561, tzinfo=datetime.timezone.utc),\n",
            "                                    part_kind='user-prompt')],\n",
            "              kind='request'),\n",
            " ModelResponse(parts=[TextPart(content=\"Why don't skeletons fight each other?\\n\"\n",
            "                                       '\\n'\n",
            "                                       \"They don't have the guts.\",\n",
            "                               part_kind='text')],\n",
            "               model_name='gpt-4o',\n",
            "               timestamp=datetime.datetime(2025, 2, 3, 14, 28, 18, tzinfo=datetime.timezone.utc),\n",
            "               kind='response'),\n",
            " ModelRequest(parts=[UserPromptPart(content='Explain?',\n",
            "                                    timestamp=datetime.datetime(2025, 2, 3, 14, 28, 19, 996918, tzinfo=datetime.timezone.utc),\n",
            "                                    part_kind='user-prompt')],\n",
            "              kind='request'),\n",
            " ModelResponse(parts=[TextPart(content=\"Okay, let's break down why that's a \"\n",
            "                                       'joke:\\n'\n",
            "                                       '\\n'\n",
            "                                       '* **Literal Meaning:** Skeletons are, '\n",
            "                                       \"well, just bones. They don't have \"\n",
            "                                       'internal organs, including the \"guts\" '\n",
            "                                       'or intestines that living creatures '\n",
            "                                       \"have. So, literally, they can't have \"\n",
            "                                       '\"guts\" in the way we normally think of '\n",
            "                                       'them.\\n'\n",
            "                                       '\\n'\n",
            "                                       '* **Figurative Meaning:** \"Guts\" is '\n",
            "                                       'also a slang term for courage, '\n",
            "                                       'bravery, or willpower. It means '\n",
            "                                       'someone has the determination to do '\n",
            "                                       'something difficult or dangerous.\\n'\n",
            "                                       '\\n'\n",
            "                                       \"* **The Punchline's Twist:** The joke \"\n",
            "                                       'plays on the dual meaning of the word '\n",
            "                                       '\"guts.\" We initially think of \"guts\" '\n",
            "                                       'as literal intestines, but then the '\n",
            "                                       \"joke reveals that it's using the \"\n",
            "                                       \"figurative meaning. Skeletons can't \"\n",
            "                                       'fight because they lack the *courage* '\n",
            "                                       '(the \"guts\") to do so.\\n'\n",
            "                                       '\\n'\n",
            "                                       '**The Humor:** The humor comes from '\n",
            "                                       'the unexpected shift in meaning and '\n",
            "                                       'the silly image of skeletons being too '\n",
            "                                       \"cowardly to fight, when they're \"\n",
            "                                       'already the epitome of spooky and '\n",
            "                                       \"tough! It's a bit of a pun, using a \"\n",
            "                                       'word with two very different meanings '\n",
            "                                       'to create a humorous and surprising '\n",
            "                                       'punchline.\\n',\n",
            "                               part_kind='text')],\n",
            "               model_name='gemini-2.0-flash-exp',\n",
            "               timestamp=datetime.datetime(2025, 2, 3, 14, 28, 22, 143282, tzinfo=datetime.timezone.utc),\n",
            "               kind='response')]\n"
          ]
        }
      ]
    },
    {
      "cell_type": "markdown",
      "source": [
        "## Weather"
      ],
      "metadata": {
        "id": "aezrxJNhPm7N"
      }
    },
    {
      "cell_type": "code",
      "source": [
        "from __future__ import annotations as _annotations\n",
        "\n",
        "import asyncio\n",
        "import os\n",
        "from dataclasses import dataclass\n",
        "from typing import Any\n",
        "\n",
        "from devtools import debug\n",
        "from httpx import AsyncClient\n",
        "\n",
        "from pydantic_ai import Agent, ModelRetry, RunContext"
      ],
      "metadata": {
        "id": "9j381AIUPoIx"
      },
      "execution_count": 51,
      "outputs": []
    },
    {
      "cell_type": "markdown",
      "source": [
        "\n",
        "### 1. `Agent`\n",
        "\n",
        "**Definition:**\n",
        "The `Agent` class is the central component of the `pydantic_ai` framework. It manages interactions with AI models, orchestrates the execution flow, and integrates various tools and dependencies to facilitate complex AI-driven tasks.\n",
        "\n",
        "**Functions:**\n",
        "- **Model Management:** Specifies the AI model to be used for tasks.\n",
        "- **Result Validation:** Defines the expected type of results and validates them accordingly.\n",
        "- **System Prompts:** Allows setting static or dynamic system prompts to guide the AI's behavior.\n",
        "- **Dependency Injection:** Manages dependencies required by tools or system prompts.\n",
        "- **Tool Registration:** Enables the registration of tools (functions) that the agent can utilize during its operations.\n",
        "\n",
        "**Example:**\n",
        "```python\n",
        "from pydantic_ai import Agent\n",
        "\n",
        "# Define an agent with a specific AI model and result type\n",
        "agent = Agent(\n",
        "    model='openai:gpt-4',\n",
        "    result_type=str,\n",
        "    system_prompt=\"You are a helpful assistant.\"\n",
        ")\n",
        "\n",
        "# Run the agent with a user prompt\n",
        "result = agent.run_sync(\"What is the capital of France?\")\n",
        "print(result.data)  # Output: \"The capital of France is Paris.\"\n",
        "```\n",
        "\n",
        "### 2. `ModelRetry`\n",
        "\n",
        "**Definition:**\n",
        "`ModelRetry` is an exception class in `pydantic_ai` that signals the agent to retry generating a response. It's particularly useful in scenarios where the initial AI output is inadequate or requires refinement.\n",
        "\n",
        "**Functions:**\n",
        "- **Retry Mechanism:** When raised within a tool or result validator, it prompts the agent to attempt the task again.\n",
        "- **Self-Correction:** Facilitates the implementation of reflection and self-correction behaviors in agents.\n",
        "\n",
        "**Example:**\n",
        "```python\n",
        "from pydantic_ai import Agent, ModelRetry, RunContext\n",
        "\n",
        "# Define a tool that may require a retry\n",
        "def get_user_by_name(ctx: RunContext, name: str) -> int:\n",
        "    user_id = ctx.deps.users.get(name=name)\n",
        "    if user_id is None:\n",
        "        raise ModelRetry(f\"No user found with name '{name}'. Please provide the full name.\")\n",
        "    return user_id\n",
        "\n",
        "# Register the tool with the agent\n",
        "agent = Agent(\n",
        "    model='openai:gpt-4',\n",
        "    result_type=str,\n",
        "    tools=[get_user_by_name]\n",
        ")\n",
        "\n",
        "# Run the agent with a user prompt\n",
        "result = agent.run_sync(\"Send a message to John asking for coffee next week.\")\n",
        "print(result.data)\n",
        "```\n",
        "\n",
        "In this example, if the user provides an incomplete name, the `ModelRetry` exception prompts the agent to request more specific information.\n",
        "\n",
        "### 3. `RunContext`\n",
        "\n",
        "**Definition:**\n",
        "`RunContext` is a data class in `pydantic_ai` that provides contextual information about the current execution of an agent's task. It includes details such as dependencies, the model in use, the original user prompt, and the execution state.\n",
        "\n",
        "**Functions:**\n",
        "- **Dependency Access:** Provides access to dependencies required during the agent's run.\n",
        "- **Model Information:** Contains details about the AI model being used.\n",
        "- **Usage Tracking:** Monitors resource usage associated with the run.\n",
        "- **Prompt and Messages:** Stores the original user prompt and the messages exchanged during the conversation.\n",
        "- **Execution State:** Tracks the current step and retry count of the run.\n",
        "\n",
        "**Example:**\n",
        "```python\n",
        "from pydantic_ai import Agent, RunContext\n",
        "\n",
        "# Define a dependency class\n",
        "class DatabaseConn:\n",
        "    def __init__(self):\n",
        "        self.users = {\"John Doe\": 123}\n",
        "\n",
        "# Define a tool that uses the RunContext\n",
        "def get_user_id(ctx: RunContext[DatabaseConn], name: str) -> int:\n",
        "    return ctx.deps.users.get(name, -1)\n",
        "\n",
        "# Register the tool with the agent\n",
        "agent = Agent(\n",
        "    model='openai:gpt-4',\n",
        "    result_type=str,\n",
        "    deps_type=DatabaseConn,\n",
        "    tools=[get_user_id]\n",
        ")\n",
        "\n",
        "# Run the agent with a user prompt\n",
        "result = agent.run_sync(\"Find the user ID for John Doe.\", deps=DatabaseConn())\n",
        "print(result.data)  # Output: 123\n",
        "```\n",
        "\n",
        "In this example, `RunContext` provides access to the `DatabaseConn` dependency, allowing the tool to retrieve the user ID based on the provided name.\n",
        "\n",
        "These components work together within the `pydantic_ai` framework to create robust, type-safe, and efficient AI-driven applications."
      ],
      "metadata": {
        "id": "2n5DHNsaNzkQ"
      }
    },
    {
      "cell_type": "markdown",
      "source": [
        "### **What is `dataclass` in Python?**\n",
        "\n",
        "A `dataclass` in Python is a decorator (`@dataclass`) that simplifies the creation of classes used to store data. It automatically generates special methods like `__init__()`, `__repr__()`, `__eq__()`, and others, reducing boilerplate code.\n",
        "\n",
        "---\n",
        "\n",
        "### **Why Use `dataclass`?**\n",
        "- Automatically creates an `__init__()` constructor.\n",
        "- Provides a readable `__repr__()` output for debugging.\n",
        "- Supports **default values**, **type hints**, and **immutability**.\n",
        "- Enables comparison operations (`==`, `!=`, etc.).\n",
        "- More concise than traditional class definitions.\n",
        "\n",
        "---\n",
        "\n",
        "### **Basic Example:**\n",
        "```python\n",
        "from dataclasses import dataclass\n",
        "\n",
        "@dataclass\n",
        "class Person:\n",
        "    name: str\n",
        "    age: int\n",
        "\n",
        "p = Person(\"Alice\", 30)\n",
        "print(p)  # Output: Person(name='Alice', age=30)\n",
        "```\n",
        "✔️ **No need to manually define `__init__()` or `__repr__()`!**\n",
        "\n",
        "---\n",
        "\n",
        "### **Features of `dataclass`**\n",
        "#### 1. **Default Values**\n",
        "```python\n",
        "@dataclass\n",
        "class Car:\n",
        "    brand: str\n",
        "    model: str\n",
        "    year: int = 2024  # Default value\n",
        "\n",
        "c = Car(\"Toyota\", \"Corolla\")\n",
        "print(c)  # Output: Car(brand='Toyota', model='Corolla', year=2024)\n",
        "```\n",
        "\n",
        "#### 2. **Making a `dataclass` Immutable**\n",
        "Use `frozen=True` to prevent modification after creation.\n",
        "```python\n",
        "@dataclass(frozen=True)\n",
        "class Point:\n",
        "    x: int\n",
        "    y: int\n",
        "\n",
        "p = Point(1, 2)\n",
        "# p.x = 10  # ❌ This will raise an error\n",
        "```\n",
        "\n",
        "#### 3. **Custom Methods**\n",
        "You can still add methods to a `dataclass` like a regular class.\n",
        "```python\n",
        "@dataclass\n",
        "class Rectangle:\n",
        "    width: float\n",
        "    height: float\n",
        "\n",
        "    def area(self) -> float:\n",
        "        return self.width * self.height\n",
        "\n",
        "r = Rectangle(5, 10)\n",
        "print(r.area())  # Output: 50\n",
        "```\n",
        "\n",
        "---\n",
        "\n",
        "### **When to Use `dataclass`?**\n",
        "✔️ When you need a simple class to store data.  \n",
        "✔️ When you want **automatic `__init__()`** and **comparison methods**.  \n",
        "✔️ When you work with **immutable or structured data**.  \n",
        "✔️ When you want **type hints** for better readability.  \n",
        "\n",
        "Would you like a specific use case or example? 🚀"
      ],
      "metadata": {
        "id": "BgCSlPAJSAjc"
      }
    },
    {
      "cell_type": "code",
      "source": [
        "@dataclass\n",
        "class Deps:\n",
        "    client: AsyncClient\n",
        "    weather_api_key: str | None\n",
        "    geo_api_key: str | None\n"
      ],
      "metadata": {
        "id": "GTRauCbx3I6e"
      },
      "execution_count": 52,
      "outputs": []
    },
    {
      "cell_type": "code",
      "source": [
        "\n",
        "weather_agent = Agent(\n",
        "    'openai:gpt-4o',\n",
        "    system_prompt='Be concise, reply with one sentence.',\n",
        "    deps_type=Deps,\n",
        "    retries=2,\n",
        ")\n",
        "\n",
        "@weather_agent.tool\n",
        "async def get_lat_lng(\n",
        "    ctx: RunContext[Deps], location_description: str\n",
        ") -> dict[str, float]:\n",
        "    \"\"\"Get the latitude and longitude of a location.\n",
        "\n",
        "    Args:\n",
        "        ctx: The context.\n",
        "        location_description: A description of a location.\n",
        "    \"\"\"\n",
        "    if ctx.deps.geo_api_key is None:\n",
        "        # if no API key is provided, return a dummy response (London)\n",
        "        return {'lat': 51.1, 'lng': -0.1}\n",
        "\n",
        "    params = {\n",
        "        'q': location_description,\n",
        "        'api_key': ctx.deps.geo_api_key,\n",
        "    }\n",
        "    with logfire.span('calling geocode API', params=params) as span:\n",
        "        r = await ctx.deps.client.get('https://geocode.maps.co/search', params=params)\n",
        "        r.raise_for_status()\n",
        "        data = r.json()\n",
        "        span.set_attribute('response', data)\n",
        "\n",
        "    if data:\n",
        "        return {'lat': data[0]['lat'], 'lng': data[0]['lon']}\n",
        "    else:\n",
        "        raise ModelRetry('Could not find the location')\n",
        "\n",
        "\n",
        "@weather_agent.tool\n",
        "async def get_weather(ctx: RunContext[Deps], lat: float, lng: float) -> dict[str, Any]:\n",
        "    \"\"\"Get the weather at a location.\n",
        "\n",
        "    Args:\n",
        "        ctx: The context.\n",
        "        lat: Latitude of the location.\n",
        "        lng: Longitude of the location.\n",
        "    \"\"\"\n",
        "    if ctx.deps.weather_api_key is None:\n",
        "        # if no API key is provided, return a dummy response\n",
        "        return {'temperature': '21 °C', 'description': 'Sunny'}\n",
        "\n",
        "    params = {\n",
        "        'apikey': ctx.deps.weather_api_key,\n",
        "        'location': f'{lat},{lng}',\n",
        "        'units': 'metric',\n",
        "    }\n",
        "    with logfire.span('calling weather API', params=params) as span:\n",
        "        r = await ctx.deps.client.get(\n",
        "            'https://api.tomorrow.io/v4/weather/realtime', params=params\n",
        "        )\n",
        "        r.raise_for_status()\n",
        "        data = r.json()\n",
        "        span.set_attribute('response', data)\n",
        "\n",
        "    values = data['data']['values']\n",
        "    # https://docs.tomorrow.io/reference/data-layers-weather-codes\n",
        "    code_lookup = {\n",
        "        1000: 'Clear, Sunny',\n",
        "        1100: 'Mostly Clear',\n",
        "        1101: 'Partly Cloudy',\n",
        "        1102: 'Mostly Cloudy',\n",
        "        1001: 'Cloudy',\n",
        "        2000: 'Fog',\n",
        "        2100: 'Light Fog',\n",
        "        4000: 'Drizzle',\n",
        "        4001: 'Rain',\n",
        "        4200: 'Light Rain',\n",
        "        4201: 'Heavy Rain',\n",
        "        5000: 'Snow',\n",
        "        5001: 'Flurries',\n",
        "        5100: 'Light Snow',\n",
        "        5101: 'Heavy Snow',\n",
        "        6000: 'Freezing Drizzle',\n",
        "        6001: 'Freezing Rain',\n",
        "        6200: 'Light Freezing Rain',\n",
        "        6201: 'Heavy Freezing Rain',\n",
        "        7000: 'Ice Pellets',\n",
        "        7101: 'Heavy Ice Pellets',\n",
        "        7102: 'Light Ice Pellets',\n",
        "        8000: 'Thunderstorm',\n",
        "    }\n",
        "    return {\n",
        "        'temperature': f'{values[\"temperatureApparent\"]:0.0f}°C',\n",
        "        'description': code_lookup.get(values['weatherCode'], 'Unknown'),\n",
        "    }\n",
        "\n",
        "\n",
        "\n"
      ],
      "metadata": {
        "id": "_W7bDs6j3I-g"
      },
      "execution_count": 55,
      "outputs": []
    },
    {
      "cell_type": "code",
      "source": [
        "async def main():\n",
        "    async with AsyncClient() as client:\n",
        "        # create a free API key at https://www.tomorrow.io/weather-api/\n",
        "        weather_api_key = os.getenv('WEATHER_API_KEY')\n",
        "        # create a free API key at https://geocode.maps.co/\n",
        "        geo_api_key = os.getenv('GEO_API_KEY')\n",
        "        deps = Deps(\n",
        "            client=client, weather_api_key=weather_api_key, geo_api_key=geo_api_key\n",
        "        )\n",
        "        result = await weather_agent.run(\n",
        "            'What is the weather like in London and in Singapore?', deps=deps\n",
        "        )\n",
        "        debug(result)\n",
        "        print('Response:', result.data)"
      ],
      "metadata": {
        "id": "qXo3uShp5jsH"
      },
      "execution_count": 56,
      "outputs": []
    },
    {
      "cell_type": "code",
      "source": [
        "asyncio.run(main())"
      ],
      "metadata": {
        "colab": {
          "base_uri": "https://localhost:8080/"
        },
        "id": "IAkN2NBf3JBw",
        "outputId": "f1fa4a69-2759-4f44-d923-656e5191a45a"
      },
      "execution_count": 57,
      "outputs": [
        {
          "output_type": "stream",
          "name": "stdout",
          "text": [
            "<ipython-input-56-a2f9f6cbe960>:13 main\n",
            "    result: RunResult(\n",
            "        _all_messages=[\n",
            "            ModelRequest(\n",
            "                parts=[\n",
            "                    SystemPromptPart(\n",
            "                        content='Be concise, reply with one sentence.',\n",
            "                        dynamic_ref=None,\n",
            "                        part_kind='system-prompt',\n",
            "                    ),\n",
            "                    UserPromptPart(\n",
            "                        content='What is the weather like in London and in Singapore?',\n",
            "                        timestamp=datetime.datetime(2025, 2, 3, 14, 54, 32, 330603, tzinfo=datetime.timezone.utc),\n",
            "                        part_kind='user-prompt',\n",
            "                    ),\n",
            "                ],\n",
            "                kind='request',\n",
            "            ),\n",
            "            ModelResponse(\n",
            "                parts=[\n",
            "                    ToolCallPart(\n",
            "                        tool_name='get_lat_lng',\n",
            "                        args='{\"location_description\": \"London\"}',\n",
            "                        tool_call_id='call_9ZPZzxCvezJJ14LD8fWtXaIl',\n",
            "                        part_kind='tool-call',\n",
            "                    ),\n",
            "                    ToolCallPart(\n",
            "                        tool_name='get_lat_lng',\n",
            "                        args='{\"location_description\": \"Singapore\"}',\n",
            "                        tool_call_id='call_po8gJgN4tnpIP4mariAezYOz',\n",
            "                        part_kind='tool-call',\n",
            "                    ),\n",
            "                ],\n",
            "                model_name='gpt-4o',\n",
            "                timestamp=datetime.datetime(2025, 2, 3, 14, 54, 32, tzinfo=datetime.timezone.utc),\n",
            "                kind='response',\n",
            "            ),\n",
            "            ModelRequest(\n",
            "                parts=[\n",
            "                    ToolReturnPart(\n",
            "                        tool_name='get_lat_lng',\n",
            "                        content={\n",
            "                            'lat': 51.1,\n",
            "                            'lng': -0.1,\n",
            "                        },\n",
            "                        tool_call_id='call_9ZPZzxCvezJJ14LD8fWtXaIl',\n",
            "                        timestamp=datetime.datetime(2025, 2, 3, 14, 54, 35, 192415, tzinfo=datetime.timezone.utc),\n",
            "                        part_kind='tool-return',\n",
            "                    ),\n",
            "                    ToolReturnPart(\n",
            "                        tool_name='get_lat_lng',\n",
            "                        content={\n",
            "                            'lat': 51.1,\n",
            "                            'lng': -0.1,\n",
            "                        },\n",
            "                        tool_call_id='call_po8gJgN4tnpIP4mariAezYOz',\n",
            "                        timestamp=datetime.datetime(2025, 2, 3, 14, 54, 35, 192455, tzinfo=datetime.timezone.utc),\n",
            "                        part_kind='tool-return',\n",
            "                    ),\n",
            "                ],\n",
            "                kind='request',\n",
            "            ),\n",
            "            ModelResponse(\n",
            "                parts=[\n",
            "                    ToolCallPart(\n",
            "                        tool_name='get_weather',\n",
            "                        args='{\"lat\": 51.1, \"lng\": -0.1}',\n",
            "                        tool_call_id='call_RWQdygC1Cz8GlhiKnjd8oKnu',\n",
            "                        part_kind='tool-call',\n",
            "                    ),\n",
            "                    ToolCallPart(\n",
            "                        tool_name='get_weather',\n",
            "                        args='{\"lat\": 51.1, \"lng\": -0.1}',\n",
            "                        tool_call_id='call_thkEv9M7zEEniGKu6xnH4PAo',\n",
            "                        part_kind='tool-call',\n",
            "                    ),\n",
            "                ],\n",
            "                model_name='gpt-4o',\n",
            "                timestamp=datetime.datetime(2025, 2, 3, 14, 54, 35, tzinfo=datetime.timezone.utc),\n",
            "                kind='response',\n",
            "            ),\n",
            "            ModelRequest(\n",
            "                parts=[\n",
            "                    ToolReturnPart(\n",
            "                        tool_name='get_weather',\n",
            "                        content={\n",
            "                            'temperature': '21 °C',\n",
            "                            'description': 'Sunny',\n",
            "                        },\n",
            "                        tool_call_id='call_RWQdygC1Cz8GlhiKnjd8oKnu',\n",
            "                        timestamp=datetime.datetime(2025, 2, 3, 14, 54, 37, 433073, tzinfo=datetime.timezone.utc),\n",
            "                        part_kind='tool-return',\n",
            "                    ),\n",
            "                    ToolReturnPart(\n",
            "                        tool_name='get_weather',\n",
            "                        content={\n",
            "                            'temperature': '21 °C',\n",
            "                            'description': 'Sunny',\n",
            "                        },\n",
            "                        tool_call_id='call_thkEv9M7zEEniGKu6xnH4PAo',\n",
            "                        timestamp=datetime.datetime(2025, 2, 3, 14, 54, 37, 433256, tzinfo=datetime.timezone.utc),\n",
            "                        part_kind='tool-return',\n",
            "                    ),\n",
            "                ],\n",
            "                kind='request',\n",
            "            ),\n",
            "            ModelResponse(\n",
            "                parts=[\n",
            "                    TextPart(\n",
            "                        content='The current weather in both London and Singapore is sunny with a temperature of 21 °C.',\n",
            "                        part_kind='text',\n",
            "                    ),\n",
            "                ],\n",
            "                model_name='gpt-4o',\n",
            "                timestamp=datetime.datetime(2025, 2, 3, 14, 54, 37, tzinfo=datetime.timezone.utc),\n",
            "                kind='response',\n",
            "            ),\n",
            "        ],\n",
            "        _new_message_index=0,\n",
            "        data='The current weather in both London and Singapore is sunny with a temperature of 21 °C.',\n",
            "        _result_tool_name=None,\n",
            "        _usage=Usage(\n",
            "            requests=3,\n",
            "            request_tokens=662,\n",
            "            response_tokens=135,\n",
            "            total_tokens=797,\n",
            "            details={\n",
            "                'accepted_prediction_tokens': 0,\n",
            "                'audio_tokens': 0,\n",
            "                'reasoning_tokens': 0,\n",
            "                'rejected_prediction_tokens': 0,\n",
            "                'cached_tokens': 0,\n",
            "            },\n",
            "        ),\n",
            "    ) (RunResult)\n",
            "Response: The current weather in both London and Singapore is sunny with a temperature of 21 °C.\n"
          ]
        }
      ]
    },
    {
      "cell_type": "code",
      "source": [],
      "metadata": {
        "id": "V7otAxuNCpJ4"
      },
      "execution_count": null,
      "outputs": []
    },
    {
      "cell_type": "code",
      "source": [],
      "metadata": {
        "id": "ruDMPqV5CpN5"
      },
      "execution_count": null,
      "outputs": []
    },
    {
      "cell_type": "markdown",
      "source": [
        "## Streaming MarkDown"
      ],
      "metadata": {
        "id": "7glzqzKnYsLT"
      }
    },
    {
      "cell_type": "code",
      "source": [
        "import asyncio\n",
        "import os\n",
        "\n",
        "from rich.console import Console, ConsoleOptions, RenderResult\n",
        "from rich.live import Live\n",
        "from rich.markdown import CodeBlock, Markdown\n",
        "from rich.syntax import Syntax\n",
        "from rich.text import Text\n",
        "\n",
        "from pydantic_ai import Agent\n",
        "from pydantic_ai.models import KnownModelName\n",
        "\n",
        "\n",
        "agent = Agent()\n",
        "\n",
        "\n",
        "models: list[tuple[KnownModelName, str]] = [\n",
        "    ('gemini-1.5-flash', 'GEMINI_API_KEY'),\n",
        "    ('openai:gpt-4o-mini', 'OPENAI_API_KEY'),\n",
        "    ('groq:gemma2-9b-it', 'GROQ_API_KEY'),\n",
        "]\n",
        "\n",
        "\n",
        "async def main():\n",
        "    prettier_code_blocks()\n",
        "    console = Console()\n",
        "    prompt = 'Show me a short example of using Pydantic.'\n",
        "    console.log(f'Asking: {prompt}...', style='cyan')\n",
        "    for model, env_var in models:\n",
        "        if env_var in os.environ:\n",
        "            console.log(f'Using model: {model}')\n",
        "            with Live('', console=console, vertical_overflow='visible') as live:\n",
        "                async with agent.run_stream(prompt, model=model) as result:\n",
        "                    async for message in result.stream():\n",
        "                        live.update(Markdown(message))\n",
        "            console.log(result.usage())\n",
        "        else:\n",
        "            console.log(f'{model} requires {env_var} to be set.')\n",
        "\n",
        "\n",
        "def prettier_code_blocks():\n",
        "    \"\"\"Make rich code blocks prettier and easier to copy.\n",
        "\n",
        "    From https://github.com/samuelcolvin/aicli/blob/v0.8.0/samuelcolvin_aicli.py#L22\n",
        "    \"\"\"\n",
        "\n",
        "    class SimpleCodeBlock(CodeBlock):\n",
        "        def __rich_console__(\n",
        "            self, console: Console, options: ConsoleOptions\n",
        "        ) -> RenderResult:\n",
        "            code = str(self.text).rstrip()\n",
        "            yield Text(self.lexer_name, style='dim')\n",
        "            yield Syntax(\n",
        "                code,\n",
        "                self.lexer_name,\n",
        "                theme=self.theme,\n",
        "                background_color='black',\n",
        "                word_wrap=True,\n",
        "            )\n",
        "            yield Text(f'/{self.lexer_name}', style='dim')\n",
        "\n",
        "    Markdown.elements['fence'] = SimpleCodeBlock\n",
        "\n",
        "\n",
        "if __name__ == '__main__':\n",
        "    asyncio.run(main())"
      ],
      "metadata": {
        "colab": {
          "base_uri": "https://localhost:8080/",
          "height": 1000,
          "referenced_widgets": [
            "559af875231b4398a5ef8ae6549ebfd9",
            "d04c05845a9e4b48b1c8babddafced4e",
            "b7be2731f21f4835a2b1113fe0c14466",
            "43272e2792e04932bb4c4f0c28ecf133",
            "2cebb1f11dd74add9ba5159bc36995c9",
            "330a3efe73974f46b426265d45438bbe"
          ]
        },
        "id": "zPeF_VWkPJ0b",
        "outputId": "a45171c4-cf03-4eb9-a920-ac6f00f6e683"
      },
      "execution_count": 60,
      "outputs": [
        {
          "output_type": "display_data",
          "data": {
            "text/plain": [
              "\u001b[2;36m[14:57:22]\u001b[0m\u001b[2;36m \u001b[0m\u001b[36mAsking: Show me a short example of using Pydantic\u001b[0m\u001b[33m...\u001b[0m\u001b[36m.                \u001b[0m \u001b[2m<ipython-input-60-e806a07852a1>:29\u001b[0m\n"
            ],
            "text/html": [
              "<pre style=\"white-space:pre;overflow-x:auto;line-height:normal;font-family:Menlo,'DejaVu Sans Mono',consolas,'Courier New',monospace\"><span style=\"color: #7fbfbf; text-decoration-color: #7fbfbf\">[14:57:22] </span><span style=\"color: #008080; text-decoration-color: #008080\">Asking: Show me a short example of using Pydantic</span><span style=\"color: #808000; text-decoration-color: #808000\">...</span><span style=\"color: #008080; text-decoration-color: #008080\">.                </span> <span style=\"color: #7f7f7f; text-decoration-color: #7f7f7f\">&lt;ipython-input-60-e806a07852a1&gt;:29</span>\n",
              "</pre>\n"
            ]
          },
          "metadata": {}
        },
        {
          "output_type": "display_data",
          "data": {
            "text/plain": [
              "\u001b[2;36m          \u001b[0m\u001b[2;36m \u001b[0mUsing model: gemini-\u001b[1;36m1.5\u001b[0m-flash                                         \u001b[2m<ipython-input-60-e806a07852a1>:32\u001b[0m\n"
            ],
            "text/html": [
              "<pre style=\"white-space:pre;overflow-x:auto;line-height:normal;font-family:Menlo,'DejaVu Sans Mono',consolas,'Courier New',monospace\"><span style=\"color: #7fbfbf; text-decoration-color: #7fbfbf\">           </span>Using model: gemini-<span style=\"color: #008080; text-decoration-color: #008080; font-weight: bold\">1.5</span>-flash                                         <span style=\"color: #7f7f7f; text-decoration-color: #7f7f7f\">&lt;ipython-input-60-e806a07852a1&gt;:32</span>\n",
              "</pre>\n"
            ]
          },
          "metadata": {}
        },
        {
          "output_type": "display_data",
          "data": {
            "text/plain": [
              "Output()"
            ],
            "application/vnd.jupyter.widget-view+json": {
              "version_major": 2,
              "version_minor": 0,
              "model_id": "559af875231b4398a5ef8ae6549ebfd9"
            }
          },
          "metadata": {}
        },
        {
          "output_type": "display_data",
          "data": {
            "text/plain": [],
            "text/html": [
              "<pre style=\"white-space:pre;overflow-x:auto;line-height:normal;font-family:Menlo,'DejaVu Sans Mono',consolas,'Courier New',monospace\"></pre>\n"
            ]
          },
          "metadata": {}
        },
        {
          "output_type": "display_data",
          "data": {
            "text/plain": [
              "\u001b[2;36m[14:57:27]\u001b[0m\u001b[2;36m \u001b[0m\u001b[1;35mUsage\u001b[0m\u001b[1m(\u001b[0m                                                                \u001b[2m<ipython-input-60-e806a07852a1>:37\u001b[0m\n",
              "\u001b[2;36m           \u001b[0m    \u001b[33mrequests\u001b[0m=\u001b[1;36m1\u001b[0m,                                                       \u001b[2m                                  \u001b[0m\n",
              "\u001b[2;36m           \u001b[0m    \u001b[33mrequest_tokens\u001b[0m=\u001b[1;36m167\u001b[0m,                                               \u001b[2m                                  \u001b[0m\n",
              "\u001b[2;36m           \u001b[0m    \u001b[33mresponse_tokens\u001b[0m=\u001b[1;36m585\u001b[0m,                                              \u001b[2m                                  \u001b[0m\n",
              "\u001b[2;36m           \u001b[0m    \u001b[33mtotal_tokens\u001b[0m=\u001b[1;36m752\u001b[0m,                                                 \u001b[2m                                  \u001b[0m\n",
              "\u001b[2;36m           \u001b[0m    \u001b[33mdetails\u001b[0m=\u001b[3;35mNone\u001b[0m                                                      \u001b[2m                                  \u001b[0m\n",
              "\u001b[2;36m           \u001b[0m\u001b[1m)\u001b[0m                                                                     \u001b[2m                                  \u001b[0m\n"
            ],
            "text/html": [
              "<pre style=\"white-space:pre;overflow-x:auto;line-height:normal;font-family:Menlo,'DejaVu Sans Mono',consolas,'Courier New',monospace\"><span style=\"color: #7fbfbf; text-decoration-color: #7fbfbf\">[14:57:27] </span><span style=\"color: #800080; text-decoration-color: #800080; font-weight: bold\">Usage</span><span style=\"font-weight: bold\">(</span>                                                                <span style=\"color: #7f7f7f; text-decoration-color: #7f7f7f\">&lt;ipython-input-60-e806a07852a1&gt;:37</span>\n",
              "<span style=\"color: #7fbfbf; text-decoration-color: #7fbfbf\">           </span>    <span style=\"color: #808000; text-decoration-color: #808000\">requests</span>=<span style=\"color: #008080; text-decoration-color: #008080; font-weight: bold\">1</span>,                                                       <span style=\"color: #7f7f7f; text-decoration-color: #7f7f7f\">                                  </span>\n",
              "<span style=\"color: #7fbfbf; text-decoration-color: #7fbfbf\">           </span>    <span style=\"color: #808000; text-decoration-color: #808000\">request_tokens</span>=<span style=\"color: #008080; text-decoration-color: #008080; font-weight: bold\">167</span>,                                               <span style=\"color: #7f7f7f; text-decoration-color: #7f7f7f\">                                  </span>\n",
              "<span style=\"color: #7fbfbf; text-decoration-color: #7fbfbf\">           </span>    <span style=\"color: #808000; text-decoration-color: #808000\">response_tokens</span>=<span style=\"color: #008080; text-decoration-color: #008080; font-weight: bold\">585</span>,                                              <span style=\"color: #7f7f7f; text-decoration-color: #7f7f7f\">                                  </span>\n",
              "<span style=\"color: #7fbfbf; text-decoration-color: #7fbfbf\">           </span>    <span style=\"color: #808000; text-decoration-color: #808000\">total_tokens</span>=<span style=\"color: #008080; text-decoration-color: #008080; font-weight: bold\">752</span>,                                                 <span style=\"color: #7f7f7f; text-decoration-color: #7f7f7f\">                                  </span>\n",
              "<span style=\"color: #7fbfbf; text-decoration-color: #7fbfbf\">           </span>    <span style=\"color: #808000; text-decoration-color: #808000\">details</span>=<span style=\"color: #800080; text-decoration-color: #800080; font-style: italic\">None</span>                                                      <span style=\"color: #7f7f7f; text-decoration-color: #7f7f7f\">                                  </span>\n",
              "<span style=\"color: #7fbfbf; text-decoration-color: #7fbfbf\">           </span><span style=\"font-weight: bold\">)</span>                                                                     <span style=\"color: #7f7f7f; text-decoration-color: #7f7f7f\">                                  </span>\n",
              "</pre>\n"
            ]
          },
          "metadata": {}
        },
        {
          "output_type": "display_data",
          "data": {
            "text/plain": [
              "\u001b[2;36m          \u001b[0m\u001b[2;36m \u001b[0mUsing model: openai:gpt-4o-mini                                       \u001b[2m<ipython-input-60-e806a07852a1>:32\u001b[0m\n"
            ],
            "text/html": [
              "<pre style=\"white-space:pre;overflow-x:auto;line-height:normal;font-family:Menlo,'DejaVu Sans Mono',consolas,'Courier New',monospace\"><span style=\"color: #7fbfbf; text-decoration-color: #7fbfbf\">           </span>Using model: openai:gpt-4o-mini                                       <span style=\"color: #7f7f7f; text-decoration-color: #7f7f7f\">&lt;ipython-input-60-e806a07852a1&gt;:32</span>\n",
              "</pre>\n"
            ]
          },
          "metadata": {}
        },
        {
          "output_type": "display_data",
          "data": {
            "text/plain": [
              "Output()"
            ],
            "application/vnd.jupyter.widget-view+json": {
              "version_major": 2,
              "version_minor": 0,
              "model_id": "b7be2731f21f4835a2b1113fe0c14466"
            }
          },
          "metadata": {}
        },
        {
          "output_type": "display_data",
          "data": {
            "text/plain": [],
            "text/html": [
              "<pre style=\"white-space:pre;overflow-x:auto;line-height:normal;font-family:Menlo,'DejaVu Sans Mono',consolas,'Courier New',monospace\"></pre>\n"
            ]
          },
          "metadata": {}
        },
        {
          "output_type": "display_data",
          "data": {
            "text/plain": [
              "\u001b[2;36m[14:57:31]\u001b[0m\u001b[2;36m \u001b[0m\u001b[1;35mUsage\u001b[0m\u001b[1m(\u001b[0m                                                                \u001b[2m<ipython-input-60-e806a07852a1>:37\u001b[0m\n",
              "\u001b[2;36m           \u001b[0m    \u001b[33mrequests\u001b[0m=\u001b[1;36m1\u001b[0m,                                                       \u001b[2m                                  \u001b[0m\n",
              "\u001b[2;36m           \u001b[0m    \u001b[33mrequest_tokens\u001b[0m=\u001b[1;36m18\u001b[0m,                                                \u001b[2m                                  \u001b[0m\n",
              "\u001b[2;36m           \u001b[0m    \u001b[33mresponse_tokens\u001b[0m=\u001b[1;36m261\u001b[0m,                                              \u001b[2m                                  \u001b[0m\n",
              "\u001b[2;36m           \u001b[0m    \u001b[33mtotal_tokens\u001b[0m=\u001b[1;36m279\u001b[0m,                                                 \u001b[2m                                  \u001b[0m\n",
              "\u001b[2;36m           \u001b[0m    \u001b[33mdetails\u001b[0m=\u001b[1m{\u001b[0m                                                         \u001b[2m                                  \u001b[0m\n",
              "\u001b[2;36m           \u001b[0m        \u001b[32m'accepted_prediction_tokens'\u001b[0m: \u001b[1;36m0\u001b[0m,                              \u001b[2m                                  \u001b[0m\n",
              "\u001b[2;36m           \u001b[0m        \u001b[32m'audio_tokens'\u001b[0m: \u001b[1;36m0\u001b[0m,                                            \u001b[2m                                  \u001b[0m\n",
              "\u001b[2;36m           \u001b[0m        \u001b[32m'reasoning_tokens'\u001b[0m: \u001b[1;36m0\u001b[0m,                                        \u001b[2m                                  \u001b[0m\n",
              "\u001b[2;36m           \u001b[0m        \u001b[32m'rejected_prediction_tokens'\u001b[0m: \u001b[1;36m0\u001b[0m,                              \u001b[2m                                  \u001b[0m\n",
              "\u001b[2;36m           \u001b[0m        \u001b[32m'cached_tokens'\u001b[0m: \u001b[1;36m0\u001b[0m                                            \u001b[2m                                  \u001b[0m\n",
              "\u001b[2;36m           \u001b[0m    \u001b[1m}\u001b[0m                                                                 \u001b[2m                                  \u001b[0m\n",
              "\u001b[2;36m           \u001b[0m\u001b[1m)\u001b[0m                                                                     \u001b[2m                                  \u001b[0m\n"
            ],
            "text/html": [
              "<pre style=\"white-space:pre;overflow-x:auto;line-height:normal;font-family:Menlo,'DejaVu Sans Mono',consolas,'Courier New',monospace\"><span style=\"color: #7fbfbf; text-decoration-color: #7fbfbf\">[14:57:31] </span><span style=\"color: #800080; text-decoration-color: #800080; font-weight: bold\">Usage</span><span style=\"font-weight: bold\">(</span>                                                                <span style=\"color: #7f7f7f; text-decoration-color: #7f7f7f\">&lt;ipython-input-60-e806a07852a1&gt;:37</span>\n",
              "<span style=\"color: #7fbfbf; text-decoration-color: #7fbfbf\">           </span>    <span style=\"color: #808000; text-decoration-color: #808000\">requests</span>=<span style=\"color: #008080; text-decoration-color: #008080; font-weight: bold\">1</span>,                                                       <span style=\"color: #7f7f7f; text-decoration-color: #7f7f7f\">                                  </span>\n",
              "<span style=\"color: #7fbfbf; text-decoration-color: #7fbfbf\">           </span>    <span style=\"color: #808000; text-decoration-color: #808000\">request_tokens</span>=<span style=\"color: #008080; text-decoration-color: #008080; font-weight: bold\">18</span>,                                                <span style=\"color: #7f7f7f; text-decoration-color: #7f7f7f\">                                  </span>\n",
              "<span style=\"color: #7fbfbf; text-decoration-color: #7fbfbf\">           </span>    <span style=\"color: #808000; text-decoration-color: #808000\">response_tokens</span>=<span style=\"color: #008080; text-decoration-color: #008080; font-weight: bold\">261</span>,                                              <span style=\"color: #7f7f7f; text-decoration-color: #7f7f7f\">                                  </span>\n",
              "<span style=\"color: #7fbfbf; text-decoration-color: #7fbfbf\">           </span>    <span style=\"color: #808000; text-decoration-color: #808000\">total_tokens</span>=<span style=\"color: #008080; text-decoration-color: #008080; font-weight: bold\">279</span>,                                                 <span style=\"color: #7f7f7f; text-decoration-color: #7f7f7f\">                                  </span>\n",
              "<span style=\"color: #7fbfbf; text-decoration-color: #7fbfbf\">           </span>    <span style=\"color: #808000; text-decoration-color: #808000\">details</span>=<span style=\"font-weight: bold\">{</span>                                                         <span style=\"color: #7f7f7f; text-decoration-color: #7f7f7f\">                                  </span>\n",
              "<span style=\"color: #7fbfbf; text-decoration-color: #7fbfbf\">           </span>        <span style=\"color: #008000; text-decoration-color: #008000\">'accepted_prediction_tokens'</span>: <span style=\"color: #008080; text-decoration-color: #008080; font-weight: bold\">0</span>,                              <span style=\"color: #7f7f7f; text-decoration-color: #7f7f7f\">                                  </span>\n",
              "<span style=\"color: #7fbfbf; text-decoration-color: #7fbfbf\">           </span>        <span style=\"color: #008000; text-decoration-color: #008000\">'audio_tokens'</span>: <span style=\"color: #008080; text-decoration-color: #008080; font-weight: bold\">0</span>,                                            <span style=\"color: #7f7f7f; text-decoration-color: #7f7f7f\">                                  </span>\n",
              "<span style=\"color: #7fbfbf; text-decoration-color: #7fbfbf\">           </span>        <span style=\"color: #008000; text-decoration-color: #008000\">'reasoning_tokens'</span>: <span style=\"color: #008080; text-decoration-color: #008080; font-weight: bold\">0</span>,                                        <span style=\"color: #7f7f7f; text-decoration-color: #7f7f7f\">                                  </span>\n",
              "<span style=\"color: #7fbfbf; text-decoration-color: #7fbfbf\">           </span>        <span style=\"color: #008000; text-decoration-color: #008000\">'rejected_prediction_tokens'</span>: <span style=\"color: #008080; text-decoration-color: #008080; font-weight: bold\">0</span>,                              <span style=\"color: #7f7f7f; text-decoration-color: #7f7f7f\">                                  </span>\n",
              "<span style=\"color: #7fbfbf; text-decoration-color: #7fbfbf\">           </span>        <span style=\"color: #008000; text-decoration-color: #008000\">'cached_tokens'</span>: <span style=\"color: #008080; text-decoration-color: #008080; font-weight: bold\">0</span>                                            <span style=\"color: #7f7f7f; text-decoration-color: #7f7f7f\">                                  </span>\n",
              "<span style=\"color: #7fbfbf; text-decoration-color: #7fbfbf\">           </span>    <span style=\"font-weight: bold\">}</span>                                                                 <span style=\"color: #7f7f7f; text-decoration-color: #7f7f7f\">                                  </span>\n",
              "<span style=\"color: #7fbfbf; text-decoration-color: #7fbfbf\">           </span><span style=\"font-weight: bold\">)</span>                                                                     <span style=\"color: #7f7f7f; text-decoration-color: #7f7f7f\">                                  </span>\n",
              "</pre>\n"
            ]
          },
          "metadata": {}
        },
        {
          "output_type": "display_data",
          "data": {
            "text/plain": [
              "\u001b[2;36m          \u001b[0m\u001b[2;36m \u001b[0mUsing model: groq:gemma2-9b-it                                        \u001b[2m<ipython-input-60-e806a07852a1>:32\u001b[0m\n"
            ],
            "text/html": [
              "<pre style=\"white-space:pre;overflow-x:auto;line-height:normal;font-family:Menlo,'DejaVu Sans Mono',consolas,'Courier New',monospace\"><span style=\"color: #7fbfbf; text-decoration-color: #7fbfbf\">           </span>Using model: groq:gemma2-9b-it                                        <span style=\"color: #7f7f7f; text-decoration-color: #7f7f7f\">&lt;ipython-input-60-e806a07852a1&gt;:32</span>\n",
              "</pre>\n"
            ]
          },
          "metadata": {}
        },
        {
          "output_type": "display_data",
          "data": {
            "text/plain": [
              "Output()"
            ],
            "application/vnd.jupyter.widget-view+json": {
              "version_major": 2,
              "version_minor": 0,
              "model_id": "2cebb1f11dd74add9ba5159bc36995c9"
            }
          },
          "metadata": {}
        },
        {
          "output_type": "display_data",
          "data": {
            "text/plain": [],
            "text/html": [
              "<pre style=\"white-space:pre;overflow-x:auto;line-height:normal;font-family:Menlo,'DejaVu Sans Mono',consolas,'Courier New',monospace\"></pre>\n"
            ]
          },
          "metadata": {}
        },
        {
          "output_type": "display_data",
          "data": {
            "text/plain": [
              "\u001b[2;36m[14:57:32]\u001b[0m\u001b[2;36m \u001b[0m\u001b[1;35mUsage\u001b[0m\u001b[1m(\u001b[0m                                                                \u001b[2m<ipython-input-60-e806a07852a1>:37\u001b[0m\n",
              "\u001b[2;36m           \u001b[0m    \u001b[33mrequests\u001b[0m=\u001b[1;36m1\u001b[0m,                                                       \u001b[2m                                  \u001b[0m\n",
              "\u001b[2;36m           \u001b[0m    \u001b[33mrequest_tokens\u001b[0m=\u001b[1;36m20\u001b[0m,                                                \u001b[2m                                  \u001b[0m\n",
              "\u001b[2;36m           \u001b[0m    \u001b[33mresponse_tokens\u001b[0m=\u001b[1;36m441\u001b[0m,                                              \u001b[2m                                  \u001b[0m\n",
              "\u001b[2;36m           \u001b[0m    \u001b[33mtotal_tokens\u001b[0m=\u001b[1;36m461\u001b[0m,                                                 \u001b[2m                                  \u001b[0m\n",
              "\u001b[2;36m           \u001b[0m    \u001b[33mdetails\u001b[0m=\u001b[3;35mNone\u001b[0m                                                      \u001b[2m                                  \u001b[0m\n",
              "\u001b[2;36m           \u001b[0m\u001b[1m)\u001b[0m                                                                     \u001b[2m                                  \u001b[0m\n"
            ],
            "text/html": [
              "<pre style=\"white-space:pre;overflow-x:auto;line-height:normal;font-family:Menlo,'DejaVu Sans Mono',consolas,'Courier New',monospace\"><span style=\"color: #7fbfbf; text-decoration-color: #7fbfbf\">[14:57:32] </span><span style=\"color: #800080; text-decoration-color: #800080; font-weight: bold\">Usage</span><span style=\"font-weight: bold\">(</span>                                                                <span style=\"color: #7f7f7f; text-decoration-color: #7f7f7f\">&lt;ipython-input-60-e806a07852a1&gt;:37</span>\n",
              "<span style=\"color: #7fbfbf; text-decoration-color: #7fbfbf\">           </span>    <span style=\"color: #808000; text-decoration-color: #808000\">requests</span>=<span style=\"color: #008080; text-decoration-color: #008080; font-weight: bold\">1</span>,                                                       <span style=\"color: #7f7f7f; text-decoration-color: #7f7f7f\">                                  </span>\n",
              "<span style=\"color: #7fbfbf; text-decoration-color: #7fbfbf\">           </span>    <span style=\"color: #808000; text-decoration-color: #808000\">request_tokens</span>=<span style=\"color: #008080; text-decoration-color: #008080; font-weight: bold\">20</span>,                                                <span style=\"color: #7f7f7f; text-decoration-color: #7f7f7f\">                                  </span>\n",
              "<span style=\"color: #7fbfbf; text-decoration-color: #7fbfbf\">           </span>    <span style=\"color: #808000; text-decoration-color: #808000\">response_tokens</span>=<span style=\"color: #008080; text-decoration-color: #008080; font-weight: bold\">441</span>,                                              <span style=\"color: #7f7f7f; text-decoration-color: #7f7f7f\">                                  </span>\n",
              "<span style=\"color: #7fbfbf; text-decoration-color: #7fbfbf\">           </span>    <span style=\"color: #808000; text-decoration-color: #808000\">total_tokens</span>=<span style=\"color: #008080; text-decoration-color: #008080; font-weight: bold\">461</span>,                                                 <span style=\"color: #7f7f7f; text-decoration-color: #7f7f7f\">                                  </span>\n",
              "<span style=\"color: #7fbfbf; text-decoration-color: #7fbfbf\">           </span>    <span style=\"color: #808000; text-decoration-color: #808000\">details</span>=<span style=\"color: #800080; text-decoration-color: #800080; font-style: italic\">None</span>                                                      <span style=\"color: #7f7f7f; text-decoration-color: #7f7f7f\">                                  </span>\n",
              "<span style=\"color: #7fbfbf; text-decoration-color: #7fbfbf\">           </span><span style=\"font-weight: bold\">)</span>                                                                     <span style=\"color: #7f7f7f; text-decoration-color: #7f7f7f\">                                  </span>\n",
              "</pre>\n"
            ]
          },
          "metadata": {}
        }
      ]
    },
    {
      "cell_type": "markdown",
      "source": [
        "\n",
        "\n",
        "---\n",
        "\n",
        "### **1. `import asyncio`**\n",
        "**Definition:**\n",
        "- The `asyncio` module in Python is used to write concurrent code using **async/await** syntax. It provides facilities for running asynchronous tasks, like networking or disk I/O operations, without blocking the rest of the program.\n",
        "  \n",
        "**Use Cases:**\n",
        "- Asynchronous programming, where tasks such as waiting for data or processing requests can run concurrently.\n",
        "\n",
        "---\n",
        "\n",
        "### **2. `import os`**\n",
        "**Definition:**\n",
        "- The `os` module provides functions to interact with the operating system. It allows you to work with files, directories, environment variables, and more.\n",
        "\n",
        "**Common Use Cases:**\n",
        "- Reading and writing files\n",
        "- Manipulating file paths\n",
        "- Accessing environment variables\n",
        "- Running shell commands\n",
        "  \n",
        "Example:\n",
        "```python\n",
        "import os\n",
        "print(os.getcwd())  # Get current working directory\n",
        "```\n",
        "\n",
        "---\n",
        "\n",
        "### **3. `from rich.console import Console, ConsoleOptions, RenderResult`**\n",
        "#### - **`Console`**:\n",
        "**Definition:**\n",
        "- The `Console` class in the `rich` library is used to output styled text, rich elements, and provide rich printing capabilities to the terminal. It supports color, tables, progress bars, etc.\n",
        "\n",
        "**Use Cases:**\n",
        "- Printing rich, styled text to the console with features like colors, tables, and more.\n",
        "\n",
        "Example:\n",
        "```python\n",
        "from rich.console import Console\n",
        "\n",
        "console = Console()\n",
        "console.print(\"Hello, [bold magenta]world[/bold magenta]!\")\n",
        "```\n",
        "\n",
        "#### - **`ConsoleOptions`**:\n",
        "**Definition:**\n",
        "- A class used in `rich` for handling the options or configurations passed to the `Console` object.\n",
        "\n",
        "**Use Cases:**\n",
        "- Not typically used by end users directly but supports advanced console options.\n",
        "\n",
        "#### - **`RenderResult`**:\n",
        "**Definition:**\n",
        "- A class in `rich` that represents the result of rendering a rich object. It’s part of the internal mechanics of rendering rich content to the console.\n",
        "\n",
        "---\n",
        "\n",
        "### **4. `from rich.live import Live`**\n",
        "**Definition:**\n",
        "- `Live` is a class in `rich` used for live updating content on the terminal. It allows you to show dynamic content that updates in real time.\n",
        "\n",
        "**Use Cases:**\n",
        "- Showing dynamic information such as progress bars, logs, or real-time data updates.\n",
        "\n",
        "Example:\n",
        "```python\n",
        "from rich.live import Live\n",
        "from rich.progress import Progress\n",
        "\n",
        "progress = Progress()\n",
        "task = progress.add_task(\"[cyan]Processing...\", total=100)\n",
        "\n",
        "with Live(progress, refresh_per_second=10):\n",
        "    while not progress.finished:\n",
        "        progress.update(task, advance=1)\n",
        "```\n",
        "\n",
        "---\n",
        "\n",
        "### **5. `from rich.markdown import CodeBlock, Markdown`**\n",
        "#### - **`CodeBlock`**:\n",
        "**Definition:**\n",
        "- The `CodeBlock` class in `rich` is used to format and display code snippets with syntax highlighting in the console.\n",
        "\n",
        "**Use Cases:**\n",
        "- Displaying source code in a formatted manner within the terminal, making it easier to read.\n",
        "\n",
        "Example:\n",
        "```python\n",
        "from rich.markdown import CodeBlock\n",
        "\n",
        "code = \"\"\"def hello_world():\n",
        "    print(\"Hello, World!\")\"\"\"\n",
        "console = Console()\n",
        "console.print(CodeBlock(code, language=\"python\"))\n",
        "```\n",
        "\n",
        "#### - **`Markdown`**:\n",
        "**Definition:**\n",
        "- The `Markdown` class is used to render **Markdown** formatted text in the terminal, allowing for headers, lists, and bold/italic text to be displayed.\n",
        "\n",
        "**Use Cases:**\n",
        "- Displaying Markdown-formatted text in a rich console interface.\n",
        "\n",
        "Example:\n",
        "```python\n",
        "from rich.markdown import Markdown\n",
        "\n",
        "md = Markdown(\"## This is a heading\\n- List item 1\\n- List item 2\")\n",
        "console = Console()\n",
        "console.print(md)\n",
        "```\n",
        "\n",
        "---\n",
        "\n",
        "### **6. `from rich.syntax import Syntax`**\n",
        "**Definition:**\n",
        "- The `Syntax` class in `rich` is used to display code with syntax highlighting. It provides a way to style source code according to the language.\n",
        "\n",
        "**Use Cases:**\n",
        "- Displaying code with language-specific syntax highlighting in the terminal.\n",
        "\n",
        "Example:\n",
        "```python\n",
        "from rich.syntax import Syntax\n",
        "\n",
        "code = \"\"\"def greet(name):\n",
        "    print(f\"Hello, {name}!\")\"\"\"\n",
        "syntax = Syntax(code, \"python\", theme=\"monokai\")\n",
        "console = Console()\n",
        "console.print(syntax)\n",
        "```\n",
        "\n",
        "---\n",
        "\n",
        "### **7. `from rich.text import Text`**\n",
        "**Definition:**\n",
        "- The `Text` class is used to represent text with rich formatting, like color, bold, underline, and more.\n",
        "\n",
        "**Use Cases:**\n",
        "- Formatting text with styles for console output, such as making text bold or changing its color.\n",
        "\n",
        "Example:\n",
        "```python\n",
        "from rich.text import Text\n",
        "\n",
        "text = Text(\"This is bold and [italic]italic[/italic]\")\n",
        "text.stylize(\"bold\")\n",
        "console = Console()\n",
        "console.print(text)\n",
        "```\n",
        "\n",
        "---\n"
      ],
      "metadata": {
        "id": "de448kXnPJwB"
      }
    }
  ]
}