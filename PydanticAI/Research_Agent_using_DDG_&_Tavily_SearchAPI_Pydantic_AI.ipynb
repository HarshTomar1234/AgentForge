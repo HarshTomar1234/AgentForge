{
  "nbformat": 4,
  "nbformat_minor": 0,
  "metadata": {
    "colab": {
      "provenance": []
    },
    "kernelspec": {
      "name": "python3",
      "display_name": "Python 3"
    },
    "language_info": {
      "name": "python"
    }
  },
  "cells": [
    {
      "cell_type": "markdown",
      "source": [
        "# Building a Research Agent with Pydantic AI."
      ],
      "metadata": {
        "id": "QYMN38rMsnJp"
      }
    },
    {
      "cell_type": "markdown",
      "source": [
        "## `devtools`\n",
        "\n",
        "The `devtools` package in Python is a **developer-friendly debugging tool** that enhances the debugging experience by providing **better output formatting**, **structured logging**, and **debugging utilities**.\n",
        "\n",
        "---\n",
        "\n",
        "### **Key Features of `devtools`**\n",
        "1. **Enhanced Debugging (`debug()`)**  \n",
        "   - Similar to `print()`, but with **better formatting**, showing the **file name** and **line number** where it was called.\n",
        "   \n",
        "2. **Pretty Printing**  \n",
        "   - Automatically formats **complex objects, dictionaries, and lists** for better readability.\n",
        "   \n",
        "3. **Logging Integration**  \n",
        "   - Works with Python's logging module to provide **structured and readable log messages**.\n",
        "   \n",
        "4. **Type Information Display**  \n",
        "   - Shows data types when debugging to help in debugging **type-related issues**.\n",
        "\n",
        "---\n",
        "\n",
        "### **Installation**\n",
        "You can install `devtools` using **pip**:\n",
        "```bash\n",
        "pip install devtools\n",
        "```\n",
        "\n",
        "---\n",
        "\n",
        "### **Basic Example: Using `debug()` Instead of `print()`**\n",
        "```python\n",
        "from devtools import debug\n",
        "\n",
        "data = {\n",
        "    \"name\": \"Alice\",\n",
        "    \"age\": 30,\n",
        "    \"hobbies\": [\"Reading\", \"Cycling\", \"Gaming\"]\n",
        "}\n",
        "\n",
        "debug(data)\n",
        "```\n",
        "**Output (Example)**\n",
        "```\n",
        "test.py:6\n",
        "{'name': 'Alice', 'age': 30, 'hobbies': ['Reading', 'Cycling', 'Gaming']}\n",
        "```\n",
        "✔️ **Why is this better than `print()`?**  \n",
        "- It **automatically formats** the output.\n",
        "- It **shows the file name and line number** (`test.py:6`).\n",
        "- It **improves readability** when debugging large or nested data.\n",
        "\n",
        "---\n",
        "\n",
        "### **Advanced Example: Logging Integration**\n",
        "You can also use `devtools` with Python's built-in **logging module** for structured logging:\n",
        "```python\n",
        "import logging\n",
        "from devtools import pformat\n",
        "\n",
        "logging.basicConfig(level=logging.DEBUG)\n",
        "logger = logging.getLogger(__name__)\n",
        "\n",
        "data = {\"status\": \"success\", \"items\": [1, 2, 3, 4]}\n",
        "logger.debug(\"Response Data: %s\", pformat(data))\n",
        "```\n",
        "✔️ **Why is this useful?**  \n",
        "- `pformat(data)` **pretty-prints the dictionary** inside log messages.\n",
        "- **Improves debugging readability** for structured data.\n",
        "\n",
        "---\n",
        "\n",
        "### **When to Use `devtools`?**\n",
        "✔ **For debugging complex data structures**  \n",
        "✔ **When you need better formatted logs**  \n",
        "✔ **When working with dictionaries, JSON, or nested lists**  \n",
        "✔ **For quick insights into variable contents without messy `print()` outputs**  \n",
        "\n"
      ],
      "metadata": {
        "id": "6k5j_bhzvNRs"
      }
    },
    {
      "cell_type": "markdown",
      "source": [
        "## `tavily-python`  \n",
        "\n",
        "`Tavily-python` is a Python package that provides an interface for interacting with **Tavily's Search API**, allowing developers to **fetch real-time web search results** and integrate search functionalities into their applications.  \n",
        "\n",
        "---\n",
        "\n",
        "### **Key Features of `tavily-python`**  \n",
        "1. **Real-time Search** – Fetches up-to-date search results.  \n",
        "2. **API-Based** – Uses Tavily's search API for retrieving information.  \n",
        "3. **Easy to Use** – Simple client for making queries.  \n",
        "4. **Structured Results** – Returns well-formatted data for easy processing.  \n",
        "\n",
        "---\n",
        "\n",
        "### **Installation**  \n",
        "You can install `tavily-python` via pip:  \n",
        "```bash\n",
        "pip install tavily-python\n",
        "```\n",
        "\n",
        "---\n",
        "\n",
        "### **Basic Usage Example**  \n",
        "```python\n",
        "from tavily import TavilyClient\n",
        "\n",
        "# Initialize the Tavily Client with your API key\n",
        "client = TavilyClient(api_key=\"tvly-YOUR_API_KEY\")\n",
        "\n",
        "# Perform a search query\n",
        "response = client.search(\"What is artificial intelligence?\")\n",
        "\n",
        "# Print search results\n",
        "print(response)\n",
        "```\n",
        "✔️ This script **initializes** the Tavily search client, runs a **query**, and returns the **results**.  \n",
        "\n",
        "---\n",
        "\n",
        "### **Example Output (Structured JSON)**\n",
        "```json\n",
        "{\n",
        "  \"query\": \"What is artificial intelligence?\",\n",
        "  \"results\": [\n",
        "    {\n",
        "      \"title\": \"Artificial Intelligence - Wikipedia\",\n",
        "      \"url\": \"https://en.wikipedia.org/wiki/Artificial_intelligence\",\n",
        "      \"snippet\": \"Artificial intelligence (AI) refers to intelligence demonstrated by machines...\"\n",
        "    },\n",
        "    {\n",
        "      \"title\": \"Introduction to AI - IBM\",\n",
        "      \"url\": \"https://www.ibm.com/topics/artificial-intelligence\",\n",
        "      \"snippet\": \"AI is the simulation of human intelligence processes by machines...\"\n",
        "    }\n",
        "  ]\n",
        "}\n",
        "```\n",
        "✔️ The response provides **structured search results** including the **title, URL, and a short snippet**.  \n",
        "\n",
        "---\n",
        "\n",
        "### **When to Use `tavily-python`?**  \n",
        "✔ **For integrating search functionality into Python applications**  \n",
        "✔ **When you need real-time web data for AI models, chatbots, or automation**  \n",
        "✔ **For fetching up-to-date research information programmatically**  \n",
        "\n"
      ],
      "metadata": {
        "id": "mDwIQheGwY34"
      }
    },
    {
      "cell_type": "code",
      "execution_count": 1,
      "metadata": {
        "id": "kBChdle68C3E",
        "colab": {
          "base_uri": "https://localhost:8080/"
        },
        "outputId": "588acbe5-4373-4909-f074-c9ec7d70d58a"
      },
      "outputs": [
        {
          "output_type": "stream",
          "name": "stdout",
          "text": [
            "\u001b[?25l   \u001b[90m━━━━━━━━━━━━━━━━━━━━━━━━━━━━━━━━━━━━━━━━\u001b[0m \u001b[32m0.0/90.5 kB\u001b[0m \u001b[31m?\u001b[0m eta \u001b[36m-:--:--\u001b[0m\r\u001b[2K   \u001b[90m━━━━━━━━━━━━━━━━━━━━━━━━━━━━━━━━━━━━━━━━\u001b[0m \u001b[32m90.5/90.5 kB\u001b[0m \u001b[31m3.2 MB/s\u001b[0m eta \u001b[36m0:00:00\u001b[0m\n",
            "\u001b[2K   \u001b[90m━━━━━━━━━━━━━━━━━━━━━━━━━━━━━━━━━━━━━━━━\u001b[0m \u001b[32m222.8/222.8 kB\u001b[0m \u001b[31m9.1 MB/s\u001b[0m eta \u001b[36m0:00:00\u001b[0m\n",
            "\u001b[2K   \u001b[90m━━━━━━━━━━━━━━━━━━━━━━━━━━━━━━━━━━━━━━━━\u001b[0m \u001b[32m252.5/252.5 kB\u001b[0m \u001b[31m8.1 MB/s\u001b[0m eta \u001b[36m0:00:00\u001b[0m\n",
            "\u001b[2K   \u001b[90m━━━━━━━━━━━━━━━━━━━━━━━━━━━━━━━━━━━━━━━━\u001b[0m \u001b[32m210.8/210.8 kB\u001b[0m \u001b[31m6.3 MB/s\u001b[0m eta \u001b[36m0:00:00\u001b[0m\n",
            "\u001b[2K   \u001b[90m━━━━━━━━━━━━━━━━━━━━━━━━━━━━━━━━━━━━━━━━\u001b[0m \u001b[32m128.2/128.2 kB\u001b[0m \u001b[31m4.6 MB/s\u001b[0m eta \u001b[36m0:00:00\u001b[0m\n",
            "\u001b[2K   \u001b[90m━━━━━━━━━━━━━━━━━━━━━━━━━━━━━━━━━━━━━━━━\u001b[0m \u001b[32m109.8/109.8 kB\u001b[0m \u001b[31m6.3 MB/s\u001b[0m eta \u001b[36m0:00:00\u001b[0m\n",
            "\u001b[2K   \u001b[90m━━━━━━━━━━━━━━━━━━━━━━━━━━━━━━━━━━━━━━━━\u001b[0m \u001b[32m73.8/73.8 kB\u001b[0m \u001b[31m5.5 MB/s\u001b[0m eta \u001b[36m0:00:00\u001b[0m\n",
            "\u001b[2K   \u001b[90m━━━━━━━━━━━━━━━━━━━━━━━━━━━━━━━━━━━━━━━━\u001b[0m \u001b[32m271.6/271.6 kB\u001b[0m \u001b[31m6.2 MB/s\u001b[0m eta \u001b[36m0:00:00\u001b[0m\n",
            "\u001b[2K   \u001b[90m━━━━━━━━━━━━━━━━━━━━━━━━━━━━━━━━━━━━━━━━\u001b[0m \u001b[32m3.3/3.3 MB\u001b[0m \u001b[31m19.0 MB/s\u001b[0m eta \u001b[36m0:00:00\u001b[0m\n",
            "\u001b[?25h\u001b[31mERROR: pip's dependency resolver does not currently take into account all the packages that are installed. This behaviour is the source of the following dependency conflicts.\n",
            "google-colab 1.0.0 requires google-auth==2.27.0, but you have google-auth 2.38.0 which is incompatible.\u001b[0m\u001b[31m\n",
            "\u001b[2K   \u001b[90m━━━━━━━━━━━━━━━━━━━━━━━━━━━━━━━━━━━━━━━━\u001b[0m \u001b[32m3.3/3.3 MB\u001b[0m \u001b[31m33.3 MB/s\u001b[0m eta \u001b[36m0:00:00\u001b[0m\n",
            "\u001b[2K   \u001b[90m━━━━━━━━━━━━━━━━━━━━━━━━━━━━━━━━━━━━━━━━\u001b[0m \u001b[32m1.2/1.2 MB\u001b[0m \u001b[31m19.6 MB/s\u001b[0m eta \u001b[36m0:00:00\u001b[0m\n",
            "\u001b[?25h"
          ]
        }
      ],
      "source": [
        "!pip -q install pydantic-ai\n",
        "!pip -q install nest_asyncio\n",
        "!pip -q install devtools\n",
        "!pip -q install duckduckgo-search\n",
        "!pip -q install tavily-python"
      ]
    },
    {
      "cell_type": "markdown",
      "source": [
        "### **Restart the notebook**\n",
        "\n",
        "You will need to restart the notebook after you've installed Pydantic AI and the other dependencies above."
      ],
      "metadata": {
        "id": "N2rUPJxt4t-r"
      }
    },
    {
      "cell_type": "code",
      "source": [
        "import os\n",
        "from google.colab import userdata\n",
        "from IPython.display import display, Markdown\n",
        "\n",
        "os.environ[\"OPENAI_API_KEY\"] = userdata.get('OPENAI_API_KEY')\n",
        "os.environ[\"GEMINI_API_KEY\"] = userdata.get('GOOGLE_AI_STUDIO')\n",
        "os.environ[\"GROQ_API_KEY\"] = userdata.get('GROQ_API_KEY')\n",
        "os.environ[\"TAVILY_API_KEY\"] = userdata.get('TAVILY_API_KEY') # If you dont have this use the DDGS alternative below"
      ],
      "metadata": {
        "id": "icRZD-DW8JZf"
      },
      "execution_count": 2,
      "outputs": []
    },
    {
      "cell_type": "code",
      "source": [
        "import nest_asyncio\n",
        "nest_asyncio.apply()"
      ],
      "metadata": {
        "id": "ZKpEfbHCO0b5"
      },
      "execution_count": 3,
      "outputs": []
    },
    {
      "cell_type": "markdown",
      "source": [
        "## Setting Up search using Tavily & DDGS\n",
        "\n",
        "I've put both Tavily search and DuckDuckGo search here. You should use DuckDuckGo search if you want a free alternative, but you can get an API key with Tavily which will also give you a number of free calls. Unfortunately, nowadays with DuckDuckGo search you often hit rate limits if you're not using a proxy system.\n",
        "\n",
        "No need to use both, just using one of these is fine."
      ],
      "metadata": {
        "id": "GUsfwyaIgVZE"
      }
    },
    {
      "cell_type": "markdown",
      "source": [
        "### DuckDuckGo Search"
      ],
      "metadata": {
        "id": "ZqoCgYrlsXCp"
      }
    },
    {
      "cell_type": "code",
      "source": [
        "!pip install --upgrade duckduckgo_search"
      ],
      "metadata": {
        "colab": {
          "base_uri": "https://localhost:8080/"
        },
        "id": "BTCggPlTzBuX",
        "outputId": "89e28ba1-29df-461f-919e-ccaeb2587a9c"
      },
      "execution_count": 5,
      "outputs": [
        {
          "output_type": "stream",
          "name": "stdout",
          "text": [
            "Requirement already satisfied: duckduckgo_search in /usr/local/lib/python3.11/dist-packages (7.3.0)\n",
            "Requirement already satisfied: click>=8.1.8 in /usr/local/lib/python3.11/dist-packages (from duckduckgo_search) (8.1.8)\n",
            "Requirement already satisfied: primp>=0.11.0 in /usr/local/lib/python3.11/dist-packages (from duckduckgo_search) (0.11.0)\n",
            "Requirement already satisfied: lxml>=5.3.0 in /usr/local/lib/python3.11/dist-packages (from duckduckgo_search) (5.3.0)\n"
          ]
        }
      ]
    },
    {
      "cell_type": "code",
      "source": [
        "!pip show duckduckgo-search"
      ],
      "metadata": {
        "colab": {
          "base_uri": "https://localhost:8080/"
        },
        "id": "un5XuwF90TVZ",
        "outputId": "c7efa51b-f29e-4cfa-884a-b77bddb408c6"
      },
      "execution_count": 12,
      "outputs": [
        {
          "output_type": "stream",
          "name": "stdout",
          "text": [
            "Name: duckduckgo_search\n",
            "Version: 7.3.0\n",
            "Summary: Search for words, documents, images, news, maps and text translation using the DuckDuckGo.com search engine.\n",
            "Home-page: https://github.com/deedy5/duckduckgo_search\n",
            "Author: deedy5\n",
            "Author-email: \n",
            "License: MIT License\n",
            "Location: /usr/local/lib/python3.11/dist-packages\n",
            "Requires: click, lxml, primp\n",
            "Required-by: \n"
          ]
        }
      ]
    },
    {
      "cell_type": "code",
      "source": [
        "from duckduckgo_search import DDGS\n",
        "\n",
        "results = DDGS().text(\"python programming\", max_results=5)\n",
        "print(results)"
      ],
      "metadata": {
        "colab": {
          "base_uri": "https://localhost:8080/"
        },
        "id": "4EbXQTPQgkxe",
        "outputId": "3c3ac9b1-ef77-442c-9fd2-05816f22ac1f"
      },
      "execution_count": 14,
      "outputs": [
        {
          "output_type": "stream",
          "name": "stdout",
          "text": [
            "[{'title': 'Welcome to Python.org', 'href': 'https://www.python.org/', 'body': \"Python is a programming language that lets you work quickly and integrate systems more effectively. Learn More. Get Started. Whether you're new to programming or an experienced developer, it's easy to learn and use Python. Start with our Beginner's Guide. Download.\"}, {'title': 'Python For Beginners', 'href': 'https://www.python.org/about/gettingstarted/', 'body': 'Learn how to get started with Python, a popular and easy-to-use programming language. Find out how to install, edit, and use Python, and explore its libraries, documentation, and community resources.'}, {'title': 'Python Tutorial | Learn Python Programming Language', 'href': 'https://www.geeksforgeeks.org/python-programming-language-tutorial/', 'body': 'A comprehensive guide to learn Python, a popular and versatile programming language for web development, data science, AI and more. Covers Python fundamentals, data types, control flow, functions, OOPs, exceptions, file handling, collections, databases, packages and libraries.'}, {'title': 'Python Tutorial - W3Schools', 'href': 'https://www.w3schools.com/python/', 'body': 'Python is a popular programming language. Python can be used on a server to create web applications. Start learning Python now » ...'}, {'title': 'Python (programming language) - Wikipedia', 'href': 'https://en.wikipedia.org/wiki/Python_(programming_language)', 'body': 'Python is a high-level, general-purpose programming language.Its design philosophy emphasizes code readability with the use of significant indentation. [33]Python is dynamically type-checked and garbage-collected.It supports multiple programming paradigms, including structured (particularly procedural), object-oriented and functional programming.It is often described as a \"batteries included ...'}]\n"
          ]
        }
      ]
    },
    {
      "cell_type": "code",
      "source": [
        "results = AsyncDDGS().text(\"python programming\", max_results=5)\n",
        "print(results)"
      ],
      "metadata": {
        "colab": {
          "base_uri": "https://localhost:8080/"
        },
        "id": "NnKZqQvsoB0j",
        "outputId": "eab369cb-e3c2-4673-c218-679f31c098ed"
      },
      "execution_count": null,
      "outputs": [
        {
          "output_type": "stream",
          "name": "stdout",
          "text": [
            "[{'title': 'Welcome to Python.org', 'href': 'https://www.python.org/', 'body': 'Python is a programming language that lets you work quickly and integrate systems more effectively. Learn More. ⚡🐍⚡ Power Python with a 30% discount on PyCharm- all proceeds go to the Python Software Foundation. Offer ends soon, so grab it today! GET 30% OFF PYCHARM.'}, {'title': 'Python For Beginners | Python.org', 'href': 'https://www.python.org/about/gettingstarted/', 'body': 'Learn how to get started with Python, a popular and easy-to-use programming language. Find out how to install, edit, and use Python, and explore its libraries, documentation, and community resources.'}, {'title': 'Python (programming language) - Wikipedia', 'href': 'https://en.wikipedia.org/wiki/Python_(programming_language)', 'body': 'Python is a high-level, general-purpose programming language.Its design philosophy emphasizes code readability with the use of significant indentation. [32]Python is dynamically typed and garbage-collected.It supports multiple programming paradigms, including structured (particularly procedural), object-oriented and functional programming.It is often described as a \"batteries included ...'}, {'title': 'Python Tutorial - W3Schools', 'href': 'https://www.w3schools.com/python/', 'body': 'W3Schools offers a comprehensive and interactive Python tutorial with examples, exercises, quizzes, and references. You can learn Python basics, web applications, file handling, database handling, and more.'}, {'title': 'Learn Python Programming', 'href': 'https://www.programiz.com/python-programming', 'body': 'A comprehensive guide to learn Python, one of the top programming languages in the world, widely used in AI, data science, and web development. Find free tutorials, interactive courses, online compiler, and career tips for beginners and advanced learners.'}]\n"
          ]
        }
      ]
    },
    {
      "cell_type": "code",
      "source": [
        "results = await AsyncDDGS().achat('describe the characteristic habits and behaviors of humans as a species')\n",
        "print(results)"
      ],
      "metadata": {
        "id": "bVuVSlL-tORa",
        "colab": {
          "base_uri": "https://localhost:8080/"
        },
        "outputId": "60a6576d-1f09-45f7-e813-c1e7182533be"
      },
      "execution_count": null,
      "outputs": [
        {
          "output_type": "stream",
          "name": "stdout",
          "text": [
            "Humans exhibit a wide range of characteristic habits and behaviors that are shaped by biological, social, and cultural factors. Here are some key aspects:\n",
            "\n",
            "1. **Social Interaction**: Humans are inherently social beings. They form complex social structures, including families, communities, and nations. Social interaction is fundamental to human life, influencing emotional well-being and identity.\n",
            "\n",
            "2. **Communication**: Humans have developed sophisticated language systems, allowing for nuanced communication. This includes verbal and non-verbal forms, such as body language, gestures, and written communication.\n",
            "\n",
            "3. **Tool Use**: Humans are known for their ability to create and use tools. This behavior has evolved over time, leading to advancements in technology that enhance survival and improve quality of life.\n",
            "\n",
            "4. **Cultural Practices**: Humans create and participate in diverse cultural practices, including rituals, traditions, art, and music. Culture shapes values, beliefs, and behaviors, providing a sense of identity and belonging.\n",
            "\n",
            "5. **Learning and Adaptation**: Humans have a strong capacity for learning, both from direct experience and through observation. This adaptability allows them to thrive in various environments and situations.\n",
            "\n",
            "6. **Emotional Expression**: Humans experience a wide range of emotions and have developed ways to express and manage these feelings. Emotional intelligence plays a crucial role in social interactions and relationships.\n",
            "\n",
            "7. **Altruism and Cooperation**: While competition exists, humans often engage in altruistic behaviors, helping others and cooperating for mutual benefit. This is evident in community support, charitable actions, and teamwork.\n",
            "\n",
            "8. **Play and Recreation**: Play is an important aspect of human behavior, especially in childhood. It fosters creativity, social skills, and cognitive development. Adults also engage in recreational activities for relaxation and enjoyment.\n",
            "\n",
            "9. **Rituals and Beliefs**: Many humans engage in rituals and hold beliefs that provide meaning and structure to their lives. This can include religious practices, celebrations, and personal routines.\n",
            "\n",
            "10. **Exploration and Curiosity**: Humans have an innate curiosity and desire to explore their environment. This drive has led to discoveries in science, geography, and the arts, pushing the boundaries of knowledge.\n",
            "\n",
            "These habits and behaviors are not universal and can vary significantly across different cultures and societies, but they collectively contribute to the unique nature of humanity.\n"
          ]
        }
      ]
    },
    {
      "cell_type": "markdown",
      "source": [
        "### Tavily Search"
      ],
      "metadata": {
        "id": "4CEVVhRnscdr"
      }
    },
    {
      "cell_type": "code",
      "source": [
        "from tavily import TavilyClient, AsyncTavilyClient\n",
        "\n",
        "# Setup the Tavily Client\n",
        "tavily_client = AsyncTavilyClient(api_key=os.environ[\"TAVILY_API_KEY\"])\n",
        "\n",
        "# Simple Search\n",
        "response = await tavily_client.search(\"Who is Ana De Armas?\", max_results=3)\n",
        "\n",
        "print(response['results'])"
      ],
      "metadata": {
        "colab": {
          "base_uri": "https://localhost:8080/"
        },
        "id": "v3r_wxilsepA",
        "outputId": "0209bad5-0c41-406a-8db8-f72df7c78106"
      },
      "execution_count": 19,
      "outputs": [
        {
          "output_type": "stream",
          "name": "stdout",
          "text": [
            "[{'title': 'Ana De Armas Biography - Facts, Childhood, Family Life & Achievements', 'url': 'https://www.thefamouspeople.com/profiles/ana-de-armas-44631.php', 'content': \"Ana de Armas is a Spanish-Cuban actress who is known for her performances in the films 'Hands of Stone' and 'Blade Runner 2049.' She used to work in the Spanish film industry before transitioning to Hollywood. However, the move did not come without a unique set of challenges, as Ana could not speak English properly.\", 'score': 0.93525803, 'raw_content': None}, {'title': 'Ana de Armas | Biography, Movies, TV Series, Blade Runner, Knives Out ...', 'url': 'https://www.britannica.com/biography/Ana-de-Armas', 'content': 'She nonetheless made her Hollywood debut, in the thriller Knock Knock (2015), starring alongside Keanu Reeves, and had subsequent roles in the comedy crime film War Dogs (2016), in Overdrive (2017), and in Blade Runner 2049 (2017), the last of which was a sequel to the 1982 film Blade Runner, starring Harrison Ford.\\n Knives Out, No Time to Die, and Deep Water\\nIn 2019 de Armas gained fame and acclaim for her role in the hit movie Knives Out, playing a crime novelist’s nurse who becomes tangled up in a murder mystery. Early life and career\\nDe Armas was raised alongside her brother in Santa Cruz del Norte, a town east of Havana, by her parents, Ramón de Armas, a former teacher and school principal, and Ana Caso, an employee of the Cuban Ministry of Education. At age 14 Ana de Armas began studying at the National Theater School of Havana, and she made her film acting debut at age 16 in the Cuban drama Una rosa de Francia, which was released in 2006.\\n She soon secured a part in the James Bond film No Time to Die (2021) and the lead as American actress Marilyn Monroe in Blonde (2022).\\n', 'score': 0.6836946, 'raw_content': None}, {'title': 'The Untold Truth Of Ana De Armas - Looper', 'url': 'https://www.looper.com/914808/the-untold-truth-of-ana-de-armas/', 'content': 'Ana de Armas has become a household name with films such as \"Knives Out\" and \"Blade Runner 2049\" Most recently audiences will see her step into the iconic shoes of Marilyn Monroe in the Andrew', 'score': 0.68064564, 'raw_content': None}]\n"
          ]
        }
      ]
    },
    {
      "cell_type": "code",
      "source": [
        "# Responses\n",
        "for result in response['results']:\n",
        "    print(result['title'])\n",
        "    print(result['content'])\n",
        "    print('\\n')"
      ],
      "metadata": {
        "colab": {
          "base_uri": "https://localhost:8080/"
        },
        "id": "KRc-tLALv6CP",
        "outputId": "6cec3694-f494-487e-a722-fca532275c74"
      },
      "execution_count": 20,
      "outputs": [
        {
          "output_type": "stream",
          "name": "stdout",
          "text": [
            "Ana De Armas Biography - Facts, Childhood, Family Life & Achievements\n",
            "Ana de Armas is a Spanish-Cuban actress who is known for her performances in the films 'Hands of Stone' and 'Blade Runner 2049.' She used to work in the Spanish film industry before transitioning to Hollywood. However, the move did not come without a unique set of challenges, as Ana could not speak English properly.\n",
            "\n",
            "\n",
            "Ana de Armas | Biography, Movies, TV Series, Blade Runner, Knives Out ...\n",
            "She nonetheless made her Hollywood debut, in the thriller Knock Knock (2015), starring alongside Keanu Reeves, and had subsequent roles in the comedy crime film War Dogs (2016), in Overdrive (2017), and in Blade Runner 2049 (2017), the last of which was a sequel to the 1982 film Blade Runner, starring Harrison Ford.\n",
            " Knives Out, No Time to Die, and Deep Water\n",
            "In 2019 de Armas gained fame and acclaim for her role in the hit movie Knives Out, playing a crime novelist’s nurse who becomes tangled up in a murder mystery. Early life and career\n",
            "De Armas was raised alongside her brother in Santa Cruz del Norte, a town east of Havana, by her parents, Ramón de Armas, a former teacher and school principal, and Ana Caso, an employee of the Cuban Ministry of Education. At age 14 Ana de Armas began studying at the National Theater School of Havana, and she made her film acting debut at age 16 in the Cuban drama Una rosa de Francia, which was released in 2006.\n",
            " She soon secured a part in the James Bond film No Time to Die (2021) and the lead as American actress Marilyn Monroe in Blonde (2022).\n",
            "\n",
            "\n",
            "\n",
            "The Untold Truth Of Ana De Armas - Looper\n",
            "Ana de Armas has become a household name with films such as \"Knives Out\" and \"Blade Runner 2049\" Most recently audiences will see her step into the iconic shoes of Marilyn Monroe in the Andrew\n",
            "\n",
            "\n"
          ]
        }
      ]
    },
    {
      "cell_type": "code",
      "source": [
        "# RAG Context search\n",
        "\n",
        "# Context Search\n",
        "context = await tavily_client.get_search_context(query=\"Ana De Armas?\", max_results=3)\n",
        "\n",
        "print(context)"
      ],
      "metadata": {
        "colab": {
          "base_uri": "https://localhost:8080/"
        },
        "id": "q2WhsgwstOFq",
        "outputId": "245d11d4-45f5-4856-ffea-078eccfabe0f"
      },
      "execution_count": 21,
      "outputs": [
        {
          "output_type": "stream",
          "name": "stdout",
          "text": [
            "\"[\\\"{\\\\\\\"url\\\\\\\": \\\\\\\"https://www.themoviedb.org/person/224513-ana-de-armas\\\\\\\", \\\\\\\"content\\\\\\\": \\\\\\\"Ana de Armas was born in Cuba on April 30, 1988. At the age of 14, she began her studies at the National Theatre School of Havana, where she graduated after 4 years. She made her film debut with Una rosa de Francia (2006), which was directed by Manuel Guti\\\\\\\\u00e9rrez Arag\\\\\\\\u00f3n. In 2006 she moved to Spain where she continued her film career, and started doing television.\\\\\\\"}\\\", \\\"{\\\\\\\"url\\\\\\\": \\\\\\\"https://www.britannica.com/biography/Ana-de-Armas\\\\\\\", \\\\\\\"content\\\\\\\": \\\\\\\"She nonetheless made her Hollywood debut, in the thriller Knock Knock (2015), starring alongside Keanu Reeves, and had subsequent roles in the comedy crime film War Dogs (2016), in Overdrive (2017), and in Blade Runner 2049 (2017), the last of which was a sequel to the 1982 film Blade Runner, starring Harrison Ford.\\\\\\\\n Knives Out, No Time to Die, and Deep Water\\\\\\\\nIn 2019 de Armas gained fame and acclaim for her role in the hit movie Knives Out, playing a crime novelist\\\\\\\\u2019s nurse who becomes tangled up in a murder mystery. Early life and career\\\\\\\\nDe Armas was raised alongside her brother in Santa Cruz del Norte, a town east of Havana, by her parents, Ram\\\\\\\\u00f3n de Armas, a former teacher and school principal, and Ana Caso, an employee of the Cuban Ministry of Education. At age 14 Ana de Armas began studying at the National Theater School of Havana, and she made her film acting debut at age 16 in the Cuban drama Una rosa de Francia, which was released in 2006.\\\\\\\\n She soon secured a part in the James Bond film No Time to Die (2021) and the lead as American actress Marilyn Monroe in Blonde (2022).\\\\\\\\n\\\\\\\"}\\\", \\\"{\\\\\\\"url\\\\\\\": \\\\\\\"https://en.wikipedia.org/wiki/Ana_de_Armas\\\\\\\", \\\\\\\"content\\\\\\\": \\\\\\\"In her native Cuba, de\\\\\\\\u00a0Armas had a starring role opposite \\\\\\\\u00c1lex Gonz\\\\\\\\u00e1lez in Manuel Guti\\\\\\\\u00e9rrez Arag\\\\\\\\u00f3n's romantic drama Una rosa de Francia (2006).[13] Cuban actor Jorge Perugorr\\\\\\\\u00eda suggested that the director consider de\\\\\\\\u00a0Armas for the role, after meeting her while attending a birthday party with his daughters.[24][25] The director visited de\\\\\\\\u00a0Armas's drama school and interrupted the sixteen-year-old during her audition to inform her that the role was hers.[24][26] She travelled to Spain as part of a promotional tour for the film and was introduced to Juan Lanja, who would later become her Spanish agent.[24] She then starred in the movie El ed\\\\\\\\u00e9n perdido (2007) and had a supporting role in Fernando P\\\\\\\\u00e9rez's Madrigal (2007), filmed at night without the permission of her drama school tutors.[9]\\\\\\\\nAt age 18, de\\\\\\\\u00a0Armas moved to Madrid. Despite giving a positive review of the film, Randy Cordova of the Arizona Republic found de Armas to be \\\\\\\\\\\\\\\"unconvincing\\\\\\\\\\\\\\\" in her role.[35] Reeves then telephoned de Armas to invite her to star in a Spanish-language role in the thriller Daughter of God which he acted in and produced.[36] Producer Mark Downie hoped the film would be a star vehicle for de Armas, but due to executive meddling Daughter of God was severely edited with de Armas' former starring role reduced. The director Danny Boyle said that, while de Armas was \\\\\\\\\\\\\\\"really radiant\\\\\\\\\\\\\\\" in her scenes, the introduction of a love triangle subplot did not test well with audiences.[49]\\\\\\\\nDe Armas's role as an immigrant nurse in the ensemble murder mystery film Knives Out (2019), written and directed by Rian Johnson, was widely praised and marked a breakthrough for the actress.[50] When first approached about the project, she was unenthusiastic about the idea of playing a stereotypical \\\\\\\\\\\\\\\"Latina caretaker\\\\\\\\\\\\\\\" but soon realized that her character was \\\\\\\\\\\\\\\"so much more than that. She received a nomination for the Academy Award for Best Actress, in addition to nominations for the BAFTA, Golden Globe and SAG Award in the same category.[88][89]\\\\\\\\nDe Armas next starred in the Apple TV+ action comedy film Ghosted (2023).[90] Benjamin Lee of The Guardian panned the film and the lack of chemistry between de Armas and Evans.[91] She then starred in Antonio Trashorras's horror films El callej\\\\\\\\u00f3n (2011) and Anabel (2015),[30] and in the drama Por un pu\\\\\\\\u00f1ado de besos (2014).[31] During a long period without acting work,[21] de Armas participated in workshops at Tomaz Pandur's Madrid theatre company[6] and felt \\\\\\\\\\\\\\\"very anxious\\\\\\\\\\\\\\\" about the lack of momentum in her career.[15]\\\\\\\\nTransition to Hollywood and breakthrough (2014\\\\\\\\u20132020)[edit]\\\\\\\\nWith encouragement from her newly hired Hollywood agent, she decided to move to Los Angeles.[14]\\\\\\\"}\\\"]\"\n"
          ]
        }
      ]
    },
    {
      "cell_type": "markdown",
      "source": [
        "## Setting up the Agent & Tools"
      ],
      "metadata": {
        "id": "Gkm255ZBsu9e"
      }
    },
    {
      "cell_type": "code",
      "source": [
        "from __future__ import annotations as _annotations\n",
        "\n",
        "import asyncio\n",
        "import os\n",
        "from dataclasses import dataclass\n",
        "from typing import Any\n",
        "\n",
        "from devtools import debug\n",
        "from httpx import AsyncClient\n",
        "import datetime\n",
        "\n",
        "from pydantic_ai import Agent, ModelRetry, RunContext\n",
        "from pydantic import BaseModel, Field"
      ],
      "metadata": {
        "id": "p-vqnUv4lfM5"
      },
      "execution_count": 22,
      "outputs": []
    },
    {
      "cell_type": "code",
      "source": [
        "@dataclass\n",
        "class SearchDataclass:\n",
        "    max_results: int\n",
        "    todays_date: str\n",
        "\n",
        "@dataclass\n",
        "class ResearchDependencies:\n",
        "    todays_date: str\n",
        "\n",
        "class ResearchResult(BaseModel):\n",
        "    research_title: str = Field(description='This is a top level Markdown heading that covers the topic of the query and answer prefix it with #')\n",
        "    research_main: str = Field(description='This is a main section that provides answers for the query and research')\n",
        "    research_bullets: str = Field(description='This is a set of bulletpoints that summarize the answers for query')"
      ],
      "metadata": {
        "id": "q0Jxftii2JSg"
      },
      "execution_count": 23,
      "outputs": []
    },
    {
      "cell_type": "code",
      "source": [
        "## Making the agent\n",
        "search_agent = Agent('openai:gpt-4o',\n",
        "                     deps_type=ResearchDependencies,\n",
        "                     result_type=ResearchResult,\n",
        "                     system_prompt='Your a helpful research assistant, you are an expert in research '\n",
        "                     'If you are given a question you write strong keywords to do 3-5 searches in total '\n",
        "                     '(each with a query_number) and then combine the results' )\n"
      ],
      "metadata": {
        "id": "F87pJ01UnB8j"
      },
      "execution_count": 24,
      "outputs": []
    },
    {
      "cell_type": "code",
      "source": [
        "@search_agent.tool #Tavily\n",
        "async def get_search(search_data:RunContext[SearchDataclass],query: str, query_number: int) -> dict[str, Any]:\n",
        "    \"\"\"Get the search for a keyword query.\n",
        "\n",
        "    Args:\n",
        "        query: keywords to search.\n",
        "    \"\"\"\n",
        "    print(f\"Search query {query_number}: {query}\")\n",
        "    max_results = search_data.deps.max_results\n",
        "    results = await tavily_client.get_search_context(query=query, max_results=max_results)\n",
        "\n",
        "    return results\n"
      ],
      "metadata": {
        "id": "OuX8DCKguKVG"
      },
      "execution_count": 25,
      "outputs": []
    },
    {
      "cell_type": "markdown",
      "source": [
        "#### Uncomment this for the DDGS version"
      ],
      "metadata": {
        "id": "zStn8UCn0udh"
      }
    },
    {
      "cell_type": "code",
      "source": [
        "# @search_agent.tool # DDGS\n",
        "# async def get_search(search_data:RunContext[SearchDataclass],query: str) -> dict[str, Any]:\n",
        "#     \"\"\"Get the search for a keyword query.\n",
        "\n",
        "#     Args:\n",
        "#         query: keywords to search.\n",
        "#     \"\"\"\n",
        "#     print(f\"Search query: {query}\")\n",
        "#     max_results = search_data.deps.max_results\n",
        "#     results = await AsyncDDGS(proxy=None).atext(query, max_results=max_results)\n",
        "\n",
        "#     return results"
      ],
      "metadata": {
        "id": "lNCOYz7HtRJ7"
      },
      "execution_count": null,
      "outputs": []
    },
    {
      "cell_type": "code",
      "source": [
        "## set up the dependencies\n",
        "\n",
        "# Get the current date\n",
        "current_date = datetime.date.today()\n",
        "\n",
        "# Convert the date to a string\n",
        "date_string = current_date.strftime(\"%Y-%m-%d\")\n",
        "\n",
        "\n",
        "deps = SearchDataclass(max_results=3, todays_date=date_string)\n",
        "\n"
      ],
      "metadata": {
        "id": "YUMBK_Mc_2hz"
      },
      "execution_count": 26,
      "outputs": []
    },
    {
      "cell_type": "code",
      "source": [
        "result = await search_agent.run(\n",
        "    'Can you give me a very detailed bio of Ana De Armas?', deps=deps\n",
        ")"
      ],
      "metadata": {
        "colab": {
          "base_uri": "https://localhost:8080/"
        },
        "id": "R984pSOJ4xQe",
        "outputId": "c0ff9689-e01d-4816-dfd0-84f6c27313ee"
      },
      "execution_count": 28,
      "outputs": [
        {
          "output_type": "stream",
          "name": "stdout",
          "text": [
            "Search query 1: Ana De Armas biography early life\n",
            "Search query 2: Ana De Armas career achievements\n",
            "Search query 3: Ana De Armas personal life\n",
            "Search query 4: Ana De Armas awards and nominations\n",
            "Search query 5: Ana De Armas future projects\n"
          ]
        }
      ]
    },
    {
      "cell_type": "code",
      "source": [
        "print(result.data)"
      ],
      "metadata": {
        "colab": {
          "base_uri": "https://localhost:8080/"
        },
        "id": "TLnmlWyV72Cf",
        "outputId": "662c4c17-5f32-4ce3-c336-10e59d8a08e3"
      },
      "execution_count": 29,
      "outputs": [
        {
          "output_type": "stream",
          "name": "stdout",
          "text": [
            "research_title='Biography of Ana De Armas: A Comprehensive Overview' research_main='Ana de Armas is a highly acclaimed Spanish-Cuban actress, known for her diverse roles and captivating performances both in Spanish cinema and Hollywood. Born on April 30, 1988, in Havana, Cuba, Ana Celia de Armas Caso grew up in Santa Cruz del Norte. She is the daughter of Ramón de Armas, who had a multifaceted career as a teacher, principal, and deputy mayor, and Ana Caso, an administrative worker for the Ministry of Education. Her passion for acting was evident at a young age, as she studied at the National Theater School of Havana and made her acting debut at age 16 in the Cuban film \"Una rosa de Francia.\"\\n\\nIn pursuit of a greater opportunity, de Armas moved to Spain at the age of 18 where she quickly established herself as a talented actress in Spanish television. Her move to Hollywood marked a significant turning point, initially gaining attention with her role in \"Knock Knock\" (2015) alongside Keanu Reeves. However, it was her performance in \"Blade Runner 2049\" (2017) that earned her widespread acclaim.\\n\\nAna de Armas rose to further prominence with her lauded role in \"Knives Out\" (2019), which earned her a Golden Globe nomination and established her as a leading figure in Hollywood circles. She continued her success with roles in \"No Time to Die\" (2021) and \"Blonde\" (2022), where she portrayed Marilyn Monroe, garnering her nominations from the Academy Awards, BAFTAs, Golden Globes, and Screen Actors Guild Awards.\\n\\nOutside of her professional life, Ana de Armas has had an intriguing personal life, including a marriage to Spanish actor Marc Clotet and relationships with high-profile individuals. Despite her public persona, she remains quite private about personal details. Looking forward, de Armas has an exciting slate of future projects, including a highly anticipated role in the \"John Wick\" franchise\\'s spin-off \"Ballerina.\"' research_bullets='- Ana de Armas was born on April 30, 1988, in Havana, Cuba.\\n- She is of Spanish-Cuban descent, fluent in both Spanish and English.\\n- Ana attended the National Theater School of Havana and started acting at 16.\\n- Moved to Spain at 18, where she became known through Spanish television.\\n- Moved to Hollywood, debuting in \"Knock Knock\" (2015) with Keanu Reeves.\\n- Gained fame for her role in \"Blade Runner 2049\" and critical acclaim in \"Knives Out\".\\n- Starred in \"No Time to Die\" and portrayed Marilyn Monroe in \"Blonde\" (2022).\\n- Nominated for awards including Oscars, BAFTA, Golden Globes for \"Blonde\".\\n- Was married to Marc Clotet and has had notable relationships.\\n- Future projects include \"Ballerina,\" a spin-off from the \"John Wick\" series.'\n"
          ]
        }
      ]
    },
    {
      "cell_type": "code",
      "source": [
        "result.data.research_title = '#'+result.data.research_title\n",
        "print(result.data.research_title)"
      ],
      "metadata": {
        "colab": {
          "base_uri": "https://localhost:8080/"
        },
        "id": "m8Jf8MX177a4",
        "outputId": "76837d59-a44e-4cfb-a35f-c70567b91cb8"
      },
      "execution_count": 30,
      "outputs": [
        {
          "output_type": "stream",
          "name": "stdout",
          "text": [
            "#Biography of Ana De Armas: A Comprehensive Overview\n"
          ]
        }
      ]
    },
    {
      "cell_type": "code",
      "source": [
        "print(result.data.research_main)"
      ],
      "metadata": {
        "colab": {
          "base_uri": "https://localhost:8080/"
        },
        "id": "1ElYwhOz8FRX",
        "outputId": "127a15fd-8674-49d6-d39e-9b4905fe8062"
      },
      "execution_count": 31,
      "outputs": [
        {
          "output_type": "stream",
          "name": "stdout",
          "text": [
            "Ana de Armas is a highly acclaimed Spanish-Cuban actress, known for her diverse roles and captivating performances both in Spanish cinema and Hollywood. Born on April 30, 1988, in Havana, Cuba, Ana Celia de Armas Caso grew up in Santa Cruz del Norte. She is the daughter of Ramón de Armas, who had a multifaceted career as a teacher, principal, and deputy mayor, and Ana Caso, an administrative worker for the Ministry of Education. Her passion for acting was evident at a young age, as she studied at the National Theater School of Havana and made her acting debut at age 16 in the Cuban film \"Una rosa de Francia.\"\n",
            "\n",
            "In pursuit of a greater opportunity, de Armas moved to Spain at the age of 18 where she quickly established herself as a talented actress in Spanish television. Her move to Hollywood marked a significant turning point, initially gaining attention with her role in \"Knock Knock\" (2015) alongside Keanu Reeves. However, it was her performance in \"Blade Runner 2049\" (2017) that earned her widespread acclaim.\n",
            "\n",
            "Ana de Armas rose to further prominence with her lauded role in \"Knives Out\" (2019), which earned her a Golden Globe nomination and established her as a leading figure in Hollywood circles. She continued her success with roles in \"No Time to Die\" (2021) and \"Blonde\" (2022), where she portrayed Marilyn Monroe, garnering her nominations from the Academy Awards, BAFTAs, Golden Globes, and Screen Actors Guild Awards.\n",
            "\n",
            "Outside of her professional life, Ana de Armas has had an intriguing personal life, including a marriage to Spanish actor Marc Clotet and relationships with high-profile individuals. Despite her public persona, she remains quite private about personal details. Looking forward, de Armas has an exciting slate of future projects, including a highly anticipated role in the \"John Wick\" franchise's spin-off \"Ballerina.\"\n"
          ]
        }
      ]
    },
    {
      "cell_type": "code",
      "source": [
        "print(result.data.research_bullets)"
      ],
      "metadata": {
        "colab": {
          "base_uri": "https://localhost:8080/"
        },
        "id": "rIeHqBPV8HGo",
        "outputId": "14c8563f-9bbb-4175-8859-d66e833e8e1a"
      },
      "execution_count": 32,
      "outputs": [
        {
          "output_type": "stream",
          "name": "stdout",
          "text": [
            "- Ana de Armas was born on April 30, 1988, in Havana, Cuba.\n",
            "- She is of Spanish-Cuban descent, fluent in both Spanish and English.\n",
            "- Ana attended the National Theater School of Havana and started acting at 16.\n",
            "- Moved to Spain at 18, where she became known through Spanish television.\n",
            "- Moved to Hollywood, debuting in \"Knock Knock\" (2015) with Keanu Reeves.\n",
            "- Gained fame for her role in \"Blade Runner 2049\" and critical acclaim in \"Knives Out\".\n",
            "- Starred in \"No Time to Die\" and portrayed Marilyn Monroe in \"Blonde\" (2022).\n",
            "- Nominated for awards including Oscars, BAFTA, Golden Globes for \"Blonde\".\n",
            "- Was married to Marc Clotet and has had notable relationships.\n",
            "- Future projects include \"Ballerina,\" a spin-off from the \"John Wick\" series.\n"
          ]
        }
      ]
    },
    {
      "cell_type": "code",
      "source": [
        "\n",
        "combined_markdown = \"\\n\\n\".join([result.data.research_title, result.data.research_main, result.data.research_bullets])\n",
        "\n",
        "Markdown(combined_markdown)"
      ],
      "metadata": {
        "colab": {
          "base_uri": "https://localhost:8080/",
          "height": 506
        },
        "id": "csRIddVBHMZG",
        "outputId": "6b2766be-4b4b-4a72-8ae0-50b5cdfb0a74"
      },
      "execution_count": 33,
      "outputs": [
        {
          "output_type": "execute_result",
          "data": {
            "text/plain": [
              "<IPython.core.display.Markdown object>"
            ],
            "text/markdown": "#Biography of Ana De Armas: A Comprehensive Overview\n\nAna de Armas is a highly acclaimed Spanish-Cuban actress, known for her diverse roles and captivating performances both in Spanish cinema and Hollywood. Born on April 30, 1988, in Havana, Cuba, Ana Celia de Armas Caso grew up in Santa Cruz del Norte. She is the daughter of Ramón de Armas, who had a multifaceted career as a teacher, principal, and deputy mayor, and Ana Caso, an administrative worker for the Ministry of Education. Her passion for acting was evident at a young age, as she studied at the National Theater School of Havana and made her acting debut at age 16 in the Cuban film \"Una rosa de Francia.\"\n\nIn pursuit of a greater opportunity, de Armas moved to Spain at the age of 18 where she quickly established herself as a talented actress in Spanish television. Her move to Hollywood marked a significant turning point, initially gaining attention with her role in \"Knock Knock\" (2015) alongside Keanu Reeves. However, it was her performance in \"Blade Runner 2049\" (2017) that earned her widespread acclaim.\n\nAna de Armas rose to further prominence with her lauded role in \"Knives Out\" (2019), which earned her a Golden Globe nomination and established her as a leading figure in Hollywood circles. She continued her success with roles in \"No Time to Die\" (2021) and \"Blonde\" (2022), where she portrayed Marilyn Monroe, garnering her nominations from the Academy Awards, BAFTAs, Golden Globes, and Screen Actors Guild Awards.\n\nOutside of her professional life, Ana de Armas has had an intriguing personal life, including a marriage to Spanish actor Marc Clotet and relationships with high-profile individuals. Despite her public persona, she remains quite private about personal details. Looking forward, de Armas has an exciting slate of future projects, including a highly anticipated role in the \"John Wick\" franchise's spin-off \"Ballerina.\"\n\n- Ana de Armas was born on April 30, 1988, in Havana, Cuba.\n- She is of Spanish-Cuban descent, fluent in both Spanish and English.\n- Ana attended the National Theater School of Havana and started acting at 16.\n- Moved to Spain at 18, where she became known through Spanish television.\n- Moved to Hollywood, debuting in \"Knock Knock\" (2015) with Keanu Reeves.\n- Gained fame for her role in \"Blade Runner 2049\" and critical acclaim in \"Knives Out\".\n- Starred in \"No Time to Die\" and portrayed Marilyn Monroe in \"Blonde\" (2022).\n- Nominated for awards including Oscars, BAFTA, Golden Globes for \"Blonde\".\n- Was married to Marc Clotet and has had notable relationships.\n- Future projects include \"Ballerina,\" a spin-off from the \"John Wick\" series."
          },
          "metadata": {},
          "execution_count": 33
        }
      ]
    },
    {
      "cell_type": "code",
      "source": [
        "debug(result)"
      ],
      "metadata": {
        "id": "1sv7GpvzqVYM",
        "colab": {
          "base_uri": "https://localhost:8080/"
        },
        "outputId": "e3aa155e-09c6-425c-813a-84b912c52900"
      },
      "execution_count": 34,
      "outputs": [
        {
          "output_type": "stream",
          "name": "stdout",
          "text": [
            "<ipython-input-34-4217a35008bd>:1 <cell line: 0>\n",
            "    result: RunResult(\n",
            "        _all_messages=[\n",
            "            ModelRequest(\n",
            "                parts=[\n",
            "                    SystemPromptPart(\n",
            "                        content=(\n",
            "                            'Your a helpful research assistant, you are an expert in research If you are given a quest'\n",
            "                            'ion you write strong keywords to do 3-5 searches in total (each with a query_number) and '\n",
            "                            'then combine the results'\n",
            "                        ),\n",
            "                        dynamic_ref=None,\n",
            "                        part_kind='system-prompt',\n",
            "                    ),\n",
            "                    UserPromptPart(\n",
            "                        content='Can you give me a very detailed bio of Ana De Armas?',\n",
            "                        timestamp=datetime.datetime(2025, 2, 3, 22, 6, 47, 24492, tzinfo=datetime.timezone.utc),\n",
            "                        part_kind='user-prompt',\n",
            "                    ),\n",
            "                ],\n",
            "                kind='request',\n",
            "            ),\n",
            "            ModelResponse(\n",
            "                parts=[\n",
            "                    ToolCallPart(\n",
            "                        tool_name='get_search',\n",
            "                        args='{\"query\": \"Ana De Armas biography early life\", \"query_number\": 1}',\n",
            "                        tool_call_id='call_0Q5wEV0LPNcEqo3AMrmxS42i',\n",
            "                        part_kind='tool-call',\n",
            "                    ),\n",
            "                    ToolCallPart(\n",
            "                        tool_name='get_search',\n",
            "                        args='{\"query\": \"Ana De Armas career achievements\", \"query_number\": 2}',\n",
            "                        tool_call_id='call_rQE6ZdHmbIidKQHoTdFkWrla',\n",
            "                        part_kind='tool-call',\n",
            "                    ),\n",
            "                    ToolCallPart(\n",
            "                        tool_name='get_search',\n",
            "                        args='{\"query\": \"Ana De Armas personal life\", \"query_number\": 3}',\n",
            "                        tool_call_id='call_gsimU86T81n8Zhs7JPmu2ra7',\n",
            "                        part_kind='tool-call',\n",
            "                    ),\n",
            "                    ToolCallPart(\n",
            "                        tool_name='get_search',\n",
            "                        args='{\"query\": \"Ana De Armas awards and nominations\", \"query_number\": 4}',\n",
            "                        tool_call_id='call_FT1SBPSlITqcljPBqHP2GYxi',\n",
            "                        part_kind='tool-call',\n",
            "                    ),\n",
            "                    ToolCallPart(\n",
            "                        tool_name='get_search',\n",
            "                        args='{\"query\": \"Ana De Armas future projects\", \"query_number\": 5}',\n",
            "                        tool_call_id='call_BF8JruO5ErzQxH1M7HBjmq8M',\n",
            "                        part_kind='tool-call',\n",
            "                    ),\n",
            "                ],\n",
            "                model_name='gpt-4o',\n",
            "                timestamp=datetime.datetime(2025, 2, 3, 22, 6, 47, tzinfo=datetime.timezone.utc),\n",
            "                kind='response',\n",
            "            ),\n",
            "            ModelRequest(\n",
            "                parts=[\n",
            "                    ToolReturnPart(\n",
            "                        tool_name='get_search',\n",
            "                        content=(\n",
            "                            '\"[\\\\\"{\\\\\\\\\\\\\"url\\\\\\\\\\\\\": \\\\\\\\\\\\\"https://www.thecityceleb.com/biography/celebrity/actress/ana-de-arm'\n",
            "                            'as-biography-movies-height-net-worth-husband-age-instagram-tv-shows-children/\\\\\\\\\\\\\", \\\\\\\\\\\\\"co'\n",
            "                            'ntent\\\\\\\\\\\\\": \\\\\\\\\\\\\"Early Life & Education. Ana de Armas, the Cuban-born actress, was brought '\n",
            "                            'into the world in Havana on April 30, 1988, and raised in Santa Cruz del Norte.Her father'\n",
            "                            ', Ram\\\\\\\\\\\\\\\\u00f3n de Armas, wore multiple hats during his career, working in different capa'\n",
            "                            'cities such as teaching, as a school principal, and even serving as the deputy mayor of a'\n",
            "                            ' town.Before that, he had pursued philosophy at a Soviet\\\\\\\\\\\\\"}\\\\\", \\\\\"{\\\\\\\\\\\\\"url\\\\\\\\\\\\\": \\\\\\\\\\\\\"http'\n",
            "                            's://www.britannica.com/biography/Ana-de-Armas\\\\\\\\\\\\\", \\\\\\\\\\\\\"content\\\\\\\\\\\\\": \\\\\\\\\\\\\"She nonetheless m'\n",
            "                            'ade her Hollywood debut, in the thriller Knock Knock (2015), starring alongside Keanu Ree'\n",
            "                            'ves, and had subsequent roles in the comedy crime film War Dogs (2016), in Overdrive (201'\n",
            "                            '7), and in Blade Runner 2049 (2017), the last of which was a sequel to the 1982 film Blad'\n",
            "                            'e Runner, starring Harrison Ford.\\\\\\\\\\\\\\\\n Knives Out, No Time to Die, and Deep Water\\\\\\\\\\\\\\\\nIn '\n",
            "                            '2019 de Armas gained fame and acclaim for her role in the hit movie Knives Out, playing a'\n",
            "                            ' crime novelist\\\\\\\\\\\\\\\\u2019s nurse who becomes tangled up in a murder mystery. Early life an'\n",
            "                            'd career\\\\\\\\\\\\\\\\nDe Armas was raised alongside her brother in Santa Cruz del Norte, a town ea'\n",
            "                            'st of Havana, by her parents, Ram\\\\\\\\\\\\\\\\u00f3n de Armas, a former teacher and school princip'\n",
            "                            'al, and Ana Caso, an employee of the Cuban Ministry of Education. At age 14 Ana de Armas '\n",
            "                            'began studying at the National Theater School of Havana, and she made her film acting deb'\n",
            "                            'ut at age 16 in the Cuban drama Una rosa de Francia, which was released in 2006.\\\\\\\\\\\\\\\\n She'\n",
            "                            ' soon secured a part in the James Bond film No Time to Die (2021) and the lead as America'\n",
            "                            'n actress Marilyn Monroe in Blonde (2022).\\\\\\\\\\\\\\\\n\\\\\\\\\\\\\"}\\\\\", \\\\\"{\\\\\\\\\\\\\"url\\\\\\\\\\\\\": \\\\\\\\\\\\\"https://www.t'\n",
            "                            'hefamouspeople.com/profiles/ana-de-armas-44631.php\\\\\\\\\\\\\", \\\\\\\\\\\\\"content\\\\\\\\\\\\\": \\\\\\\\\\\\\"Ana de Armas'\n",
            "                            \" is a Spanish-Cuban actress who is known for her performances in the films 'Hands of Ston\"\n",
            "                            \"e' and 'Blade Runner 2049.' She used to work in the Spanish film industry before transiti\"\n",
            "                            'oning to Hollywood. Is Ana de Armas Cuban? Ana de Armas is fluent in Spanish and English.'\n",
            "                            ' What are some movies Ana de Armas has starred in? Some of the movies Ana de Armas has st'\n",
            "                            'arred in include \\\\\\\\\\\\\\\\\\\\\\\\\\\\\"Blade Runner 2049,\\\\\\\\\\\\\\\\\\\\\\\\\\\\\" \\\\\\\\\\\\\\\\\\\\\\\\\\\\\"Knives Out,\\\\\\\\\\\\\\\\\\\\\\\\\\\\\" \\\\\\\\\\\\\\\\\\\\\\\\\\\\\"N'\n",
            "                            'o Time to Die,\\\\\\\\\\\\\\\\\\\\\\\\\\\\\" and \\\\\\\\\\\\\\\\\\\\\\\\\\\\\"Yesterday.\\\\\\\\\\\\\\\\\\\\\\\\\\\\\" Ana de Armas made her acting debut '\n",
            "                            \"in the Spanish film 'Una rosa de Francia' (Virgin Rose). Ana de Armas is a talented actre\"\n",
            "                            'ss who has starred in a wide range of films, showcasing her versatility in Hollywood.\\\\\\\\\\\\\"'\n",
            "                            '}\\\\\"]\"'\n",
            "                        ),\n",
            "                        tool_call_id='call_0Q5wEV0LPNcEqo3AMrmxS42i',\n",
            "                        timestamp=datetime.datetime(2025, 2, 3, 22, 6, 52, 864884, tzinfo=datetime.timezone.utc),\n",
            "                        part_kind='tool-return',\n",
            "                    ),\n",
            "                    ToolReturnPart(\n",
            "                        tool_name='get_search',\n",
            "                        content=(\n",
            "                            '\"[\\\\\"{\\\\\\\\\\\\\"url\\\\\\\\\\\\\": \\\\\\\\\\\\\"https://www.britannica.com/biography/Ana-de-Armas\\\\\\\\\\\\\", \\\\\\\\\\\\\"content\\\\'\n",
            "                            '\\\\\\\\\": \\\\\\\\\\\\\"She nonetheless made her Hollywood debut, in the thriller Knock Knock (2015), st'\n",
            "                            'arring alongside Keanu Reeves, and had subsequent roles in the comedy crime film War Dogs'\n",
            "                            ' (2016), in Overdrive (2017), and in Blade Runner 2049 (2017), the last of which was a se'\n",
            "                            'quel to the 1982 film Blade Runner, starring Harrison Ford.\\\\\\\\\\\\\\\\n Knives Out, No Time to D'\n",
            "                            'ie, and Deep Water\\\\\\\\\\\\\\\\nIn 2019 de Armas gained fame and acclaim for her role in the hit m'\n",
            "                            'ovie Knives Out, playing a crime novelist\\\\\\\\\\\\\\\\u2019s nurse who becomes tangled up in a mur'\n",
            "                            'der mystery. Early life and career\\\\\\\\\\\\\\\\nDe Armas was raised alongside her brother in Santa'\n",
            "                            ' Cruz del Norte, a town east of Havana, by her parents, Ram\\\\\\\\\\\\\\\\u00f3n de Armas, a former '\n",
            "                            'teacher and school principal, and Ana Caso, an employee of the Cuban Ministry of Educatio'\n",
            "                            'n. At age 14 Ana de Armas began studying at the National Theater School of Havana, and sh'\n",
            "                            'e made her film acting debut at age 16 in the Cuban drama Una rosa de Francia, which was '\n",
            "                            'released in 2006.\\\\\\\\\\\\\\\\n She soon secured a part in the James Bond film No Time to Die (202'\n",
            "                            '1) and the lead as American actress Marilyn Monroe in Blonde (2022).\\\\\\\\\\\\\\\\n\\\\\\\\\\\\\"}\\\\\", \\\\\"{\\\\\\\\\\\\\"'\n",
            "                            'url\\\\\\\\\\\\\": \\\\\\\\\\\\\"https://en.wikipedia.org/wiki/Ana_de_Armas\\\\\\\\\\\\\", \\\\\\\\\\\\\"content\\\\\\\\\\\\\": \\\\\\\\\\\\\"In her '\n",
            "                            'native Cuba, de\\\\\\\\\\\\\\\\u00a0Armas had a starring role opposite \\\\\\\\\\\\\\\\u00c1lex Gonz\\\\\\\\\\\\\\\\u00e1lez '\n",
            "                            \"in Manuel Guti\\\\\\\\\\\\\\\\u00e9rrez Arag\\\\\\\\\\\\\\\\u00f3n's romantic drama Una rosa de Francia (2006).[1\"\n",
            "                            '3] Cuban actor Jorge Perugorr\\\\\\\\\\\\\\\\u00eda suggested that the director consider de\\\\\\\\\\\\\\\\u00a0A'\n",
            "                            'rmas for the role, after meeting her while attending a birthday party with his daughters.'\n",
            "                            \"[24][25] The director visited de\\\\\\\\\\\\\\\\u00a0Armas's drama school and interrupted the sixteen\"\n",
            "                            '-year-old during her audition to inform her that the role was hers.[24][26] She travelled'\n",
            "                            ' to Spain as part of a promotional tour for the film and was introduced to Juan Lanja, wh'\n",
            "                            'o would later become her Spanish agent.[24] She then starred in the movie El ed\\\\\\\\\\\\\\\\u00e9n'\n",
            "                            \" perdido (2007) and had a supporting role in Fernando P\\\\\\\\\\\\\\\\u00e9rez's Madrigal (2007), fi\"\n",
            "                            'lmed at night without the permission of her drama school tutors.[9]\\\\\\\\\\\\\\\\nAt age 18, de\\\\\\\\\\\\\\\\'\n",
            "                            'u00a0Armas moved to Madrid. Despite giving a positive review of the film, Randy Cordova o'\n",
            "                            'f the Arizona Republic found de Armas to be \\\\\\\\\\\\\\\\\\\\\\\\\\\\\"unconvincing\\\\\\\\\\\\\\\\\\\\\\\\\\\\\" in her role.[35]'\n",
            "                            ' Reeves then telephoned de Armas to invite her to star in a Spanish-language role in the '\n",
            "                            'thriller Daughter of God which he acted in and produced.[36] Producer Mark Downie hoped t'\n",
            "                            'he film would be a star vehicle for de Armas, but due to executive meddling Daughter of G'\n",
            "                            \"od was severely edited with de Armas' former starring role reduced. The director Danny Bo\"\n",
            "                            'yle said that, while de Armas was \\\\\\\\\\\\\\\\\\\\\\\\\\\\\"really radiant\\\\\\\\\\\\\\\\\\\\\\\\\\\\\" in her scenes, the intro'\n",
            "                            \"duction of a love triangle subplot did not test well with audiences.[49]\\\\\\\\\\\\\\\\nDe Armas's r\"\n",
            "                            'ole as an immigrant nurse in the ensemble murder mystery film Knives Out (2019), written '\n",
            "                            'and directed by Rian Johnson, was widely praised and marked a breakthrough for the actres'\n",
            "                            's.[50] When first approached about the project, she was unenthusiastic about the idea of '\n",
            "                            'playing a stereotypical \\\\\\\\\\\\\\\\\\\\\\\\\\\\\"Latina caretaker\\\\\\\\\\\\\\\\\\\\\\\\\\\\\" but soon realized that her chara'\n",
            "                            'cter was \\\\\\\\\\\\\\\\\\\\\\\\\\\\\"so much more than that. She received a nomination for the Academy Award '\n",
            "                            'for Best Actress, in addition to nominations for the BAFTA, Golden Globe and SAG Award in'\n",
            "                            ' the same category.[88][89]\\\\\\\\\\\\\\\\nDe Armas next starred in the Apple TV+ action comedy film'\n",
            "                            ' Ghosted (2023).[90] Benjamin Lee of The Guardian panned the film and the lack of chemist'\n",
            "                            \"ry between de Armas and Evans.[91] She then starred in Antonio Trashorras's horror films \"\n",
            "                            'El callej\\\\\\\\\\\\\\\\u00f3n (2011) and Anabel (2015),[30] and in the drama Por un pu\\\\\\\\\\\\\\\\u00f1ado '\n",
            "                            'de besos (2014).[31] During a long period without acting work,[21] de Armas participated '\n",
            "                            'in workshops at Tomaz Pandur\\'s Madrid theatre company[6] and felt \\\\\\\\\\\\\\\\\\\\\\\\\\\\\"very anxious\\\\\\\\\\\\'\n",
            "                            '\\\\\\\\\\\\\\\\\" about the lack of momentum in her career.[15]\\\\\\\\\\\\\\\\nTransition to Hollywood and break'\n",
            "                            'through (2014\\\\\\\\\\\\\\\\u20132020)[edit]\\\\\\\\\\\\\\\\nWith encouragement from her newly hired Hollywood a'\n",
            "                            'gent, she decided to move to Los Angeles.[14]\\\\\\\\\\\\\"}\\\\\", \\\\\"{\\\\\\\\\\\\\"url\\\\\\\\\\\\\": \\\\\\\\\\\\\"https://www.the'\n",
            "                            'famouspeople.com/profiles/ana-de-armas-44631.php\\\\\\\\\\\\\", \\\\\\\\\\\\\"content\\\\\\\\\\\\\": \\\\\\\\\\\\\"Ana de Armas i'\n",
            "                            \"s a Spanish-Cuban actress who is known for her performances in the films 'Hands of Stone'\"\n",
            "                            \" and 'Blade Runner 2049.' She used to work in the Spanish film industry before transition\"\n",
            "                            'ing to Hollywood. Is Ana de Armas Cuban? Ana de Armas is fluent in Spanish and English. W'\n",
            "                            'hat are some movies Ana de Armas has starred in? Some of the movies Ana de Armas has star'\n",
            "                            'red in include \\\\\\\\\\\\\\\\\\\\\\\\\\\\\"Blade Runner 2049,\\\\\\\\\\\\\\\\\\\\\\\\\\\\\" \\\\\\\\\\\\\\\\\\\\\\\\\\\\\"Knives Out,\\\\\\\\\\\\\\\\\\\\\\\\\\\\\" \\\\\\\\\\\\\\\\\\\\\\\\\\\\\"No '\n",
            "                            'Time to Die,\\\\\\\\\\\\\\\\\\\\\\\\\\\\\" and \\\\\\\\\\\\\\\\\\\\\\\\\\\\\"Yesterday.\\\\\\\\\\\\\\\\\\\\\\\\\\\\\" Ana de Armas made her acting debut in'\n",
            "                            \" the Spanish film 'Una rosa de Francia' (Virgin Rose). Ana de Armas is a talented actress\"\n",
            "                            ' who has starred in a wide range of films, showcasing her versatility in Hollywood.\\\\\\\\\\\\\"}\\\\'\n",
            "                            '\"]\"'\n",
            "                        ),\n",
            "                        tool_call_id='call_rQE6ZdHmbIidKQHoTdFkWrla',\n",
            "                        timestamp=datetime.datetime(2025, 2, 3, 22, 6, 53, 31262, tzinfo=datetime.timezone.utc),\n",
            "                        part_kind='tool-return',\n",
            "                    ),\n",
            "                    ToolReturnPart(\n",
            "                        tool_name='get_search',\n",
            "                        content=(\n",
            "                            '\"[\\\\\"{\\\\\\\\\\\\\"url\\\\\\\\\\\\\": \\\\\\\\\\\\\"https://en.cibercuba.com/noticias/2024-11-20-u198484-e198484-s27065'\n",
            "                            '-nid292364-primer-marido-al-hijo-lis-cuesta-vida-amorosa\\\\\\\\\\\\\", \\\\\\\\\\\\\"content\\\\\\\\\\\\\": \\\\\\\\\\\\\"Ana de'\n",
            "                            ' Armas has had a notable romantic life. From her first marriage to Marc Clotet to her cur'\n",
            "                            'rent relationship with Manuel Anido Cuesta, stepson of Miguel D\\\\\\\\\\\\\\\\u00edaz-Canel. ... Ana'\n",
            "                            ' moved to Los Angeles to pursue her career in Hollywood, a change that marked a new chapt'\n",
            "                            'er in her professional and personal life.\\\\\\\\\\\\\"}\\\\\", \\\\\"{\\\\\\\\\\\\\"url\\\\\\\\\\\\\": \\\\\\\\\\\\\"https://www.thecele'\n",
            "                            'brityfamilies.com/ana-de-armas-family-spouse-children-dating-net-worth-nationality-and-mo'\n",
            "                            're/\\\\\\\\\\\\\", \\\\\\\\\\\\\"content\\\\\\\\\\\\\": \\\\\\\\\\\\\"Family and Personal Life. Here is Ana De Armas\\' family info'\n",
            "                            'rmation, including spouse, kids, and dating life. During the teenage, at the age of 14, A'\n",
            "                            'na De Armas decided to join the National theatre school of Cuba when she found out that a'\n",
            "                            'cting was her passion. While being the student of the school, she filmed three movies.\\\\\\\\\\\\'\n",
            "                            '\"}\\\\\", \\\\\"{\\\\\\\\\\\\\"url\\\\\\\\\\\\\": \\\\\\\\\\\\\"https://en.as.com/latest_news/the-personal-life-of-ana-de-armas'\n",
            "                            '-from-millionaire-partner-to-activist-brother-n/\\\\\\\\\\\\\", \\\\\\\\\\\\\"content\\\\\\\\\\\\\": \\\\\\\\\\\\\"OSCARS 2023. T'\n",
            "                            'he personal life of Ana de Armas: from millionaire partner to activist brother The Spanis'\n",
            "                            'h-Cuban actress has been nominated for an Oscar for best actress after her spectacular ro'\n",
            "                            'le\\\\\\\\\\\\\"}\\\\\"]\"'\n",
            "                        ),\n",
            "                        tool_call_id='call_gsimU86T81n8Zhs7JPmu2ra7',\n",
            "                        timestamp=datetime.datetime(2025, 2, 3, 22, 6, 52, 893851, tzinfo=datetime.timezone.utc),\n",
            "                        part_kind='tool-return',\n",
            "                    ),\n",
            "                    ToolReturnPart(\n",
            "                        tool_name='get_search',\n",
            "                        content=(\n",
            "                            '\"[\\\\\"{\\\\\\\\\\\\\"url\\\\\\\\\\\\\": \\\\\\\\\\\\\"https://en.wikipedia.org/wiki/Ana_de_Armas\\\\\\\\\\\\\", \\\\\\\\\\\\\"content\\\\\\\\\\\\\": \\\\\\\\'\n",
            "                            '\\\\\"In her native Cuba, de\\\\\\\\\\\\\\\\u00a0Armas had a starring role opposite \\\\\\\\\\\\\\\\u00c1lex Gonz\\\\\\\\\\\\\\\\'\n",
            "                            \"u00e1lez in Manuel Guti\\\\\\\\\\\\\\\\u00e9rrez Arag\\\\\\\\\\\\\\\\u00f3n's romantic drama Una rosa de Francia \"\n",
            "                            '(2006).[13] Cuban actor Jorge Perugorr\\\\\\\\\\\\\\\\u00eda suggested that the director consider de\\\\'\n",
            "                            '\\\\\\\\\\\\u00a0Armas for the role, after meeting her while attending a birthday party with his d'\n",
            "                            \"aughters.[24][25] The director visited de\\\\\\\\\\\\\\\\u00a0Armas's drama school and interrupted th\"\n",
            "                            'e sixteen-year-old during her audition to inform her that the role was hers.[24][26] She '\n",
            "                            'travelled to Spain as part of a promotional tour for the film and was introduced to Juan '\n",
            "                            'Lanja, who would later become her Spanish agent.[24] She then starred in the movie El ed\\\\'\n",
            "                            \"\\\\\\\\\\\\u00e9n perdido (2007) and had a supporting role in Fernando P\\\\\\\\\\\\\\\\u00e9rez's Madrigal (\"\n",
            "                            '2007), filmed at night without the permission of her drama school tutors.[9]\\\\\\\\\\\\\\\\nAt age 1'\n",
            "                            '8, de\\\\\\\\\\\\\\\\u00a0Armas moved to Madrid. Despite giving a positive review of the film, Randy '\n",
            "                            'Cordova of the Arizona Republic found de Armas to be \\\\\\\\\\\\\\\\\\\\\\\\\\\\\"unconvincing\\\\\\\\\\\\\\\\\\\\\\\\\\\\\" in her '\n",
            "                            'role.[35] Reeves then telephoned de Armas to invite her to star in a Spanish-language rol'\n",
            "                            'e in the thriller Daughter of God which he acted in and produced.[36] Producer Mark Downi'\n",
            "                            'e hoped the film would be a star vehicle for de Armas, but due to executive meddling Daug'\n",
            "                            \"hter of God was severely edited with de Armas' former starring role reduced. The director\"\n",
            "                            ' Danny Boyle said that, while de Armas was \\\\\\\\\\\\\\\\\\\\\\\\\\\\\"really radiant\\\\\\\\\\\\\\\\\\\\\\\\\\\\\" in her scenes, '\n",
            "                            'the introduction of a love triangle subplot did not test well with audiences.[49]\\\\\\\\\\\\\\\\nDe '\n",
            "                            \"Armas's role as an immigrant nurse in the ensemble murder mystery film Knives Out (2019),\"\n",
            "                            ' written and directed by Rian Johnson, was widely praised and marked a breakthrough for t'\n",
            "                            'he actress.[50] When first approached about the project, she was unenthusiastic about the'\n",
            "                            ' idea of playing a stereotypical \\\\\\\\\\\\\\\\\\\\\\\\\\\\\"Latina caretaker\\\\\\\\\\\\\\\\\\\\\\\\\\\\\" but soon realized that '\n",
            "                            'her character was \\\\\\\\\\\\\\\\\\\\\\\\\\\\\"so much more than that. She received a nomination for the Acade'\n",
            "                            'my Award for Best Actress, in addition to nominations for the BAFTA, Golden Globe and SAG'\n",
            "                            ' Award in the same category.[88][89]\\\\\\\\\\\\\\\\nDe Armas next starred in the Apple TV+ action co'\n",
            "                            'medy film Ghosted (2023).[90] Benjamin Lee of The Guardian panned the film and the lack o'\n",
            "                            \"f chemistry between de Armas and Evans.[91] She then starred in Antonio Trashorras's horr\"\n",
            "                            'or films El callej\\\\\\\\\\\\\\\\u00f3n (2011) and Anabel (2015),[30] and in the drama Por un pu\\\\\\\\\\\\\\\\'\n",
            "                            'u00f1ado de besos (2014).[31] During a long period without acting work,[21] de Armas part'\n",
            "                            'icipated in workshops at Tomaz Pandur\\'s Madrid theatre company[6] and felt \\\\\\\\\\\\\\\\\\\\\\\\\\\\\"very a'\n",
            "                            'nxious\\\\\\\\\\\\\\\\\\\\\\\\\\\\\" about the lack of momentum in her career.[15]\\\\\\\\\\\\\\\\nTransition to Hollywood '\n",
            "                            'and breakthrough (2014\\\\\\\\\\\\\\\\u20132020)[edit]\\\\\\\\\\\\\\\\nWith encouragement from her newly hired Ho'\n",
            "                            'llywood agent, she decided to move to Los Angeles.[14]\\\\\\\\\\\\\"}\\\\\", \\\\\"{\\\\\\\\\\\\\"url\\\\\\\\\\\\\": \\\\\\\\\\\\\"https:'\n",
            "                            '//peopleenespanol.com/chica/ana-de-armas-oscars-blonde-first-cuban-actress/\\\\\\\\\\\\\", \\\\\\\\\\\\\"cont'\n",
            "                            'ent\\\\\\\\\\\\\": \\\\\\\\\\\\\"Ana de Armas is showing awards season that blondes have more fun with a new '\n",
            "                            'history-making nomination. On January 24, the 34 year old became the first Cuban actress '\n",
            "                            'to be nominated for an Academy\\\\\\\\\\\\\"}\\\\\", \\\\\"{\\\\\\\\\\\\\"url\\\\\\\\\\\\\": \\\\\\\\\\\\\"https://ew.com/awards/oscars/a'\n",
            "                            'na-de-armas-oscar-nomination-blonde-after-razzies/\\\\\\\\\\\\\", \\\\\\\\\\\\\"content\\\\\\\\\\\\\": \\\\\\\\\\\\\"Ana de Armas'\n",
            "                            ' scores Oscar nomination day after the Razzies trashed Blonde The Marilyn Monroe movie ha'\n",
            "                            's been highlighted as both one of the worst and best movies of the year by two opposite a'\n",
            "                            'wards\\\\\\\\\\\\\"}\\\\\"]\"'\n",
            "                        ),\n",
            "                        tool_call_id='call_FT1SBPSlITqcljPBqHP2GYxi',\n",
            "                        timestamp=datetime.datetime(2025, 2, 3, 22, 6, 53, 452802, tzinfo=datetime.timezone.utc),\n",
            "                        part_kind='tool-return',\n",
            "                    ),\n",
            "                    ToolReturnPart(\n",
            "                        tool_name='get_search',\n",
            "                        content=(\n",
            "                            '\"[\\\\\"{\\\\\\\\\\\\\"url\\\\\\\\\\\\\": \\\\\\\\\\\\\"https://thecinemaholic.com/all-upcoming-ana-de-armas-movies/\\\\\\\\\\\\\", \\\\'\n",
            "                            '\\\\\\\\\"content\\\\\\\\\\\\\": \\\\\\\\\\\\\"As the actress continues to captivate the audience with her performan'\n",
            "                            'ces, she is set to be a part of some exciting projects in the future. Here is all you nee'\n",
            "                            'd to know about the upcoming films of Ana de Armas. 1. Ballerina (2025) Ana de Armas has '\n",
            "                            \"joined the iconic 'John Wick' franchise by starring in its spin-off movie 'Ballerina.'\\\\\\\\\\\\\"\n",
            "                            '\"}\\\\\", \\\\\"{\\\\\\\\\\\\\"url\\\\\\\\\\\\\": \\\\\\\\\\\\\"https://influencermagazine.uk/2024/02/ana-de-armas-upcoming-pro'\n",
            "                            'ject-pipeline-of-the-rising-star/\\\\\\\\\\\\\", \\\\\\\\\\\\\"content\\\\\\\\\\\\\": \\\\\\\\\\\\\"de Armas\\' past performances i'\n",
            "                            'n films like \\\\\\\\\\\\\\\\\\\\\\\\\\\\\"Deep Water\\\\\\\\\\\\\\\\\\\\\\\\\\\\\" and \\\\\\\\\\\\\\\\\\\\\\\\\\\\\"The Gray Man\\\\\\\\\\\\\\\\\\\\\\\\\\\\\" offer a glimpse '\n",
            "                            'into her versatility and talent. Ana de Armas is a force to be reckoned with in the film '\n",
            "                            'industry. With her upcoming projects showcasing her range and captivating presence, there'\n",
            "                            '\\'s no doubt she\\'ll continue to shine brightly on the silver screen.\\\\\\\\\\\\\"}\\\\\", \\\\\"{\\\\\\\\\\\\\"url\\\\\\\\\\\\'\n",
            "                            '\": \\\\\\\\\\\\\"https://www.indiewire.com/gallery/ana-de-armas-next-roles/\\\\\\\\\\\\\", \\\\\\\\\\\\\"content\\\\\\\\\\\\\": \\\\'\n",
            "                            '\\\\\\\\\"Ana de Armas is continuing her in-demand status with a slew of upcoming projects. The '\n",
            "                            '2023 Oscar nominee may have admitted that her provocative turn as Marilyn Monroe in Andre'\n",
            "                            'w Dominik\\'s\\\\\\\\\\\\\"}\\\\\"]\"'\n",
            "                        ),\n",
            "                        tool_call_id='call_BF8JruO5ErzQxH1M7HBjmq8M',\n",
            "                        timestamp=datetime.datetime(2025, 2, 3, 22, 6, 53, 761861, tzinfo=datetime.timezone.utc),\n",
            "                        part_kind='tool-return',\n",
            "                    ),\n",
            "                ],\n",
            "                kind='request',\n",
            "            ),\n",
            "            ModelResponse(\n",
            "                parts=[\n",
            "                    ToolCallPart(\n",
            "                        tool_name='final_result',\n",
            "                        args=(\n",
            "                            '{\"research_title\":\"Biography of Ana De Armas: A Comprehensive Overview\",\"research_main\":\"'\n",
            "                            'Ana de Armas is a highly acclaimed Spanish-Cuban actress, known for her diverse roles and'\n",
            "                            ' captivating performances both in Spanish cinema and Hollywood. Born on April 30, 1988, i'\n",
            "                            'n Havana, Cuba, Ana Celia de Armas Caso grew up in Santa Cruz del Norte. She is the daugh'\n",
            "                            'ter of Ramón de Armas, who had a multifaceted career as a teacher, principal, and deputy '\n",
            "                            'mayor, and Ana Caso, an administrative worker for the Ministry of Education. Her passion '\n",
            "                            'for acting was evident at a young age, as she studied at the National Theater School of H'\n",
            "                            'avana and made her acting debut at age 16 in the Cuban film \\\\\"Una rosa de Francia.\\\\\"\\\\n\\\\nI'\n",
            "                            'n pursuit of a greater opportunity, de Armas moved to Spain at the age of 18 where she qu'\n",
            "                            'ickly established herself as a talented actress in Spanish television. Her move to Hollyw'\n",
            "                            'ood marked a significant turning point, initially gaining attention with her role in \\\\\"Kn'\n",
            "                            'ock Knock\\\\\" (2015) alongside Keanu Reeves. However, it was her performance in \\\\\"Blade Run'\n",
            "                            'ner 2049\\\\\" (2017) that earned her widespread acclaim.\\\\n\\\\nAna de Armas rose to further pro'\n",
            "                            'minence with her lauded role in \\\\\"Knives Out\\\\\" (2019), which earned her a Golden Globe no'\n",
            "                            'mination and established her as a leading figure in Hollywood circles. She continued her '\n",
            "                            'success with roles in \\\\\"No Time to Die\\\\\" (2021) and \\\\\"Blonde\\\\\" (2022), where she portraye'\n",
            "                            'd Marilyn Monroe, garnering her nominations from the Academy Awards, BAFTAs, Golden Globe'\n",
            "                            's, and Screen Actors Guild Awards.\\\\n\\\\nOutside of her professional life, Ana de Armas has '\n",
            "                            'had an intriguing personal life, including a marriage to Spanish actor Marc Clotet and re'\n",
            "                            'lationships with high-profile individuals. Despite her public persona, she remains quite '\n",
            "                            'private about personal details. Looking forward, de Armas has an exciting slate of future'\n",
            "                            ' projects, including a highly anticipated role in the \\\\\"John Wick\\\\\" franchise\\'s spin-off '\n",
            "                            '\\\\\"Ballerina.\\\\\"\",\"research_bullets\":\"- Ana de Armas was born on April 30, 1988, in Havana,'\n",
            "                            ' Cuba.\\\\n- She is of Spanish-Cuban descent, fluent in both Spanish and English.\\\\n- Ana att'\n",
            "                            'ended the National Theater School of Havana and started acting at 16.\\\\n- Moved to Spain a'\n",
            "                            't 18, where she became known through Spanish television.\\\\n- Moved to Hollywood, debuting '\n",
            "                            'in \\\\\"Knock Knock\\\\\" (2015) with Keanu Reeves.\\\\n- Gained fame for her role in \\\\\"Blade Runne'\n",
            "                            'r 2049\\\\\" and critical acclaim in \\\\\"Knives Out\\\\\".\\\\n- Starred in \\\\\"No Time to Die\\\\\" and por'\n",
            "                            'trayed Marilyn Monroe in \\\\\"Blonde\\\\\" (2022).\\\\n- Nominated for awards including Oscars, BAF'\n",
            "                            'TA, Golden Globes for \\\\\"Blonde\\\\\".\\\\n- Was married to Marc Clotet and has had notable relat'\n",
            "                            'ionships.\\\\n- Future projects include \\\\\"Ballerina,\\\\\" a spin-off from the \\\\\"John Wick\\\\\" ser'\n",
            "                            'ies.\"}'\n",
            "                        ),\n",
            "                        tool_call_id='call_8uiZu3ZCmAPWAPnH5Tk3v2Wm',\n",
            "                        part_kind='tool-call',\n",
            "                    ),\n",
            "                ],\n",
            "                model_name='gpt-4o',\n",
            "                timestamp=datetime.datetime(2025, 2, 3, 22, 6, 54, tzinfo=datetime.timezone.utc),\n",
            "                kind='response',\n",
            "            ),\n",
            "            ModelRequest(\n",
            "                parts=[\n",
            "                    ToolReturnPart(\n",
            "                        tool_name='final_result',\n",
            "                        content='Final result processed.',\n",
            "                        tool_call_id='call_8uiZu3ZCmAPWAPnH5Tk3v2Wm',\n",
            "                        timestamp=datetime.datetime(2025, 2, 3, 22, 7, 7, 871784, tzinfo=datetime.timezone.utc),\n",
            "                        part_kind='tool-return',\n",
            "                    ),\n",
            "                ],\n",
            "                kind='request',\n",
            "            ),\n",
            "        ],\n",
            "        _new_message_index=0,\n",
            "        data=ResearchResult(\n",
            "            research_title='#Biography of Ana De Armas: A Comprehensive Overview',\n",
            "            research_main=(\n",
            "                'Ana de Armas is a highly acclaimed Spanish-Cuban actress, known for her diverse roles and captivating'\n",
            "                ' performances both in Spanish cinema and Hollywood. Born on April 30, 1988, in Havana, Cuba, Ana Celi'\n",
            "                'a de Armas Caso grew up in Santa Cruz del Norte. She is the daughter of Ramón de Armas, who had a mul'\n",
            "                'tifaceted career as a teacher, principal, and deputy mayor, and Ana Caso, an administrative worker fo'\n",
            "                'r the Ministry of Education. Her passion for acting was evident at a young age, as she studied at the'\n",
            "                ' National Theater School of Havana and made her acting debut at age 16 in the Cuban film \"Una rosa de'\n",
            "                ' Francia.\"\\n'\n",
            "                '\\n'\n",
            "                'In pursuit of a greater opportunity, de Armas moved to Spain at the age of 18 where she quickly estab'\n",
            "                'lished herself as a talented actress in Spanish television. Her move to Hollywood marked a significan'\n",
            "                't turning point, initially gaining attention with her role in \"Knock Knock\" (2015) alongside Keanu Re'\n",
            "                'eves. However, it was her performance in \"Blade Runner 2049\" (2017) that earned her widespread acclai'\n",
            "                'm.\\n'\n",
            "                '\\n'\n",
            "                'Ana de Armas rose to further prominence with her lauded role in \"Knives Out\" (2019), which earned her'\n",
            "                ' a Golden Globe nomination and established her as a leading figure in Hollywood circles. She continue'\n",
            "                'd her success with roles in \"No Time to Die\" (2021) and \"Blonde\" (2022), where she portrayed Marilyn '\n",
            "                'Monroe, garnering her nominations from the Academy Awards, BAFTAs, Golden Globes, and Screen Actors G'\n",
            "                'uild Awards.\\n'\n",
            "                '\\n'\n",
            "                'Outside of her professional life, Ana de Armas has had an intriguing personal life, including a marri'\n",
            "                'age to Spanish actor Marc Clotet and relationships with high-profile individuals. Despite her public '\n",
            "                'persona, she remains quite private about personal details. Looking forward, de Armas has an exciting '\n",
            "                'slate of future projects, including a highly anticipated role in the \"John Wick\" franchise\\'s spin-off'\n",
            "                ' \"Ballerina.\"'\n",
            "            ),\n",
            "            research_bullets=(\n",
            "                '- Ana de Armas was born on April 30, 1988, in Havana, Cuba.\\n'\n",
            "                '- She is of Spanish-Cuban descent, fluent in both Spanish and English.\\n'\n",
            "                '- Ana attended the National Theater School of Havana and started acting at 16.\\n'\n",
            "                '- Moved to Spain at 18, where she became known through Spanish television.\\n'\n",
            "                '- Moved to Hollywood, debuting in \"Knock Knock\" (2015) with Keanu Reeves.\\n'\n",
            "                '- Gained fame for her role in \"Blade Runner 2049\" and critical acclaim in \"Knives Out\".\\n'\n",
            "                '- Starred in \"No Time to Die\" and portrayed Marilyn Monroe in \"Blonde\" (2022).\\n'\n",
            "                '- Nominated for awards including Oscars, BAFTA, Golden Globes for \"Blonde\".\\n'\n",
            "                '- Was married to Marc Clotet and has had notable relationships.\\n'\n",
            "                '- Future projects include \"Ballerina,\" a spin-off from the \"John Wick\" series.'\n",
            "            ),\n",
            "        ),\n",
            "        _result_tool_name='final_result',\n",
            "        _usage=Usage(\n",
            "            requests=2,\n",
            "            request_tokens=4161,\n",
            "            response_tokens=786,\n",
            "            total_tokens=4947,\n",
            "            details={\n",
            "                'accepted_prediction_tokens': 0,\n",
            "                'audio_tokens': 0,\n",
            "                'reasoning_tokens': 0,\n",
            "                'rejected_prediction_tokens': 0,\n",
            "                'cached_tokens': 0,\n",
            "            },\n",
            "        ),\n",
            "    ) (RunResult)\n"
          ]
        },
        {
          "output_type": "execute_result",
          "data": {
            "text/plain": [
              "RunResult(_all_messages=[ModelRequest(parts=[SystemPromptPart(content='Your a helpful research assistant, you are an expert in research If you are given a question you write strong keywords to do 3-5 searches in total (each with a query_number) and then combine the results', dynamic_ref=None, part_kind='system-prompt'), UserPromptPart(content='Can you give me a very detailed bio of Ana De Armas?', timestamp=datetime.datetime(2025, 2, 3, 22, 6, 47, 24492, tzinfo=datetime.timezone.utc), part_kind='user-prompt')], kind='request'), ModelResponse(parts=[ToolCallPart(tool_name='get_search', args='{\"query\": \"Ana De Armas biography early life\", \"query_number\": 1}', tool_call_id='call_0Q5wEV0LPNcEqo3AMrmxS42i', part_kind='tool-call'), ToolCallPart(tool_name='get_search', args='{\"query\": \"Ana De Armas career achievements\", \"query_number\": 2}', tool_call_id='call_rQE6ZdHmbIidKQHoTdFkWrla', part_kind='tool-call'), ToolCallPart(tool_name='get_search', args='{\"query\": \"Ana De Armas personal life\", \"query_number\": 3}', tool_call_id='call_gsimU86T81n8Zhs7JPmu2ra7', part_kind='tool-call'), ToolCallPart(tool_name='get_search', args='{\"query\": \"Ana De Armas awards and nominations\", \"query_number\": 4}', tool_call_id='call_FT1SBPSlITqcljPBqHP2GYxi', part_kind='tool-call'), ToolCallPart(tool_name='get_search', args='{\"query\": \"Ana De Armas future projects\", \"query_number\": 5}', tool_call_id='call_BF8JruO5ErzQxH1M7HBjmq8M', part_kind='tool-call')], model_name='gpt-4o', timestamp=datetime.datetime(2025, 2, 3, 22, 6, 47, tzinfo=datetime.timezone.utc), kind='response'), ModelRequest(parts=[ToolReturnPart(tool_name='get_search', content='\"[\\\\\"{\\\\\\\\\\\\\"url\\\\\\\\\\\\\": \\\\\\\\\\\\\"https://www.thecityceleb.com/biography/celebrity/actress/ana-de-armas-biography-movies-height-net-worth-husband-age-instagram-tv-shows-children/\\\\\\\\\\\\\", \\\\\\\\\\\\\"content\\\\\\\\\\\\\": \\\\\\\\\\\\\"Early Life & Education. Ana de Armas, the Cuban-born actress, was brought into the world in Havana on April 30, 1988, and raised in Santa Cruz del Norte.Her father, Ram\\\\\\\\\\\\\\\\u00f3n de Armas, wore multiple hats during his career, working in different capacities such as teaching, as a school principal, and even serving as the deputy mayor of a town.Before that, he had pursued philosophy at a Soviet\\\\\\\\\\\\\"}\\\\\", \\\\\"{\\\\\\\\\\\\\"url\\\\\\\\\\\\\": \\\\\\\\\\\\\"https://www.britannica.com/biography/Ana-de-Armas\\\\\\\\\\\\\", \\\\\\\\\\\\\"content\\\\\\\\\\\\\": \\\\\\\\\\\\\"She nonetheless made her Hollywood debut, in the thriller Knock Knock (2015), starring alongside Keanu Reeves, and had subsequent roles in the comedy crime film War Dogs (2016), in Overdrive (2017), and in Blade Runner 2049 (2017), the last of which was a sequel to the 1982 film Blade Runner, starring Harrison Ford.\\\\\\\\\\\\\\\\n Knives Out, No Time to Die, and Deep Water\\\\\\\\\\\\\\\\nIn 2019 de Armas gained fame and acclaim for her role in the hit movie Knives Out, playing a crime novelist\\\\\\\\\\\\\\\\u2019s nurse who becomes tangled up in a murder mystery. Early life and career\\\\\\\\\\\\\\\\nDe Armas was raised alongside her brother in Santa Cruz del Norte, a town east of Havana, by her parents, Ram\\\\\\\\\\\\\\\\u00f3n de Armas, a former teacher and school principal, and Ana Caso, an employee of the Cuban Ministry of Education. At age 14 Ana de Armas began studying at the National Theater School of Havana, and she made her film acting debut at age 16 in the Cuban drama Una rosa de Francia, which was released in 2006.\\\\\\\\\\\\\\\\n She soon secured a part in the James Bond film No Time to Die (2021) and the lead as American actress Marilyn Monroe in Blonde (2022).\\\\\\\\\\\\\\\\n\\\\\\\\\\\\\"}\\\\\", \\\\\"{\\\\\\\\\\\\\"url\\\\\\\\\\\\\": \\\\\\\\\\\\\"https://www.thefamouspeople.com/profiles/ana-de-armas-44631.php\\\\\\\\\\\\\", \\\\\\\\\\\\\"content\\\\\\\\\\\\\": \\\\\\\\\\\\\"Ana de Armas is a Spanish-Cuban actress who is known for her performances in the films \\'Hands of Stone\\' and \\'Blade Runner 2049.\\' She used to work in the Spanish film industry before transitioning to Hollywood. Is Ana de Armas Cuban? Ana de Armas is fluent in Spanish and English. What are some movies Ana de Armas has starred in? Some of the movies Ana de Armas has starred in include \\\\\\\\\\\\\\\\\\\\\\\\\\\\\"Blade Runner 2049,\\\\\\\\\\\\\\\\\\\\\\\\\\\\\" \\\\\\\\\\\\\\\\\\\\\\\\\\\\\"Knives Out,\\\\\\\\\\\\\\\\\\\\\\\\\\\\\" \\\\\\\\\\\\\\\\\\\\\\\\\\\\\"No Time to Die,\\\\\\\\\\\\\\\\\\\\\\\\\\\\\" and \\\\\\\\\\\\\\\\\\\\\\\\\\\\\"Yesterday.\\\\\\\\\\\\\\\\\\\\\\\\\\\\\" Ana de Armas made her acting debut in the Spanish film \\'Una rosa de Francia\\' (Virgin Rose). Ana de Armas is a talented actress who has starred in a wide range of films, showcasing her versatility in Hollywood.\\\\\\\\\\\\\"}\\\\\"]\"', tool_call_id='call_0Q5wEV0LPNcEqo3AMrmxS42i', timestamp=datetime.datetime(2025, 2, 3, 22, 6, 52, 864884, tzinfo=datetime.timezone.utc), part_kind='tool-return'), ToolReturnPart(tool_name='get_search', content='\"[\\\\\"{\\\\\\\\\\\\\"url\\\\\\\\\\\\\": \\\\\\\\\\\\\"https://www.britannica.com/biography/Ana-de-Armas\\\\\\\\\\\\\", \\\\\\\\\\\\\"content\\\\\\\\\\\\\": \\\\\\\\\\\\\"She nonetheless made her Hollywood debut, in the thriller Knock Knock (2015), starring alongside Keanu Reeves, and had subsequent roles in the comedy crime film War Dogs (2016), in Overdrive (2017), and in Blade Runner 2049 (2017), the last of which was a sequel to the 1982 film Blade Runner, starring Harrison Ford.\\\\\\\\\\\\\\\\n Knives Out, No Time to Die, and Deep Water\\\\\\\\\\\\\\\\nIn 2019 de Armas gained fame and acclaim for her role in the hit movie Knives Out, playing a crime novelist\\\\\\\\\\\\\\\\u2019s nurse who becomes tangled up in a murder mystery. Early life and career\\\\\\\\\\\\\\\\nDe Armas was raised alongside her brother in Santa Cruz del Norte, a town east of Havana, by her parents, Ram\\\\\\\\\\\\\\\\u00f3n de Armas, a former teacher and school principal, and Ana Caso, an employee of the Cuban Ministry of Education. At age 14 Ana de Armas began studying at the National Theater School of Havana, and she made her film acting debut at age 16 in the Cuban drama Una rosa de Francia, which was released in 2006.\\\\\\\\\\\\\\\\n She soon secured a part in the James Bond film No Time to Die (2021) and the lead as American actress Marilyn Monroe in Blonde (2022).\\\\\\\\\\\\\\\\n\\\\\\\\\\\\\"}\\\\\", \\\\\"{\\\\\\\\\\\\\"url\\\\\\\\\\\\\": \\\\\\\\\\\\\"https://en.wikipedia.org/wiki/Ana_de_Armas\\\\\\\\\\\\\", \\\\\\\\\\\\\"content\\\\\\\\\\\\\": \\\\\\\\\\\\\"In her native Cuba, de\\\\\\\\\\\\\\\\u00a0Armas had a starring role opposite \\\\\\\\\\\\\\\\u00c1lex Gonz\\\\\\\\\\\\\\\\u00e1lez in Manuel Guti\\\\\\\\\\\\\\\\u00e9rrez Arag\\\\\\\\\\\\\\\\u00f3n\\'s romantic drama Una rosa de Francia (2006).[13] Cuban actor Jorge Perugorr\\\\\\\\\\\\\\\\u00eda suggested that the director consider de\\\\\\\\\\\\\\\\u00a0Armas for the role, after meeting her while attending a birthday party with his daughters.[24][25] The director visited de\\\\\\\\\\\\\\\\u00a0Armas\\'s drama school and interrupted the sixteen-year-old during her audition to inform her that the role was hers.[24][26] She travelled to Spain as part of a promotional tour for the film and was introduced to Juan Lanja, who would later become her Spanish agent.[24] She then starred in the movie El ed\\\\\\\\\\\\\\\\u00e9n perdido (2007) and had a supporting role in Fernando P\\\\\\\\\\\\\\\\u00e9rez\\'s Madrigal (2007), filmed at night without the permission of her drama school tutors.[9]\\\\\\\\\\\\\\\\nAt age 18, de\\\\\\\\\\\\\\\\u00a0Armas moved to Madrid. Despite giving a positive review of the film, Randy Cordova of the Arizona Republic found de Armas to be \\\\\\\\\\\\\\\\\\\\\\\\\\\\\"unconvincing\\\\\\\\\\\\\\\\\\\\\\\\\\\\\" in her role.[35] Reeves then telephoned de Armas to invite her to star in a Spanish-language role in the thriller Daughter of God which he acted in and produced.[36] Producer Mark Downie hoped the film would be a star vehicle for de Armas, but due to executive meddling Daughter of God was severely edited with de Armas\\' former starring role reduced. The director Danny Boyle said that, while de Armas was \\\\\\\\\\\\\\\\\\\\\\\\\\\\\"really radiant\\\\\\\\\\\\\\\\\\\\\\\\\\\\\" in her scenes, the introduction of a love triangle subplot did not test well with audiences.[49]\\\\\\\\\\\\\\\\nDe Armas\\'s role as an immigrant nurse in the ensemble murder mystery film Knives Out (2019), written and directed by Rian Johnson, was widely praised and marked a breakthrough for the actress.[50] When first approached about the project, she was unenthusiastic about the idea of playing a stereotypical \\\\\\\\\\\\\\\\\\\\\\\\\\\\\"Latina caretaker\\\\\\\\\\\\\\\\\\\\\\\\\\\\\" but soon realized that her character was \\\\\\\\\\\\\\\\\\\\\\\\\\\\\"so much more than that. She received a nomination for the Academy Award for Best Actress, in addition to nominations for the BAFTA, Golden Globe and SAG Award in the same category.[88][89]\\\\\\\\\\\\\\\\nDe Armas next starred in the Apple TV+ action comedy film Ghosted (2023).[90] Benjamin Lee of The Guardian panned the film and the lack of chemistry between de Armas and Evans.[91] She then starred in Antonio Trashorras\\'s horror films El callej\\\\\\\\\\\\\\\\u00f3n (2011) and Anabel (2015),[30] and in the drama Por un pu\\\\\\\\\\\\\\\\u00f1ado de besos (2014).[31] During a long period without acting work,[21] de Armas participated in workshops at Tomaz Pandur\\'s Madrid theatre company[6] and felt \\\\\\\\\\\\\\\\\\\\\\\\\\\\\"very anxious\\\\\\\\\\\\\\\\\\\\\\\\\\\\\" about the lack of momentum in her career.[15]\\\\\\\\\\\\\\\\nTransition to Hollywood and breakthrough (2014\\\\\\\\\\\\\\\\u20132020)[edit]\\\\\\\\\\\\\\\\nWith encouragement from her newly hired Hollywood agent, she decided to move to Los Angeles.[14]\\\\\\\\\\\\\"}\\\\\", \\\\\"{\\\\\\\\\\\\\"url\\\\\\\\\\\\\": \\\\\\\\\\\\\"https://www.thefamouspeople.com/profiles/ana-de-armas-44631.php\\\\\\\\\\\\\", \\\\\\\\\\\\\"content\\\\\\\\\\\\\": \\\\\\\\\\\\\"Ana de Armas is a Spanish-Cuban actress who is known for her performances in the films \\'Hands of Stone\\' and \\'Blade Runner 2049.\\' She used to work in the Spanish film industry before transitioning to Hollywood. Is Ana de Armas Cuban? Ana de Armas is fluent in Spanish and English. What are some movies Ana de Armas has starred in? Some of the movies Ana de Armas has starred in include \\\\\\\\\\\\\\\\\\\\\\\\\\\\\"Blade Runner 2049,\\\\\\\\\\\\\\\\\\\\\\\\\\\\\" \\\\\\\\\\\\\\\\\\\\\\\\\\\\\"Knives Out,\\\\\\\\\\\\\\\\\\\\\\\\\\\\\" \\\\\\\\\\\\\\\\\\\\\\\\\\\\\"No Time to Die,\\\\\\\\\\\\\\\\\\\\\\\\\\\\\" and \\\\\\\\\\\\\\\\\\\\\\\\\\\\\"Yesterday.\\\\\\\\\\\\\\\\\\\\\\\\\\\\\" Ana de Armas made her acting debut in the Spanish film \\'Una rosa de Francia\\' (Virgin Rose). Ana de Armas is a talented actress who has starred in a wide range of films, showcasing her versatility in Hollywood.\\\\\\\\\\\\\"}\\\\\"]\"', tool_call_id='call_rQE6ZdHmbIidKQHoTdFkWrla', timestamp=datetime.datetime(2025, 2, 3, 22, 6, 53, 31262, tzinfo=datetime.timezone.utc), part_kind='tool-return'), ToolReturnPart(tool_name='get_search', content='\"[\\\\\"{\\\\\\\\\\\\\"url\\\\\\\\\\\\\": \\\\\\\\\\\\\"https://en.cibercuba.com/noticias/2024-11-20-u198484-e198484-s27065-nid292364-primer-marido-al-hijo-lis-cuesta-vida-amorosa\\\\\\\\\\\\\", \\\\\\\\\\\\\"content\\\\\\\\\\\\\": \\\\\\\\\\\\\"Ana de Armas has had a notable romantic life. From her first marriage to Marc Clotet to her current relationship with Manuel Anido Cuesta, stepson of Miguel D\\\\\\\\\\\\\\\\u00edaz-Canel. ... Ana moved to Los Angeles to pursue her career in Hollywood, a change that marked a new chapter in her professional and personal life.\\\\\\\\\\\\\"}\\\\\", \\\\\"{\\\\\\\\\\\\\"url\\\\\\\\\\\\\": \\\\\\\\\\\\\"https://www.thecelebrityfamilies.com/ana-de-armas-family-spouse-children-dating-net-worth-nationality-and-more/\\\\\\\\\\\\\", \\\\\\\\\\\\\"content\\\\\\\\\\\\\": \\\\\\\\\\\\\"Family and Personal Life. Here is Ana De Armas\\' family information, including spouse, kids, and dating life. During the teenage, at the age of 14, Ana De Armas decided to join the National theatre school of Cuba when she found out that acting was her passion. While being the student of the school, she filmed three movies.\\\\\\\\\\\\\"}\\\\\", \\\\\"{\\\\\\\\\\\\\"url\\\\\\\\\\\\\": \\\\\\\\\\\\\"https://en.as.com/latest_news/the-personal-life-of-ana-de-armas-from-millionaire-partner-to-activist-brother-n/\\\\\\\\\\\\\", \\\\\\\\\\\\\"content\\\\\\\\\\\\\": \\\\\\\\\\\\\"OSCARS 2023. The personal life of Ana de Armas: from millionaire partner to activist brother The Spanish-Cuban actress has been nominated for an Oscar for best actress after her spectacular role\\\\\\\\\\\\\"}\\\\\"]\"', tool_call_id='call_gsimU86T81n8Zhs7JPmu2ra7', timestamp=datetime.datetime(2025, 2, 3, 22, 6, 52, 893851, tzinfo=datetime.timezone.utc), part_kind='tool-return'), ToolReturnPart(tool_name='get_search', content='\"[\\\\\"{\\\\\\\\\\\\\"url\\\\\\\\\\\\\": \\\\\\\\\\\\\"https://en.wikipedia.org/wiki/Ana_de_Armas\\\\\\\\\\\\\", \\\\\\\\\\\\\"content\\\\\\\\\\\\\": \\\\\\\\\\\\\"In her native Cuba, de\\\\\\\\\\\\\\\\u00a0Armas had a starring role opposite \\\\\\\\\\\\\\\\u00c1lex Gonz\\\\\\\\\\\\\\\\u00e1lez in Manuel Guti\\\\\\\\\\\\\\\\u00e9rrez Arag\\\\\\\\\\\\\\\\u00f3n\\'s romantic drama Una rosa de Francia (2006).[13] Cuban actor Jorge Perugorr\\\\\\\\\\\\\\\\u00eda suggested that the director consider de\\\\\\\\\\\\\\\\u00a0Armas for the role, after meeting her while attending a birthday party with his daughters.[24][25] The director visited de\\\\\\\\\\\\\\\\u00a0Armas\\'s drama school and interrupted the sixteen-year-old during her audition to inform her that the role was hers.[24][26] She travelled to Spain as part of a promotional tour for the film and was introduced to Juan Lanja, who would later become her Spanish agent.[24] She then starred in the movie El ed\\\\\\\\\\\\\\\\u00e9n perdido (2007) and had a supporting role in Fernando P\\\\\\\\\\\\\\\\u00e9rez\\'s Madrigal (2007), filmed at night without the permission of her drama school tutors.[9]\\\\\\\\\\\\\\\\nAt age 18, de\\\\\\\\\\\\\\\\u00a0Armas moved to Madrid. Despite giving a positive review of the film, Randy Cordova of the Arizona Republic found de Armas to be \\\\\\\\\\\\\\\\\\\\\\\\\\\\\"unconvincing\\\\\\\\\\\\\\\\\\\\\\\\\\\\\" in her role.[35] Reeves then telephoned de Armas to invite her to star in a Spanish-language role in the thriller Daughter of God which he acted in and produced.[36] Producer Mark Downie hoped the film would be a star vehicle for de Armas, but due to executive meddling Daughter of God was severely edited with de Armas\\' former starring role reduced. The director Danny Boyle said that, while de Armas was \\\\\\\\\\\\\\\\\\\\\\\\\\\\\"really radiant\\\\\\\\\\\\\\\\\\\\\\\\\\\\\" in her scenes, the introduction of a love triangle subplot did not test well with audiences.[49]\\\\\\\\\\\\\\\\nDe Armas\\'s role as an immigrant nurse in the ensemble murder mystery film Knives Out (2019), written and directed by Rian Johnson, was widely praised and marked a breakthrough for the actress.[50] When first approached about the project, she was unenthusiastic about the idea of playing a stereotypical \\\\\\\\\\\\\\\\\\\\\\\\\\\\\"Latina caretaker\\\\\\\\\\\\\\\\\\\\\\\\\\\\\" but soon realized that her character was \\\\\\\\\\\\\\\\\\\\\\\\\\\\\"so much more than that. She received a nomination for the Academy Award for Best Actress, in addition to nominations for the BAFTA, Golden Globe and SAG Award in the same category.[88][89]\\\\\\\\\\\\\\\\nDe Armas next starred in the Apple TV+ action comedy film Ghosted (2023).[90] Benjamin Lee of The Guardian panned the film and the lack of chemistry between de Armas and Evans.[91] She then starred in Antonio Trashorras\\'s horror films El callej\\\\\\\\\\\\\\\\u00f3n (2011) and Anabel (2015),[30] and in the drama Por un pu\\\\\\\\\\\\\\\\u00f1ado de besos (2014).[31] During a long period without acting work,[21] de Armas participated in workshops at Tomaz Pandur\\'s Madrid theatre company[6] and felt \\\\\\\\\\\\\\\\\\\\\\\\\\\\\"very anxious\\\\\\\\\\\\\\\\\\\\\\\\\\\\\" about the lack of momentum in her career.[15]\\\\\\\\\\\\\\\\nTransition to Hollywood and breakthrough (2014\\\\\\\\\\\\\\\\u20132020)[edit]\\\\\\\\\\\\\\\\nWith encouragement from her newly hired Hollywood agent, she decided to move to Los Angeles.[14]\\\\\\\\\\\\\"}\\\\\", \\\\\"{\\\\\\\\\\\\\"url\\\\\\\\\\\\\": \\\\\\\\\\\\\"https://peopleenespanol.com/chica/ana-de-armas-oscars-blonde-first-cuban-actress/\\\\\\\\\\\\\", \\\\\\\\\\\\\"content\\\\\\\\\\\\\": \\\\\\\\\\\\\"Ana de Armas is showing awards season that blondes have more fun with a new history-making nomination. On January 24, the 34 year old became the first Cuban actress to be nominated for an Academy\\\\\\\\\\\\\"}\\\\\", \\\\\"{\\\\\\\\\\\\\"url\\\\\\\\\\\\\": \\\\\\\\\\\\\"https://ew.com/awards/oscars/ana-de-armas-oscar-nomination-blonde-after-razzies/\\\\\\\\\\\\\", \\\\\\\\\\\\\"content\\\\\\\\\\\\\": \\\\\\\\\\\\\"Ana de Armas scores Oscar nomination day after the Razzies trashed Blonde The Marilyn Monroe movie has been highlighted as both one of the worst and best movies of the year by two opposite awards\\\\\\\\\\\\\"}\\\\\"]\"', tool_call_id='call_FT1SBPSlITqcljPBqHP2GYxi', timestamp=datetime.datetime(2025, 2, 3, 22, 6, 53, 452802, tzinfo=datetime.timezone.utc), part_kind='tool-return'), ToolReturnPart(tool_name='get_search', content='\"[\\\\\"{\\\\\\\\\\\\\"url\\\\\\\\\\\\\": \\\\\\\\\\\\\"https://thecinemaholic.com/all-upcoming-ana-de-armas-movies/\\\\\\\\\\\\\", \\\\\\\\\\\\\"content\\\\\\\\\\\\\": \\\\\\\\\\\\\"As the actress continues to captivate the audience with her performances, she is set to be a part of some exciting projects in the future. Here is all you need to know about the upcoming films of Ana de Armas. 1. Ballerina (2025) Ana de Armas has joined the iconic \\'John Wick\\' franchise by starring in its spin-off movie \\'Ballerina.\\'\\\\\\\\\\\\\"}\\\\\", \\\\\"{\\\\\\\\\\\\\"url\\\\\\\\\\\\\": \\\\\\\\\\\\\"https://influencermagazine.uk/2024/02/ana-de-armas-upcoming-project-pipeline-of-the-rising-star/\\\\\\\\\\\\\", \\\\\\\\\\\\\"content\\\\\\\\\\\\\": \\\\\\\\\\\\\"de Armas\\' past performances in films like \\\\\\\\\\\\\\\\\\\\\\\\\\\\\"Deep Water\\\\\\\\\\\\\\\\\\\\\\\\\\\\\" and \\\\\\\\\\\\\\\\\\\\\\\\\\\\\"The Gray Man\\\\\\\\\\\\\\\\\\\\\\\\\\\\\" offer a glimpse into her versatility and talent. Ana de Armas is a force to be reckoned with in the film industry. With her upcoming projects showcasing her range and captivating presence, there\\'s no doubt she\\'ll continue to shine brightly on the silver screen.\\\\\\\\\\\\\"}\\\\\", \\\\\"{\\\\\\\\\\\\\"url\\\\\\\\\\\\\": \\\\\\\\\\\\\"https://www.indiewire.com/gallery/ana-de-armas-next-roles/\\\\\\\\\\\\\", \\\\\\\\\\\\\"content\\\\\\\\\\\\\": \\\\\\\\\\\\\"Ana de Armas is continuing her in-demand status with a slew of upcoming projects. The 2023 Oscar nominee may have admitted that her provocative turn as Marilyn Monroe in Andrew Dominik\\'s\\\\\\\\\\\\\"}\\\\\"]\"', tool_call_id='call_BF8JruO5ErzQxH1M7HBjmq8M', timestamp=datetime.datetime(2025, 2, 3, 22, 6, 53, 761861, tzinfo=datetime.timezone.utc), part_kind='tool-return')], kind='request'), ModelResponse(parts=[ToolCallPart(tool_name='final_result', args='{\"research_title\":\"Biography of Ana De Armas: A Comprehensive Overview\",\"research_main\":\"Ana de Armas is a highly acclaimed Spanish-Cuban actress, known for her diverse roles and captivating performances both in Spanish cinema and Hollywood. Born on April 30, 1988, in Havana, Cuba, Ana Celia de Armas Caso grew up in Santa Cruz del Norte. She is the daughter of Ramón de Armas, who had a multifaceted career as a teacher, principal, and deputy mayor, and Ana Caso, an administrative worker for the Ministry of Education. Her passion for acting was evident at a young age, as she studied at the National Theater School of Havana and made her acting debut at age 16 in the Cuban film \\\\\"Una rosa de Francia.\\\\\"\\\\n\\\\nIn pursuit of a greater opportunity, de Armas moved to Spain at the age of 18 where she quickly established herself as a talented actress in Spanish television. Her move to Hollywood marked a significant turning point, initially gaining attention with her role in \\\\\"Knock Knock\\\\\" (2015) alongside Keanu Reeves. However, it was her performance in \\\\\"Blade Runner 2049\\\\\" (2017) that earned her widespread acclaim.\\\\n\\\\nAna de Armas rose to further prominence with her lauded role in \\\\\"Knives Out\\\\\" (2019), which earned her a Golden Globe nomination and established her as a leading figure in Hollywood circles. She continued her success with roles in \\\\\"No Time to Die\\\\\" (2021) and \\\\\"Blonde\\\\\" (2022), where she portrayed Marilyn Monroe, garnering her nominations from the Academy Awards, BAFTAs, Golden Globes, and Screen Actors Guild Awards.\\\\n\\\\nOutside of her professional life, Ana de Armas has had an intriguing personal life, including a marriage to Spanish actor Marc Clotet and relationships with high-profile individuals. Despite her public persona, she remains quite private about personal details. Looking forward, de Armas has an exciting slate of future projects, including a highly anticipated role in the \\\\\"John Wick\\\\\" franchise\\'s spin-off \\\\\"Ballerina.\\\\\"\",\"research_bullets\":\"- Ana de Armas was born on April 30, 1988, in Havana, Cuba.\\\\n- She is of Spanish-Cuban descent, fluent in both Spanish and English.\\\\n- Ana attended the National Theater School of Havana and started acting at 16.\\\\n- Moved to Spain at 18, where she became known through Spanish television.\\\\n- Moved to Hollywood, debuting in \\\\\"Knock Knock\\\\\" (2015) with Keanu Reeves.\\\\n- Gained fame for her role in \\\\\"Blade Runner 2049\\\\\" and critical acclaim in \\\\\"Knives Out\\\\\".\\\\n- Starred in \\\\\"No Time to Die\\\\\" and portrayed Marilyn Monroe in \\\\\"Blonde\\\\\" (2022).\\\\n- Nominated for awards including Oscars, BAFTA, Golden Globes for \\\\\"Blonde\\\\\".\\\\n- Was married to Marc Clotet and has had notable relationships.\\\\n- Future projects include \\\\\"Ballerina,\\\\\" a spin-off from the \\\\\"John Wick\\\\\" series.\"}', tool_call_id='call_8uiZu3ZCmAPWAPnH5Tk3v2Wm', part_kind='tool-call')], model_name='gpt-4o', timestamp=datetime.datetime(2025, 2, 3, 22, 6, 54, tzinfo=datetime.timezone.utc), kind='response'), ModelRequest(parts=[ToolReturnPart(tool_name='final_result', content='Final result processed.', tool_call_id='call_8uiZu3ZCmAPWAPnH5Tk3v2Wm', timestamp=datetime.datetime(2025, 2, 3, 22, 7, 7, 871784, tzinfo=datetime.timezone.utc), part_kind='tool-return')], kind='request')], _new_message_index=0, data=ResearchResult(research_title='#Biography of Ana De Armas: A Comprehensive Overview', research_main='Ana de Armas is a highly acclaimed Spanish-Cuban actress, known for her diverse roles and captivating performances both in Spanish cinema and Hollywood. Born on April 30, 1988, in Havana, Cuba, Ana Celia de Armas Caso grew up in Santa Cruz del Norte. She is the daughter of Ramón de Armas, who had a multifaceted career as a teacher, principal, and deputy mayor, and Ana Caso, an administrative worker for the Ministry of Education. Her passion for acting was evident at a young age, as she studied at the National Theater School of Havana and made her acting debut at age 16 in the Cuban film \"Una rosa de Francia.\"\\n\\nIn pursuit of a greater opportunity, de Armas moved to Spain at the age of 18 where she quickly established herself as a talented actress in Spanish television. Her move to Hollywood marked a significant turning point, initially gaining attention with her role in \"Knock Knock\" (2015) alongside Keanu Reeves. However, it was her performance in \"Blade Runner 2049\" (2017) that earned her widespread acclaim.\\n\\nAna de Armas rose to further prominence with her lauded role in \"Knives Out\" (2019), which earned her a Golden Globe nomination and established her as a leading figure in Hollywood circles. She continued her success with roles in \"No Time to Die\" (2021) and \"Blonde\" (2022), where she portrayed Marilyn Monroe, garnering her nominations from the Academy Awards, BAFTAs, Golden Globes, and Screen Actors Guild Awards.\\n\\nOutside of her professional life, Ana de Armas has had an intriguing personal life, including a marriage to Spanish actor Marc Clotet and relationships with high-profile individuals. Despite her public persona, she remains quite private about personal details. Looking forward, de Armas has an exciting slate of future projects, including a highly anticipated role in the \"John Wick\" franchise\\'s spin-off \"Ballerina.\"', research_bullets='- Ana de Armas was born on April 30, 1988, in Havana, Cuba.\\n- She is of Spanish-Cuban descent, fluent in both Spanish and English.\\n- Ana attended the National Theater School of Havana and started acting at 16.\\n- Moved to Spain at 18, where she became known through Spanish television.\\n- Moved to Hollywood, debuting in \"Knock Knock\" (2015) with Keanu Reeves.\\n- Gained fame for her role in \"Blade Runner 2049\" and critical acclaim in \"Knives Out\".\\n- Starred in \"No Time to Die\" and portrayed Marilyn Monroe in \"Blonde\" (2022).\\n- Nominated for awards including Oscars, BAFTA, Golden Globes for \"Blonde\".\\n- Was married to Marc Clotet and has had notable relationships.\\n- Future projects include \"Ballerina,\" a spin-off from the \"John Wick\" series.'), _result_tool_name='final_result', _usage=Usage(requests=2, request_tokens=4161, response_tokens=786, total_tokens=4947, details={'accepted_prediction_tokens': 0, 'audio_tokens': 0, 'reasoning_tokens': 0, 'rejected_prediction_tokens': 0, 'cached_tokens': 0}))"
            ]
          },
          "metadata": {},
          "execution_count": 34
        }
      ]
    },
    {
      "cell_type": "code",
      "source": [
        "result = await search_agent.run(\n",
        "    'What are the top 10 destinations liked by couple to have their destination wedding?', deps=deps\n",
        ")"
      ],
      "metadata": {
        "colab": {
          "base_uri": "https://localhost:8080/"
        },
        "outputId": "a9c9e4c7-06ac-40d0-a09f-6921b04f731e",
        "id": "X9mgeULM5c_P"
      },
      "execution_count": 39,
      "outputs": [
        {
          "output_type": "stream",
          "name": "stdout",
          "text": [
            "Search query 1: top destinations for destination weddings for couples\n",
            "Search query 2: popular wedding destinations for couples 2023\n",
            "Search query 3: best places for destination weddings 2023\n"
          ]
        }
      ]
    },
    {
      "cell_type": "code",
      "source": [
        "print(result.data)"
      ],
      "metadata": {
        "colab": {
          "base_uri": "https://localhost:8080/"
        },
        "outputId": "f068fa90-85b8-4802-f2f8-31bf9d9c2ff5",
        "id": "heajKGCi5c_Q"
      },
      "execution_count": 40,
      "outputs": [
        {
          "output_type": "stream",
          "name": "stdout",
          "text": [
            "research_title='Top 10 Destinations for Destination Weddings' research_main='Destination weddings have become increasingly popular for couples seeking a unique and memorable experience. Based on recent research, several locations around the world have stood out as top choices for destination weddings in 2023 and 2024. These locations offer picturesque settings, unique cultural experiences, and various options for ceremonies and receptions.\\n\\n1. **Ko Samui, Thailand** - Known for its secluded beaches and ocean views.\\n   \\n2. **Caribbean Islands** - Offers tropical locales with the feel of a vacation close to the U.S.\\n   \\n3. **Italy** - Known for its romantic landscapes, especially regions like Tuscany and Puglia.\\n   \\n4. **Mexico** - Offers diverse settings from urban Mexico City to serene coastal resorts.\\n   \\n5. **Fiji** - Described as the best-kept secret for destination weddings with legal ease in wedding planning.\\n   \\n6. **Crete, Greece** - Trending location with venues offering everything from beach to traditional church ceremonies.\\n   \\n7. **France** - Known for gardens and green backdrops, particularly rustic barns in regions like Provence.\\n   \\n8. **Sydney, Australia** - Notable for beautiful beach settings, especially Palm Beach.\\n   \\n9. **New Orleans, USA** - Offers rich cultural and musical integrations for weddings.\\n   \\n10. **Tulum, Mexico** - A favorite for its warm beaches and vibrant natural surroundings.' research_bullets=\"- Ko Samui, Thailand for ocean views and secluded beaches\\n- Caribbean Islands as tropical destinations\\n- Italy, particularly Tuscany and Puglia\\n- Mexico with versatile locales like Mexico City and coastal resorts\\n- Fiji, a secluded beauty with easy wedding legalities\\n- Crete in Greece for a mix of beach and traditional settings\\n- France, especially regions with rustic barns like Provence\\n- Sydney's Palm Beach in Australia for beach weddings\\n- New Orleans in the USA for cultural and musical weddings\\n- Tulum, Mexico for its natural beauty and beaches\"\n"
          ]
        }
      ]
    },
    {
      "cell_type": "markdown",
      "source": [
        "## Add in the date"
      ],
      "metadata": {
        "id": "AH9Xno_gA0I-"
      }
    },
    {
      "cell_type": "code",
      "source": [
        "@search_agent.system_prompt\n",
        "async def add_current_date(ctx: RunContext[ResearchDependencies]) -> str:\n",
        "    todays_date = ctx.deps.todays_date\n",
        "    system_prompt=f'Your a helpful research assistant, you are an expert in research \\\n",
        "                If you are given a question you write strong keywords to do 3-5 searches in total \\\n",
        "                (each with a query_number) and then combine the results \\\n",
        "                if you need todays date it is {todays_date}'\n",
        "    return system_prompt"
      ],
      "metadata": {
        "id": "Y53dieyuk24n"
      },
      "execution_count": 43,
      "outputs": []
    },
    {
      "cell_type": "code",
      "source": [
        "result = await search_agent.run(\n",
        "    'What are the major AI News announcements in the last few days?', deps=deps\n",
        ")"
      ],
      "metadata": {
        "colab": {
          "base_uri": "https://localhost:8080/"
        },
        "id": "RD3z_a9WA2CI",
        "outputId": "f3a3833b-a831-45fd-d555-965f319b5a66"
      },
      "execution_count": 42,
      "outputs": [
        {
          "output_type": "stream",
          "name": "stdout",
          "text": [
            "Search query 1: major AI news announcements February 2025\n",
            "Search query 2: latest AI news February 2025\n",
            "Search query 3: important AI updates February 2025\n"
          ]
        }
      ]
    },
    {
      "cell_type": "code",
      "source": [
        "print(result.data)"
      ],
      "metadata": {
        "colab": {
          "base_uri": "https://localhost:8080/"
        },
        "outputId": "cf47b431-08d3-4fce-e83b-3e6d6628e059",
        "id": "WUgREI2MBR5p"
      },
      "execution_count": 44,
      "outputs": [
        {
          "output_type": "stream",
          "name": "stdout",
          "text": [
            "research_title='Major AI News Announcements - February 2025' research_main='In the past few days, several significant developments in the field of artificial intelligence (AI) have occurred. Alibaba has released a new AI model that claims to surpass existing benchmarks set by models such as DeepSeek V3. Additionally, Tech Show London is scheduled to address critical tech topics including AI ethics and cybersecurity in an upcoming event. Furthermore, AI2 introduced Tülu 3 405B, an open-source model that outperforms DeepSeek V3 and GPT-4o on certain benchmarks, demonstrating the continuous advancement in AI capabilities. The U.S. Copyright Office reaffirmed that AI-assisted tools support human creativity without undermining copyright protections. These announcements highlight ongoing innovations and discussions in AI, with a focus on enhancing application performance, ethical implications, and regulatory frameworks.' research_bullets=\"- Alibaba claims new AI model surpasses DeepSeek V3.\\n- Upcoming Tech Show London event to discuss AI ethics and cybersecurity.\\n- AI2's Tülu 3 405B open-source model outperforms DeepSeek V3 and GPT-4o on certain benchmarks.\\n- U.S. Copyright Office confirms AI tools' compatibility with copyright protection.\\n- Continuous focus on AI industry growth, innovation, and ethical debates.\"\n"
          ]
        }
      ]
    },
    {
      "cell_type": "code",
      "source": [
        "result.data.research_title = '#'+result.data.research_title\n",
        "print(result.data.research_title)"
      ],
      "metadata": {
        "colab": {
          "base_uri": "https://localhost:8080/"
        },
        "outputId": "f53d39dc-4457-4b77-d80f-3be1c1760710",
        "id": "-Va0j58lBR5p"
      },
      "execution_count": 45,
      "outputs": [
        {
          "output_type": "stream",
          "name": "stdout",
          "text": [
            "#Major AI News Announcements - February 2025\n"
          ]
        }
      ]
    },
    {
      "cell_type": "code",
      "source": [
        "print(result.data.research_main)"
      ],
      "metadata": {
        "colab": {
          "base_uri": "https://localhost:8080/"
        },
        "outputId": "32f6ddac-344f-485f-e071-61afb5f1282f",
        "id": "kaCUdf0lBR5p"
      },
      "execution_count": 46,
      "outputs": [
        {
          "output_type": "stream",
          "name": "stdout",
          "text": [
            "In the past few days, several significant developments in the field of artificial intelligence (AI) have occurred. Alibaba has released a new AI model that claims to surpass existing benchmarks set by models such as DeepSeek V3. Additionally, Tech Show London is scheduled to address critical tech topics including AI ethics and cybersecurity in an upcoming event. Furthermore, AI2 introduced Tülu 3 405B, an open-source model that outperforms DeepSeek V3 and GPT-4o on certain benchmarks, demonstrating the continuous advancement in AI capabilities. The U.S. Copyright Office reaffirmed that AI-assisted tools support human creativity without undermining copyright protections. These announcements highlight ongoing innovations and discussions in AI, with a focus on enhancing application performance, ethical implications, and regulatory frameworks.\n"
          ]
        }
      ]
    },
    {
      "cell_type": "code",
      "source": [
        "print(result.data.research_bullets)"
      ],
      "metadata": {
        "colab": {
          "base_uri": "https://localhost:8080/"
        },
        "outputId": "6ed09ba2-56df-4c87-96f5-91d6c85b7d54",
        "id": "JD4P5IZgBR5p"
      },
      "execution_count": 47,
      "outputs": [
        {
          "output_type": "stream",
          "name": "stdout",
          "text": [
            "- Alibaba claims new AI model surpasses DeepSeek V3.\n",
            "- Upcoming Tech Show London event to discuss AI ethics and cybersecurity.\n",
            "- AI2's Tülu 3 405B open-source model outperforms DeepSeek V3 and GPT-4o on certain benchmarks.\n",
            "- U.S. Copyright Office confirms AI tools' compatibility with copyright protection.\n",
            "- Continuous focus on AI industry growth, innovation, and ethical debates.\n"
          ]
        }
      ]
    },
    {
      "cell_type": "code",
      "source": [
        "\n",
        "combined_markdown = \"\\n\\n\".join([result.data.research_title, result.data.research_main, result.data.research_bullets])\n",
        "\n",
        "Markdown(combined_markdown)"
      ],
      "metadata": {
        "colab": {
          "base_uri": "https://localhost:8080/",
          "height": 279
        },
        "outputId": "2c4483e9-2715-4421-8369-b539dc9b355a",
        "id": "DzKY8FEiBR5q"
      },
      "execution_count": 48,
      "outputs": [
        {
          "output_type": "execute_result",
          "data": {
            "text/plain": [
              "<IPython.core.display.Markdown object>"
            ],
            "text/markdown": "#Major AI News Announcements - February 2025\n\nIn the past few days, several significant developments in the field of artificial intelligence (AI) have occurred. Alibaba has released a new AI model that claims to surpass existing benchmarks set by models such as DeepSeek V3. Additionally, Tech Show London is scheduled to address critical tech topics including AI ethics and cybersecurity in an upcoming event. Furthermore, AI2 introduced Tülu 3 405B, an open-source model that outperforms DeepSeek V3 and GPT-4o on certain benchmarks, demonstrating the continuous advancement in AI capabilities. The U.S. Copyright Office reaffirmed that AI-assisted tools support human creativity without undermining copyright protections. These announcements highlight ongoing innovations and discussions in AI, with a focus on enhancing application performance, ethical implications, and regulatory frameworks.\n\n- Alibaba claims new AI model surpasses DeepSeek V3.\n- Upcoming Tech Show London event to discuss AI ethics and cybersecurity.\n- AI2's Tülu 3 405B open-source model outperforms DeepSeek V3 and GPT-4o on certain benchmarks.\n- U.S. Copyright Office confirms AI tools' compatibility with copyright protection.\n- Continuous focus on AI industry growth, innovation, and ethical debates."
          },
          "metadata": {},
          "execution_count": 48
        }
      ]
    },
    {
      "cell_type": "code",
      "source": [
        "debug(result)"
      ],
      "metadata": {
        "id": "I8mPp2E_BR5q",
        "colab": {
          "base_uri": "https://localhost:8080/"
        },
        "outputId": "bb74e9a6-dfbb-426b-e4a6-009009e4328c"
      },
      "execution_count": 49,
      "outputs": [
        {
          "output_type": "stream",
          "name": "stdout",
          "text": [
            "<ipython-input-49-4217a35008bd>:1 <cell line: 0>\n",
            "    result: RunResult(\n",
            "        _all_messages=[\n",
            "            ModelRequest(\n",
            "                parts=[\n",
            "                    SystemPromptPart(\n",
            "                        content=(\n",
            "                            'Your a helpful research assistant, you are an expert in research If you are given a quest'\n",
            "                            'ion you write strong keywords to do 3-5 searches in total (each with a query_number) and '\n",
            "                            'then combine the results'\n",
            "                        ),\n",
            "                        dynamic_ref=None,\n",
            "                        part_kind='system-prompt',\n",
            "                    ),\n",
            "                    SystemPromptPart(\n",
            "                        content=(\n",
            "                            'Your a helpful research assistant, you are an expert in research                 If you a'\n",
            "                            're given a question you write strong keywords to do 3-5 searches in total                '\n",
            "                            ' (each with a query_number) and then combine the results                 if you need toda'\n",
            "                            'ys date it is 2025-02-03'\n",
            "                        ),\n",
            "                        dynamic_ref=None,\n",
            "                        part_kind='system-prompt',\n",
            "                    ),\n",
            "                    UserPromptPart(\n",
            "                        content='What are the major AI News announcements in the last few days?',\n",
            "                        timestamp=datetime.datetime(2025, 2, 3, 22, 14, 3, 144486, tzinfo=datetime.timezone.utc),\n",
            "                        part_kind='user-prompt',\n",
            "                    ),\n",
            "                ],\n",
            "                kind='request',\n",
            "            ),\n",
            "            ModelResponse(\n",
            "                parts=[\n",
            "                    ToolCallPart(\n",
            "                        tool_name='get_search',\n",
            "                        args='{\"query\": \"major AI news announcements February 2025\", \"query_number\": 1}',\n",
            "                        tool_call_id='call_sZZdsNkuJmQJAyorXECg0ypX',\n",
            "                        part_kind='tool-call',\n",
            "                    ),\n",
            "                    ToolCallPart(\n",
            "                        tool_name='get_search',\n",
            "                        args='{\"query\": \"latest AI news February 2025\", \"query_number\": 2}',\n",
            "                        tool_call_id='call_8xmYDWyWht69ygwglK2F3olm',\n",
            "                        part_kind='tool-call',\n",
            "                    ),\n",
            "                    ToolCallPart(\n",
            "                        tool_name='get_search',\n",
            "                        args='{\"query\": \"important AI updates February 2025\", \"query_number\": 3}',\n",
            "                        tool_call_id='call_MpBQbUcH4zbDHpho19MjqTYw',\n",
            "                        part_kind='tool-call',\n",
            "                    ),\n",
            "                ],\n",
            "                model_name='gpt-4o',\n",
            "                timestamp=datetime.datetime(2025, 2, 3, 22, 14, 3, tzinfo=datetime.timezone.utc),\n",
            "                kind='response',\n",
            "            ),\n",
            "            ModelRequest(\n",
            "                parts=[\n",
            "                    ToolReturnPart(\n",
            "                        tool_name='get_search',\n",
            "                        content=(\n",
            "                            '\"[\\\\\"{\\\\\\\\\\\\\"url\\\\\\\\\\\\\": \\\\\\\\\\\\\"https://www.codemotion.com/magazine/ai-ml/technological-innovations'\n",
            "                            '-of-2025/\\\\\\\\\\\\\", \\\\\\\\\\\\\"content\\\\\\\\\\\\\": \\\\\\\\\\\\\"From the new frontiers opened by NVIDIA to the contro'\n",
            "                            'versial approaches taken by Meta, and regulations reshaping digital design, this year pro'\n",
            "                            'mises to be transformative. 2025 is shaping up to be a pivotal year for artificial intell'\n",
            "                            'igence (AI), with the technology making its way into practical applications, revolutioniz'\n",
            "                            'ing key industries, and transforming both routine and complex operations. Major industry '\n",
            "                            'players like OpenAI, Google DeepMind, and Anthropic are working to enhance the efficiency'\n",
            "                            ' and transparency of AI systems while addressing concerns about misuse and risk managemen'\n",
            "                            't. From AI innovations and greater digital inclusion to emerging trends, the future holds'\n",
            "                            ' vast opportunities for consumers and businesses alike.\\\\\\\\\\\\\"}\\\\\", \\\\\"{\\\\\\\\\\\\\"url\\\\\\\\\\\\\": \\\\\\\\\\\\\"https'\n",
            "                            '://drbobsutor.substack.com/p/ai-monday-february-3-2025-commentary\\\\\\\\\\\\\", \\\\\\\\\\\\\"content\\\\\\\\\\\\\": \\\\'\n",
            "                            '\\\\\\\\\"Validating AI code generation with AI, two upcoming earnings announcements, and more c'\n",
            "                            'ontent to be available on Substack. ... AI - Monday, February 3, 2025: Commentary with No'\n",
            "                            'table and Interesting News, Articles, and Papers ... Commentary and a selection of the mo'\n",
            "                            'st important recent news, articles, and papers about AI.\\\\\\\\\\\\\"}\\\\\", \\\\\"{\\\\\\\\\\\\\"url\\\\\\\\\\\\\": \\\\\\\\\\\\\"http'\n",
            "                            's://www.fladgate.com/insights/ai-round-up-february-2025\\\\\\\\\\\\\", \\\\\\\\\\\\\"content\\\\\\\\\\\\\": \\\\\\\\\\\\\"Profess'\n",
            "                            'ional Practices Our Insights Our Insights Professional Practices Professional Practices O'\n",
            "                            'ur Insights Our Insights Insights Rather it provides operative rules placing obligations '\n",
            "                            'on the Ministry of Science and ICT and other related authorities, whilst emphasising supp'\n",
            "                            'ort for AI industry growth through initiatives like AI data centres, workforce developmen'\n",
            "                            't and international collaboration. Finally, Tech Show London looks set to deliver an exci'\n",
            "                            'ting two-day event on 12-13 March 2025 at Excel London, featuring over 200 hours of exper'\n",
            "                            't-led sessions and bringing together 19,350+ industry leaders and 400 world-class speaker'\n",
            "                            's, with the Mainstage Theatre set to tackle the critical tech topics including AI ethics,'\n",
            "                            ' digital sustainability, cybersecurity and technological innovation. Featured Lawyers Pro'\n",
            "                            'fessional Support Lawyer Featured Insights More Insights Our Insights\\\\\\\\\\\\\"}\\\\\"]\"'\n",
            "                        ),\n",
            "                        tool_call_id='call_sZZdsNkuJmQJAyorXECg0ypX',\n",
            "                        timestamp=datetime.datetime(2025, 2, 3, 22, 14, 7, 613856, tzinfo=datetime.timezone.utc),\n",
            "                        part_kind='tool-return',\n",
            "                    ),\n",
            "                    ToolReturnPart(\n",
            "                        tool_name='get_search',\n",
            "                        content=(\n",
            "                            '\"[\\\\\"{\\\\\\\\\\\\\"url\\\\\\\\\\\\\": \\\\\\\\\\\\\"https://community.openai.com/t/ai-pulse-news-roundup-february-2025-'\n",
            "                            'edition/1109121\\\\\\\\\\\\\", \\\\\\\\\\\\\"content\\\\\\\\\\\\\": \\\\\\\\\\\\\"AI Pulse News Roundup (February 2025 Edition) -'\n",
            "                            ' Community - OpenAI Developer Community AI Pulse News Roundup (February 2025 Edition) Wel'\n",
            "                            'come to the February 2025 AI Pulse News Roundup Thread! Post breaking news about AI resea'\n",
            "                            'rch, applications, policies, product launches, ethical debates, and more. AI2 has introdu'\n",
            "                            'ced T\\\\\\\\\\\\\\\\u00fclu 3 405B, an open-source model that surpasses the performance of DeepSeek '\n",
            "                            'V3 and GPT-4o on certain benchmarks. The U.S. Copyright Office reaffirmed that AI-assiste'\n",
            "                            'd tools do not undermine copyright protection when used to support human creativity. | AI'\n",
            "                            ' Pulse News Roundup (January 2025 Edition) | AI Pulse News Roundup (December 2024 Edition'\n",
            "                            ') | AI Pulse Edition #3: Latest AI News Updates for the Developer Community | AI Pulse Ed'\n",
            "                            'ition #7: Latest AI News Updates for the Developer Community\\\\\\\\\\\\\"}\\\\\", \\\\\"{\\\\\\\\\\\\\"url\\\\\\\\\\\\\": \\\\\\\\\\\\\"'\n",
            "                            'https://www.fladgate.com/insights/ai-round-up-february-2025\\\\\\\\\\\\\", \\\\\\\\\\\\\"content\\\\\\\\\\\\\": \\\\\\\\\\\\\"Pro'\n",
            "                            'fessional Practices Our Insights Our Insights Professional Practices Professional Practic'\n",
            "                            'es Our Insights Our Insights Insights Rather it provides operative rules placing obligati'\n",
            "                            'ons on the Ministry of Science and ICT and other related authorities, whilst emphasising '\n",
            "                            'support for AI industry growth through initiatives like AI data centres, workforce develo'\n",
            "                            'pment and international collaboration. Finally, Tech Show London looks set to deliver an '\n",
            "                            'exciting two-day event on 12-13 March 2025 at Excel London, featuring over 200 hours of e'\n",
            "                            'xpert-led sessions and bringing together 19,350+ industry leaders and 400 world-class spe'\n",
            "                            'akers, with the Mainstage Theatre set to tackle the critical tech topics including AI eth'\n",
            "                            'ics, digital sustainability, cybersecurity and technological innovation. Featured Lawyers'\n",
            "                            ' Professional Support Lawyer Featured Insights More Insights Our Insights\\\\\\\\\\\\\"}\\\\\", \\\\\"{\\\\\\\\\\\\\"'\n",
            "                            'url\\\\\\\\\\\\\": \\\\\\\\\\\\\"https://www.reuters.com/technology/artificial-intelligence/alibaba-releases-'\n",
            "                            'ai-model-it-claims-surpasses-deepseek-v3-2025-01-29/\\\\\\\\\\\\\", \\\\\\\\\\\\\"content\\\\\\\\\\\\\": \\\\\\\\\\\\\"Alibaba Gr'\n",
            "                            'oup sign is seen at the World Artificial Intelligence Conference (WAIC) in Shanghai, Chin'\n",
            "                            'a July 6, 2023. ... Technology category \\\\\\\\\\\\\\\\u00b7 February 3, 2025 \\\\\\\\\\\\\\\\u00b7 7:46 PM UTC '\n",
            "                            '... the news and media\\\\\\\\\\\\\"}\\\\\"]\"'\n",
            "                        ),\n",
            "                        tool_call_id='call_8xmYDWyWht69ygwglK2F3olm',\n",
            "                        timestamp=datetime.datetime(2025, 2, 3, 22, 14, 7, 508861, tzinfo=datetime.timezone.utc),\n",
            "                        part_kind='tool-return',\n",
            "                    ),\n",
            "                    ToolReturnPart(\n",
            "                        tool_name='get_search',\n",
            "                        content=(\n",
            "                            '\"[\\\\\"{\\\\\\\\\\\\\"url\\\\\\\\\\\\\": \\\\\\\\\\\\\"https://techstartups.com/2025/01/01/top-15-ai-trends-for-2025-exper'\n",
            "                            't-predictions-you-need-to-know/\\\\\\\\\\\\\", \\\\\\\\\\\\\"content\\\\\\\\\\\\\": \\\\\\\\\\\\\"Top 15 AI Trends for 2025: Expe'\n",
            "                            'rt Predictions You Need to Know - Tech Startups Deepseek, a\\\\\\\\\\\\\\\\u00a0free open-source AI m'\n",
            "                            'odel developed by a Chinese tech startup, exemplifies a growing trend in open-source AI, '\n",
            "                            'where accessible tools are pushing the boundaries of performance and affordability. This '\n",
            "                            'competition is as much about technological dominance as it is about shaping global AI pol'\n",
            "                            'icies and addressing challenges like cybersecurity, data privacy, and ethics. Workplace P'\n",
            "                            'roductivity: AI-powered tools like scheduling assistants, email managers, and task priori'\n",
            "                            'tization systems will free professionals from mundane tasks. By 2025, self-learning syste'\n",
            "                            'ms will likely play a significant role in automating the development of more sophisticate'\n",
            "                            'd AI models, reducing the need for human intervention in fine-tuning and training. AI in '\n",
            "                            'Cybersecurity\\\\\\\\\\\\\"}\\\\\", \\\\\"{\\\\\\\\\\\\\"url\\\\\\\\\\\\\": \\\\\\\\\\\\\"https://www.forbes.com/councils/forbestechcounc'\n",
            "                            'il/2025/01/21/ai-for-the-next-era-predictions-for-2025-and-beyond/\\\\\\\\\\\\\", \\\\\\\\\\\\\"content\\\\\\\\\\\\\": '\n",
            "                            '\\\\\\\\\\\\\"This year, we\\\\\\\\\\\\\\\\u2019ve seen AI companies continue to secure funding and a plethora '\n",
            "                            'of new tools emerge. Overall velocity will continue with advancements in large language m'\n",
            "                            'odels (LLMs), AI-as-a-service platforms and user-friendly AI software, allowing small and'\n",
            "                            ' midsized businesses to harness the power of AI to enhance decision-making, streamline op'\n",
            "                            'erations and deliver personalized experiences to customers. As a result, B2B AI will beco'\n",
            "                            'me a fundamental part of business strategy across industries, driving innovation, improvi'\n",
            "                            'ng efficiency and offering new growth opportunities. In this new era, HR professionals an'\n",
            "                            'd teams are incentivized to become familiar and comfortable with using AI to keep up with'\n",
            "                            ' the demands of business. As businesses and industries continue to recognize the value of'\n",
            "                            ' AI in enhancing productivity, solving complex problems and improving customer experience'\n",
            "                            's, the demand for AI solutions will only increase.\\\\\\\\\\\\\"}\\\\\", \\\\\"{\\\\\\\\\\\\\"url\\\\\\\\\\\\\": \\\\\\\\\\\\\"https://ww'\n",
            "                            'w.statworx.com/en/content-hub/whitepaper/ai-trends-report-2025/\\\\\\\\\\\\\", \\\\\\\\\\\\\"content\\\\\\\\\\\\\": \\\\\\\\\\\\'\n",
            "                            '\"data and AI in companies data and AI solutions Data & AI Strategy string(70) \\\\\\\\\\\\\\\\\\\\\\\\\\\\\"htt'\n",
            "                            'ps://www.statworx.com/content-hub/whitepaper/ai-trends-report-2025/\\\\\\\\\\\\\\\\\\\\\\\\\\\\\" string(73) \\\\\\\\'\n",
            "                            '\\\\\\\\\\\\\\\\\\\\\"https://www.statworx.com/en/content-hub/whitepaper/ai-trends-report-2025/\\\\\\\\\\\\\\\\\\\\\\\\\\\\\" S'\n",
            "                            'trategy & Consulting Infrastructure & Engineering Solutions & Development AI Strategy Tra'\n",
            "                            'inings & Upskilling Starter Offerings Data Science Consulting Data Science Trainings Agen'\n",
            "                            'tic AI AI Act Art. 4 Compliance Solution Custom GPT Chatbot AI Strategy Whitepaper Genera'\n",
            "                            'tive AI Solutions Customer Service Automation Automotive Retail Logistics Manufacturing I'\n",
            "                            'nsurance Pharma Healthcare Aviation Energy Finance Telecommunications SMEs Agentic AI Gen'\n",
            "                            'erative AI Services Forecasting und Predictive Analytics Customer Analytics Natural Langu'\n",
            "                            'age Processing Computer Vision Deep Learning Predictive Maintenance Recommendation System'\n",
            "                            's Price Optimization Frontend Solutions Data Culture ChatGPT Sustainable AI AI for Sustai'\n",
            "                            'nability Explainable AI AI Strategy AI Hub AI Strategy AI Development AI Hub\\\\\\\\\\\\\"}\\\\\"]\"'\n",
            "                        ),\n",
            "                        tool_call_id='call_MpBQbUcH4zbDHpho19MjqTYw',\n",
            "                        timestamp=datetime.datetime(2025, 2, 3, 22, 14, 7, 598054, tzinfo=datetime.timezone.utc),\n",
            "                        part_kind='tool-return',\n",
            "                    ),\n",
            "                ],\n",
            "                kind='request',\n",
            "            ),\n",
            "            ModelResponse(\n",
            "                parts=[\n",
            "                    ToolCallPart(\n",
            "                        tool_name='final_result',\n",
            "                        args=(\n",
            "                            '{\"research_title\":\"Major AI News Announcements - February 2025\",\"research_main\":\"In the p'\n",
            "                            'ast few days, several significant developments in the field of artificial intelligence (A'\n",
            "                            'I) have occurred. Alibaba has released a new AI model that claims to surpass existing ben'\n",
            "                            'chmarks set by models such as DeepSeek V3. Additionally, Tech Show London is scheduled to'\n",
            "                            ' address critical tech topics including AI ethics and cybersecurity in an upcoming event.'\n",
            "                            ' Furthermore, AI2 introduced Tülu 3 405B, an open-source model that outperforms DeepSeek '\n",
            "                            'V3 and GPT-4o on certain benchmarks, demonstrating the continuous advancement in AI capab'\n",
            "                            'ilities. The U.S. Copyright Office reaffirmed that AI-assisted tools support human creati'\n",
            "                            'vity without undermining copyright protections. These announcements highlight ongoing inn'\n",
            "                            'ovations and discussions in AI, with a focus on enhancing application performance, ethica'\n",
            "                            'l implications, and regulatory frameworks.\",\"research_bullets\":\"- Alibaba claims new AI m'\n",
            "                            'odel surpasses DeepSeek V3.\\\\n- Upcoming Tech Show London event to discuss AI ethics and c'\n",
            "                            \"ybersecurity.\\\\n- AI2's Tülu 3 405B open-source model outperforms DeepSeek V3 and GPT-4o o\"\n",
            "                            \"n certain benchmarks.\\\\n- U.S. Copyright Office confirms AI tools' compatibility with copy\"\n",
            "                            'right protection.\\\\n- Continuous focus on AI industry growth, innovation, and ethical deba'\n",
            "                            'tes.\"}'\n",
            "                        ),\n",
            "                        tool_call_id='call_x9bYIV1FiWWabd6MrxXwt0rq',\n",
            "                        part_kind='tool-call',\n",
            "                    ),\n",
            "                ],\n",
            "                model_name='gpt-4o',\n",
            "                timestamp=datetime.datetime(2025, 2, 3, 22, 14, 7, tzinfo=datetime.timezone.utc),\n",
            "                kind='response',\n",
            "            ),\n",
            "            ModelRequest(\n",
            "                parts=[\n",
            "                    ToolReturnPart(\n",
            "                        tool_name='final_result',\n",
            "                        content='Final result processed.',\n",
            "                        tool_call_id='call_x9bYIV1FiWWabd6MrxXwt0rq',\n",
            "                        timestamp=datetime.datetime(2025, 2, 3, 22, 14, 13, 879881, tzinfo=datetime.timezone.utc),\n",
            "                        part_kind='tool-return',\n",
            "                    ),\n",
            "                ],\n",
            "                kind='request',\n",
            "            ),\n",
            "        ],\n",
            "        _new_message_index=0,\n",
            "        data=ResearchResult(\n",
            "            research_title='#Major AI News Announcements - February 2025',\n",
            "            research_main=(\n",
            "                'In the past few days, several significant developments in the field of artificial intelligence (AI) h'\n",
            "                'ave occurred. Alibaba has released a new AI model that claims to surpass existing benchmarks set by m'\n",
            "                'odels such as DeepSeek V3. Additionally, Tech Show London is scheduled to address critical tech topic'\n",
            "                's including AI ethics and cybersecurity in an upcoming event. Furthermore, AI2 introduced Tülu 3 405B'\n",
            "                ', an open-source model that outperforms DeepSeek V3 and GPT-4o on certain benchmarks, demonstrating t'\n",
            "                'he continuous advancement in AI capabilities. The U.S. Copyright Office reaffirmed that AI-assisted t'\n",
            "                'ools support human creativity without undermining copyright protections. These announcements highligh'\n",
            "                't ongoing innovations and discussions in AI, with a focus on enhancing application performance, ethic'\n",
            "                'al implications, and regulatory frameworks.'\n",
            "            ),\n",
            "            research_bullets=(\n",
            "                '- Alibaba claims new AI model surpasses DeepSeek V3.\\n'\n",
            "                '- Upcoming Tech Show London event to discuss AI ethics and cybersecurity.\\n'\n",
            "                \"- AI2's Tülu 3 405B open-source model outperforms DeepSeek V3 and GPT-4o on certain benchmarks.\\n\"\n",
            "                \"- U.S. Copyright Office confirms AI tools' compatibility with copyright protection.\\n\"\n",
            "                '- Continuous focus on AI industry growth, innovation, and ethical debates.'\n",
            "            ),\n",
            "        ),\n",
            "        _result_tool_name='final_result',\n",
            "        _usage=Usage(\n",
            "            requests=2,\n",
            "            request_tokens=2366,\n",
            "            response_tokens=372,\n",
            "            total_tokens=2738,\n",
            "            details={\n",
            "                'accepted_prediction_tokens': 0,\n",
            "                'audio_tokens': 0,\n",
            "                'reasoning_tokens': 0,\n",
            "                'rejected_prediction_tokens': 0,\n",
            "                'cached_tokens': 0,\n",
            "            },\n",
            "        ),\n",
            "    ) (RunResult)\n"
          ]
        },
        {
          "output_type": "execute_result",
          "data": {
            "text/plain": [
              "RunResult(_all_messages=[ModelRequest(parts=[SystemPromptPart(content='Your a helpful research assistant, you are an expert in research If you are given a question you write strong keywords to do 3-5 searches in total (each with a query_number) and then combine the results', dynamic_ref=None, part_kind='system-prompt'), SystemPromptPart(content='Your a helpful research assistant, you are an expert in research                 If you are given a question you write strong keywords to do 3-5 searches in total                 (each with a query_number) and then combine the results                 if you need todays date it is 2025-02-03', dynamic_ref=None, part_kind='system-prompt'), UserPromptPart(content='What are the major AI News announcements in the last few days?', timestamp=datetime.datetime(2025, 2, 3, 22, 14, 3, 144486, tzinfo=datetime.timezone.utc), part_kind='user-prompt')], kind='request'), ModelResponse(parts=[ToolCallPart(tool_name='get_search', args='{\"query\": \"major AI news announcements February 2025\", \"query_number\": 1}', tool_call_id='call_sZZdsNkuJmQJAyorXECg0ypX', part_kind='tool-call'), ToolCallPart(tool_name='get_search', args='{\"query\": \"latest AI news February 2025\", \"query_number\": 2}', tool_call_id='call_8xmYDWyWht69ygwglK2F3olm', part_kind='tool-call'), ToolCallPart(tool_name='get_search', args='{\"query\": \"important AI updates February 2025\", \"query_number\": 3}', tool_call_id='call_MpBQbUcH4zbDHpho19MjqTYw', part_kind='tool-call')], model_name='gpt-4o', timestamp=datetime.datetime(2025, 2, 3, 22, 14, 3, tzinfo=datetime.timezone.utc), kind='response'), ModelRequest(parts=[ToolReturnPart(tool_name='get_search', content='\"[\\\\\"{\\\\\\\\\\\\\"url\\\\\\\\\\\\\": \\\\\\\\\\\\\"https://www.codemotion.com/magazine/ai-ml/technological-innovations-of-2025/\\\\\\\\\\\\\", \\\\\\\\\\\\\"content\\\\\\\\\\\\\": \\\\\\\\\\\\\"From the new frontiers opened by NVIDIA to the controversial approaches taken by Meta, and regulations reshaping digital design, this year promises to be transformative. 2025 is shaping up to be a pivotal year for artificial intelligence (AI), with the technology making its way into practical applications, revolutionizing key industries, and transforming both routine and complex operations. Major industry players like OpenAI, Google DeepMind, and Anthropic are working to enhance the efficiency and transparency of AI systems while addressing concerns about misuse and risk management. From AI innovations and greater digital inclusion to emerging trends, the future holds vast opportunities for consumers and businesses alike.\\\\\\\\\\\\\"}\\\\\", \\\\\"{\\\\\\\\\\\\\"url\\\\\\\\\\\\\": \\\\\\\\\\\\\"https://drbobsutor.substack.com/p/ai-monday-february-3-2025-commentary\\\\\\\\\\\\\", \\\\\\\\\\\\\"content\\\\\\\\\\\\\": \\\\\\\\\\\\\"Validating AI code generation with AI, two upcoming earnings announcements, and more content to be available on Substack. ... AI - Monday, February 3, 2025: Commentary with Notable and Interesting News, Articles, and Papers ... Commentary and a selection of the most important recent news, articles, and papers about AI.\\\\\\\\\\\\\"}\\\\\", \\\\\"{\\\\\\\\\\\\\"url\\\\\\\\\\\\\": \\\\\\\\\\\\\"https://www.fladgate.com/insights/ai-round-up-february-2025\\\\\\\\\\\\\", \\\\\\\\\\\\\"content\\\\\\\\\\\\\": \\\\\\\\\\\\\"Professional Practices Our Insights Our Insights Professional Practices Professional Practices Our Insights Our Insights Insights Rather it provides operative rules placing obligations on the Ministry of Science and ICT and other related authorities, whilst emphasising support for AI industry growth through initiatives like AI data centres, workforce development and international collaboration. Finally, Tech Show London looks set to deliver an exciting two-day event on 12-13 March 2025 at Excel London, featuring over 200 hours of expert-led sessions and bringing together 19,350+ industry leaders and 400 world-class speakers, with the Mainstage Theatre set to tackle the critical tech topics including AI ethics, digital sustainability, cybersecurity and technological innovation. Featured Lawyers Professional Support Lawyer Featured Insights More Insights Our Insights\\\\\\\\\\\\\"}\\\\\"]\"', tool_call_id='call_sZZdsNkuJmQJAyorXECg0ypX', timestamp=datetime.datetime(2025, 2, 3, 22, 14, 7, 613856, tzinfo=datetime.timezone.utc), part_kind='tool-return'), ToolReturnPart(tool_name='get_search', content='\"[\\\\\"{\\\\\\\\\\\\\"url\\\\\\\\\\\\\": \\\\\\\\\\\\\"https://community.openai.com/t/ai-pulse-news-roundup-february-2025-edition/1109121\\\\\\\\\\\\\", \\\\\\\\\\\\\"content\\\\\\\\\\\\\": \\\\\\\\\\\\\"AI Pulse News Roundup (February 2025 Edition) - Community - OpenAI Developer Community AI Pulse News Roundup (February 2025 Edition) Welcome to the February 2025 AI Pulse News Roundup Thread! Post breaking news about AI research, applications, policies, product launches, ethical debates, and more. AI2 has introduced T\\\\\\\\\\\\\\\\u00fclu 3 405B, an open-source model that surpasses the performance of DeepSeek V3 and GPT-4o on certain benchmarks. The U.S. Copyright Office reaffirmed that AI-assisted tools do not undermine copyright protection when used to support human creativity. | AI Pulse News Roundup (January 2025 Edition) | AI Pulse News Roundup (December 2024 Edition) | AI Pulse Edition #3: Latest AI News Updates for the Developer Community | AI Pulse Edition #7: Latest AI News Updates for the Developer Community\\\\\\\\\\\\\"}\\\\\", \\\\\"{\\\\\\\\\\\\\"url\\\\\\\\\\\\\": \\\\\\\\\\\\\"https://www.fladgate.com/insights/ai-round-up-february-2025\\\\\\\\\\\\\", \\\\\\\\\\\\\"content\\\\\\\\\\\\\": \\\\\\\\\\\\\"Professional Practices Our Insights Our Insights Professional Practices Professional Practices Our Insights Our Insights Insights Rather it provides operative rules placing obligations on the Ministry of Science and ICT and other related authorities, whilst emphasising support for AI industry growth through initiatives like AI data centres, workforce development and international collaboration. Finally, Tech Show London looks set to deliver an exciting two-day event on 12-13 March 2025 at Excel London, featuring over 200 hours of expert-led sessions and bringing together 19,350+ industry leaders and 400 world-class speakers, with the Mainstage Theatre set to tackle the critical tech topics including AI ethics, digital sustainability, cybersecurity and technological innovation. Featured Lawyers Professional Support Lawyer Featured Insights More Insights Our Insights\\\\\\\\\\\\\"}\\\\\", \\\\\"{\\\\\\\\\\\\\"url\\\\\\\\\\\\\": \\\\\\\\\\\\\"https://www.reuters.com/technology/artificial-intelligence/alibaba-releases-ai-model-it-claims-surpasses-deepseek-v3-2025-01-29/\\\\\\\\\\\\\", \\\\\\\\\\\\\"content\\\\\\\\\\\\\": \\\\\\\\\\\\\"Alibaba Group sign is seen at the World Artificial Intelligence Conference (WAIC) in Shanghai, China July 6, 2023. ... Technology category \\\\\\\\\\\\\\\\u00b7 February 3, 2025 \\\\\\\\\\\\\\\\u00b7 7:46 PM UTC ... the news and media\\\\\\\\\\\\\"}\\\\\"]\"', tool_call_id='call_8xmYDWyWht69ygwglK2F3olm', timestamp=datetime.datetime(2025, 2, 3, 22, 14, 7, 508861, tzinfo=datetime.timezone.utc), part_kind='tool-return'), ToolReturnPart(tool_name='get_search', content='\"[\\\\\"{\\\\\\\\\\\\\"url\\\\\\\\\\\\\": \\\\\\\\\\\\\"https://techstartups.com/2025/01/01/top-15-ai-trends-for-2025-expert-predictions-you-need-to-know/\\\\\\\\\\\\\", \\\\\\\\\\\\\"content\\\\\\\\\\\\\": \\\\\\\\\\\\\"Top 15 AI Trends for 2025: Expert Predictions You Need to Know - Tech Startups Deepseek, a\\\\\\\\\\\\\\\\u00a0free open-source AI model developed by a Chinese tech startup, exemplifies a growing trend in open-source AI, where accessible tools are pushing the boundaries of performance and affordability. This competition is as much about technological dominance as it is about shaping global AI policies and addressing challenges like cybersecurity, data privacy, and ethics. Workplace Productivity: AI-powered tools like scheduling assistants, email managers, and task prioritization systems will free professionals from mundane tasks. By 2025, self-learning systems will likely play a significant role in automating the development of more sophisticated AI models, reducing the need for human intervention in fine-tuning and training. AI in Cybersecurity\\\\\\\\\\\\\"}\\\\\", \\\\\"{\\\\\\\\\\\\\"url\\\\\\\\\\\\\": \\\\\\\\\\\\\"https://www.forbes.com/councils/forbestechcouncil/2025/01/21/ai-for-the-next-era-predictions-for-2025-and-beyond/\\\\\\\\\\\\\", \\\\\\\\\\\\\"content\\\\\\\\\\\\\": \\\\\\\\\\\\\"This year, we\\\\\\\\\\\\\\\\u2019ve seen AI companies continue to secure funding and a plethora of new tools emerge. Overall velocity will continue with advancements in large language models (LLMs), AI-as-a-service platforms and user-friendly AI software, allowing small and midsized businesses to harness the power of AI to enhance decision-making, streamline operations and deliver personalized experiences to customers. As a result, B2B AI will become a fundamental part of business strategy across industries, driving innovation, improving efficiency and offering new growth opportunities. In this new era, HR professionals and teams are incentivized to become familiar and comfortable with using AI to keep up with the demands of business. As businesses and industries continue to recognize the value of AI in enhancing productivity, solving complex problems and improving customer experiences, the demand for AI solutions will only increase.\\\\\\\\\\\\\"}\\\\\", \\\\\"{\\\\\\\\\\\\\"url\\\\\\\\\\\\\": \\\\\\\\\\\\\"https://www.statworx.com/en/content-hub/whitepaper/ai-trends-report-2025/\\\\\\\\\\\\\", \\\\\\\\\\\\\"content\\\\\\\\\\\\\": \\\\\\\\\\\\\"data and AI in companies data and AI solutions Data & AI Strategy string(70) \\\\\\\\\\\\\\\\\\\\\\\\\\\\\"https://www.statworx.com/content-hub/whitepaper/ai-trends-report-2025/\\\\\\\\\\\\\\\\\\\\\\\\\\\\\" string(73) \\\\\\\\\\\\\\\\\\\\\\\\\\\\\"https://www.statworx.com/en/content-hub/whitepaper/ai-trends-report-2025/\\\\\\\\\\\\\\\\\\\\\\\\\\\\\" Strategy & Consulting Infrastructure & Engineering Solutions & Development AI Strategy Trainings & Upskilling Starter Offerings Data Science Consulting Data Science Trainings Agentic AI AI Act Art. 4 Compliance Solution Custom GPT Chatbot AI Strategy Whitepaper Generative AI Solutions Customer Service Automation Automotive Retail Logistics Manufacturing Insurance Pharma Healthcare Aviation Energy Finance Telecommunications SMEs Agentic AI Generative AI Services Forecasting und Predictive Analytics Customer Analytics Natural Language Processing Computer Vision Deep Learning Predictive Maintenance Recommendation Systems Price Optimization Frontend Solutions Data Culture ChatGPT Sustainable AI AI for Sustainability Explainable AI AI Strategy AI Hub AI Strategy AI Development AI Hub\\\\\\\\\\\\\"}\\\\\"]\"', tool_call_id='call_MpBQbUcH4zbDHpho19MjqTYw', timestamp=datetime.datetime(2025, 2, 3, 22, 14, 7, 598054, tzinfo=datetime.timezone.utc), part_kind='tool-return')], kind='request'), ModelResponse(parts=[ToolCallPart(tool_name='final_result', args='{\"research_title\":\"Major AI News Announcements - February 2025\",\"research_main\":\"In the past few days, several significant developments in the field of artificial intelligence (AI) have occurred. Alibaba has released a new AI model that claims to surpass existing benchmarks set by models such as DeepSeek V3. Additionally, Tech Show London is scheduled to address critical tech topics including AI ethics and cybersecurity in an upcoming event. Furthermore, AI2 introduced Tülu 3 405B, an open-source model that outperforms DeepSeek V3 and GPT-4o on certain benchmarks, demonstrating the continuous advancement in AI capabilities. The U.S. Copyright Office reaffirmed that AI-assisted tools support human creativity without undermining copyright protections. These announcements highlight ongoing innovations and discussions in AI, with a focus on enhancing application performance, ethical implications, and regulatory frameworks.\",\"research_bullets\":\"- Alibaba claims new AI model surpasses DeepSeek V3.\\\\n- Upcoming Tech Show London event to discuss AI ethics and cybersecurity.\\\\n- AI2\\'s Tülu 3 405B open-source model outperforms DeepSeek V3 and GPT-4o on certain benchmarks.\\\\n- U.S. Copyright Office confirms AI tools\\' compatibility with copyright protection.\\\\n- Continuous focus on AI industry growth, innovation, and ethical debates.\"}', tool_call_id='call_x9bYIV1FiWWabd6MrxXwt0rq', part_kind='tool-call')], model_name='gpt-4o', timestamp=datetime.datetime(2025, 2, 3, 22, 14, 7, tzinfo=datetime.timezone.utc), kind='response'), ModelRequest(parts=[ToolReturnPart(tool_name='final_result', content='Final result processed.', tool_call_id='call_x9bYIV1FiWWabd6MrxXwt0rq', timestamp=datetime.datetime(2025, 2, 3, 22, 14, 13, 879881, tzinfo=datetime.timezone.utc), part_kind='tool-return')], kind='request')], _new_message_index=0, data=ResearchResult(research_title='#Major AI News Announcements - February 2025', research_main='In the past few days, several significant developments in the field of artificial intelligence (AI) have occurred. Alibaba has released a new AI model that claims to surpass existing benchmarks set by models such as DeepSeek V3. Additionally, Tech Show London is scheduled to address critical tech topics including AI ethics and cybersecurity in an upcoming event. Furthermore, AI2 introduced Tülu 3 405B, an open-source model that outperforms DeepSeek V3 and GPT-4o on certain benchmarks, demonstrating the continuous advancement in AI capabilities. The U.S. Copyright Office reaffirmed that AI-assisted tools support human creativity without undermining copyright protections. These announcements highlight ongoing innovations and discussions in AI, with a focus on enhancing application performance, ethical implications, and regulatory frameworks.', research_bullets=\"- Alibaba claims new AI model surpasses DeepSeek V3.\\n- Upcoming Tech Show London event to discuss AI ethics and cybersecurity.\\n- AI2's Tülu 3 405B open-source model outperforms DeepSeek V3 and GPT-4o on certain benchmarks.\\n- U.S. Copyright Office confirms AI tools' compatibility with copyright protection.\\n- Continuous focus on AI industry growth, innovation, and ethical debates.\"), _result_tool_name='final_result', _usage=Usage(requests=2, request_tokens=2366, response_tokens=372, total_tokens=2738, details={'accepted_prediction_tokens': 0, 'audio_tokens': 0, 'reasoning_tokens': 0, 'rejected_prediction_tokens': 0, 'cached_tokens': 0}))"
            ]
          },
          "metadata": {},
          "execution_count": 49
        }
      ]
    }
  ]
}